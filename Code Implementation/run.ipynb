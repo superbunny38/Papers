{
 "cells": [
  {
   "cell_type": "code",
   "execution_count": 2,
   "metadata": {},
   "outputs": [
    {
     "name": "stdout",
     "output_type": "stream",
     "text": [
      "Collecting absl-py==0.7.0\n",
      "  Using cached absl-py-0.7.0.tar.gz (96 kB)\n",
      "Collecting astor==0.7.1\n",
      "  Using cached astor-0.7.1-py2.py3-none-any.whl (27 kB)\n",
      "Collecting gast==0.2.2\n",
      "  Using cached gast-0.2.2-py3-none-any.whl\n",
      "Collecting grpcio==1.18.0\n",
      "  Using cached grpcio-1.18.0-cp36-cp36m-win_amd64.whl (1.5 MB)\n",
      "Collecting h5py==2.9.0\n",
      "  Using cached h5py-2.9.0-cp36-cp36m-win_amd64.whl (2.4 MB)\n",
      "Collecting Keras-Applications==1.0.7\n",
      "  Using cached Keras_Applications-1.0.7-py2.py3-none-any.whl (51 kB)\n",
      "Collecting Keras-Preprocessing==1.0.9\n",
      "  Using cached Keras_Preprocessing-1.0.9-py2.py3-none-any.whl (59 kB)\n",
      "Collecting Markdown==3.0.1\n",
      "  Using cached Markdown-3.0.1-py2.py3-none-any.whl (89 kB)\n",
      "Collecting mock==2.0.0\n",
      "  Using cached mock-2.0.0-py2.py3-none-any.whl (56 kB)\n",
      "Collecting numpy==1.16.1\n",
      "  Using cached numpy-1.16.1-cp36-cp36m-win_amd64.whl (11.9 MB)\n",
      "Collecting opencv-python==4.0.0.21\n",
      "  Using cached opencv_python-4.0.0.21-cp36-cp36m-win_amd64.whl (30.4 MB)\n",
      "Collecting pbr==5.1.2\n",
      "  Using cached pbr-5.1.2-py2.py3-none-any.whl (107 kB)\n",
      "Collecting protobuf==3.6.1\n",
      "  Using cached protobuf-3.6.1-cp36-cp36m-win_amd64.whl (1.1 MB)\n",
      "Collecting PyQt5==5.12\n",
      "  Using cached PyQt5-5.12-5.12.1_a-cp35.cp36.cp37.cp38-none-win_amd64.whl (49.4 MB)\n",
      "Collecting PyQt5-sip==4.19.14\n",
      "  Using cached PyQt5_sip-4.19.14-cp36-none-win_amd64.whl (51 kB)\n",
      "Collecting pyyaml>=4.2b1\n",
      "  Using cached PyYAML-6.0-cp36-cp36m-win_amd64.whl (153 kB)\n",
      "Collecting six==1.12.0\n",
      "  Using cached six-1.12.0-py2.py3-none-any.whl (10 kB)\n",
      "Collecting tensorboard==1.13.0\n",
      "  Downloading tensorboard-1.13.0-py3-none-any.whl (3.2 MB)\n",
      "Collecting tensorflow==1.13.1\n",
      "  Downloading tensorflow-1.13.1-cp36-cp36m-win_amd64.whl (63.1 MB)\n",
      "Requirement already satisfied: setuptools in c:\\anaconda3\\envs\\sc_fegan\\lib\\site-packages (from protobuf==3.6.1->-r requirements.txt (line 13)) (58.0.4)\n",
      "Collecting werkzeug>=0.11.15\n",
      "  Using cached Werkzeug-2.0.2-py3-none-any.whl (288 kB)\n",
      "Requirement already satisfied: wheel>=0.26 in c:\\anaconda3\\envs\\sc_fegan\\lib\\site-packages (from tensorboard==1.13.0->-r requirements.txt (line 18)) (0.37.1)\n",
      "Collecting tensorflow-estimator<1.14.0rc0,>=1.13.0\n",
      "  Downloading tensorflow_estimator-1.13.0-py2.py3-none-any.whl (367 kB)\n",
      "Collecting termcolor>=1.1.0\n",
      "  Using cached termcolor-1.1.0-py3-none-any.whl\n",
      "Collecting dataclasses\n",
      "  Using cached dataclasses-0.8-py3-none-any.whl (19 kB)\n",
      "Building wheels for collected packages: absl-py\n",
      "  Building wheel for absl-py (setup.py): started\n",
      "  Building wheel for absl-py (setup.py): finished with status 'done'\n",
      "  Created wheel for absl-py: filename=absl_py-0.7.0-py3-none-any.whl size=113528 sha256=757163f52ec608764ea9e2f062f514873c5c41da14ca9e6128a00c0e09d3b1bb\n",
      "  Stored in directory: c:\\users\\lg\\appdata\\local\\pip\\cache\\wheels\\a2\\b3\\02\\e1677c47f00c10e3d7070e64c94472003973ee97b544b79a0d\n",
      "Successfully built absl-py\n",
      "Installing collected packages: six, pbr, numpy, dataclasses, werkzeug, protobuf, mock, Markdown, h5py, grpcio, absl-py, termcolor, tensorflow-estimator, tensorboard, PyQt5-sip, Keras-Preprocessing, Keras-Applications, gast, astor, tensorflow, pyyaml, PyQt5, opencv-python\n",
      "Successfully installed Keras-Applications-1.0.7 Keras-Preprocessing-1.0.9 Markdown-3.0.1 PyQt5-5.12 PyQt5-sip-4.19.14 absl-py-0.7.0 astor-0.7.1 dataclasses-0.8 gast-0.2.2 grpcio-1.18.0 h5py-2.9.0 mock-2.0.0 numpy-1.16.1 opencv-python-4.0.0.21 pbr-5.1.2 protobuf-3.6.1 pyyaml-6.0 six-1.12.0 tensorboard-1.13.0 tensorflow-1.13.1 tensorflow-estimator-1.13.0 termcolor-1.1.0 werkzeug-2.0.2\n"
     ]
    },
    {
     "name": "stderr",
     "output_type": "stream",
     "text": [
      "ERROR: pip's dependency resolver does not currently take into account all the packages that are installed. This behaviour is the source of the following dependency conflicts.\n",
      "pandas 0.24.2 requires python-dateutil>=2.5.0, which is not installed.\n",
      "pandas 0.24.2 requires pytz>=2011k, which is not installed.\n",
      "google-colab 1.0.0 requires google-auth~=1.4.0, which is not installed.\n",
      "google-colab 1.0.0 requires ipykernel~=4.6.0, which is not installed.\n",
      "google-colab 1.0.0 requires ipython~=5.5.0, which is not installed.\n",
      "google-colab 1.0.0 requires tornado~=4.5.0, which is not installed.\n"
     ]
    }
   ],
   "source": [
    "!pip install -r requirements.txt"
   ]
  },
  {
   "cell_type": "code",
   "execution_count": 4,
   "metadata": {},
   "outputs": [
    {
     "name": "stdout",
     "output_type": "stream",
     "text": [
      "Collecting package metadata (current_repodata.json): ...working... done\n",
      "Solving environment: ...working... done\n",
      "\n",
      "# All requested packages already installed.\n",
      "\n"
     ]
    },
    {
     "name": "stderr",
     "output_type": "stream",
     "text": [
      "\n",
      "\n",
      "==> WARNING: A newer version of conda exists. <==\n",
      "  current version: 4.10.1\n",
      "  latest version: 4.11.0\n",
      "\n",
      "Please update conda by running\n",
      "\n",
      "    $ conda update -n base -c defaults conda\n",
      "\n",
      "\n"
     ]
    }
   ],
   "source": [
    "!conda upgrade pip"
   ]
  },
  {
   "cell_type": "code",
   "execution_count": 7,
   "metadata": {},
   "outputs": [
    {
     "name": "stdout",
     "output_type": "stream",
     "text": [
      "Collecting package metadata (current_repodata.json): ...working... done\n",
      "Solving environment: ...working... done\n",
      "\n",
      "# All requested packages already installed.\n",
      "\n"
     ]
    },
    {
     "name": "stderr",
     "output_type": "stream",
     "text": [
      "\n",
      "\n",
      "==> WARNING: A newer version of conda exists. <==\n",
      "  current version: 4.10.1\n",
      "  latest version: 4.11.0\n",
      "\n",
      "Please update conda by running\n",
      "\n",
      "    $ conda update -n base -c defaults conda\n",
      "\n",
      "\n"
     ]
    }
   ],
   "source": [
    "!conda update -n base -c defaults conda"
   ]
  },
  {
   "cell_type": "code",
   "execution_count": 9,
   "metadata": {},
   "outputs": [
    {
     "name": "stderr",
     "output_type": "stream",
     "text": [
      "Python\n"
     ]
    }
   ],
   "source": [
    "!python3 demo.py"
   ]
  },
  {
   "cell_type": "code",
   "execution_count": 11,
   "metadata": {},
   "outputs": [
    {
     "name": "stderr",
     "output_type": "stream",
     "text": [
      "Traceback (most recent call last):\n",
      "  File \"demo.py\", line 229, in <module>\n",
      "    config = Config('demo.yaml')\n",
      "  File \"C:\\WINDOWS\\system32\\sc_fegan_dir\\utils\\config.py\", line 13, in __init__\n",
      "    self._cfg_dict = yaml.load(f)\n",
      "TypeError: load() missing 1 required positional argument: 'Loader'\n"
     ]
    }
   ],
   "source": [
    "!python demo.py"
   ]
  },
  {
   "cell_type": "markdown",
   "metadata": {},
   "source": [
    "modified config.py\n",
    "\n",
    "yaml.load(f) --> yaml.safe_load(f)"
   ]
  },
  {
   "cell_type": "code",
   "execution_count": 15,
   "metadata": {},
   "outputs": [
    {
     "name": "stderr",
     "output_type": "stream",
     "text": [
      "2022-02-03 12:39:41.704530: I tensorflow/core/platform/cpu_feature_guard.cc:141] Your CPU supports instructions that this TensorFlow binary was not compiled to use: AVX2\n",
      "WARNING:tensorflow:From C:\\WINDOWS\\system32\\sc_fegan_dir\\ops.py:18: conv2d (from tensorflow.python.layers.convolutional) is deprecated and will be removed in a future version.\n",
      "Instructions for updating:\n",
      "Use keras.layers.conv2d instead.\n",
      "WARNING:tensorflow:From C:\\Anaconda3\\envs\\sc_fegan\\lib\\site-packages\\tensorflow\\python\\framework\\op_def_library.py:263: colocate_with (from tensorflow.python.framework.ops) is deprecated and will be removed in a future version.\n",
      "Instructions for updating:\n",
      "Colocations handled automatically by placer.\n",
      "2022-02-03 12:40:30.628008: W tensorflow/core/framework/allocator.cc:124] Allocation of 104857600 exceeds 10% of system memory.\n",
      "Traceback (most recent call last):\n",
      "  File \"demo.py\", line 68, in open\n",
      "    mat_img = cv2.resize(mat_img, (512, 512), interpolation=cv2.INTER_CUBIC)\n",
      "cv2.error: OpenCV(4.0.0) C:\\projects\\opencv-python\\opencv\\modules\\imgproc\\src\\resize.cpp:3784: error: (-215:Assertion failed) !ssize.empty() in function 'cv::resize'\n"
     ]
    }
   ],
   "source": [
    "!python demo.py"
   ]
  },
  {
   "cell_type": "code",
   "execution_count": 16,
   "metadata": {},
   "outputs": [
    {
     "name": "stderr",
     "output_type": "stream",
     "text": [
      "2022-02-03 12:41:50.139359: I tensorflow/core/platform/cpu_feature_guard.cc:141] Your CPU supports instructions that this TensorFlow binary was not compiled to use: AVX2\n",
      "WARNING:tensorflow:From C:\\WINDOWS\\system32\\sc_fegan_dir\\ops.py:18: conv2d (from tensorflow.python.layers.convolutional) is deprecated and will be removed in a future version.\n",
      "Instructions for updating:\n",
      "Use keras.layers.conv2d instead.\n",
      "WARNING:tensorflow:From C:\\Anaconda3\\envs\\sc_fegan\\lib\\site-packages\\tensorflow\\python\\framework\\op_def_library.py:263: colocate_with (from tensorflow.python.framework.ops) is deprecated and will be removed in a future version.\n",
      "Instructions for updating:\n",
      "Colocations handled automatically by placer.\n",
      "Traceback (most recent call last):\n",
      "  File \"demo.py\", line 68, in open\n",
      "    mat_img = cv2.resize(mat_img, (512, 512), interpolation=cv2.INTER_CUBIC)\n",
      "cv2.error: OpenCV(4.0.0) C:\\projects\\opencv-python\\opencv\\modules\\imgproc\\src\\resize.cpp:3784: error: (-215:Assertion failed) !ssize.empty() in function 'cv::resize'\n"
     ]
    }
   ],
   "source": [
    "!python demo.py"
   ]
  },
  {
   "cell_type": "markdown",
   "metadata": {},
   "source": [
    "check size of images in sample directory"
   ]
  },
  {
   "cell_type": "code",
   "execution_count": 31,
   "metadata": {},
   "outputs": [
    {
     "name": "stdout",
     "output_type": "stream",
     "text": [
      "(512, 512)\n"
     ]
    }
   ],
   "source": [
    "from PIL import Image\n",
    "im = Image.open('samples/00001.png')\n",
    "print(im.size)"
   ]
  },
  {
   "cell_type": "code",
   "execution_count": 34,
   "metadata": {},
   "outputs": [
    {
     "name": "stdout",
     "output_type": "stream",
     "text": [
      "(512, 512)\n"
     ]
    }
   ],
   "source": [
    "im = Image.open('samples/00011.png')\n",
    "print(im.size)"
   ]
  },
  {
   "cell_type": "markdown",
   "metadata": {},
   "source": [
    "resize images to use"
   ]
  },
  {
   "cell_type": "code",
   "execution_count": 35,
   "metadata": {},
   "outputs": [],
   "source": [
    "image = Image.open('new_samples/ch1.jpg')\n",
    "image.thumbnail((512, 512))\n",
    "image.save('new_samples/resized_1.jpg')"
   ]
  },
  {
   "cell_type": "code",
   "execution_count": 36,
   "metadata": {},
   "outputs": [],
   "source": [
    "image = Image.open('new_samples/ch2.jpg')\n",
    "image.thumbnail((512, 512))\n",
    "image.save('new_samples/resized_2.jpg')"
   ]
  },
  {
   "cell_type": "markdown",
   "metadata": {},
   "source": [
    "run again"
   ]
  },
  {
   "cell_type": "code",
   "execution_count": 37,
   "metadata": {},
   "outputs": [
    {
     "name": "stdout",
     "output_type": "stream",
     "text": [
      "Model loaded from ./ckpt/SC-FEGAN.ckpt....start\n",
      "Model loaded from ./ckpt/SC-FEGAN.ckpt....end\n",
      "inference time : 2.0359582901000977\n",
      "inference time : 2.007965326309204\n",
      "inference time : 2.003990650177002\n",
      "inference time : 2.000999689102173\n",
      "inference time : 2.226994752883911\n",
      "inference time : 2.04996395111084\n"
     ]
    },
    {
     "name": "stderr",
     "output_type": "stream",
     "text": [
      "2022-02-03 13:07:04.097847: I tensorflow/core/platform/cpu_feature_guard.cc:141] Your CPU supports instructions that this TensorFlow binary was not compiled to use: AVX2\n",
      "WARNING:tensorflow:From C:\\WINDOWS\\system32\\sc_fegan_dir\\ops.py:18: conv2d (from tensorflow.python.layers.convolutional) is deprecated and will be removed in a future version.\n",
      "Instructions for updating:\n",
      "Use keras.layers.conv2d instead.\n",
      "WARNING:tensorflow:From C:\\Anaconda3\\envs\\sc_fegan\\lib\\site-packages\\tensorflow\\python\\framework\\op_def_library.py:263: colocate_with (from tensorflow.python.framework.ops) is deprecated and will be removed in a future version.\n",
      "Instructions for updating:\n",
      "Colocations handled automatically by placer.\n"
     ]
    }
   ],
   "source": [
    "!python demo.py"
   ]
  },
  {
   "cell_type": "code",
   "execution_count": null,
   "metadata": {},
   "outputs": [],
   "source": []
  }
 ],
 "metadata": {
  "kernelspec": {
   "display_name": "Python 3",
   "language": "python",
   "name": "python3"
  },
  "language_info": {
   "codemirror_mode": {
    "name": "ipython",
    "version": 3
   },
   "file_extension": ".py",
   "mimetype": "text/x-python",
   "name": "python",
   "nbconvert_exporter": "python",
   "pygments_lexer": "ipython3",
   "version": "3.7.3"
  }
 },
 "nbformat": 4,
 "nbformat_minor": 2
}
