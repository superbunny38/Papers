{
  "nbformat": 4,
  "nbformat_minor": 0,
  "metadata": {
    "colab": {
      "name": "MarginRankingLossFromScratch.ipynb",
      "provenance": [],
      "collapsed_sections": [],
      "authorship_tag": "ABX9TyPmPyJeZf1jTAtp6lqhjp7y",
      "include_colab_link": true
    },
    "kernelspec": {
      "name": "python3",
      "display_name": "Python 3"
    },
    "language_info": {
      "name": "python"
    }
  },
  "cells": [
    {
      "cell_type": "markdown",
      "metadata": {
        "id": "view-in-github",
        "colab_type": "text"
      },
      "source": [
        "<a href=\"https://colab.research.google.com/github/superbunny38/DeepLearning/blob/main/papers/MarginRankingLossFromScratch.ipynb\" target=\"_parent\"><img src=\"https://colab.research.google.com/assets/colab-badge.svg\" alt=\"Open In Colab\"/></a>"
      ]
    },
    {
      "cell_type": "code",
      "source": [
        "import torch\n",
        "import torch.nn as nn \n",
        "import torch.nn.functional as F \n",
        "import os\n",
        "import random"
      ],
      "metadata": {
        "id": "xVpUA7NMdufc"
      },
      "execution_count": 1,
      "outputs": []
    },
    {
      "cell_type": "markdown",
      "source": [
        "# Margin Ranking Loss built from scratch\n",
        "\n",
        "\n",
        "*by: Chaeeun Ryu*"
      ],
      "metadata": {
        "id": "2XTuDfUjdiSI"
      }
    },
    {
      "cell_type": "code",
      "execution_count": 2,
      "metadata": {
        "id": "nwl8RMcAde5v"
      },
      "outputs": [],
      "source": [
        "class LossPredLoss(nn.Module):\n",
        "    def __init__(self, margin = 1):\n",
        "        super(LossPredLoss, self).__init__()\n",
        "        self.margin_loss = nn.MarginRankingLoss(margin = margin, size_average = False, reduce = False)\n",
        "    def forward(self, pred_loss, target_loss):\n",
        "        assert pred_loss.size() == target_loss.size()\n",
        "        assert pred_loss.size()[0]%2 == 0\n",
        "        batch_size = pred_loss.size()[0]\n",
        "        sum_loss = 0.\n",
        "        length = pred_loss.size()[0]\n",
        "        indices_1 = [x*2 for x in range(length//2)]\n",
        "        indices_2 = [(x*2+1) for x in range(length//2)]\n",
        "        input1 = pred_loss[indices_1]\n",
        "        input2 = pred_loss[indices_2]\n",
        "#         print(input1, input2)\n",
        "        targets = []\n",
        "        for i in range(length//2):\n",
        "            tmp_targets = target_loss[2*i:2*i+2]\n",
        "            if tmp_targets[0]>tmp_targets[1]:\n",
        "                targets.append(1)\n",
        "            else:\n",
        "                targets.append(-1)\n",
        "        targets = torch.tensor(targets)\n",
        "        return 2/batch_size*torch.sum(self.margin_loss(input1, input2, targets))"
      ]
    },
    {
      "cell_type": "code",
      "source": [
        "pred_loss = torch.randn(10, requires_grad=True)\n",
        "target_loss = torch.randn(10, requires_grad=True)\n",
        "assert pred_loss.size() == target_loss.size()\n",
        "assert pred_loss.size()[0]%2 == 0\n",
        "l = LossPredLoss(1)\n",
        "print(f\"made: {l(pred_loss, target_loss)}\")"
      ],
      "metadata": {
        "colab": {
          "base_uri": "https://localhost:8080/"
        },
        "id": "-05SMVJTdtjf",
        "outputId": "601b63f2-9515-4b7e-b9e1-179a88ccb8b5"
      },
      "execution_count": 3,
      "outputs": [
        {
          "output_type": "stream",
          "name": "stdout",
          "text": [
            "made: 1.6328747272491455\n"
          ]
        },
        {
          "output_type": "stream",
          "name": "stderr",
          "text": [
            "/usr/local/lib/python3.7/dist-packages/torch/nn/_reduction.py:42: UserWarning: size_average and reduce args will be deprecated, please use reduction='none' instead.\n",
            "  warnings.warn(warning.format(ret))\n"
          ]
        }
      ]
    }
  ]
}