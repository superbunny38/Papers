{
  "nbformat": 4,
  "nbformat_minor": 0,
  "metadata": {
    "colab": {
      "name": "VectorizedNT-XentLossExplained.ipynb",
      "provenance": [],
      "collapsed_sections": [],
      "include_colab_link": true
    },
    "kernelspec": {
      "name": "python3",
      "display_name": "Python 3"
    },
    "language_info": {
      "name": "python"
    },
    "accelerator": "GPU"
  },
  "cells": [
    {
      "cell_type": "markdown",
      "metadata": {
        "id": "view-in-github",
        "colab_type": "text"
      },
      "source": [
        "<a href=\"https://colab.research.google.com/github/superbunny38/DeepLearning/blob/main/papers/VectorizedNT_XentLossExplained.ipynb\" target=\"_parent\"><img src=\"https://colab.research.google.com/assets/colab-badge.svg\" alt=\"Open In Colab\"/></a>"
      ]
    },
    {
      "cell_type": "markdown",
      "source": [
        "## Requirements"
      ],
      "metadata": {
        "id": "-ki_oILIeT5N"
      }
    },
    {
      "cell_type": "code",
      "source": [
        "import os\n",
        "from dataclasses import dataclass\n",
        "\n",
        "import matplotlib.pyplot as plt\n",
        "import numpy as np\n",
        "import torch\n",
        "import torch.nn as nn\n",
        "import torch.nn.functional as F\n",
        "from PIL import Image\n",
        "from torch.utils.data import DataLoader\n",
        "from torchvision import datasets, transforms\n",
        "from tqdm.auto import tqdm"
      ],
      "metadata": {
        "id": "41Uby2b7eOI-"
      },
      "execution_count": null,
      "outputs": []
    },
    {
      "cell_type": "markdown",
      "source": [
        "# Vectorized Criterion Version"
      ],
      "metadata": {
        "id": "80h2LRb9nrPE"
      }
    },
    {
      "cell_type": "code",
      "source": [
        "class Criterion(nn.Module):\n",
        "    def __init__(self):\n",
        "        super().__init__()\n",
        "        self.batch_size = cfg.train.batch_size\n",
        "        self.register_buffer(\"temperature\", torch.tensor(cfg.train.temperature))\n",
        "        self.register_buffer(\"negatives_mask\", (~torch.eye(self.batch_size * 2, self.batch_size * 2, dtype=bool)).float())\n",
        "            \n",
        "    def forward(self, emb_i, emb_j):#emb_i,emb_j = z_1,z_2\n",
        "        \"\"\"\n",
        "        emb_i and emb_j are batches of embeddings, where corresponding indices are pairs\n",
        "        z_i, z_j as per SimCLR paper\n",
        "        \"\"\"\n",
        "        z_i = F.normalize(emb_i, dim=1)\n",
        "        z_j = F.normalize(emb_j, dim=1)\n",
        "\n",
        "        representations = torch.cat([z_i, z_j], dim=0)\n",
        "        similarity_matrix = F.cosine_similarity(representations.unsqueeze(1), representations.unsqueeze(0), dim=2)\n",
        "        \n",
        "        sim_ij = torch.diag(similarity_matrix, self.batch_size)\n",
        "        sim_ji = torch.diag(similarity_matrix, -self.batch_size)\n",
        "        positives = torch.cat([sim_ij, sim_ji], dim=0)\n",
        "        \n",
        "        #여기부터\n",
        "        nominator = torch.exp(positives / self.temperature)\n",
        "        denominator = self.negatives_mask * torch.exp(similarity_matrix / self.temperature)\n",
        "        #여기까지: positive에 i,j랑 j,i의 sim 구해서 합친다음 다른 모든 sim(이때 본인과 본인의 sim 제외)으로 나눠줌\n",
        "\n",
        "        loss_partial = -torch.log(nominator / torch.sum(denominator, dim=1))#dim = 1은 row 방향 합산(--->)\n",
        "        loss = torch.sum(loss_partial) / (2 * self.batch_size)\n",
        "        return loss"
      ],
      "metadata": {
        "id": "2HC5pU0pns03"
      },
      "execution_count": null,
      "outputs": []
    },
    {
      "cell_type": "code",
      "source": [
        "batch_size = 3"
      ],
      "metadata": {
        "id": "WzwaSmKYTYsX"
      },
      "execution_count": null,
      "outputs": []
    },
    {
      "cell_type": "code",
      "source": [
        "negatives_mask = (~torch.eye(batch_size * 2, batch_size * 2, dtype=bool)).float()\n",
        "negatives_mask"
      ],
      "metadata": {
        "colab": {
          "base_uri": "https://localhost:8080/"
        },
        "id": "73G3aPpCTXJq",
        "outputId": "7f9f5405-c4b6-4d89-f70d-af443f738fec"
      },
      "execution_count": null,
      "outputs": [
        {
          "output_type": "execute_result",
          "data": {
            "text/plain": [
              "tensor([[0., 1., 1., 1., 1., 1.],\n",
              "        [1., 0., 1., 1., 1., 1.],\n",
              "        [1., 1., 0., 1., 1., 1.],\n",
              "        [1., 1., 1., 0., 1., 1.],\n",
              "        [1., 1., 1., 1., 0., 1.],\n",
              "        [1., 1., 1., 1., 1., 0.]])"
            ]
          },
          "metadata": {},
          "execution_count": 20
        }
      ]
    },
    {
      "cell_type": "code",
      "source": [
        "batch_1 = torch.tensor([[1,8,2],[5,10,4],[0,9,9]],dtype=float)#I1,I2,I3\n",
        "batch_2 = torch.tensor([[9,2,2],[6,1,3],[4,8,9]],dtype=float)#J1,J2,J3\n",
        "z_1 = F.normalize(batch_1, dim = 1)\n",
        "z_2 = F.normalize(batch_2, dim = 1)\n",
        "z_2"
      ],
      "metadata": {
        "colab": {
          "base_uri": "https://localhost:8080/"
        },
        "id": "Jv_yv8GKQc28",
        "outputId": "7c12799f-8371-46c4-bc27-940774ae2f30"
      },
      "execution_count": null,
      "outputs": [
        {
          "output_type": "execute_result",
          "data": {
            "text/plain": [
              "tensor([[0.9540, 0.2120, 0.2120],\n",
              "        [0.8847, 0.1474, 0.4423],\n",
              "        [0.3152, 0.6305, 0.7093]], dtype=torch.float64)"
            ]
          },
          "metadata": {},
          "execution_count": 4
        }
      ]
    },
    {
      "cell_type": "code",
      "source": [
        "representations = torch.cat([z_1,z_2],dim=0)\n",
        "representations"
      ],
      "metadata": {
        "colab": {
          "base_uri": "https://localhost:8080/"
        },
        "id": "RkPiaU_pQyYU",
        "outputId": "680967b5-309f-41a3-8be1-d5ec54c438c9"
      },
      "execution_count": null,
      "outputs": [
        {
          "output_type": "execute_result",
          "data": {
            "text/plain": [
              "tensor([[0.1204, 0.9631, 0.2408],\n",
              "        [0.4211, 0.8422, 0.3369],\n",
              "        [0.0000, 0.7071, 0.7071],\n",
              "        [0.9540, 0.2120, 0.2120],\n",
              "        [0.8847, 0.1474, 0.4423],\n",
              "        [0.3152, 0.6305, 0.7093]], dtype=torch.float64)"
            ]
          },
          "metadata": {},
          "execution_count": 5
        }
      ]
    },
    {
      "cell_type": "code",
      "source": [
        "similarity_matrix = F.cosine_similarity(representations.unsqueeze(1), representations.unsqueeze(0), dim=2)\n",
        "similarity_matrix"
      ],
      "metadata": {
        "id": "aZBiwUJ5PmF8",
        "colab": {
          "base_uri": "https://localhost:8080/"
        },
        "outputId": "2021d6fb-9908-4188-c92c-71f5a7f53868"
      },
      "execution_count": null,
      "outputs": [
        {
          "output_type": "execute_result",
          "data": {
            "text/plain": [
              "tensor([[1.0000, 0.9429, 0.8513, 0.3701, 0.3550, 0.8159],\n",
              "        [0.9429, 1.0000, 0.8337, 0.6517, 0.6457, 0.9026],\n",
              "        [0.8513, 0.8337, 1.0000, 0.2998, 0.4170, 0.9474],\n",
              "        [0.3701, 0.6517, 0.2998, 1.0000, 0.9690, 0.5848],\n",
              "        [0.3550, 0.6457, 0.4170, 0.9690, 1.0000, 0.6856],\n",
              "        [0.8159, 0.9026, 0.9474, 0.5848, 0.6856, 1.0000]], dtype=torch.float64)"
            ]
          },
          "metadata": {},
          "execution_count": 6
        }
      ]
    },
    {
      "cell_type": "markdown",
      "source": [
        "similarity_matrix[0]: sim(I1,I1),sim(I1,I2),...sim(I1,J3)"
      ],
      "metadata": {
        "id": "T8d8v7miQ8te"
      }
    },
    {
      "cell_type": "code",
      "source": [
        "similarity_matrix[0]"
      ],
      "metadata": {
        "colab": {
          "base_uri": "https://localhost:8080/"
        },
        "id": "nN6vMerNQ5ZN",
        "outputId": "6f01c563-a511-446d-bec3-5e1431ac3c65"
      },
      "execution_count": null,
      "outputs": [
        {
          "output_type": "execute_result",
          "data": {
            "text/plain": [
              "tensor([1.0000, 0.9429, 0.8513, 0.3701, 0.3550, 0.8159], dtype=torch.float64)"
            ]
          },
          "metadata": {},
          "execution_count": 7
        }
      ]
    },
    {
      "cell_type": "markdown",
      "source": [
        "similarity(I1,I2) == similarity(I2,I1)"
      ],
      "metadata": {
        "id": "vk2hCc19RSI0"
      }
    },
    {
      "cell_type": "code",
      "source": [
        "sim_ij = torch.diag(similarity_matrix, 3)#positive pairs: sim(I1,J1),sim(I2,J2),sim(I3,J3)\n",
        "sim_ij"
      ],
      "metadata": {
        "id": "ptQQO1wIPmeg",
        "colab": {
          "base_uri": "https://localhost:8080/"
        },
        "outputId": "bff003ef-bc5a-45fe-c904-1e4705a46a4b"
      },
      "execution_count": null,
      "outputs": [
        {
          "output_type": "execute_result",
          "data": {
            "text/plain": [
              "tensor([0.3701, 0.6457, 0.9474], dtype=torch.float64)"
            ]
          },
          "metadata": {},
          "execution_count": 8
        }
      ]
    },
    {
      "cell_type": "code",
      "source": [
        "sim_ji = torch.diag(similarity_matrix, -3)\n",
        "sim_ji"
      ],
      "metadata": {
        "colab": {
          "base_uri": "https://localhost:8080/"
        },
        "id": "XQZgIlK_ROo3",
        "outputId": "3b2c2ee8-a984-42a4-afd6-ec30715cbf49"
      },
      "execution_count": null,
      "outputs": [
        {
          "output_type": "execute_result",
          "data": {
            "text/plain": [
              "tensor([0.3701, 0.6457, 0.9474], dtype=torch.float64)"
            ]
          },
          "metadata": {},
          "execution_count": 9
        }
      ]
    },
    {
      "cell_type": "code",
      "source": [
        "positives = torch.cat([sim_ij, sim_ji], dim=0)# sim(I1,J1), sim(I2,J2), sim(I3,J3), sim(J1,I1),sim(J2,I2), sim(J3,I3)\n",
        "positives"
      ],
      "metadata": {
        "colab": {
          "base_uri": "https://localhost:8080/"
        },
        "id": "7Vu6v7LyPx1L",
        "outputId": "1bc01889-b96b-4501-fcb4-de1463ca815a"
      },
      "execution_count": null,
      "outputs": [
        {
          "output_type": "execute_result",
          "data": {
            "text/plain": [
              "tensor([0.3701, 0.6457, 0.9474, 0.3701, 0.6457, 0.9474], dtype=torch.float64)"
            ]
          },
          "metadata": {},
          "execution_count": 10
        }
      ]
    },
    {
      "cell_type": "markdown",
      "source": [
        "$l(i,j)$ = $-log\\frac{exp(\\frac{s_{i,j}}{τ})}{\\sum_{k=1}^{2N}I_{k \\neq i}exp(\\frac{s_{i,j}}{τ})}$"
      ],
      "metadata": {
        "id": "PIHIYguOR_LD"
      }
    },
    {
      "cell_type": "code",
      "source": [
        "temperature = 0.5\n",
        "nominator = torch.exp(positives / temperature)\n",
        "nominator#분자"
      ],
      "metadata": {
        "id": "SG5XcOtQP7s-",
        "colab": {
          "base_uri": "https://localhost:8080/"
        },
        "outputId": "c7650ad6-f38c-42e8-afc0-019f7bc1b09b"
      },
      "execution_count": null,
      "outputs": [
        {
          "output_type": "execute_result",
          "data": {
            "text/plain": [
              "tensor([2.0962, 3.6377, 6.6509, 2.0962, 3.6377, 6.6509], dtype=torch.float64)"
            ]
          },
          "metadata": {},
          "execution_count": 14
        }
      ]
    },
    {
      "cell_type": "code",
      "source": [
        "denominator = negatives_mask * torch.exp(similarity_matrix / temperature)\n",
        "denominator#분모"
      ],
      "metadata": {
        "colab": {
          "base_uri": "https://localhost:8080/"
        },
        "id": "v4sJiDiRTCg_",
        "outputId": "368c21e8-5faf-43ff-a79e-8ac2abade8e3"
      },
      "execution_count": null,
      "outputs": [
        {
          "output_type": "execute_result",
          "data": {
            "text/plain": [
              "tensor([[0.0000, 6.5911, 5.4877, 2.0962, 2.0340, 5.1135],\n",
              "        [6.5911, 0.0000, 5.2982, 3.6815, 3.6377, 6.0817],\n",
              "        [5.4877, 5.2982, 0.0000, 1.8214, 2.3026, 6.6509],\n",
              "        [2.0962, 3.6815, 1.8214, 0.0000, 6.9447, 3.2206],\n",
              "        [2.0340, 3.6377, 2.3026, 6.9447, 0.0000, 3.9399],\n",
              "        [5.1135, 6.0817, 6.6509, 3.2206, 3.9399, 0.0000]], dtype=torch.float64)"
            ]
          },
          "metadata": {},
          "execution_count": 22
        }
      ]
    },
    {
      "cell_type": "code",
      "source": [
        "sum(denominator[0])"
      ],
      "metadata": {
        "colab": {
          "base_uri": "https://localhost:8080/"
        },
        "id": "blbRKkCWUJOS",
        "outputId": "e86bbf58-a4d4-4967-9d0e-15e22f9f28f5"
      },
      "execution_count": null,
      "outputs": [
        {
          "output_type": "execute_result",
          "data": {
            "text/plain": [
              "tensor(21.3226, dtype=torch.float64)"
            ]
          },
          "metadata": {},
          "execution_count": 25
        }
      ]
    },
    {
      "cell_type": "code",
      "source": [
        "#simlarity for I1, similarity for I2, ..., similarity for J3\n",
        "torch.sum(denominator, dim=1)#row 방향 합산 --->"
      ],
      "metadata": {
        "colab": {
          "base_uri": "https://localhost:8080/"
        },
        "id": "_4t02VuyT4f4",
        "outputId": "29c4493c-67cd-4cd6-d30c-199fe269ba09"
      },
      "execution_count": null,
      "outputs": [
        {
          "output_type": "execute_result",
          "data": {
            "text/plain": [
              "tensor([21.3226, 25.2903, 21.5609, 17.7643, 18.8589, 25.0066],\n",
              "       dtype=torch.float64)"
            ]
          },
          "metadata": {},
          "execution_count": 24
        }
      ]
    },
    {
      "cell_type": "code",
      "source": [
        "loss_partial = -torch.log(nominator / torch.sum(denominator, dim=1))"
      ],
      "metadata": {
        "id": "CeYob056Ti-Y"
      },
      "execution_count": null,
      "outputs": []
    },
    {
      "cell_type": "code",
      "source": [
        "loss_partial#l(I1,J1), l(I2,J2), l(I3,J3), l(J1,I1), l(J2,I2), l(J3,I3)"
      ],
      "metadata": {
        "colab": {
          "base_uri": "https://localhost:8080/"
        },
        "id": "qvA-y6fET3Or",
        "outputId": "7d248788-79f2-4d52-bab0-52ec75802392"
      },
      "execution_count": null,
      "outputs": [
        {
          "output_type": "execute_result",
          "data": {
            "text/plain": [
              "tensor([2.3196, 1.9391, 1.1761, 2.1371, 1.6456, 1.3244], dtype=torch.float64)"
            ]
          },
          "metadata": {},
          "execution_count": 26
        }
      ]
    },
    {
      "cell_type": "code",
      "source": [
        "loss = torch.sum(loss_partial) / (2 * batch_size)\n",
        "loss"
      ],
      "metadata": {
        "colab": {
          "base_uri": "https://localhost:8080/"
        },
        "id": "cVKKc74lUshv",
        "outputId": "965a6738-2367-4ab8-af94-cc4d3f27a5ed"
      },
      "execution_count": null,
      "outputs": [
        {
          "output_type": "execute_result",
          "data": {
            "text/plain": [
              "tensor(1.7570, dtype=torch.float64)"
            ]
          },
          "metadata": {},
          "execution_count": 28
        }
      ]
    }
  ]
}