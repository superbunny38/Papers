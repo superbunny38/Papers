{
 "cells": [
  {
   "cell_type": "markdown",
   "metadata": {},
   "source": [
    "# What is shape model in Fast Multiple Landmark Localisation Using a Patch-based Iterative Network\n"
   ]
  },
  {
   "cell_type": "code",
   "execution_count": 3,
   "metadata": {},
   "outputs": [],
   "source": [
    "from __future__ import absolute_import\n",
    "from __future__ import division\n",
    "from __future__ import print_function\n",
    "\n",
    "import os\n",
    "import numpy as np\n",
    "import tensorflow as tf\n",
    "#from utils import input_data, shape_model_func, network, patch"
   ]
  },
  {
   "cell_type": "code",
   "execution_count": 6,
   "metadata": {},
   "outputs": [],
   "source": [
    "from utils import shape_model_func"
   ]
  },
  {
   "cell_type": "code",
   "execution_count": 4,
   "metadata": {},
   "outputs": [],
   "source": [
    "class Config(object):\n",
    "    \"\"\"Training configurations.\"\"\"\n",
    "    # File paths\n",
    "    data_dir = './data/Images'\n",
    "    label_dir = './data/Landmarks'\n",
    "    train_list_file = './data/list_train.txt'\n",
    "    test_list_file = './data/list_test.txt'\n",
    "    log_dir = './logs'\n",
    "    model_dir = './cnn_model'\n",
    "    # Shape model parameters\n",
    "    shape_model_file = './shape_model/shape_model/ShapeModel.mat'\n",
    "    eigvec_per = 0.995      # Percentage of eigenvectors to keep\n",
    "    sd = 3.0                # Standard deviation of shape parameters\n",
    "    landmark_count = 10     # Number of landmarks\n",
    "    landmark_unwant = [0, 8, 9, 13, 14, 15]     # list of unwanted landmark indices\n",
    "    # Training parameters\n",
    "    resume = False          # Whether to train from scratch or resume previous training\n",
    "    box_size = 101          # patch size (odd number)\n",
    "    alpha = 0.5             # Weighting given to the loss (0<=alpha<=1). loss = alpha*loss_c + (1-alpha)*loss_r\n",
    "    learning_rate = 0.001\n",
    "    max_steps = 100000      # Number of steps to train\n",
    "    save_interval = 25000   # Number of steps in between saving each model\n",
    "    batch_size = 64         # Training batch size\n",
    "    dropout = 0.5"
   ]
  },
  {
   "cell_type": "code",
   "execution_count": 5,
   "metadata": {},
   "outputs": [],
   "source": [
    "config = Config()"
   ]
  },
  {
   "cell_type": "markdown",
   "metadata": {},
   "source": [
    "# Load shape model"
   ]
  },
  {
   "cell_type": "code",
   "execution_count": 22,
   "metadata": {},
   "outputs": [
    {
     "name": "stdout",
     "output_type": "stream",
     "text": [
      "shape model file loc: ./shape_model/shape_model/ShapeModel.mat\n",
      "eigvec_per: 0.995\n"
     ]
    }
   ],
   "source": [
    "print(\"shape model file loc:\",config.shape_model_file)\n",
    "print(\"eigvec_per:\",config.eigvec_per)#eigvec_per: Percentage of eigenvectors to keep (0-1)"
   ]
  },
  {
   "cell_type": "code",
   "execution_count": 7,
   "metadata": {},
   "outputs": [],
   "source": [
    "shape_model = shape_model_func.load_shape_model(config.shape_model_file, config.eigvec_per)"
   ]
  },
  {
   "cell_type": "code",
   "execution_count": 27,
   "metadata": {},
   "outputs": [
    {
     "name": "stdout",
     "output_type": "stream",
     "text": [
      "shape model type: <class 'numpy.void'>\n",
      "shape model dtype: [('Evectors', 'O'), ('Evalues', 'O'), ('x_mean', 'O'), ('landmark_unwant', 'O'), ('imgSizeCNN', 'O')]\n",
      "shape model length: 5\n",
      "shape model 1st arr shape: (30, 15)\n",
      "shape model 1st arr shape: (15,)\n",
      "shape model 1st arr shape: (30,)\n",
      "shape model 1st arr shape: (1, 6)\n",
      "shape model 1st arr shape: (1, 3)\n"
     ]
    }
   ],
   "source": [
    "print(\"shape model type:\",type(shape_model))\n",
    "print(\"shape model dtype:\",shape_model.dtype)\n",
    "print(\"shape model length:\",len(shape_model))\n",
    "for idx in range(len(shape_model)):\n",
    "    print(\"shape model 1st arr shape:\",shape_model[idx].shape)"
   ]
  },
  {
   "cell_type": "code",
   "execution_count": 31,
   "metadata": {},
   "outputs": [
    {
     "name": "stdout",
     "output_type": "stream",
     "text": [
      "Shape of the eigen vectors in shape model\n",
      "(30, 15)\n",
      "Shape of the eigen values in shape model\n",
      "(15,)\n",
      "Shape of the x_mean in shape model\n",
      "(30,)\n",
      "Shape of the landmark_unwant in shape model\n",
      "(1, 6)\n",
      "Shape of the imgSizeCNN in shape model\n",
      "(1, 3)\n"
     ]
    }
   ],
   "source": [
    "print(\"Shape of the eigen vectors in shape model\")\n",
    "print(shape_model['Evectors'].shape)\n",
    "print(\"Shape of the eigen values in shape model\")\n",
    "print(shape_model['Evalues'].shape)\n",
    "print(\"Shape of the x_mean in shape model\")#x,y,z축으로 landmark가 10개라서 (30개)\n",
    "print(shape_model['x_mean'].shape)\n",
    "print(\"Shape of the landmark_unwant in shape model\")\n",
    "print(shape_model['landmark_unwant'].shape)\n",
    "print(\"Shape of the imgSizeCNN in shape model\")\n",
    "print(shape_model['imgSizeCNN'].shape)"
   ]
  }
 ],
 "metadata": {
  "kernelspec": {
   "display_name": "ch_kernel",
   "language": "python",
   "name": "ch_env"
  },
  "language_info": {
   "codemirror_mode": {
    "name": "ipython",
    "version": 3
   },
   "file_extension": ".py",
   "mimetype": "text/x-python",
   "name": "python",
   "nbconvert_exporter": "python",
   "pygments_lexer": "ipython3",
   "version": "3.9.18"
  }
 },
 "nbformat": 4,
 "nbformat_minor": 2
}
