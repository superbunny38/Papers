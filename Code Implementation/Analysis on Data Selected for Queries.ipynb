{
 "cells": [
  {
   "cell_type": "code",
   "execution_count": 3,
   "id": "1699174f",
   "metadata": {},
   "outputs": [],
   "source": [
    "import torch\n",
    "import torch.nn as nn \n",
    "import torch.nn.functional as F \n",
    "import os\n",
    "import random\n",
    "# Torch\n",
    "import numpy as np\n",
    "import torch.nn as nn\n",
    "import torch.optim as optim\n",
    "from torch.utils.data import DataLoader\n",
    "import torch.optim.lr_scheduler as lr_scheduler\n",
    "from torch.utils.data.sampler import SubsetRandomSampler\n",
    "# Torchvison\n",
    "import torchvision.transforms as T\n",
    "import torchvision.models as modelszz\n",
    "\n",
    "from torchvision.datasets import CIFAR100, CIFAR10\n",
    "# Utils\n",
    "import visdom\n",
    "#from tqdm import tqdm\n",
    "from tqdm.notebook import tqdm\n",
    "os.environ['CUDA_VISIBLE_DEVICES'] = '0,1,2'\n",
    "# Seed\n",
    "random.seed(\"Chaeeun Ryu\")\n",
    "torch.manual_seed(0)\n",
    "torch.backends.cudnn.deterministic = True\n",
    "device =  torch.device('cuda:1')\n",
    "from sklearn.metrics import confusion_matrix, cohen_kappa_score"
   ]
  },
  {
   "cell_type": "markdown",
   "id": "d5f63bd3",
   "metadata": {},
   "source": [
    "# Hypothesis: Are the data selected for queries selected considering their performance per label?"
   ]
  },
  {
   "cell_type": "code",
   "execution_count": 4,
   "id": "574fb1d4",
   "metadata": {},
   "outputs": [],
   "source": [
    "#get acc\n",
    "def test(models, dataloaders, mode = \"train\", device = device, MARGIN = 1):\n",
    "    MARGIN = MARGIN\n",
    "    assert mode == \"train\" or mode == \"test\"\n",
    "    models['backbone'].eval()\n",
    "    models['module'].eval()\n",
    "    \n",
    "    total = 0\n",
    "    correct = 0\n",
    "    criterion = nn.CrossEntropyLoss(reduction='none')\n",
    "    epoch_backbone_loss = 0.\n",
    "    epoch_m_module_loss = 0.\n",
    "    epoch_total_loss = 0.\n",
    "    test_iter = len(dataloaders[mode])\n",
    "    with torch.no_grad():\n",
    "        for (inputs, labels) in dataloaders[mode]:\n",
    "            inputs = inputs.to(device)\n",
    "            labels = labels.to(device)\n",
    "            \n",
    "            scores, features = models['backbone'](inputs)\n",
    "            _, preds = torch.max(scores.data,1)\n",
    "            total += labels.size(0)\n",
    "            correct += (preds == labels).sum().item()\n",
    "            ##### get predicted loss\n",
    "            if mode == \"test\" or mode == \"val\":\n",
    "                target_loss = criterion(scores, labels)\n",
    "                pred_loss = models['module'](features)\n",
    "                pred_loss = pred_loss.view(pred_loss.size(0))\n",
    "                m_backbone_loss = torch.sum(target_loss) / target_loss.size(0)\n",
    "                m_module_loss   = LossPredLoss(pred_loss, target_loss, margin=MARGIN)\n",
    "                loss  = m_backbone_loss + WEIGHT * m_module_loss\n",
    "                epoch_backbone_loss += m_backbone_loss.item()\n",
    "                epoch_m_module_loss += m_module_loss.item()\n",
    "                epoch_total_loss += loss.item()\n",
    "    final_backbone_loss = epoch_backbone_loss/test_iter\n",
    "    final_m_module_loss = epoch_m_module_loss/test_iter\n",
    "    final_loss = epoch_total_loss/test_iter\n",
    "    if mode == \"train\":\n",
    "        return 100 * correct / total\n",
    "    else:\n",
    "        return 100 * correct / total, final_backbone_loss, final_m_module_loss, final_loss"
   ]
  },
  {
   "cell_type": "code",
   "execution_count": 5,
   "id": "182a3fc3",
   "metadata": {},
   "outputs": [],
   "source": [
    "class SubsetSequentialSampler(torch.utils.data.Sampler):\n",
    "    r\"\"\"Samples elements sequentially from a given list of indices, without replacement.\n",
    "    Arguments:\n",
    "        indices (sequence): a sequence of indices\n",
    "    \"\"\"\n",
    "    def __init__(self, indices):\n",
    "        self.indices = indices\n",
    "\n",
    "    def __iter__(self):\n",
    "        return (self.indices[i] for i in range(len(self.indices)))\n",
    "    \n",
    "    def __len__(self):\n",
    "        return len(self.indices)"
   ]
  },
  {
   "cell_type": "code",
   "execution_count": 6,
   "id": "23caef24",
   "metadata": {},
   "outputs": [],
   "source": [
    "def get_uncertainty(models, unlabeled_loader, criterion = None, device = device):\n",
    "    models['backbone'].eval()\n",
    "    models['module'].eval()\n",
    "    uncertainty = torch.tensor([]).to(device)\n",
    "    \n",
    "    with torch.no_grad():\n",
    "        for (inputs, labels) in unlabeled_loader:\n",
    "            inputs = inputs.to(device)\n",
    "            \n",
    "            scores, features = models['backbone'](inputs)\n",
    "            pred_loss = models['module'](features)\n",
    "            pred_loss = pred_loss.view(pred_loss.size(0))\n",
    "            #labels = labels.to(device)\n",
    "            #gt_loss = criterion(scores, labels)\n",
    "            #print(\"predicted loss:\",pred_loss)\n",
    "            #print(\"ground truth loss:\",gt_loss)\n",
    "            uncertainty = torch.cat((uncertainty, pred_loss),0)#make it as a list\n",
    "    return uncertainty.cpu()"
   ]
  },
  {
   "cell_type": "markdown",
   "id": "b840b1bb",
   "metadata": {},
   "source": [
    "# Models"
   ]
  },
  {
   "cell_type": "code",
   "execution_count": 7,
   "id": "d8945487",
   "metadata": {},
   "outputs": [],
   "source": [
    "'''ResNet in PyTorch.\n",
    "Reference:\n",
    "https://github.com/kuangliu/pytorch-cifar\n",
    "'''\n",
    "import torch\n",
    "import torch.nn as nn\n",
    "import torch.nn.functional as F\n",
    "\n",
    "\n",
    "class BasicBlock(nn.Module):\n",
    "    expansion = 1\n",
    "\n",
    "    def __init__(self, in_planes, planes, stride=1):\n",
    "        super(BasicBlock, self).__init__()\n",
    "        self.conv1 = nn.Conv2d(in_planes, planes, kernel_size=3, stride=stride, padding=1, bias=False)\n",
    "        self.bn1 = nn.BatchNorm2d(planes)\n",
    "        self.conv2 = nn.Conv2d(planes, planes, kernel_size=3, stride=1, padding=1, bias=False)\n",
    "        self.bn2 = nn.BatchNorm2d(planes)\n",
    "\n",
    "        self.shortcut = nn.Sequential()\n",
    "        if stride != 1 or in_planes != self.expansion*planes:\n",
    "            self.shortcut = nn.Sequential(\n",
    "                nn.Conv2d(in_planes, self.expansion*planes, kernel_size=1, stride=stride, bias=False),\n",
    "                nn.BatchNorm2d(self.expansion*planes)\n",
    "            )\n",
    "\n",
    "    def forward(self, x):\n",
    "        out = F.relu(self.bn1(self.conv1(x)))\n",
    "        out = self.bn2(self.conv2(out))\n",
    "        out += self.shortcut(x)\n",
    "        out = F.relu(out)\n",
    "        return out\n",
    "\n",
    "\n",
    "class Bottleneck(nn.Module):\n",
    "    expansion = 4\n",
    "\n",
    "    def __init__(self, in_planes, planes, stride=1):\n",
    "        super(Bottleneck, self).__init__()\n",
    "        self.conv1 = nn.Conv2d(in_planes, planes, kernel_size=1, bias=False)\n",
    "        self.bn1 = nn.BatchNorm2d(planes)\n",
    "        self.conv2 = nn.Conv2d(planes, planes, kernel_size=3, stride=stride, padding=1, bias=False)\n",
    "        self.bn2 = nn.BatchNorm2d(planes)\n",
    "        self.conv3 = nn.Conv2d(planes, self.expansion*planes, kernel_size=1, bias=False)\n",
    "        self.bn3 = nn.BatchNorm2d(self.expansion*planes)\n",
    "\n",
    "        self.shortcut = nn.Sequential()\n",
    "        if stride != 1 or in_planes != self.expansion*planes:\n",
    "            self.shortcut = nn.Sequential(\n",
    "                nn.Conv2d(in_planes, self.expansion*planes, kernel_size=1, stride=stride, bias=False),\n",
    "                nn.BatchNorm2d(self.expansion*planes)\n",
    "            )\n",
    "\n",
    "    def forward(self, x):\n",
    "        out = F.relu(self.bn1(self.conv1(x)))\n",
    "        out = F.relu(self.bn2(self.conv2(out)))\n",
    "        out = self.bn3(self.conv3(out))\n",
    "        out += self.shortcut(x)\n",
    "        out = F.relu(out)\n",
    "        return out\n",
    "\n",
    "\n",
    "class ResNet(nn.Module):\n",
    "    def __init__(self, block, num_blocks, num_classes=10):\n",
    "        super(ResNet, self).__init__()\n",
    "        self.in_planes = 64\n",
    "\n",
    "        self.conv1 = nn.Conv2d(3, 64, kernel_size=3, stride=1, padding=1, bias=False)\n",
    "        self.bn1 = nn.BatchNorm2d(64)\n",
    "        self.layer1 = self._make_layer(block, 64, num_blocks[0], stride=1)\n",
    "        self.layer2 = self._make_layer(block, 128, num_blocks[1], stride=2)\n",
    "        self.layer3 = self._make_layer(block, 256, num_blocks[2], stride=2)\n",
    "        self.layer4 = self._make_layer(block, 512, num_blocks[3], stride=2)\n",
    "        self.linear = nn.Linear(512*block.expansion, num_classes)\n",
    "\n",
    "    def _make_layer(self, block, planes, num_blocks, stride):\n",
    "        strides = [stride] + [1]*(num_blocks-1)\n",
    "        layers = []\n",
    "        for stride in strides:\n",
    "            layers.append(block(self.in_planes, planes, stride))\n",
    "            self.in_planes = planes * block.expansion\n",
    "        return nn.Sequential(*layers)\n",
    "\n",
    "    def forward(self, x):\n",
    "        out = F.relu(self.bn1(self.conv1(x)))\n",
    "        out1 = self.layer1(out)\n",
    "        out2 = self.layer2(out1)\n",
    "        out3 = self.layer3(out2)\n",
    "        out4 = self.layer4(out3)\n",
    "        out = F.avg_pool2d(out4, 4)\n",
    "        out = out.view(out.size(0), -1)\n",
    "        out = self.linear(out)\n",
    "        return out, [out1, out2, out3, out4]\n",
    "\n",
    "\n",
    "def ResNet18(num_classes = 10):\n",
    "    return ResNet(BasicBlock, [2,2,2,2], num_classes)\n",
    "\n",
    "def ResNet34():\n",
    "    return ResNet(BasicBlock, [3,4,6,3])\n",
    "\n",
    "def ResNet50():\n",
    "    return ResNet(Bottleneck, [3,4,6,3])\n",
    "\n",
    "def ResNet101():\n",
    "    return ResNet(Bottleneck, [3,4,23,3])\n",
    "\n",
    "def ResNet152():\n",
    "    return ResNet(Bottleneck, [3,8,36,3])"
   ]
  },
  {
   "cell_type": "markdown",
   "id": "fd51b401",
   "metadata": {},
   "source": [
    "# Original Loss Net"
   ]
  },
  {
   "cell_type": "code",
   "execution_count": 10,
   "id": "d81e9b2c",
   "metadata": {},
   "outputs": [],
   "source": [
    "class LossNet(nn.Module):\n",
    "    def __init__(self, feature_sizes=[32, 16, 8, 4], num_channels=[64, 128, 256, 512], interm_dim=128):\n",
    "        super(LossNet, self).__init__()\n",
    "        \n",
    "        self.GAP1 = nn.AvgPool2d(feature_sizes[0])\n",
    "        self.GAP2 = nn.AvgPool2d(feature_sizes[1])\n",
    "        self.GAP3 = nn.AvgPool2d(feature_sizes[2])\n",
    "        self.GAP4 = nn.AvgPool2d(feature_sizes[3])\n",
    "\n",
    "        self.FC1 = nn.Linear(num_channels[0], interm_dim)\n",
    "        self.FC2 = nn.Linear(num_channels[1], interm_dim)\n",
    "        self.FC3 = nn.Linear(num_channels[2], interm_dim)\n",
    "        self.FC4 = nn.Linear(num_channels[3], interm_dim)\n",
    "\n",
    "        self.linear = nn.Linear(4 * interm_dim, 1)\n",
    "    \n",
    "    def forward(self, features):\n",
    "        out1 = self.GAP1(features[0])\n",
    "        out1 = out1.view(out1.size(0), -1)\n",
    "        out1 = F.relu(self.FC1(out1))\n",
    "\n",
    "        out2 = self.GAP2(features[1])\n",
    "        out2 = out2.view(out2.size(0), -1)\n",
    "        out2 = F.relu(self.FC2(out2))\n",
    "\n",
    "        out3 = self.GAP3(features[2])\n",
    "        out3 = out3.view(out3.size(0), -1)\n",
    "        out3 = F.relu(self.FC3(out3))\n",
    "\n",
    "        out4 = self.GAP4(features[3])\n",
    "        out4 = out4.view(out4.size(0), -1)\n",
    "        out4 = F.relu(self.FC4(out4))\n",
    "\n",
    "        out = self.linear(torch.cat((out1, out2, out3, out4), 1))\n",
    "        return out"
   ]
  },
  {
   "cell_type": "markdown",
   "id": "8f1e8ff1",
   "metadata": {},
   "source": [
    "# Data"
   ]
  },
  {
   "cell_type": "code",
   "execution_count": 11,
   "id": "90287a7b",
   "metadata": {},
   "outputs": [
    {
     "name": "stdout",
     "output_type": "stream",
     "text": [
      "Files already downloaded and verified\n",
      "Files already downloaded and verified\n",
      "Files already downloaded and verified\n"
     ]
    }
   ],
   "source": [
    "train_transform = T.Compose([\n",
    "    T.RandomHorizontalFlip(),\n",
    "    T.RandomCrop(size=32, padding=4),\n",
    "    T.ToTensor(),\n",
    "    T.Normalize([0.4914, 0.4822, 0.4465], [0.2023, 0.1994, 0.2010]) # T.Normalize((0.5071, 0.4867, 0.4408), (0.2675, 0.2565, 0.2761)) # CIFAR-100\n",
    "])\n",
    "\n",
    "test_transform = T.Compose([\n",
    "    T.ToTensor(),\n",
    "    T.Normalize([0.4914, 0.4822, 0.4465], [0.2023, 0.1994, 0.2010]) # T.Normalize((0.5071, 0.4867, 0.4408), (0.2675, 0.2565, 0.2761)) # CIFAR-100\n",
    "])\n",
    "\n",
    "cifar10_train = CIFAR10('../cifar10', train=True, download=True, transform=train_transform)\n",
    "cifar10_unlabeled   = CIFAR10('../cifar10', train=True, download=True, transform=test_transform)\n",
    "cifar10_test  = CIFAR10('../cifar10', train=False, download=True, transform=test_transform)\n",
    "len_train_labeled = len(cifar10_train)\n",
    "len_train_unlabeled = len(cifar10_unlabeled)\n",
    "len_test = len(cifar10_test)"
   ]
  },
  {
   "cell_type": "markdown",
   "id": "3f968f0e",
   "metadata": {},
   "source": [
    "# LossPredLoss"
   ]
  },
  {
   "cell_type": "code",
   "execution_count": 12,
   "id": "6a780369",
   "metadata": {},
   "outputs": [],
   "source": [
    "def LossPredLoss(input, target, margin=1.0, reduction='mean'):\n",
    "    assert len(input) % 2 == 0, 'the batch size is not even.'\n",
    "    assert len(pred_loss) == len(target_loss)\n",
    "    assert input.shape == input.flip(0).shape\n",
    "    #print(f\"original batch size: {len(input)}\"): 8\n",
    "    input = (input - input.flip(0))[:len(input)//2] # [l_1 - l_2B, l_2 - l_2B-1, ... , l_B - l_B+1], where batch_size = 2B\n",
    "    target = (target - target.flip(0))[:len(target)//2]\n",
    "    target = target.detach()\n",
    "    #print(f\"new size: {len(input)}\"): 4\n",
    "    one = 2 * torch.sign(torch.clamp(target, min=0)) - 1 # 1 operation which is defined by the authors\n",
    "    \n",
    "    if reduction == 'mean':\n",
    "        loss = torch.sum(torch.clamp(margin - one * input, min=0))\n",
    "        loss = loss / input.size(0) # Note that the size of input is already halved\n",
    "    elif reduction == 'none':\n",
    "        loss = torch.clamp(margin - one * input, min=0)\n",
    "    else:\n",
    "        NotImplementedError()\n",
    "    \n",
    "    return loss"
   ]
  },
  {
   "cell_type": "markdown",
   "id": "7854dc0d",
   "metadata": {},
   "source": [
    "# Config"
   ]
  },
  {
   "cell_type": "code",
   "execution_count": 13,
   "id": "f246901f",
   "metadata": {},
   "outputs": [],
   "source": [
    "TRIALS = 3\n",
    "NUM_TRAIN = len_train_labeled\n",
    "ADDEDNUM  = 1000 # Added number\n",
    "BATCH     = 128 # batchsize\n",
    "LR = 0.1\n",
    "MOMENTUM = 0.9\n",
    "WDECAY = 5e-4\n",
    "MILESTONES = [160]\n",
    "MARGIN = 1.0 # xi\n",
    "WEIGHT = 1.0\n",
    "SUBSET = 10000#10000장씩 update\n",
    "CYCLES = 10\n",
    "TRIALS = 3"
   ]
  },
  {
   "cell_type": "code",
   "execution_count": 14,
   "id": "e6ddccbd",
   "metadata": {},
   "outputs": [],
   "source": [
    "indices = list(range(NUM_TRAIN))\n",
    "random.shuffle(indices)#shuffle indices in train data\n",
    "labeled_set = indices[:ADDEDNUM]\n",
    "unlabeled_set = indices[ADDEDNUM:]\n",
    "train_loader = DataLoader(cifar10_train, batch_size=BATCH, \n",
    "                          sampler=SubsetRandomSampler(labeled_set),#index를 control함\n",
    "                          pin_memory=True)\n",
    "test_loader  = DataLoader(cifar10_test, batch_size=BATCH)\n",
    "dataloaders  = {'train': train_loader, 'test': test_loader}"
   ]
  },
  {
   "cell_type": "code",
   "execution_count": 15,
   "id": "70395be4",
   "metadata": {},
   "outputs": [],
   "source": [
    "# Model\n",
    "resnet18    = ResNet18(num_classes=10).to(device)\n",
    "loss_module = LossNet().to(device)\n",
    "models      = {'backbone': resnet18, 'module': loss_module}\n",
    "torch.backends.cudnn.benchmark = False#입력 이미지 크기가 자주 변하지 않는다면, 초기 시간이 소요되지만 일반적으로 더 빠른 런타임의 효과를 볼 수 있다."
   ]
  },
  {
   "cell_type": "code",
   "execution_count": 16,
   "id": "285d221c",
   "metadata": {},
   "outputs": [],
   "source": [
    "# Model\n",
    "resnet18    = ResNet18(num_classes=10).to(device)\n",
    "loss_module = LossNet().to(device)\n",
    "models      = {'backbone': resnet18, 'module': loss_module}\n",
    "torch.backends.cudnn.benchmark = False#입력 이미지 크기가 자주 변하지 않는다면, 초기 시간이 소요되지만 일반적으로 더 빠른 런타임의 효과를 볼 수 있다.\n",
    "# Target Loss\n",
    "criterion      = nn.CrossEntropyLoss(reduction='none')\n",
    "\n",
    "# Optimizer\n",
    "optim_backbone = optim.SGD(models['backbone'].parameters(), lr=LR, \n",
    "                        momentum=MOMENTUM, weight_decay=WDECAY)\n",
    "optim_module   = optim.SGD(models['module'].parameters(), lr=LR, \n",
    "                        momentum=MOMENTUM, weight_decay=WDECAY)\n",
    "#Scheduler\n",
    "sched_backbone = lr_scheduler.MultiStepLR(optim_backbone, milestones=MILESTONES)\n",
    "sched_module   = lr_scheduler.MultiStepLR(optim_module, milestones=MILESTONES)\n",
    "\n",
    "optimizers = {'backbone': optim_backbone, 'module': optim_module}\n",
    "schedulers = {'backbone': sched_backbone, 'module': sched_module}\n",
    "\n",
    "# Data Prep & Data Loaders\n",
    "indices = list(range(NUM_TRAIN))\n",
    "random.shuffle(indices)#shuffle indices in train data\n",
    "labeled_set = indices[:ADDEDNUM]\n",
    "unlabeled_set = indices[ADDEDNUM:]\n",
    "train_loader = DataLoader(cifar10_train, batch_size=BATCH, \n",
    "                          sampler=SubsetRandomSampler(labeled_set),#index를 control함\n",
    "                          pin_memory=True)\n",
    "test_loader  = DataLoader(cifar10_test, batch_size=BATCH)\n",
    "dataloaders  = {'train': train_loader, 'test': test_loader}"
   ]
  },
  {
   "cell_type": "code",
   "execution_count": 18,
   "id": "097ed576",
   "metadata": {},
   "outputs": [],
   "source": [
    "from dataclasses import dataclass\n",
    "@dataclass\n",
    "class BaselineConfig:\n",
    "    TRIALS = 3\n",
    "    NUM_TRAIN = len_train_labeled\n",
    "    ADDEDNUM  = 1000 # Added number\n",
    "    BATCH     = 128 # batchsize\n",
    "    LR = 0.1\n",
    "    MOMENTUM = 0.9\n",
    "    WDECAY = 5e-4\n",
    "    MILESTONES = [160]\n",
    "    MARGIN = 1.0 # xi\n",
    "    WEIGHT = 1.0\n",
    "    SUBSET = 10000#1000장씩 update\n",
    "    CYCLES = 10\n",
    "    TRIALS = 3\n",
    "config = BaselineConfig()"
   ]
  },
  {
   "cell_type": "markdown",
   "id": "31bf91b8",
   "metadata": {},
   "source": [
    "# Load model weights"
   ]
  },
  {
   "cell_type": "code",
   "execution_count": 21,
   "id": "c0bf8264",
   "metadata": {},
   "outputs": [
    {
     "data": {
      "text/plain": [
       "<All keys matched successfully>"
      ]
     },
     "execution_count": 21,
     "metadata": {},
     "output_type": "execute_result"
    }
   ],
   "source": [
    "baseline_ckpt = torch.load('EXACTbaseline_checkpoint.pt')\n",
    "models['backbone'].load_state_dict(baseline_ckpt['model_backbone'])\n",
    "models['module'].load_state_dict(baseline_ckpt['model_module'])"
   ]
  },
  {
   "cell_type": "markdown",
   "id": "2b5c2348",
   "metadata": {},
   "source": [
    "# Check test acc per label"
   ]
  },
  {
   "cell_type": "code",
   "execution_count": 28,
   "id": "b262dd2a",
   "metadata": {},
   "outputs": [
    {
     "data": {
      "application/vnd.jupyter.widget-view+json": {
       "model_id": "b807634bb821431db87eff0af27e322d",
       "version_major": 2,
       "version_minor": 0
      },
      "text/plain": [
       "running test loader..:   0%|          | 0/79 [00:00<?, ?it/s]"
      ]
     },
     "metadata": {},
     "output_type": "display_data"
    }
   ],
   "source": [
    "total_labels = {}\n",
    "correct_labels = {}\n",
    "\n",
    "for i in range(10):\n",
    "    total_labels[str(i)] = 0\n",
    "    correct_labels[str(i)] = 0\n",
    "\n",
    "models['backbone'].eval()\n",
    "models['module'].eval()\n",
    "\n",
    "total = 0\n",
    "correct = 0\n",
    "criterion = nn.CrossEntropyLoss(reduction='none')\n",
    "epoch_backbone_loss = 0.\n",
    "epoch_m_module_loss = 0.\n",
    "epoch_total_loss = 0.\n",
    "test_iter = len(dataloaders['test'])\n",
    "with torch.no_grad():\n",
    "    for (inputs, labels) in tqdm(dataloaders['test'],desc = \"running test loader..\"):\n",
    "        inputs = inputs.to(device)\n",
    "        labels = labels.to(device)\n",
    "\n",
    "        scores, features = models['backbone'](inputs)\n",
    "        _, preds = torch.max(scores.data,1)\n",
    "        for l, p in zip(list(labels.cpu().detach().numpy()),list(preds.cpu().detach().numpy())):\n",
    "            if l == p:\n",
    "                correct_labels[str(l)] +=1\n",
    "            total_labels[str(l)] += 1\n",
    "        total += labels.size(0)\n",
    "        correct += (preds == labels).sum().item()"
   ]
  },
  {
   "cell_type": "code",
   "execution_count": 31,
   "id": "b4b62bb7",
   "metadata": {},
   "outputs": [
    {
     "name": "stdout",
     "output_type": "stream",
     "text": [
      "total test accuracy:89.15\n"
     ]
    }
   ],
   "source": [
    "print(f\"total test accuracy:{100 * correct / total}\")"
   ]
  },
  {
   "cell_type": "code",
   "execution_count": 39,
   "id": "b9b8c535",
   "metadata": {},
   "outputs": [
    {
     "name": "stdout",
     "output_type": "stream",
     "text": [
      "===========Accuracy per label============\n",
      "Label: 0 || 0.893 (893/1000)\n",
      "Label: 1 || 0.957 (957/1000)\n",
      "Label: 2 || 0.845 (845/1000)\n",
      "Label: 3 || 0.826 (826/1000)\n",
      "Label: 4 || 0.9 (900/1000)\n",
      "Label: 5 || 0.833 (833/1000)\n",
      "Label: 6 || 0.917 (917/1000)\n",
      "Label: 7 || 0.889 (889/1000)\n",
      "Label: 8 || 0.931 (931/1000)\n",
      "Label: 9 || 0.924 (924/1000)\n"
     ]
    }
   ],
   "source": [
    "print(\"===========Accuracy per label============\")\n",
    "acc_dict = {}\n",
    "for _ in range(10):\n",
    "    print(f\"Label: {_} || {correct_labels[str(_)]/total_labels[str(_)]} ({correct_labels[str(_)]}/{total_labels[str(_)]})\")\n",
    "    acc_dict[str(_)] = correct_labels[str(_)]/total_labels[str(_)]"
   ]
  },
  {
   "cell_type": "code",
   "execution_count": 45,
   "id": "e5666006",
   "metadata": {},
   "outputs": [
    {
     "data": {
      "text/plain": [
       "dict_values([0.893, 0.957, 0.845, 0.826, 0.9, 0.833, 0.917, 0.889, 0.931, 0.924])"
      ]
     },
     "execution_count": 45,
     "metadata": {},
     "output_type": "execute_result"
    }
   ],
   "source": [
    "acc_dict.values()"
   ]
  },
  {
   "cell_type": "code",
   "execution_count": 49,
   "id": "5fa8160f",
   "metadata": {},
   "outputs": [
    {
     "data": {
      "image/png": "[encoded data removed]",
      "text/plain": [
       "<Figure size 864x576 with 1 Axes>"
      ]
     },
     "metadata": {
      "needs_background": "light"
     },
     "output_type": "display_data"
    }
   ],
   "source": [
    "import matplotlib.pyplot as plt\n",
    "plt.figure(figsize = (12,8))\n",
    "plt.bar(acc_dict.keys(), acc_dict.values())\n",
    "xlocs, xlabs = plt.xticks()\n",
    "for i, v in enumerate(acc_dict.values()):\n",
    "    plt.text(xlocs[i] - 0.25, v + 0.01, str(v))\n",
    "plt.title(\"Test acc per label\")\n",
    "plt.xlabel(\"label\")\n",
    "plt.ylabel(\"Test Acc\")\n",
    "plt.show()"
   ]
  },
  {
   "cell_type": "code",
   "execution_count": 50,
   "id": "693bed09",
   "metadata": {},
   "outputs": [],
   "source": [
    "random.shuffle(unlabeled_set)\n",
    "subset = unlabeled_set[:SUBSET]#update 1000 more indices from unlabeled dataset -> get 1000 more data\n",
    "unlabeled_loader = DataLoader(cifar10_unlabeled, batch_size = BATCH,\n",
    "                              #Samples elements sequentially from a given list of indices, without replacement.\n",
    "                             sampler = SubsetSequentialSampler(subset),\n",
    "                             pin_memory = True)\n",
    "\n",
    "uncertainty = get_uncertainty(models, unlabeled_loader)#measure uncertainty\n",
    "# Index in ascending order of uncertainty\n",
    "arg = np.argsort(uncertainty)"
   ]
  },
  {
   "cell_type": "code",
   "execution_count": 52,
   "id": "1c0adbd5",
   "metadata": {},
   "outputs": [],
   "source": [
    "selected_subset = list(torch.tensor(subset)[arg][-ADDEDNUM:].numpy())"
   ]
  },
  {
   "cell_type": "code",
   "execution_count": 57,
   "id": "3401cc9d",
   "metadata": {},
   "outputs": [
    {
     "data": {
      "text/plain": [
       "1000"
      ]
     },
     "execution_count": 57,
     "metadata": {},
     "output_type": "execute_result"
    }
   ],
   "source": [
    "len(selected_subset)"
   ]
  },
  {
   "cell_type": "code",
   "execution_count": 53,
   "id": "8ba68535",
   "metadata": {},
   "outputs": [],
   "source": [
    "dataloaders['train'] = DataLoader(cifar10_train, batch_size = BATCH,\n",
    "                                     sampler = SubsetRandomSampler(selected_subset),\n",
    "                                     pin_memory = True)"
   ]
  },
  {
   "cell_type": "code",
   "execution_count": 60,
   "id": "1b8ae9da",
   "metadata": {},
   "outputs": [],
   "source": [
    "selected_labels = []\n",
    "for img, label in dataloaders['train']:\n",
    "    selected_labels += list(label.cpu().detach().numpy())"
   ]
  },
  {
   "cell_type": "code",
   "execution_count": 64,
   "id": "96db3088",
   "metadata": {},
   "outputs": [],
   "source": [
    "from collections import Counter\n",
    "sorted_counter = sorted(Counter(selected_labels).items())"
   ]
  },
  {
   "cell_type": "code",
   "execution_count": 86,
   "id": "33eae1b8",
   "metadata": {},
   "outputs": [
    {
     "data": {
      "text/plain": [
       "[(0, 81),\n",
       " (1, 62),\n",
       " (2, 114),\n",
       " (3, 111),\n",
       " (4, 123),\n",
       " (5, 74),\n",
       " (6, 110),\n",
       " (7, 159),\n",
       " (8, 82),\n",
       " (9, 84)]"
      ]
     },
     "execution_count": 86,
     "metadata": {},
     "output_type": "execute_result"
    }
   ],
   "source": [
    "sorted_counter"
   ]
  },
  {
   "cell_type": "code",
   "execution_count": 80,
   "id": "b23f1152",
   "metadata": {},
   "outputs": [],
   "source": [
    "keys_ =[]\n",
    "vals_ = []\n",
    "for s in sorted_counter:\n",
    "    keys_.append(s[0])\n",
    "    vals_.append(s[1]/500)"
   ]
  },
  {
   "cell_type": "code",
   "execution_count": 81,
   "id": "1e90c8b2",
   "metadata": {},
   "outputs": [
    {
     "data": {
      "text/plain": [
       "1.9999999999999998"
      ]
     },
     "execution_count": 81,
     "metadata": {},
     "output_type": "execute_result"
    }
   ],
   "source": [
    "sum(vals_)"
   ]
  },
  {
   "cell_type": "code",
   "execution_count": 82,
   "id": "42370d20",
   "metadata": {},
   "outputs": [
    {
     "data": {
      "text/plain": [
       "8.915000000000001"
      ]
     },
     "execution_count": 82,
     "metadata": {},
     "output_type": "execute_result"
    }
   ],
   "source": [
    "sum(acc_dict.values())"
   ]
  },
  {
   "cell_type": "code",
   "execution_count": 85,
   "id": "77888139",
   "metadata": {},
   "outputs": [
    {
     "data": {
      "text/plain": [
       "<matplotlib.legend.Legend at 0x7f93e2851760>"
      ]
     },
     "execution_count": 85,
     "metadata": {},
     "output_type": "execute_result"
    },
    {
     "data": {
      "image/png": "[encoded data removed]",
      "text/plain": [
       "<Figure size 864x576 with 1 Axes>"
      ]
     },
     "metadata": {
      "needs_background": "light"
     },
     "output_type": "display_data"
    }
   ],
   "source": [
    "x_axis = np.arange(10)\n",
    "plt.figure(figsize = (12,8))\n",
    "# Multi bar Chart\n",
    "plt.title(\"Is Test acc and selected data relevant?\")\n",
    "plt.bar(x_axis -0.2, acc_dict.values(), width=0.4, label = 'Test Acc')\n",
    "plt.bar(x_axis +0.2, vals_, width=0.4, label = '# of selected data')\n",
    "plt.xlabel(\"Label\")\n",
    "plt.yticks([])\n",
    "plt.legend()"
   ]
  },
  {
   "cell_type": "code",
   "execution_count": 89,
   "id": "33fa7b2b",
   "metadata": {},
   "outputs": [
    {
     "name": "stdout",
     "output_type": "stream",
     "text": [
      "-0.2878261251246377\n"
     ]
    }
   ],
   "source": [
    "from scipy import stats\n",
    "correlation, p_value = stats.pearsonr(list(acc_dict.values()), vals_)\n",
    "print(correlation)"
   ]
  },
  {
   "cell_type": "code",
   "execution_count": 90,
   "id": "71c7df7d",
   "metadata": {},
   "outputs": [
    {
     "data": {
      "text/plain": [
       "[0.893, 0.957, 0.845, 0.826, 0.9, 0.833, 0.917, 0.889, 0.931, 0.924]"
      ]
     },
     "execution_count": 90,
     "metadata": {},
     "output_type": "execute_result"
    }
   ],
   "source": [
    "list(acc_dict.values())"
   ]
  },
  {
   "cell_type": "code",
   "execution_count": 91,
   "id": "81f7d273",
   "metadata": {},
   "outputs": [
    {
     "data": {
      "text/plain": [
       "{'0': 0.893,\n",
       " '1': 0.957,\n",
       " '2': 0.845,\n",
       " '3': 0.826,\n",
       " '4': 0.9,\n",
       " '5': 0.833,\n",
       " '6': 0.917,\n",
       " '7': 0.889,\n",
       " '8': 0.931,\n",
       " '9': 0.924}"
      ]
     },
     "execution_count": 91,
     "metadata": {},
     "output_type": "execute_result"
    }
   ],
   "source": [
    "acc_dict"
   ]
  }
 ],
 "metadata": {
  "kernelspec": {
   "display_name": "Environment (conda_anaconda3)",
   "language": "python",
   "name": "conda_anaconda3"
  },
  "language_info": {
   "codemirror_mode": {
    "name": "ipython",
    "version": 3
   },
   "file_extension": ".py",
   "mimetype": "text/x-python",
   "name": "python",
   "nbconvert_exporter": "python",
   "pygments_lexer": "ipython3",
   "version": "3.9.7"
  }
 },
 "nbformat": 4,
 "nbformat_minor": 5
}
