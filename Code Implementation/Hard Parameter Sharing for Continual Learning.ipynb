{
 "cells": [
  {
   "cell_type": "markdown",
   "id": "3bfaf9d2",
   "metadata": {},
   "source": [
    "# Training Details\n",
    "\n",
    "Increment Order\n",
    "\n",
    "**Flowers-WikiArt-Sketch-Cars-CUB**\n",
    "\n",
    "Dataset splits, augmentation, crops, and etc. : PiggyBack\n",
    "\n",
    "Model: ImageNet pre-trained ResNet 50\n",
    "\n",
    "Epochs: 30\n",
    "\n",
    "Batchsize: 32\n",
    "\n",
    "GPU type: Single GPU\n"
   ]
  },
  {
   "cell_type": "markdown",
   "id": "1cbd84b2",
   "metadata": {},
   "source": [
    "### Layer-wise L1\n",
    "src: https://stackoverflow.com/questions/42704283/l1-l2-regularization-in-pytorch\n",
    "\n",
    "### L1 on entire model\n",
    "src: https://androidkt.com/how-to-add-l1-l2-regularization-in-pytorch-loss-function/"
   ]
  },
  {
   "cell_type": "code",
   "execution_count": 1,
   "id": "63592d86",
   "metadata": {
    "scrolled": true
   },
   "outputs": [
    {
     "name": "stdout",
     "output_type": "stream",
     "text": [
      "Tue Feb 21 09:22:23 2023       \n",
      "+-----------------------------------------------------------------------------+\n",
      "| NVIDIA-SMI 515.43.04    Driver Version: 515.43.04    CUDA Version: 11.7     |\n",
      "|-------------------------------+----------------------+----------------------+\n",
      "| GPU  Name        Persistence-M| Bus-Id        Disp.A | Volatile Uncorr. ECC |\n",
      "| Fan  Temp  Perf  Pwr:Usage/Cap|         Memory-Usage | GPU-Util  Compute M. |\n",
      "|                               |                      |               MIG M. |\n",
      "|===============================+======================+======================|\n",
      "|   0  NVIDIA RTX A6000    On   | 00000000:01:00.0 Off |                  Off |\n",
      "| 30%   29C    P8    20W / 300W |  20990MiB / 49140MiB |      0%      Default |\n",
      "|                               |                      |                  N/A |\n",
      "+-------------------------------+----------------------+----------------------+\n",
      "|   1  NVIDIA RTX A6000    On   | 00000000:25:00.0 Off |                  Off |\n",
      "| 30%   30C    P8    26W / 300W |   1957MiB / 49140MiB |      0%      Default |\n",
      "|                               |                      |                  N/A |\n",
      "+-------------------------------+----------------------+----------------------+\n",
      "|   2  NVIDIA RTX A6000    On   | 00000000:41:00.0 Off |                  Off |\n",
      "| 30%   28C    P8    21W / 300W |   1176MiB / 49140MiB |      0%      Default |\n",
      "|                               |                      |                  N/A |\n",
      "+-------------------------------+----------------------+----------------------+\n",
      "|   3  NVIDIA RTX A6000    On   | 00000000:61:00.0 Off |                  Off |\n",
      "| 30%   26C    P8    15W / 300W |   1176MiB / 49140MiB |      0%      Default |\n",
      "|                               |                      |                  N/A |\n",
      "+-------------------------------+----------------------+----------------------+\n",
      "|   4  NVIDIA RTX A6000    On   | 00000000:81:00.0 Off |                  Off |\n",
      "| 41%   70C    P2   231W / 300W |   6017MiB / 49140MiB |     55%      Default |\n",
      "|                               |                      |                  N/A |\n",
      "+-------------------------------+----------------------+----------------------+\n",
      "|   5  NVIDIA RTX A6000    On   | 00000000:A1:00.0 Off |                  Off |\n",
      "| 30%   27C    P8    24W / 300W |  11779MiB / 49140MiB |      0%      Default |\n",
      "|                               |                      |                  N/A |\n",
      "+-------------------------------+----------------------+----------------------+\n",
      "|   6  NVIDIA RTX A6000    On   | 00000000:C1:00.0 Off |                  Off |\n",
      "| 30%   45C    P8    26W / 300W |    787MiB / 49140MiB |      0%      Default |\n",
      "|                               |                      |                  N/A |\n",
      "+-------------------------------+----------------------+----------------------+\n",
      "|   7  NVIDIA RTX A6000    On   | 00000000:E1:00.0 Off |                  Off |\n",
      "| 34%   60C    P2   192W / 300W |   5545MiB / 49140MiB |     15%      Default |\n",
      "|                               |                      |                  N/A |\n",
      "+-------------------------------+----------------------+----------------------+\n",
      "                                                                               \n",
      "+-----------------------------------------------------------------------------+\n",
      "| Processes:                                                                  |\n",
      "|  GPU   GI   CI        PID   Type   Process name                  GPU Memory |\n",
      "|        ID   ID                                                   Usage      |\n",
      "|=============================================================================|\n",
      "+-----------------------------------------------------------------------------+\n"
     ]
    }
   ],
   "source": [
    "!nvidia-smi"
   ]
  },
  {
   "cell_type": "markdown",
   "id": "7ec8979f",
   "metadata": {},
   "source": [
    "*Code Writer: Chaeeun Ryu*\n",
    "\n",
    "*Contact: superbunny38 at gmail dot com*"
   ]
  },
  {
   "cell_type": "markdown",
   "id": "bdc086a0",
   "metadata": {},
   "source": [
    "# Import Libraries"
   ]
  },
  {
   "cell_type": "code",
   "execution_count": 2,
   "id": "8a98b070",
   "metadata": {},
   "outputs": [
    {
     "data": {
      "text/plain": [
       "device(type='cuda', index=6)"
      ]
     },
     "execution_count": 2,
     "metadata": {},
     "output_type": "execute_result"
    }
   ],
   "source": [
    "# from options import options\n",
    "import torchvision.models as models\n",
    "import torchvision\n",
    "import os\n",
    "from torch.optim.lr_scheduler import StepLR, CosineAnnealingLR\n",
    "# from utils import create_transforms\n",
    "from tqdm.notebook import tqdm\n",
    "import torch\n",
    "import torch.nn as nn\n",
    "import torchvision.transforms as transforms\n",
    "# from torch.utils.tensorboard import SummaryWriter\n",
    "import numpy as np\n",
    "# import datasets\n",
    "# from datasets import Scale\n",
    "import timm\n",
    "import pandas as pd\n",
    "import random\n",
    "import glob\n",
    "import matplotlib.pyplot as plt\n",
    "\n",
    "os.environ['CUDA_LAUNCH_BLOCKING'] = \"1\"\n",
    "os.environ[\"CUDA_VISIBLE_DEVICES\"] = \"0,1,2,3,4,5,6,7\"\n",
    "\n",
    "device =  torch.device('cuda:6')\n",
    "device"
   ]
  },
  {
   "cell_type": "markdown",
   "id": "cf9a18f1",
   "metadata": {},
   "source": [
    "# Config \n",
    "\n",
    "Source: (http://172.23.100.138:9002/edit/src/CH/SOTA/TAPS/options.py)"
   ]
  },
  {
   "cell_type": "code",
   "execution_count": 3,
   "id": "fa4ca6e1",
   "metadata": {},
   "outputs": [],
   "source": [
    "from dataclasses import dataclass\n",
    "@dataclass\n",
    "class ARGS():\n",
    "    LR = .01\n",
    "    EPOCHS = 30\n",
    "    BATCHSIZE = 32\n",
    "    MOMENTUM = 0.9\n",
    "    WORKERS = 8\n",
    "    RESIZE = 256\n",
    "    WEIGHTDECAY = 0\n",
    "    EVAL_FREQ = 2\n",
    "    TRIALS = 10\n",
    "args = ARGS()\n",
    "save_experiment = dict()"
   ]
  },
  {
   "cell_type": "markdown",
   "id": "063cd17f",
   "metadata": {},
   "source": [
    "# Prepare Data"
   ]
  },
  {
   "cell_type": "code",
   "execution_count": 4,
   "id": "257e8ac5",
   "metadata": {},
   "outputs": [],
   "source": [
    "import os.path as osp\n",
    "import os\n",
    "from PIL import Image\n",
    "import numpy as np\n",
    "\n",
    "import random\n",
    "import torch\n",
    "from torch.utils.data import Dataset\n",
    "from torchvision import transforms\n",
    "\n",
    "class MetaDataSet(Dataset):\n",
    "\n",
    "    def __init__(self, root):\n",
    "        data = []\n",
    "        label = []\n",
    "        lb = 0\n",
    "\n",
    "        self.wnids = []\n",
    "        folders = os.listdir(root)\n",
    "        for folder in folders:\n",
    "            folder_path = os.path.join(root, folder)\n",
    "            for file in os.listdir(folder_path):\n",
    "                file_path = os.path.join(folder_path, file)\n",
    "                data.append(file_path)\n",
    "                label.append(lb)\n",
    "            lb += 1\n",
    "\n",
    "\n",
    "        self.data = data\n",
    "        self.label = label\n",
    "\n",
    "        self.tf = create_train_transform()\n",
    "\n",
    "    def __len__(self):\n",
    "        return len(self.data)\n",
    "\n",
    "    def __getitem__(self, i):\n",
    "        path, label = self.data[i], self.label[i]\n",
    "        image = self.tf(Image.open(path).convert('RGB'))\n",
    "        return image, label\n",
    "\n",
    "def create_train_transform():\n",
    "    normalize = transforms.Normalize(mean=[0.485, 0.456, 0.406],\n",
    "                                     std=[0.229, 0.224, 0.225])\n",
    "    train_tf = transforms.Compose([\n",
    "        transforms.RandomResizedCrop(224),\n",
    "        transforms.RandomHorizontalFlip(),\n",
    "        transforms.ToTensor(),\n",
    "        normalize,\n",
    "    ])\n",
    "    return train_tf\n",
    "\n",
    "def create_test_transform():\n",
    "    normalize = transforms.Normalize(mean=[0.485, 0.456, 0.406],\n",
    "                                     std=[0.229, 0.224, 0.225])\n",
    "    test_tf = transforms.Compose([\n",
    "        transforms.Resize(256),\n",
    "        transforms.CenterCrop(224),\n",
    "        transforms.ToTensor(),\n",
    "        normalize,\n",
    "    ])\n",
    "    return test_tf\n",
    "\n",
    "class CategoriesSampler():\n",
    "    #Taken from: https://github.com/yinboc/prototypical-network-pytorch/blob/master/samplers.py\n",
    "    def __init__(self, label, n_batch, n_cls, n_per):\n",
    "        self.n_batch = n_batch\n",
    "        self.n_cls = n_cls\n",
    "        self.n_per = n_per\n",
    "\n",
    "        label = np.array(label)\n",
    "        self.m_ind = []\n",
    "        for i in range(max(label) + 1):\n",
    "            ind = np.argwhere(label == i).reshape(-1)\n",
    "            ind = torch.from_numpy(ind)\n",
    "            self.m_ind.append(ind)\n",
    "\n",
    "    def __len__(self):\n",
    "        return self.n_batch\n",
    "    \n",
    "    def __iter__(self):\n",
    "        for i_batch in range(self.n_batch):\n",
    "            batch = []\n",
    "            classes = torch.randperm(len(self.m_ind))[:self.n_cls]\n",
    "            for c in classes:\n",
    "                l = self.m_ind[c]\n",
    "                pos = torch.randperm(len(l))[:self.n_per]\n",
    "                batch.append(l[pos])\n",
    "            batch = torch.stack(batch).t().reshape(-1)\n",
    "            yield batch"
   ]
  },
  {
   "cell_type": "code",
   "execution_count": 5,
   "id": "23bf1f46",
   "metadata": {},
   "outputs": [
    {
     "name": "stdout",
     "output_type": "stream",
     "text": [
      "/workspace/src/CH/SOTA\r\n"
     ]
    }
   ],
   "source": [
    "!pwd"
   ]
  },
  {
   "cell_type": "code",
   "execution_count": 6,
   "id": "8c7a5744",
   "metadata": {},
   "outputs": [
    {
     "name": "stdout",
     "output_type": "stream",
     "text": [
      "flowers 102\n"
     ]
    }
   ],
   "source": [
    "data_name = \"flowers\"\n",
    "train_path = f\"/workspace/src/CH/SOTA/data/{data_name}/train/\"\n",
    "test_path = f\"/workspace/src/CH/SOTA/data/{data_name}/test/\"\n",
    "\n",
    "normalize = transforms.Normalize(mean=[0.485, 0.456, 0.406],\n",
    "                                     std=[0.229, 0.224, 0.225])\n",
    "\n",
    "train_transform = transforms.Compose([\n",
    "    transforms.RandomResizedCrop(224),\n",
    "    transforms.RandomHorizontalFlip(),\n",
    "    transforms.ToTensor(),\n",
    "    normalize,\n",
    "])\n",
    "\n",
    "test_transform = transforms.Compose([\n",
    "        transforms.Resize(256),\n",
    "        transforms.CenterCrop(224),\n",
    "        transforms.ToTensor(),\n",
    "        normalize,\n",
    "    ])\n",
    "\n",
    "train_dataset = torchvision.datasets.ImageFolder(train_path, transform = train_transform)\n",
    "val_dataset = torchvision.datasets.ImageFolder(test_path, transform = test_transform)\n",
    "flowers_classes = len(train_dataset.classes)\n",
    "print(data_name,flowers_classes)\n",
    "train_loader = torch.utils.data.DataLoader(\n",
    "        train_dataset, batch_size=args.BATCHSIZE, shuffle=True,\n",
    "        num_workers=args.WORKERS, pin_memory=True)\n",
    "val_loader = torch.utils.data.DataLoader(\n",
    "    val_dataset, batch_size=args.BATCHSIZE, shuffle=True,\n",
    "    num_workers=args.WORKERS, pin_memory=True)"
   ]
  },
  {
   "cell_type": "code",
   "execution_count": 7,
   "id": "34a100d9",
   "metadata": {},
   "outputs": [
    {
     "name": "stdout",
     "output_type": "stream",
     "text": [
      "train img size: torch.Size([32, 3, 224, 224])\n",
      "val img size: torch.Size([32, 3, 224, 224])\n"
     ]
    }
   ],
   "source": [
    "sample_img, sample_label = next(iter(train_loader))\n",
    "print(\"train img size:\",sample_img.size())\n",
    "sample_img, sample_label = next(iter(val_loader))\n",
    "print(\"val img size:\",sample_img.size())"
   ]
  },
  {
   "cell_type": "markdown",
   "id": "8f13060e",
   "metadata": {},
   "source": [
    "# Get ResNet-50 weights"
   ]
  },
  {
   "cell_type": "code",
   "execution_count": 8,
   "id": "c528bac2",
   "metadata": {},
   "outputs": [],
   "source": [
    "from torchvision.models import resnet50, ResNet50_Weights"
   ]
  },
  {
   "cell_type": "markdown",
   "id": "136d706c",
   "metadata": {},
   "source": [
    "#### Check data names"
   ]
  },
  {
   "cell_type": "code",
   "execution_count": 9,
   "id": "80524664",
   "metadata": {},
   "outputs": [
    {
     "data": {
      "text/plain": [
       "['cubs_cropped', 'flowers', 'sketches', 'stanford_cars_cropped', 'wikiart']"
      ]
     },
     "execution_count": 9,
     "metadata": {},
     "output_type": "execute_result"
    }
   ],
   "source": [
    "global data_names \n",
    "sorted(os.listdir(\"/workspace/src/CH/SOTA/data/\"))[2:]"
   ]
  },
  {
   "cell_type": "markdown",
   "id": "06480d7d",
   "metadata": {},
   "source": [
    "# Define dict for classes per data"
   ]
  },
  {
   "cell_type": "code",
   "execution_count": 10,
   "id": "5713ec71",
   "metadata": {},
   "outputs": [],
   "source": [
    "global data_classes \n",
    "data_classes = {\"cubs_cropped\":200,\"flowers\":102,\"sketches\":250, \"stanford_cars_cropped\":196, \"wikiart\":195}"
   ]
  },
  {
   "cell_type": "markdown",
   "id": "c6b9227f",
   "metadata": {},
   "source": [
    "# Build ResNet-50"
   ]
  },
  {
   "cell_type": "code",
   "execution_count": 11,
   "id": "ab6349f6",
   "metadata": {},
   "outputs": [],
   "source": [
    "'''ResNet in PyTorch.\n",
    "Reference:\n",
    "https://github.com/kuangliu/pytorch-cifar\n",
    "'''\n",
    "import torch\n",
    "import torch.nn as nn\n",
    "import torch.nn.functional as F\n",
    "\n",
    "\n",
    "class BasicBlock(nn.Module):\n",
    "    expansion = 1\n",
    "\n",
    "    def __init__(self, in_planes, planes, stride=1):\n",
    "        super(BasicBlock, self).__init__()\n",
    "        self.conv1 = nn.Conv2d(in_planes, planes, kernel_size=3, stride=stride, padding=1, bias=False)\n",
    "        self.bn1 = nn.BatchNorm2d(planes)\n",
    "        self.conv2 = nn.Conv2d(planes, planes, kernel_size=3, stride=1, padding=1, bias=False)\n",
    "        self.bn2 = nn.BatchNorm2d(planes)\n",
    "        self.relu = nn.ReLU(inplace=True)\n",
    "        self.shortcut = nn.Sequential()\n",
    "        if stride != 1 or in_planes != self.expansion*planes:\n",
    "            self.shortcut = nn.Sequential(\n",
    "                nn.Conv2d(in_planes, self.expansion*planes, kernel_size=1, stride=stride, bias=False),\n",
    "                nn.BatchNorm2d(self.expansion*planes)\n",
    "            )\n",
    "\n",
    "    def forward(self, x):\n",
    "        out = self.relu(self.bn1(self.conv1(x)))\n",
    "        out = self.bn2(self.conv2(out))\n",
    "        out += self.shortcut(x)\n",
    "        out = self.relu(out)\n",
    "        return out\n",
    "\n",
    "\n",
    "class Bottleneck(nn.Module):\n",
    "    expansion = 4\n",
    "\n",
    "    def __init__(self, in_planes, planes, stride=1):\n",
    "        super(Bottleneck, self).__init__()\n",
    "        self.conv1 = nn.Conv2d(in_planes, planes, kernel_size=1, bias=False)\n",
    "        self.bn1 = nn.BatchNorm2d(planes)\n",
    "        self.conv2 = nn.Conv2d(planes, planes, kernel_size=3, stride=stride, padding=1, bias=False)\n",
    "        self.bn2 = nn.BatchNorm2d(planes)\n",
    "        self.conv3 = nn.Conv2d(planes, self.expansion*planes, kernel_size=1, bias=False)\n",
    "        self.bn3 = nn.BatchNorm2d(self.expansion*planes)\n",
    "        self.relu = nn.ReLU(inplace = True) \n",
    "        self.shortcut = nn.Sequential()\n",
    "        if stride != 1 or in_planes != self.expansion*planes:\n",
    "            self.shortcut = nn.Sequential(\n",
    "                nn.Conv2d(in_planes, self.expansion*planes, kernel_size=1, stride=stride, bias=False),\n",
    "                nn.BatchNorm2d(self.expansion*planes)\n",
    "            )\n",
    "\n",
    "    def forward(self, x):\n",
    "        out = self.relu(self.bn1(self.conv1(x)))\n",
    "        out = self.relu(self.bn2(self.conv2(out)))\n",
    "        out = self.bn3(self.conv3(out))\n",
    "        out += self.shortcut(x)\n",
    "        out = self.relu(out)\n",
    "        return out\n",
    "\n",
    "\n",
    "class ResNet(nn.Module):\n",
    "    def __init__(self, block, num_blocks, num_classes):\n",
    "        super(ResNet, self).__init__()\n",
    "        self.in_planes = 64\n",
    "        \n",
    "        self.conv1 = nn.Conv2d(3, 64, kernel_size=7, stride=2, padding=3, bias=False)\n",
    "        self.bn1 = nn.BatchNorm2d(64)\n",
    "        self.relu = nn.ReLU(inplace=True)\n",
    "        self.maxpool = nn.MaxPool2d(kernel_size=3, stride=2, padding=1)\n",
    "        self.layer1 = self._make_layer(block, 64, num_blocks[0], stride=1)\n",
    "        self.layer2 = self._make_layer(block, 128, num_blocks[1], stride=2)\n",
    "        self.layer3 = self._make_layer(block, 256, num_blocks[2], stride=2)\n",
    "        self.layer4 = self._make_layer(block, 512, num_blocks[3], stride=2)\n",
    "#         print(\"block.expansion:\",block.expansion) == 1\n",
    "#         self.\n",
    "        self.avgpool = nn.AdaptiveAvgPool2d((1, 1))\n",
    "        \n",
    "        self.task_specific_fcs = dict()\n",
    "        for data_name,data_class in data_classes.items():\n",
    "            self.task_specific_fcs[data_name] = nn.Linear(512*block.expansion,data_class)\n",
    "            \n",
    "#         self.linear = nn.Linear(8192, num_classes)\n",
    "        \n",
    "\n",
    "    def _make_layer(self, block, planes, num_blocks, stride):\n",
    "        strides = [stride] + [1]*(num_blocks-1)\n",
    "        layers = []\n",
    "        for stride in strides:\n",
    "            layers.append(block(self.in_planes, planes, stride))\n",
    "            self.in_planes = planes * block.expansion\n",
    "        return nn.Sequential(*layers)\n",
    "\n",
    "    def forward(self, x,data_name = \"\",device = device):\n",
    "        out = self.relu(self.bn1(self.conv1(x)))\n",
    "        out = self.maxpool(out)\n",
    "        out1 = self.layer1(out)\n",
    "        out2 = self.layer2(out1)\n",
    "        out3 = self.layer3(out2)\n",
    "        out4 = self.layer4(out3)\n",
    "#         out = F.avg_pool2d(out4, 4)\n",
    "        out = self.avgpool(out4)\n",
    "        out = out.view(out.size(0), -1)\n",
    "        out = self.task_specific_fcs[data_name].to(device)(out)\n",
    "        return out, [out1, out2, out3, out4]\n",
    "\n",
    "\n",
    "def ResNet50(num_classes):\n",
    "    return ResNet(Bottleneck, [3,4,6,3],num_classes)"
   ]
  },
  {
   "cell_type": "code",
   "execution_count": 12,
   "id": "807fbca0",
   "metadata": {},
   "outputs": [
    {
     "data": {
      "text/plain": [
       "ResNet(\n",
       "  (conv1): Conv2d(3, 64, kernel_size=(7, 7), stride=(2, 2), padding=(3, 3), bias=False)\n",
       "  (bn1): BatchNorm2d(64, eps=1e-05, momentum=0.1, affine=True, track_running_stats=True)\n",
       "  (relu): ReLU(inplace=True)\n",
       "  (maxpool): MaxPool2d(kernel_size=3, stride=2, padding=1, dilation=1, ceil_mode=False)\n",
       "  (layer1): Sequential(\n",
       "    (0): Bottleneck(\n",
       "      (conv1): Conv2d(64, 64, kernel_size=(1, 1), stride=(1, 1), bias=False)\n",
       "      (bn1): BatchNorm2d(64, eps=1e-05, momentum=0.1, affine=True, track_running_stats=True)\n",
       "      (conv2): Conv2d(64, 64, kernel_size=(3, 3), stride=(1, 1), padding=(1, 1), bias=False)\n",
       "      (bn2): BatchNorm2d(64, eps=1e-05, momentum=0.1, affine=True, track_running_stats=True)\n",
       "      (conv3): Conv2d(64, 256, kernel_size=(1, 1), stride=(1, 1), bias=False)\n",
       "      (bn3): BatchNorm2d(256, eps=1e-05, momentum=0.1, affine=True, track_running_stats=True)\n",
       "      (relu): ReLU(inplace=True)\n",
       "      (shortcut): Sequential(\n",
       "        (0): Conv2d(64, 256, kernel_size=(1, 1), stride=(1, 1), bias=False)\n",
       "        (1): BatchNorm2d(256, eps=1e-05, momentum=0.1, affine=True, track_running_stats=True)\n",
       "      )\n",
       "    )\n",
       "    (1): Bottleneck(\n",
       "      (conv1): Conv2d(256, 64, kernel_size=(1, 1), stride=(1, 1), bias=False)\n",
       "      (bn1): BatchNorm2d(64, eps=1e-05, momentum=0.1, affine=True, track_running_stats=True)\n",
       "      (conv2): Conv2d(64, 64, kernel_size=(3, 3), stride=(1, 1), padding=(1, 1), bias=False)\n",
       "      (bn2): BatchNorm2d(64, eps=1e-05, momentum=0.1, affine=True, track_running_stats=True)\n",
       "      (conv3): Conv2d(64, 256, kernel_size=(1, 1), stride=(1, 1), bias=False)\n",
       "      (bn3): BatchNorm2d(256, eps=1e-05, momentum=0.1, affine=True, track_running_stats=True)\n",
       "      (relu): ReLU(inplace=True)\n",
       "      (shortcut): Sequential()\n",
       "    )\n",
       "    (2): Bottleneck(\n",
       "      (conv1): Conv2d(256, 64, kernel_size=(1, 1), stride=(1, 1), bias=False)\n",
       "      (bn1): BatchNorm2d(64, eps=1e-05, momentum=0.1, affine=True, track_running_stats=True)\n",
       "      (conv2): Conv2d(64, 64, kernel_size=(3, 3), stride=(1, 1), padding=(1, 1), bias=False)\n",
       "      (bn2): BatchNorm2d(64, eps=1e-05, momentum=0.1, affine=True, track_running_stats=True)\n",
       "      (conv3): Conv2d(64, 256, kernel_size=(1, 1), stride=(1, 1), bias=False)\n",
       "      (bn3): BatchNorm2d(256, eps=1e-05, momentum=0.1, affine=True, track_running_stats=True)\n",
       "      (relu): ReLU(inplace=True)\n",
       "      (shortcut): Sequential()\n",
       "    )\n",
       "  )\n",
       "  (layer2): Sequential(\n",
       "    (0): Bottleneck(\n",
       "      (conv1): Conv2d(256, 128, kernel_size=(1, 1), stride=(1, 1), bias=False)\n",
       "      (bn1): BatchNorm2d(128, eps=1e-05, momentum=0.1, affine=True, track_running_stats=True)\n",
       "      (conv2): Conv2d(128, 128, kernel_size=(3, 3), stride=(2, 2), padding=(1, 1), bias=False)\n",
       "      (bn2): BatchNorm2d(128, eps=1e-05, momentum=0.1, affine=True, track_running_stats=True)\n",
       "      (conv3): Conv2d(128, 512, kernel_size=(1, 1), stride=(1, 1), bias=False)\n",
       "      (bn3): BatchNorm2d(512, eps=1e-05, momentum=0.1, affine=True, track_running_stats=True)\n",
       "      (relu): ReLU(inplace=True)\n",
       "      (shortcut): Sequential(\n",
       "        (0): Conv2d(256, 512, kernel_size=(1, 1), stride=(2, 2), bias=False)\n",
       "        (1): BatchNorm2d(512, eps=1e-05, momentum=0.1, affine=True, track_running_stats=True)\n",
       "      )\n",
       "    )\n",
       "    (1): Bottleneck(\n",
       "      (conv1): Conv2d(512, 128, kernel_size=(1, 1), stride=(1, 1), bias=False)\n",
       "      (bn1): BatchNorm2d(128, eps=1e-05, momentum=0.1, affine=True, track_running_stats=True)\n",
       "      (conv2): Conv2d(128, 128, kernel_size=(3, 3), stride=(1, 1), padding=(1, 1), bias=False)\n",
       "      (bn2): BatchNorm2d(128, eps=1e-05, momentum=0.1, affine=True, track_running_stats=True)\n",
       "      (conv3): Conv2d(128, 512, kernel_size=(1, 1), stride=(1, 1), bias=False)\n",
       "      (bn3): BatchNorm2d(512, eps=1e-05, momentum=0.1, affine=True, track_running_stats=True)\n",
       "      (relu): ReLU(inplace=True)\n",
       "      (shortcut): Sequential()\n",
       "    )\n",
       "    (2): Bottleneck(\n",
       "      (conv1): Conv2d(512, 128, kernel_size=(1, 1), stride=(1, 1), bias=False)\n",
       "      (bn1): BatchNorm2d(128, eps=1e-05, momentum=0.1, affine=True, track_running_stats=True)\n",
       "      (conv2): Conv2d(128, 128, kernel_size=(3, 3), stride=(1, 1), padding=(1, 1), bias=False)\n",
       "      (bn2): BatchNorm2d(128, eps=1e-05, momentum=0.1, affine=True, track_running_stats=True)\n",
       "      (conv3): Conv2d(128, 512, kernel_size=(1, 1), stride=(1, 1), bias=False)\n",
       "      (bn3): BatchNorm2d(512, eps=1e-05, momentum=0.1, affine=True, track_running_stats=True)\n",
       "      (relu): ReLU(inplace=True)\n",
       "      (shortcut): Sequential()\n",
       "    )\n",
       "    (3): Bottleneck(\n",
       "      (conv1): Conv2d(512, 128, kernel_size=(1, 1), stride=(1, 1), bias=False)\n",
       "      (bn1): BatchNorm2d(128, eps=1e-05, momentum=0.1, affine=True, track_running_stats=True)\n",
       "      (conv2): Conv2d(128, 128, kernel_size=(3, 3), stride=(1, 1), padding=(1, 1), bias=False)\n",
       "      (bn2): BatchNorm2d(128, eps=1e-05, momentum=0.1, affine=True, track_running_stats=True)\n",
       "      (conv3): Conv2d(128, 512, kernel_size=(1, 1), stride=(1, 1), bias=False)\n",
       "      (bn3): BatchNorm2d(512, eps=1e-05, momentum=0.1, affine=True, track_running_stats=True)\n",
       "      (relu): ReLU(inplace=True)\n",
       "      (shortcut): Sequential()\n",
       "    )\n",
       "  )\n",
       "  (layer3): Sequential(\n",
       "    (0): Bottleneck(\n",
       "      (conv1): Conv2d(512, 256, kernel_size=(1, 1), stride=(1, 1), bias=False)\n",
       "      (bn1): BatchNorm2d(256, eps=1e-05, momentum=0.1, affine=True, track_running_stats=True)\n",
       "      (conv2): Conv2d(256, 256, kernel_size=(3, 3), stride=(2, 2), padding=(1, 1), bias=False)\n",
       "      (bn2): BatchNorm2d(256, eps=1e-05, momentum=0.1, affine=True, track_running_stats=True)\n",
       "      (conv3): Conv2d(256, 1024, kernel_size=(1, 1), stride=(1, 1), bias=False)\n",
       "      (bn3): BatchNorm2d(1024, eps=1e-05, momentum=0.1, affine=True, track_running_stats=True)\n",
       "      (relu): ReLU(inplace=True)\n",
       "      (shortcut): Sequential(\n",
       "        (0): Conv2d(512, 1024, kernel_size=(1, 1), stride=(2, 2), bias=False)\n",
       "        (1): BatchNorm2d(1024, eps=1e-05, momentum=0.1, affine=True, track_running_stats=True)\n",
       "      )\n",
       "    )\n",
       "    (1): Bottleneck(\n",
       "      (conv1): Conv2d(1024, 256, kernel_size=(1, 1), stride=(1, 1), bias=False)\n",
       "      (bn1): BatchNorm2d(256, eps=1e-05, momentum=0.1, affine=True, track_running_stats=True)\n",
       "      (conv2): Conv2d(256, 256, kernel_size=(3, 3), stride=(1, 1), padding=(1, 1), bias=False)\n",
       "      (bn2): BatchNorm2d(256, eps=1e-05, momentum=0.1, affine=True, track_running_stats=True)\n",
       "      (conv3): Conv2d(256, 1024, kernel_size=(1, 1), stride=(1, 1), bias=False)\n",
       "      (bn3): BatchNorm2d(1024, eps=1e-05, momentum=0.1, affine=True, track_running_stats=True)\n",
       "      (relu): ReLU(inplace=True)\n",
       "      (shortcut): Sequential()\n",
       "    )\n",
       "    (2): Bottleneck(\n",
       "      (conv1): Conv2d(1024, 256, kernel_size=(1, 1), stride=(1, 1), bias=False)\n",
       "      (bn1): BatchNorm2d(256, eps=1e-05, momentum=0.1, affine=True, track_running_stats=True)\n",
       "      (conv2): Conv2d(256, 256, kernel_size=(3, 3), stride=(1, 1), padding=(1, 1), bias=False)\n",
       "      (bn2): BatchNorm2d(256, eps=1e-05, momentum=0.1, affine=True, track_running_stats=True)\n",
       "      (conv3): Conv2d(256, 1024, kernel_size=(1, 1), stride=(1, 1), bias=False)\n",
       "      (bn3): BatchNorm2d(1024, eps=1e-05, momentum=0.1, affine=True, track_running_stats=True)\n",
       "      (relu): ReLU(inplace=True)\n",
       "      (shortcut): Sequential()\n",
       "    )\n",
       "    (3): Bottleneck(\n",
       "      (conv1): Conv2d(1024, 256, kernel_size=(1, 1), stride=(1, 1), bias=False)\n",
       "      (bn1): BatchNorm2d(256, eps=1e-05, momentum=0.1, affine=True, track_running_stats=True)\n",
       "      (conv2): Conv2d(256, 256, kernel_size=(3, 3), stride=(1, 1), padding=(1, 1), bias=False)\n",
       "      (bn2): BatchNorm2d(256, eps=1e-05, momentum=0.1, affine=True, track_running_stats=True)\n",
       "      (conv3): Conv2d(256, 1024, kernel_size=(1, 1), stride=(1, 1), bias=False)\n",
       "      (bn3): BatchNorm2d(1024, eps=1e-05, momentum=0.1, affine=True, track_running_stats=True)\n",
       "      (relu): ReLU(inplace=True)\n",
       "      (shortcut): Sequential()\n",
       "    )\n",
       "    (4): Bottleneck(\n",
       "      (conv1): Conv2d(1024, 256, kernel_size=(1, 1), stride=(1, 1), bias=False)\n",
       "      (bn1): BatchNorm2d(256, eps=1e-05, momentum=0.1, affine=True, track_running_stats=True)\n",
       "      (conv2): Conv2d(256, 256, kernel_size=(3, 3), stride=(1, 1), padding=(1, 1), bias=False)\n",
       "      (bn2): BatchNorm2d(256, eps=1e-05, momentum=0.1, affine=True, track_running_stats=True)\n",
       "      (conv3): Conv2d(256, 1024, kernel_size=(1, 1), stride=(1, 1), bias=False)\n",
       "      (bn3): BatchNorm2d(1024, eps=1e-05, momentum=0.1, affine=True, track_running_stats=True)\n",
       "      (relu): ReLU(inplace=True)\n",
       "      (shortcut): Sequential()\n",
       "    )\n",
       "    (5): Bottleneck(\n",
       "      (conv1): Conv2d(1024, 256, kernel_size=(1, 1), stride=(1, 1), bias=False)\n",
       "      (bn1): BatchNorm2d(256, eps=1e-05, momentum=0.1, affine=True, track_running_stats=True)\n",
       "      (conv2): Conv2d(256, 256, kernel_size=(3, 3), stride=(1, 1), padding=(1, 1), bias=False)\n",
       "      (bn2): BatchNorm2d(256, eps=1e-05, momentum=0.1, affine=True, track_running_stats=True)\n",
       "      (conv3): Conv2d(256, 1024, kernel_size=(1, 1), stride=(1, 1), bias=False)\n",
       "      (bn3): BatchNorm2d(1024, eps=1e-05, momentum=0.1, affine=True, track_running_stats=True)\n",
       "      (relu): ReLU(inplace=True)\n",
       "      (shortcut): Sequential()\n",
       "    )\n",
       "  )\n",
       "  (layer4): Sequential(\n",
       "    (0): Bottleneck(\n",
       "      (conv1): Conv2d(1024, 512, kernel_size=(1, 1), stride=(1, 1), bias=False)\n",
       "      (bn1): BatchNorm2d(512, eps=1e-05, momentum=0.1, affine=True, track_running_stats=True)\n",
       "      (conv2): Conv2d(512, 512, kernel_size=(3, 3), stride=(2, 2), padding=(1, 1), bias=False)\n",
       "      (bn2): BatchNorm2d(512, eps=1e-05, momentum=0.1, affine=True, track_running_stats=True)\n",
       "      (conv3): Conv2d(512, 2048, kernel_size=(1, 1), stride=(1, 1), bias=False)\n",
       "      (bn3): BatchNorm2d(2048, eps=1e-05, momentum=0.1, affine=True, track_running_stats=True)\n",
       "      (relu): ReLU(inplace=True)\n",
       "      (shortcut): Sequential(\n",
       "        (0): Conv2d(1024, 2048, kernel_size=(1, 1), stride=(2, 2), bias=False)\n",
       "        (1): BatchNorm2d(2048, eps=1e-05, momentum=0.1, affine=True, track_running_stats=True)\n",
       "      )\n",
       "    )\n",
       "    (1): Bottleneck(\n",
       "      (conv1): Conv2d(2048, 512, kernel_size=(1, 1), stride=(1, 1), bias=False)\n",
       "      (bn1): BatchNorm2d(512, eps=1e-05, momentum=0.1, affine=True, track_running_stats=True)\n",
       "      (conv2): Conv2d(512, 512, kernel_size=(3, 3), stride=(1, 1), padding=(1, 1), bias=False)\n",
       "      (bn2): BatchNorm2d(512, eps=1e-05, momentum=0.1, affine=True, track_running_stats=True)\n",
       "      (conv3): Conv2d(512, 2048, kernel_size=(1, 1), stride=(1, 1), bias=False)\n",
       "      (bn3): BatchNorm2d(2048, eps=1e-05, momentum=0.1, affine=True, track_running_stats=True)\n",
       "      (relu): ReLU(inplace=True)\n",
       "      (shortcut): Sequential()\n",
       "    )\n",
       "    (2): Bottleneck(\n",
       "      (conv1): Conv2d(2048, 512, kernel_size=(1, 1), stride=(1, 1), bias=False)\n",
       "      (bn1): BatchNorm2d(512, eps=1e-05, momentum=0.1, affine=True, track_running_stats=True)\n",
       "      (conv2): Conv2d(512, 512, kernel_size=(3, 3), stride=(1, 1), padding=(1, 1), bias=False)\n",
       "      (bn2): BatchNorm2d(512, eps=1e-05, momentum=0.1, affine=True, track_running_stats=True)\n",
       "      (conv3): Conv2d(512, 2048, kernel_size=(1, 1), stride=(1, 1), bias=False)\n",
       "      (bn3): BatchNorm2d(2048, eps=1e-05, momentum=0.1, affine=True, track_running_stats=True)\n",
       "      (relu): ReLU(inplace=True)\n",
       "      (shortcut): Sequential()\n",
       "    )\n",
       "  )\n",
       "  (avgpool): AdaptiveAvgPool2d(output_size=(1, 1))\n",
       ")"
      ]
     },
     "execution_count": 12,
     "metadata": {},
     "output_type": "execute_result"
    }
   ],
   "source": [
    "model = ResNet50(data_classes[\"flowers\"])#.load_state_dict(resnet50(pretrained=ResNet50_Weights.IMAGENET1K_V2).state_dict())\n",
    "model"
   ]
  },
  {
   "cell_type": "markdown",
   "id": "847d09f9",
   "metadata": {},
   "source": [
    "# Load pretrained weight"
   ]
  },
  {
   "cell_type": "code",
   "execution_count": 13,
   "id": "a97935b4",
   "metadata": {},
   "outputs": [
    {
     "name": "stderr",
     "output_type": "stream",
     "text": [
      "/opt/conda/lib/python3.7/site-packages/torchvision/models/_utils.py:209: UserWarning: The parameter 'pretrained' is deprecated since 0.13 and will be removed in 0.15, please use 'weights' instead.\n",
      "  f\"The parameter '{pretrained_param}' is deprecated since 0.13 and will be removed in 0.15, \"\n",
      "/opt/conda/lib/python3.7/site-packages/torchvision/models/_utils.py:223: UserWarning: Arguments other than a weight enum or `None` for 'weights' are deprecated since 0.13 and will be removed in 0.15. The current behavior is equivalent to passing `weights=ResNet50_Weights.IMAGENET1K_V1`. You can also use `weights=ResNet50_Weights.DEFAULT` to get the most up-to-date weights.\n",
      "  warnings.warn(msg)\n"
     ]
    }
   ],
   "source": [
    "from torchvision import models\n",
    "pretrained_model = models.resnet50(pretrained=ResNet50_Weights.IMAGENET1K_V2)"
   ]
  },
  {
   "cell_type": "markdown",
   "id": "80790bef",
   "metadata": {},
   "source": [
    "#### Extract copied weights"
   ]
  },
  {
   "cell_type": "code",
   "execution_count": 14,
   "id": "1bfa16b3",
   "metadata": {},
   "outputs": [],
   "source": [
    "import copy\n",
    "model_weight = copy.deepcopy(model.state_dict())\n",
    "pretrained_model_weight = copy.deepcopy(pretrained_model.state_dict())"
   ]
  },
  {
   "cell_type": "code",
   "execution_count": 15,
   "id": "d043eed6",
   "metadata": {},
   "outputs": [
    {
     "name": "stdout",
     "output_type": "stream",
     "text": [
      "conv1.weight\n",
      "bn1.weight\n",
      "bn1.bias\n",
      "bn1.running_mean\n",
      "bn1.running_var\n",
      "bn1.num_batches_tracked\n",
      "layer1.0.conv1.weight\n",
      "layer1.0.bn1.weight\n",
      "layer1.0.bn1.bias\n",
      "layer1.0.bn1.running_mean\n",
      "layer1.0.bn1.running_var\n",
      "layer1.0.bn1.num_batches_tracked\n",
      "layer1.0.conv2.weight\n",
      "layer1.0.bn2.weight\n",
      "layer1.0.bn2.bias\n",
      "layer1.0.bn2.running_mean\n",
      "layer1.0.bn2.running_var\n",
      "layer1.0.bn2.num_batches_tracked\n",
      "layer1.0.conv3.weight\n",
      "layer1.0.bn3.weight\n",
      "layer1.0.bn3.bias\n",
      "layer1.0.bn3.running_mean\n",
      "layer1.0.bn3.running_var\n",
      "layer1.0.bn3.num_batches_tracked\n",
      "layer1.0.shortcut.0.weight\n",
      "layer1.0.shortcut.1.weight\n",
      "layer1.0.shortcut.1.bias\n",
      "layer1.0.shortcut.1.running_mean\n",
      "layer1.0.shortcut.1.running_var\n",
      "layer1.0.shortcut.1.num_batches_tracked\n",
      "layer1.1.conv1.weight\n",
      "layer1.1.bn1.weight\n",
      "layer1.1.bn1.bias\n",
      "layer1.1.bn1.running_mean\n",
      "layer1.1.bn1.running_var\n",
      "layer1.1.bn1.num_batches_tracked\n",
      "layer1.1.conv2.weight\n",
      "layer1.1.bn2.weight\n",
      "layer1.1.bn2.bias\n",
      "layer1.1.bn2.running_mean\n",
      "layer1.1.bn2.running_var\n",
      "layer1.1.bn2.num_batches_tracked\n",
      "layer1.1.conv3.weight\n",
      "layer1.1.bn3.weight\n",
      "layer1.1.bn3.bias\n",
      "layer1.1.bn3.running_mean\n",
      "layer1.1.bn3.running_var\n",
      "layer1.1.bn3.num_batches_tracked\n",
      "layer1.2.conv1.weight\n",
      "layer1.2.bn1.weight\n",
      "layer1.2.bn1.bias\n",
      "layer1.2.bn1.running_mean\n",
      "layer1.2.bn1.running_var\n",
      "layer1.2.bn1.num_batches_tracked\n",
      "layer1.2.conv2.weight\n",
      "layer1.2.bn2.weight\n",
      "layer1.2.bn2.bias\n",
      "layer1.2.bn2.running_mean\n",
      "layer1.2.bn2.running_var\n",
      "layer1.2.bn2.num_batches_tracked\n",
      "layer1.2.conv3.weight\n",
      "layer1.2.bn3.weight\n",
      "layer1.2.bn3.bias\n",
      "layer1.2.bn3.running_mean\n",
      "layer1.2.bn3.running_var\n",
      "layer1.2.bn3.num_batches_tracked\n",
      "layer2.0.conv1.weight\n",
      "layer2.0.bn1.weight\n",
      "layer2.0.bn1.bias\n",
      "layer2.0.bn1.running_mean\n",
      "layer2.0.bn1.running_var\n",
      "layer2.0.bn1.num_batches_tracked\n",
      "layer2.0.conv2.weight\n",
      "layer2.0.bn2.weight\n",
      "layer2.0.bn2.bias\n",
      "layer2.0.bn2.running_mean\n",
      "layer2.0.bn2.running_var\n",
      "layer2.0.bn2.num_batches_tracked\n",
      "layer2.0.conv3.weight\n",
      "layer2.0.bn3.weight\n",
      "layer2.0.bn3.bias\n",
      "layer2.0.bn3.running_mean\n",
      "layer2.0.bn3.running_var\n",
      "layer2.0.bn3.num_batches_tracked\n",
      "layer2.0.shortcut.0.weight\n",
      "layer2.0.shortcut.1.weight\n",
      "layer2.0.shortcut.1.bias\n",
      "layer2.0.shortcut.1.running_mean\n",
      "layer2.0.shortcut.1.running_var\n",
      "layer2.0.shortcut.1.num_batches_tracked\n",
      "layer2.1.conv1.weight\n",
      "layer2.1.bn1.weight\n",
      "layer2.1.bn1.bias\n",
      "layer2.1.bn1.running_mean\n",
      "layer2.1.bn1.running_var\n",
      "layer2.1.bn1.num_batches_tracked\n",
      "layer2.1.conv2.weight\n",
      "layer2.1.bn2.weight\n",
      "layer2.1.bn2.bias\n",
      "layer2.1.bn2.running_mean\n",
      "layer2.1.bn2.running_var\n",
      "layer2.1.bn2.num_batches_tracked\n",
      "layer2.1.conv3.weight\n",
      "layer2.1.bn3.weight\n",
      "layer2.1.bn3.bias\n",
      "layer2.1.bn3.running_mean\n",
      "layer2.1.bn3.running_var\n",
      "layer2.1.bn3.num_batches_tracked\n",
      "layer2.2.conv1.weight\n",
      "layer2.2.bn1.weight\n",
      "layer2.2.bn1.bias\n",
      "layer2.2.bn1.running_mean\n",
      "layer2.2.bn1.running_var\n",
      "layer2.2.bn1.num_batches_tracked\n",
      "layer2.2.conv2.weight\n",
      "layer2.2.bn2.weight\n",
      "layer2.2.bn2.bias\n",
      "layer2.2.bn2.running_mean\n",
      "layer2.2.bn2.running_var\n",
      "layer2.2.bn2.num_batches_tracked\n",
      "layer2.2.conv3.weight\n",
      "layer2.2.bn3.weight\n",
      "layer2.2.bn3.bias\n",
      "layer2.2.bn3.running_mean\n",
      "layer2.2.bn3.running_var\n",
      "layer2.2.bn3.num_batches_tracked\n",
      "layer2.3.conv1.weight\n",
      "layer2.3.bn1.weight\n",
      "layer2.3.bn1.bias\n",
      "layer2.3.bn1.running_mean\n",
      "layer2.3.bn1.running_var\n",
      "layer2.3.bn1.num_batches_tracked\n",
      "layer2.3.conv2.weight\n",
      "layer2.3.bn2.weight\n",
      "layer2.3.bn2.bias\n",
      "layer2.3.bn2.running_mean\n",
      "layer2.3.bn2.running_var\n",
      "layer2.3.bn2.num_batches_tracked\n",
      "layer2.3.conv3.weight\n",
      "layer2.3.bn3.weight\n",
      "layer2.3.bn3.bias\n",
      "layer2.3.bn3.running_mean\n",
      "layer2.3.bn3.running_var\n",
      "layer2.3.bn3.num_batches_tracked\n",
      "layer3.0.conv1.weight\n",
      "layer3.0.bn1.weight\n",
      "layer3.0.bn1.bias\n",
      "layer3.0.bn1.running_mean\n",
      "layer3.0.bn1.running_var\n",
      "layer3.0.bn1.num_batches_tracked\n",
      "layer3.0.conv2.weight\n",
      "layer3.0.bn2.weight\n",
      "layer3.0.bn2.bias\n",
      "layer3.0.bn2.running_mean\n",
      "layer3.0.bn2.running_var\n",
      "layer3.0.bn2.num_batches_tracked\n",
      "layer3.0.conv3.weight\n",
      "layer3.0.bn3.weight\n",
      "layer3.0.bn3.bias\n",
      "layer3.0.bn3.running_mean\n",
      "layer3.0.bn3.running_var\n",
      "layer3.0.bn3.num_batches_tracked\n",
      "layer3.0.shortcut.0.weight\n",
      "layer3.0.shortcut.1.weight\n",
      "layer3.0.shortcut.1.bias\n",
      "layer3.0.shortcut.1.running_mean\n",
      "layer3.0.shortcut.1.running_var\n",
      "layer3.0.shortcut.1.num_batches_tracked\n",
      "layer3.1.conv1.weight\n",
      "layer3.1.bn1.weight\n",
      "layer3.1.bn1.bias\n",
      "layer3.1.bn1.running_mean\n",
      "layer3.1.bn1.running_var\n",
      "layer3.1.bn1.num_batches_tracked\n",
      "layer3.1.conv2.weight\n",
      "layer3.1.bn2.weight\n",
      "layer3.1.bn2.bias\n",
      "layer3.1.bn2.running_mean\n",
      "layer3.1.bn2.running_var\n",
      "layer3.1.bn2.num_batches_tracked\n",
      "layer3.1.conv3.weight\n",
      "layer3.1.bn3.weight\n",
      "layer3.1.bn3.bias\n",
      "layer3.1.bn3.running_mean\n",
      "layer3.1.bn3.running_var\n",
      "layer3.1.bn3.num_batches_tracked\n",
      "layer3.2.conv1.weight\n",
      "layer3.2.bn1.weight\n",
      "layer3.2.bn1.bias\n",
      "layer3.2.bn1.running_mean\n",
      "layer3.2.bn1.running_var\n",
      "layer3.2.bn1.num_batches_tracked\n",
      "layer3.2.conv2.weight\n",
      "layer3.2.bn2.weight\n",
      "layer3.2.bn2.bias\n",
      "layer3.2.bn2.running_mean\n",
      "layer3.2.bn2.running_var\n",
      "layer3.2.bn2.num_batches_tracked\n",
      "layer3.2.conv3.weight\n",
      "layer3.2.bn3.weight\n",
      "layer3.2.bn3.bias\n",
      "layer3.2.bn3.running_mean\n",
      "layer3.2.bn3.running_var\n",
      "layer3.2.bn3.num_batches_tracked\n",
      "layer3.3.conv1.weight\n",
      "layer3.3.bn1.weight\n",
      "layer3.3.bn1.bias\n",
      "layer3.3.bn1.running_mean\n",
      "layer3.3.bn1.running_var\n",
      "layer3.3.bn1.num_batches_tracked\n",
      "layer3.3.conv2.weight\n",
      "layer3.3.bn2.weight\n",
      "layer3.3.bn2.bias\n",
      "layer3.3.bn2.running_mean\n",
      "layer3.3.bn2.running_var\n",
      "layer3.3.bn2.num_batches_tracked\n",
      "layer3.3.conv3.weight\n",
      "layer3.3.bn3.weight\n",
      "layer3.3.bn3.bias\n",
      "layer3.3.bn3.running_mean\n",
      "layer3.3.bn3.running_var\n",
      "layer3.3.bn3.num_batches_tracked\n",
      "layer3.4.conv1.weight\n",
      "layer3.4.bn1.weight\n",
      "layer3.4.bn1.bias\n",
      "layer3.4.bn1.running_mean\n",
      "layer3.4.bn1.running_var\n",
      "layer3.4.bn1.num_batches_tracked\n",
      "layer3.4.conv2.weight\n",
      "layer3.4.bn2.weight\n",
      "layer3.4.bn2.bias\n",
      "layer3.4.bn2.running_mean\n",
      "layer3.4.bn2.running_var\n",
      "layer3.4.bn2.num_batches_tracked\n",
      "layer3.4.conv3.weight\n",
      "layer3.4.bn3.weight\n",
      "layer3.4.bn3.bias\n",
      "layer3.4.bn3.running_mean\n",
      "layer3.4.bn3.running_var\n",
      "layer3.4.bn3.num_batches_tracked\n",
      "layer3.5.conv1.weight\n",
      "layer3.5.bn1.weight\n",
      "layer3.5.bn1.bias\n",
      "layer3.5.bn1.running_mean\n",
      "layer3.5.bn1.running_var\n",
      "layer3.5.bn1.num_batches_tracked\n",
      "layer3.5.conv2.weight\n",
      "layer3.5.bn2.weight\n",
      "layer3.5.bn2.bias\n",
      "layer3.5.bn2.running_mean\n",
      "layer3.5.bn2.running_var\n",
      "layer3.5.bn2.num_batches_tracked\n",
      "layer3.5.conv3.weight\n",
      "layer3.5.bn3.weight\n",
      "layer3.5.bn3.bias\n",
      "layer3.5.bn3.running_mean\n",
      "layer3.5.bn3.running_var\n",
      "layer3.5.bn3.num_batches_tracked\n",
      "layer4.0.conv1.weight\n",
      "layer4.0.bn1.weight\n",
      "layer4.0.bn1.bias\n",
      "layer4.0.bn1.running_mean\n",
      "layer4.0.bn1.running_var\n",
      "layer4.0.bn1.num_batches_tracked\n",
      "layer4.0.conv2.weight\n",
      "layer4.0.bn2.weight\n",
      "layer4.0.bn2.bias\n",
      "layer4.0.bn2.running_mean\n",
      "layer4.0.bn2.running_var\n",
      "layer4.0.bn2.num_batches_tracked\n",
      "layer4.0.conv3.weight\n",
      "layer4.0.bn3.weight\n",
      "layer4.0.bn3.bias\n",
      "layer4.0.bn3.running_mean\n",
      "layer4.0.bn3.running_var\n",
      "layer4.0.bn3.num_batches_tracked\n",
      "layer4.0.shortcut.0.weight\n",
      "layer4.0.shortcut.1.weight\n",
      "layer4.0.shortcut.1.bias\n",
      "layer4.0.shortcut.1.running_mean\n",
      "layer4.0.shortcut.1.running_var\n",
      "layer4.0.shortcut.1.num_batches_tracked\n",
      "layer4.1.conv1.weight\n",
      "layer4.1.bn1.weight\n",
      "layer4.1.bn1.bias\n",
      "layer4.1.bn1.running_mean\n",
      "layer4.1.bn1.running_var\n",
      "layer4.1.bn1.num_batches_tracked\n",
      "layer4.1.conv2.weight\n",
      "layer4.1.bn2.weight\n",
      "layer4.1.bn2.bias\n",
      "layer4.1.bn2.running_mean\n",
      "layer4.1.bn2.running_var\n",
      "layer4.1.bn2.num_batches_tracked\n",
      "layer4.1.conv3.weight\n",
      "layer4.1.bn3.weight\n",
      "layer4.1.bn3.bias\n",
      "layer4.1.bn3.running_mean\n",
      "layer4.1.bn3.running_var\n",
      "layer4.1.bn3.num_batches_tracked\n",
      "layer4.2.conv1.weight\n",
      "layer4.2.bn1.weight\n",
      "layer4.2.bn1.bias\n",
      "layer4.2.bn1.running_mean\n",
      "layer4.2.bn1.running_var\n",
      "layer4.2.bn1.num_batches_tracked\n",
      "layer4.2.conv2.weight\n",
      "layer4.2.bn2.weight\n",
      "layer4.2.bn2.bias\n",
      "layer4.2.bn2.running_mean\n",
      "layer4.2.bn2.running_var\n",
      "layer4.2.bn2.num_batches_tracked\n",
      "layer4.2.conv3.weight\n",
      "layer4.2.bn3.weight\n",
      "layer4.2.bn3.bias\n",
      "layer4.2.bn3.running_mean\n",
      "layer4.2.bn3.running_var\n",
      "layer4.2.bn3.num_batches_tracked\n"
     ]
    }
   ],
   "source": [
    "import copy\n",
    "idx = 0\n",
    "for name, pretrained_weight in zip(model.state_dict().keys(),pretrained_model_weight.values()):\n",
    "    if idx == 318 or idx == 319:\n",
    "        pass\n",
    "    else:\n",
    "        print(name)\n",
    "        assert model_weight[name].size() == pretrained_weight.size()\n",
    "        model_weight[name] = pretrained_weight\n",
    "    idx+=1"
   ]
  },
  {
   "cell_type": "markdown",
   "id": "82d8ff25",
   "metadata": {},
   "source": [
    "#### Load weight"
   ]
  },
  {
   "cell_type": "code",
   "execution_count": 16,
   "id": "68d79a47",
   "metadata": {},
   "outputs": [
    {
     "data": {
      "text/plain": [
       "<All keys matched successfully>"
      ]
     },
     "execution_count": 16,
     "metadata": {},
     "output_type": "execute_result"
    }
   ],
   "source": [
    "model.load_state_dict(model_weight)"
   ]
  },
  {
   "cell_type": "markdown",
   "id": "b6f268ef",
   "metadata": {},
   "source": [
    "#### Check if successfully loaded"
   ]
  },
  {
   "cell_type": "code",
   "execution_count": 17,
   "id": "a2a5fdf1",
   "metadata": {},
   "outputs": [],
   "source": [
    "idx = 0\n",
    "for name, pretrained_weight in zip(model.state_dict().keys(),pretrained_model.state_dict().values()):\n",
    "    if torch.equal(model.state_dict()[name],pretrained_weight) == True:\n",
    "        pass\n",
    "    else:\n",
    "        print(idx)\n",
    "#         model.state_dict()[name] = pretrained_weight\n",
    "    idx+=1"
   ]
  },
  {
   "cell_type": "code",
   "execution_count": 18,
   "id": "834b1209",
   "metadata": {},
   "outputs": [
    {
     "data": {
      "text/plain": [
       "ResNet(\n",
       "  (conv1): Conv2d(3, 64, kernel_size=(7, 7), stride=(2, 2), padding=(3, 3), bias=False)\n",
       "  (bn1): BatchNorm2d(64, eps=1e-05, momentum=0.1, affine=True, track_running_stats=True)\n",
       "  (relu): ReLU(inplace=True)\n",
       "  (maxpool): MaxPool2d(kernel_size=3, stride=2, padding=1, dilation=1, ceil_mode=False)\n",
       "  (layer1): Sequential(\n",
       "    (0): Bottleneck(\n",
       "      (conv1): Conv2d(64, 64, kernel_size=(1, 1), stride=(1, 1), bias=False)\n",
       "      (bn1): BatchNorm2d(64, eps=1e-05, momentum=0.1, affine=True, track_running_stats=True)\n",
       "      (conv2): Conv2d(64, 64, kernel_size=(3, 3), stride=(1, 1), padding=(1, 1), bias=False)\n",
       "      (bn2): BatchNorm2d(64, eps=1e-05, momentum=0.1, affine=True, track_running_stats=True)\n",
       "      (conv3): Conv2d(64, 256, kernel_size=(1, 1), stride=(1, 1), bias=False)\n",
       "      (bn3): BatchNorm2d(256, eps=1e-05, momentum=0.1, affine=True, track_running_stats=True)\n",
       "      (relu): ReLU(inplace=True)\n",
       "      (shortcut): Sequential(\n",
       "        (0): Conv2d(64, 256, kernel_size=(1, 1), stride=(1, 1), bias=False)\n",
       "        (1): BatchNorm2d(256, eps=1e-05, momentum=0.1, affine=True, track_running_stats=True)\n",
       "      )\n",
       "    )\n",
       "    (1): Bottleneck(\n",
       "      (conv1): Conv2d(256, 64, kernel_size=(1, 1), stride=(1, 1), bias=False)\n",
       "      (bn1): BatchNorm2d(64, eps=1e-05, momentum=0.1, affine=True, track_running_stats=True)\n",
       "      (conv2): Conv2d(64, 64, kernel_size=(3, 3), stride=(1, 1), padding=(1, 1), bias=False)\n",
       "      (bn2): BatchNorm2d(64, eps=1e-05, momentum=0.1, affine=True, track_running_stats=True)\n",
       "      (conv3): Conv2d(64, 256, kernel_size=(1, 1), stride=(1, 1), bias=False)\n",
       "      (bn3): BatchNorm2d(256, eps=1e-05, momentum=0.1, affine=True, track_running_stats=True)\n",
       "      (relu): ReLU(inplace=True)\n",
       "      (shortcut): Sequential()\n",
       "    )\n",
       "    (2): Bottleneck(\n",
       "      (conv1): Conv2d(256, 64, kernel_size=(1, 1), stride=(1, 1), bias=False)\n",
       "      (bn1): BatchNorm2d(64, eps=1e-05, momentum=0.1, affine=True, track_running_stats=True)\n",
       "      (conv2): Conv2d(64, 64, kernel_size=(3, 3), stride=(1, 1), padding=(1, 1), bias=False)\n",
       "      (bn2): BatchNorm2d(64, eps=1e-05, momentum=0.1, affine=True, track_running_stats=True)\n",
       "      (conv3): Conv2d(64, 256, kernel_size=(1, 1), stride=(1, 1), bias=False)\n",
       "      (bn3): BatchNorm2d(256, eps=1e-05, momentum=0.1, affine=True, track_running_stats=True)\n",
       "      (relu): ReLU(inplace=True)\n",
       "      (shortcut): Sequential()\n",
       "    )\n",
       "  )\n",
       "  (layer2): Sequential(\n",
       "    (0): Bottleneck(\n",
       "      (conv1): Conv2d(256, 128, kernel_size=(1, 1), stride=(1, 1), bias=False)\n",
       "      (bn1): BatchNorm2d(128, eps=1e-05, momentum=0.1, affine=True, track_running_stats=True)\n",
       "      (conv2): Conv2d(128, 128, kernel_size=(3, 3), stride=(2, 2), padding=(1, 1), bias=False)\n",
       "      (bn2): BatchNorm2d(128, eps=1e-05, momentum=0.1, affine=True, track_running_stats=True)\n",
       "      (conv3): Conv2d(128, 512, kernel_size=(1, 1), stride=(1, 1), bias=False)\n",
       "      (bn3): BatchNorm2d(512, eps=1e-05, momentum=0.1, affine=True, track_running_stats=True)\n",
       "      (relu): ReLU(inplace=True)\n",
       "      (shortcut): Sequential(\n",
       "        (0): Conv2d(256, 512, kernel_size=(1, 1), stride=(2, 2), bias=False)\n",
       "        (1): BatchNorm2d(512, eps=1e-05, momentum=0.1, affine=True, track_running_stats=True)\n",
       "      )\n",
       "    )\n",
       "    (1): Bottleneck(\n",
       "      (conv1): Conv2d(512, 128, kernel_size=(1, 1), stride=(1, 1), bias=False)\n",
       "      (bn1): BatchNorm2d(128, eps=1e-05, momentum=0.1, affine=True, track_running_stats=True)\n",
       "      (conv2): Conv2d(128, 128, kernel_size=(3, 3), stride=(1, 1), padding=(1, 1), bias=False)\n",
       "      (bn2): BatchNorm2d(128, eps=1e-05, momentum=0.1, affine=True, track_running_stats=True)\n",
       "      (conv3): Conv2d(128, 512, kernel_size=(1, 1), stride=(1, 1), bias=False)\n",
       "      (bn3): BatchNorm2d(512, eps=1e-05, momentum=0.1, affine=True, track_running_stats=True)\n",
       "      (relu): ReLU(inplace=True)\n",
       "      (shortcut): Sequential()\n",
       "    )\n",
       "    (2): Bottleneck(\n",
       "      (conv1): Conv2d(512, 128, kernel_size=(1, 1), stride=(1, 1), bias=False)\n",
       "      (bn1): BatchNorm2d(128, eps=1e-05, momentum=0.1, affine=True, track_running_stats=True)\n",
       "      (conv2): Conv2d(128, 128, kernel_size=(3, 3), stride=(1, 1), padding=(1, 1), bias=False)\n",
       "      (bn2): BatchNorm2d(128, eps=1e-05, momentum=0.1, affine=True, track_running_stats=True)\n",
       "      (conv3): Conv2d(128, 512, kernel_size=(1, 1), stride=(1, 1), bias=False)\n",
       "      (bn3): BatchNorm2d(512, eps=1e-05, momentum=0.1, affine=True, track_running_stats=True)\n",
       "      (relu): ReLU(inplace=True)\n",
       "      (shortcut): Sequential()\n",
       "    )\n",
       "    (3): Bottleneck(\n",
       "      (conv1): Conv2d(512, 128, kernel_size=(1, 1), stride=(1, 1), bias=False)\n",
       "      (bn1): BatchNorm2d(128, eps=1e-05, momentum=0.1, affine=True, track_running_stats=True)\n",
       "      (conv2): Conv2d(128, 128, kernel_size=(3, 3), stride=(1, 1), padding=(1, 1), bias=False)\n",
       "      (bn2): BatchNorm2d(128, eps=1e-05, momentum=0.1, affine=True, track_running_stats=True)\n",
       "      (conv3): Conv2d(128, 512, kernel_size=(1, 1), stride=(1, 1), bias=False)\n",
       "      (bn3): BatchNorm2d(512, eps=1e-05, momentum=0.1, affine=True, track_running_stats=True)\n",
       "      (relu): ReLU(inplace=True)\n",
       "      (shortcut): Sequential()\n",
       "    )\n",
       "  )\n",
       "  (layer3): Sequential(\n",
       "    (0): Bottleneck(\n",
       "      (conv1): Conv2d(512, 256, kernel_size=(1, 1), stride=(1, 1), bias=False)\n",
       "      (bn1): BatchNorm2d(256, eps=1e-05, momentum=0.1, affine=True, track_running_stats=True)\n",
       "      (conv2): Conv2d(256, 256, kernel_size=(3, 3), stride=(2, 2), padding=(1, 1), bias=False)\n",
       "      (bn2): BatchNorm2d(256, eps=1e-05, momentum=0.1, affine=True, track_running_stats=True)\n",
       "      (conv3): Conv2d(256, 1024, kernel_size=(1, 1), stride=(1, 1), bias=False)\n",
       "      (bn3): BatchNorm2d(1024, eps=1e-05, momentum=0.1, affine=True, track_running_stats=True)\n",
       "      (relu): ReLU(inplace=True)\n",
       "      (shortcut): Sequential(\n",
       "        (0): Conv2d(512, 1024, kernel_size=(1, 1), stride=(2, 2), bias=False)\n",
       "        (1): BatchNorm2d(1024, eps=1e-05, momentum=0.1, affine=True, track_running_stats=True)\n",
       "      )\n",
       "    )\n",
       "    (1): Bottleneck(\n",
       "      (conv1): Conv2d(1024, 256, kernel_size=(1, 1), stride=(1, 1), bias=False)\n",
       "      (bn1): BatchNorm2d(256, eps=1e-05, momentum=0.1, affine=True, track_running_stats=True)\n",
       "      (conv2): Conv2d(256, 256, kernel_size=(3, 3), stride=(1, 1), padding=(1, 1), bias=False)\n",
       "      (bn2): BatchNorm2d(256, eps=1e-05, momentum=0.1, affine=True, track_running_stats=True)\n",
       "      (conv3): Conv2d(256, 1024, kernel_size=(1, 1), stride=(1, 1), bias=False)\n",
       "      (bn3): BatchNorm2d(1024, eps=1e-05, momentum=0.1, affine=True, track_running_stats=True)\n",
       "      (relu): ReLU(inplace=True)\n",
       "      (shortcut): Sequential()\n",
       "    )\n",
       "    (2): Bottleneck(\n",
       "      (conv1): Conv2d(1024, 256, kernel_size=(1, 1), stride=(1, 1), bias=False)\n",
       "      (bn1): BatchNorm2d(256, eps=1e-05, momentum=0.1, affine=True, track_running_stats=True)\n",
       "      (conv2): Conv2d(256, 256, kernel_size=(3, 3), stride=(1, 1), padding=(1, 1), bias=False)\n",
       "      (bn2): BatchNorm2d(256, eps=1e-05, momentum=0.1, affine=True, track_running_stats=True)\n",
       "      (conv3): Conv2d(256, 1024, kernel_size=(1, 1), stride=(1, 1), bias=False)\n",
       "      (bn3): BatchNorm2d(1024, eps=1e-05, momentum=0.1, affine=True, track_running_stats=True)\n",
       "      (relu): ReLU(inplace=True)\n",
       "      (shortcut): Sequential()\n",
       "    )\n",
       "    (3): Bottleneck(\n",
       "      (conv1): Conv2d(1024, 256, kernel_size=(1, 1), stride=(1, 1), bias=False)\n",
       "      (bn1): BatchNorm2d(256, eps=1e-05, momentum=0.1, affine=True, track_running_stats=True)\n",
       "      (conv2): Conv2d(256, 256, kernel_size=(3, 3), stride=(1, 1), padding=(1, 1), bias=False)\n",
       "      (bn2): BatchNorm2d(256, eps=1e-05, momentum=0.1, affine=True, track_running_stats=True)\n",
       "      (conv3): Conv2d(256, 1024, kernel_size=(1, 1), stride=(1, 1), bias=False)\n",
       "      (bn3): BatchNorm2d(1024, eps=1e-05, momentum=0.1, affine=True, track_running_stats=True)\n",
       "      (relu): ReLU(inplace=True)\n",
       "      (shortcut): Sequential()\n",
       "    )\n",
       "    (4): Bottleneck(\n",
       "      (conv1): Conv2d(1024, 256, kernel_size=(1, 1), stride=(1, 1), bias=False)\n",
       "      (bn1): BatchNorm2d(256, eps=1e-05, momentum=0.1, affine=True, track_running_stats=True)\n",
       "      (conv2): Conv2d(256, 256, kernel_size=(3, 3), stride=(1, 1), padding=(1, 1), bias=False)\n",
       "      (bn2): BatchNorm2d(256, eps=1e-05, momentum=0.1, affine=True, track_running_stats=True)\n",
       "      (conv3): Conv2d(256, 1024, kernel_size=(1, 1), stride=(1, 1), bias=False)\n",
       "      (bn3): BatchNorm2d(1024, eps=1e-05, momentum=0.1, affine=True, track_running_stats=True)\n",
       "      (relu): ReLU(inplace=True)\n",
       "      (shortcut): Sequential()\n",
       "    )\n",
       "    (5): Bottleneck(\n",
       "      (conv1): Conv2d(1024, 256, kernel_size=(1, 1), stride=(1, 1), bias=False)\n",
       "      (bn1): BatchNorm2d(256, eps=1e-05, momentum=0.1, affine=True, track_running_stats=True)\n",
       "      (conv2): Conv2d(256, 256, kernel_size=(3, 3), stride=(1, 1), padding=(1, 1), bias=False)\n",
       "      (bn2): BatchNorm2d(256, eps=1e-05, momentum=0.1, affine=True, track_running_stats=True)\n",
       "      (conv3): Conv2d(256, 1024, kernel_size=(1, 1), stride=(1, 1), bias=False)\n",
       "      (bn3): BatchNorm2d(1024, eps=1e-05, momentum=0.1, affine=True, track_running_stats=True)\n",
       "      (relu): ReLU(inplace=True)\n",
       "      (shortcut): Sequential()\n",
       "    )\n",
       "  )\n",
       "  (layer4): Sequential(\n",
       "    (0): Bottleneck(\n",
       "      (conv1): Conv2d(1024, 512, kernel_size=(1, 1), stride=(1, 1), bias=False)\n",
       "      (bn1): BatchNorm2d(512, eps=1e-05, momentum=0.1, affine=True, track_running_stats=True)\n",
       "      (conv2): Conv2d(512, 512, kernel_size=(3, 3), stride=(2, 2), padding=(1, 1), bias=False)\n",
       "      (bn2): BatchNorm2d(512, eps=1e-05, momentum=0.1, affine=True, track_running_stats=True)\n",
       "      (conv3): Conv2d(512, 2048, kernel_size=(1, 1), stride=(1, 1), bias=False)\n",
       "      (bn3): BatchNorm2d(2048, eps=1e-05, momentum=0.1, affine=True, track_running_stats=True)\n",
       "      (relu): ReLU(inplace=True)\n",
       "      (shortcut): Sequential(\n",
       "        (0): Conv2d(1024, 2048, kernel_size=(1, 1), stride=(2, 2), bias=False)\n",
       "        (1): BatchNorm2d(2048, eps=1e-05, momentum=0.1, affine=True, track_running_stats=True)\n",
       "      )\n",
       "    )\n",
       "    (1): Bottleneck(\n",
       "      (conv1): Conv2d(2048, 512, kernel_size=(1, 1), stride=(1, 1), bias=False)\n",
       "      (bn1): BatchNorm2d(512, eps=1e-05, momentum=0.1, affine=True, track_running_stats=True)\n",
       "      (conv2): Conv2d(512, 512, kernel_size=(3, 3), stride=(1, 1), padding=(1, 1), bias=False)\n",
       "      (bn2): BatchNorm2d(512, eps=1e-05, momentum=0.1, affine=True, track_running_stats=True)\n",
       "      (conv3): Conv2d(512, 2048, kernel_size=(1, 1), stride=(1, 1), bias=False)\n",
       "      (bn3): BatchNorm2d(2048, eps=1e-05, momentum=0.1, affine=True, track_running_stats=True)\n",
       "      (relu): ReLU(inplace=True)\n",
       "      (shortcut): Sequential()\n",
       "    )\n",
       "    (2): Bottleneck(\n",
       "      (conv1): Conv2d(2048, 512, kernel_size=(1, 1), stride=(1, 1), bias=False)\n",
       "      (bn1): BatchNorm2d(512, eps=1e-05, momentum=0.1, affine=True, track_running_stats=True)\n",
       "      (conv2): Conv2d(512, 512, kernel_size=(3, 3), stride=(1, 1), padding=(1, 1), bias=False)\n",
       "      (bn2): BatchNorm2d(512, eps=1e-05, momentum=0.1, affine=True, track_running_stats=True)\n",
       "      (conv3): Conv2d(512, 2048, kernel_size=(1, 1), stride=(1, 1), bias=False)\n",
       "      (bn3): BatchNorm2d(2048, eps=1e-05, momentum=0.1, affine=True, track_running_stats=True)\n",
       "      (relu): ReLU(inplace=True)\n",
       "      (shortcut): Sequential()\n",
       "    )\n",
       "  )\n",
       "  (avgpool): AdaptiveAvgPool2d(output_size=(1, 1))\n",
       ")"
      ]
     },
     "execution_count": 18,
     "metadata": {},
     "output_type": "execute_result"
    }
   ],
   "source": [
    "model"
   ]
  },
  {
   "cell_type": "markdown",
   "id": "232f593e",
   "metadata": {},
   "source": [
    "# Settings"
   ]
  },
  {
   "cell_type": "code",
   "execution_count": 19,
   "id": "e8ed68ca",
   "metadata": {},
   "outputs": [],
   "source": [
    "criterion = nn.CrossEntropyLoss().to(device)\n",
    "best_val_top1_err = 100\n",
    "\n",
    "optimizer = torch.optim.SGD(model.parameters(), 0.005,\n",
    "                            momentum=0.9,\n",
    "                            weight_decay=0)\n",
    "\n",
    "scheduler = CosineAnnealingLR(optimizer, T_max = 25)"
   ]
  },
  {
   "cell_type": "markdown",
   "id": "7d9cad26",
   "metadata": {},
   "source": [
    "# Utils"
   ]
  },
  {
   "cell_type": "code",
   "execution_count": 20,
   "id": "a59e4eee",
   "metadata": {},
   "outputs": [],
   "source": [
    "def train(train_loader, model, criterion, optimizer, device, epoch, data_name = \"\"):\n",
    "    losses = []#AverageMeter('Loss', ':.4e')\n",
    "    top1 = []#AverageMeter('Acc@1', ':6.2f')\n",
    "    model.train()\n",
    "    # switch to train mode\n",
    "    for i, (x, label) in tqdm(enumerate(train_loader),desc = \"training...\"):\n",
    "        # measure data loading time\n",
    "        x = x.to(device)\n",
    "        label = label.to(device)\n",
    "\n",
    "        # compute output\n",
    "        output,_ = model(x,data_name)\n",
    "#         print(output\n",
    "        \n",
    "        loss = criterion(output, label)\n",
    "        preds = torch.argmax(output,dim=1)\n",
    "#         print(\"pred:\",preds)\n",
    "#         print(\"label:\",label)\n",
    "        # measure accuracy and record loss\n",
    "        acc1 = (torch.sum((preds==label)*1)/len(preds)).item()\n",
    "        losses.append(loss.item())\n",
    "        top1.append(acc1)\n",
    "\n",
    "        # compute gradient and do SGD step\n",
    "        loss.backward()\n",
    "        if i % 8 == 0:\n",
    "            optimizer.step()\n",
    "            optimizer.zero_grad()\n",
    "#     print(top1)\n",
    "#     print(losses)\n",
    "    return np.mean(top1),np.mean(losses)\n",
    "\n",
    "def eval(val_loader, model, criterion, device,data_name):\n",
    "    losses = []#AverageMeter('Loss', ':.4e')\n",
    "    top1 = []#AverageMeter('Acc@1', ':6.2f')\n",
    "    model.eval()\n",
    "    with torch.no_grad():\n",
    "        for i, (x, label) in enumerate(val_loader):\n",
    "            x = x.to(device)\n",
    "            label = label.to(device)\n",
    "            \n",
    "            \n",
    "            # compute output\n",
    "            output,_ = model(x,data_name)\n",
    "    #         print(output\n",
    "\n",
    "            loss = criterion(output, label)\n",
    "            preds = torch.argmax(output,dim=1)\n",
    "    #         print(\"pred:\",preds)\n",
    "    #         print(\"label:\",label)\n",
    "            # measure accuracy and record loss\n",
    "            acc1 = (torch.sum((preds==label)*1)/len(preds)).item()\n",
    "            losses.append(loss.item())\n",
    "            top1.append(acc1)\n",
    "\n",
    "    return np.mean(top1),np.mean(losses)\n"
   ]
  },
  {
   "cell_type": "markdown",
   "id": "4c19fdcb",
   "metadata": {},
   "source": [
    "# [ Train Sequentially in conventional CL setting]"
   ]
  },
  {
   "cell_type": "markdown",
   "id": "60375e99",
   "metadata": {},
   "source": [
    "# Train on Flowers data"
   ]
  },
  {
   "cell_type": "code",
   "execution_count": 21,
   "id": "5f3468b2",
   "metadata": {},
   "outputs": [],
   "source": [
    "for idx,param in enumerate(model.parameters()):\n",
    "    param.requires_grad = True"
   ]
  },
  {
   "cell_type": "code",
   "execution_count": 22,
   "id": "662a6b40",
   "metadata": {},
   "outputs": [
    {
     "name": "stdout",
     "output_type": "stream",
     "text": [
      "\n",
      "name: conv1.weight\n",
      "torch.Size([64, 3, 7, 7])\n",
      "\n",
      "name: bn1.weight\n",
      "torch.Size([64])\n",
      "\n",
      "name: bn1.bias\n",
      "torch.Size([64])\n",
      "\n",
      "name: bn1.running_mean\n",
      "torch.Size([64])\n",
      "\n",
      "name: bn1.running_var\n",
      "torch.Size([64])\n",
      "\n",
      "name: bn1.num_batches_tracked\n",
      "torch.Size([])\n",
      "\n",
      "name: layer1.0.conv1.weight\n",
      "torch.Size([64, 64, 1, 1])\n",
      "\n",
      "name: layer1.0.bn1.weight\n",
      "torch.Size([64])\n",
      "\n",
      "name: layer1.0.bn1.bias\n",
      "torch.Size([64])\n",
      "\n",
      "name: layer1.0.bn1.running_mean\n",
      "torch.Size([64])\n",
      "\n",
      "name: layer1.0.bn1.running_var\n",
      "torch.Size([64])\n",
      "\n",
      "name: layer1.0.bn1.num_batches_tracked\n",
      "torch.Size([])\n",
      "\n",
      "name: layer1.0.conv2.weight\n",
      "torch.Size([64, 64, 3, 3])\n",
      "\n",
      "name: layer1.0.bn2.weight\n",
      "torch.Size([64])\n",
      "\n",
      "name: layer1.0.bn2.bias\n",
      "torch.Size([64])\n",
      "\n",
      "name: layer1.0.bn2.running_mean\n",
      "torch.Size([64])\n",
      "\n",
      "name: layer1.0.bn2.running_var\n",
      "torch.Size([64])\n",
      "\n",
      "name: layer1.0.bn2.num_batches_tracked\n",
      "torch.Size([])\n",
      "\n",
      "name: layer1.0.conv3.weight\n",
      "torch.Size([256, 64, 1, 1])\n",
      "\n",
      "name: layer1.0.bn3.weight\n",
      "torch.Size([256])\n",
      "\n",
      "name: layer1.0.bn3.bias\n",
      "torch.Size([256])\n",
      "\n",
      "name: layer1.0.bn3.running_mean\n",
      "torch.Size([256])\n",
      "\n",
      "name: layer1.0.bn3.running_var\n",
      "torch.Size([256])\n",
      "\n",
      "name: layer1.0.bn3.num_batches_tracked\n",
      "torch.Size([])\n",
      "\n",
      "name: layer1.0.shortcut.0.weight\n",
      "torch.Size([256, 64, 1, 1])\n",
      "\n",
      "name: layer1.0.shortcut.1.weight\n",
      "torch.Size([256])\n",
      "\n",
      "name: layer1.0.shortcut.1.bias\n",
      "torch.Size([256])\n",
      "\n",
      "name: layer1.0.shortcut.1.running_mean\n",
      "torch.Size([256])\n",
      "\n",
      "name: layer1.0.shortcut.1.running_var\n",
      "torch.Size([256])\n",
      "\n",
      "name: layer1.0.shortcut.1.num_batches_tracked\n",
      "torch.Size([])\n",
      "\n",
      "name: layer1.1.conv1.weight\n",
      "torch.Size([64, 256, 1, 1])\n",
      "\n",
      "name: layer1.1.bn1.weight\n",
      "torch.Size([64])\n",
      "\n",
      "name: layer1.1.bn1.bias\n",
      "torch.Size([64])\n",
      "\n",
      "name: layer1.1.bn1.running_mean\n",
      "torch.Size([64])\n",
      "\n",
      "name: layer1.1.bn1.running_var\n",
      "torch.Size([64])\n",
      "\n",
      "name: layer1.1.bn1.num_batches_tracked\n",
      "torch.Size([])\n",
      "\n",
      "name: layer1.1.conv2.weight\n",
      "torch.Size([64, 64, 3, 3])\n",
      "\n",
      "name: layer1.1.bn2.weight\n",
      "torch.Size([64])\n",
      "\n",
      "name: layer1.1.bn2.bias\n",
      "torch.Size([64])\n",
      "\n",
      "name: layer1.1.bn2.running_mean\n",
      "torch.Size([64])\n",
      "\n",
      "name: layer1.1.bn2.running_var\n",
      "torch.Size([64])\n",
      "\n",
      "name: layer1.1.bn2.num_batches_tracked\n",
      "torch.Size([])\n",
      "\n",
      "name: layer1.1.conv3.weight\n",
      "torch.Size([256, 64, 1, 1])\n",
      "\n",
      "name: layer1.1.bn3.weight\n",
      "torch.Size([256])\n",
      "\n",
      "name: layer1.1.bn3.bias\n",
      "torch.Size([256])\n",
      "\n",
      "name: layer1.1.bn3.running_mean\n",
      "torch.Size([256])\n",
      "\n",
      "name: layer1.1.bn3.running_var\n",
      "torch.Size([256])\n",
      "\n",
      "name: layer1.1.bn3.num_batches_tracked\n",
      "torch.Size([])\n",
      "\n",
      "name: layer1.2.conv1.weight\n",
      "torch.Size([64, 256, 1, 1])\n",
      "\n",
      "name: layer1.2.bn1.weight\n",
      "torch.Size([64])\n",
      "\n",
      "name: layer1.2.bn1.bias\n",
      "torch.Size([64])\n",
      "\n",
      "name: layer1.2.bn1.running_mean\n",
      "torch.Size([64])\n",
      "\n",
      "name: layer1.2.bn1.running_var\n",
      "torch.Size([64])\n",
      "\n",
      "name: layer1.2.bn1.num_batches_tracked\n",
      "torch.Size([])\n",
      "\n",
      "name: layer1.2.conv2.weight\n",
      "torch.Size([64, 64, 3, 3])\n",
      "\n",
      "name: layer1.2.bn2.weight\n",
      "torch.Size([64])\n",
      "\n",
      "name: layer1.2.bn2.bias\n",
      "torch.Size([64])\n",
      "\n",
      "name: layer1.2.bn2.running_mean\n",
      "torch.Size([64])\n",
      "\n",
      "name: layer1.2.bn2.running_var\n",
      "torch.Size([64])\n",
      "\n",
      "name: layer1.2.bn2.num_batches_tracked\n",
      "torch.Size([])\n",
      "\n",
      "name: layer1.2.conv3.weight\n",
      "torch.Size([256, 64, 1, 1])\n",
      "\n",
      "name: layer1.2.bn3.weight\n",
      "torch.Size([256])\n",
      "\n",
      "name: layer1.2.bn3.bias\n",
      "torch.Size([256])\n",
      "\n",
      "name: layer1.2.bn3.running_mean\n",
      "torch.Size([256])\n",
      "\n",
      "name: layer1.2.bn3.running_var\n",
      "torch.Size([256])\n",
      "\n",
      "name: layer1.2.bn3.num_batches_tracked\n",
      "torch.Size([])\n",
      "\n",
      "name: layer2.0.conv1.weight\n",
      "torch.Size([128, 256, 1, 1])\n",
      "\n",
      "name: layer2.0.bn1.weight\n",
      "torch.Size([128])\n",
      "\n",
      "name: layer2.0.bn1.bias\n",
      "torch.Size([128])\n",
      "\n",
      "name: layer2.0.bn1.running_mean\n",
      "torch.Size([128])\n",
      "\n",
      "name: layer2.0.bn1.running_var\n",
      "torch.Size([128])\n",
      "\n",
      "name: layer2.0.bn1.num_batches_tracked\n",
      "torch.Size([])\n",
      "\n",
      "name: layer2.0.conv2.weight\n",
      "torch.Size([128, 128, 3, 3])\n",
      "\n",
      "name: layer2.0.bn2.weight\n",
      "torch.Size([128])\n",
      "\n",
      "name: layer2.0.bn2.bias\n",
      "torch.Size([128])\n",
      "\n",
      "name: layer2.0.bn2.running_mean\n",
      "torch.Size([128])\n",
      "\n",
      "name: layer2.0.bn2.running_var\n",
      "torch.Size([128])\n",
      "\n",
      "name: layer2.0.bn2.num_batches_tracked\n",
      "torch.Size([])\n",
      "\n",
      "name: layer2.0.conv3.weight\n",
      "torch.Size([512, 128, 1, 1])\n",
      "\n",
      "name: layer2.0.bn3.weight\n",
      "torch.Size([512])\n",
      "\n",
      "name: layer2.0.bn3.bias\n",
      "torch.Size([512])\n",
      "\n",
      "name: layer2.0.bn3.running_mean\n",
      "torch.Size([512])\n",
      "\n",
      "name: layer2.0.bn3.running_var\n",
      "torch.Size([512])\n",
      "\n",
      "name: layer2.0.bn3.num_batches_tracked\n",
      "torch.Size([])\n",
      "\n",
      "name: layer2.0.shortcut.0.weight\n",
      "torch.Size([512, 256, 1, 1])\n",
      "\n",
      "name: layer2.0.shortcut.1.weight\n",
      "torch.Size([512])\n",
      "\n",
      "name: layer2.0.shortcut.1.bias\n",
      "torch.Size([512])\n",
      "\n",
      "name: layer2.0.shortcut.1.running_mean\n",
      "torch.Size([512])\n",
      "\n",
      "name: layer2.0.shortcut.1.running_var\n",
      "torch.Size([512])\n",
      "\n",
      "name: layer2.0.shortcut.1.num_batches_tracked\n",
      "torch.Size([])\n",
      "\n",
      "name: layer2.1.conv1.weight\n",
      "torch.Size([128, 512, 1, 1])\n",
      "\n",
      "name: layer2.1.bn1.weight\n",
      "torch.Size([128])\n",
      "\n",
      "name: layer2.1.bn1.bias\n",
      "torch.Size([128])\n",
      "\n",
      "name: layer2.1.bn1.running_mean\n",
      "torch.Size([128])\n",
      "\n",
      "name: layer2.1.bn1.running_var\n",
      "torch.Size([128])\n",
      "\n",
      "name: layer2.1.bn1.num_batches_tracked\n",
      "torch.Size([])\n",
      "\n",
      "name: layer2.1.conv2.weight\n",
      "torch.Size([128, 128, 3, 3])\n",
      "\n",
      "name: layer2.1.bn2.weight\n",
      "torch.Size([128])\n",
      "\n",
      "name: layer2.1.bn2.bias\n",
      "torch.Size([128])\n",
      "\n",
      "name: layer2.1.bn2.running_mean\n",
      "torch.Size([128])\n",
      "\n",
      "name: layer2.1.bn2.running_var\n",
      "torch.Size([128])\n",
      "\n",
      "name: layer2.1.bn2.num_batches_tracked\n",
      "torch.Size([])\n",
      "\n",
      "name: layer2.1.conv3.weight\n",
      "torch.Size([512, 128, 1, 1])\n",
      "\n",
      "name: layer2.1.bn3.weight\n",
      "torch.Size([512])\n",
      "\n",
      "name: layer2.1.bn3.bias\n",
      "torch.Size([512])\n",
      "\n",
      "name: layer2.1.bn3.running_mean\n",
      "torch.Size([512])\n",
      "\n",
      "name: layer2.1.bn3.running_var\n",
      "torch.Size([512])\n",
      "\n",
      "name: layer2.1.bn3.num_batches_tracked\n",
      "torch.Size([])\n",
      "\n",
      "name: layer2.2.conv1.weight\n",
      "torch.Size([128, 512, 1, 1])\n",
      "\n",
      "name: layer2.2.bn1.weight\n",
      "torch.Size([128])\n",
      "\n",
      "name: layer2.2.bn1.bias\n",
      "torch.Size([128])\n",
      "\n",
      "name: layer2.2.bn1.running_mean\n",
      "torch.Size([128])\n",
      "\n",
      "name: layer2.2.bn1.running_var\n",
      "torch.Size([128])\n",
      "\n",
      "name: layer2.2.bn1.num_batches_tracked\n",
      "torch.Size([])\n",
      "\n",
      "name: layer2.2.conv2.weight\n",
      "torch.Size([128, 128, 3, 3])\n",
      "\n",
      "name: layer2.2.bn2.weight\n",
      "torch.Size([128])\n",
      "\n",
      "name: layer2.2.bn2.bias\n",
      "torch.Size([128])\n",
      "\n",
      "name: layer2.2.bn2.running_mean\n",
      "torch.Size([128])\n",
      "\n",
      "name: layer2.2.bn2.running_var\n",
      "torch.Size([128])\n",
      "\n",
      "name: layer2.2.bn2.num_batches_tracked\n",
      "torch.Size([])\n",
      "\n",
      "name: layer2.2.conv3.weight\n",
      "torch.Size([512, 128, 1, 1])\n",
      "\n",
      "name: layer2.2.bn3.weight\n",
      "torch.Size([512])\n",
      "\n",
      "name: layer2.2.bn3.bias\n",
      "torch.Size([512])\n",
      "\n",
      "name: layer2.2.bn3.running_mean\n",
      "torch.Size([512])\n",
      "\n",
      "name: layer2.2.bn3.running_var\n",
      "torch.Size([512])\n",
      "\n",
      "name: layer2.2.bn3.num_batches_tracked\n",
      "torch.Size([])\n",
      "\n",
      "name: layer2.3.conv1.weight\n",
      "torch.Size([128, 512, 1, 1])\n",
      "\n",
      "name: layer2.3.bn1.weight\n",
      "torch.Size([128])\n",
      "\n",
      "name: layer2.3.bn1.bias\n",
      "torch.Size([128])\n",
      "\n",
      "name: layer2.3.bn1.running_mean\n",
      "torch.Size([128])\n",
      "\n",
      "name: layer2.3.bn1.running_var\n",
      "torch.Size([128])\n",
      "\n",
      "name: layer2.3.bn1.num_batches_tracked\n",
      "torch.Size([])\n",
      "\n",
      "name: layer2.3.conv2.weight\n",
      "torch.Size([128, 128, 3, 3])\n",
      "\n",
      "name: layer2.3.bn2.weight\n",
      "torch.Size([128])\n",
      "\n",
      "name: layer2.3.bn2.bias\n",
      "torch.Size([128])\n",
      "\n",
      "name: layer2.3.bn2.running_mean\n",
      "torch.Size([128])\n",
      "\n",
      "name: layer2.3.bn2.running_var\n",
      "torch.Size([128])\n",
      "\n",
      "name: layer2.3.bn2.num_batches_tracked\n",
      "torch.Size([])\n",
      "\n",
      "name: layer2.3.conv3.weight\n",
      "torch.Size([512, 128, 1, 1])\n",
      "\n",
      "name: layer2.3.bn3.weight\n",
      "torch.Size([512])\n",
      "\n",
      "name: layer2.3.bn3.bias\n",
      "torch.Size([512])\n",
      "\n",
      "name: layer2.3.bn3.running_mean\n",
      "torch.Size([512])\n",
      "\n",
      "name: layer2.3.bn3.running_var\n",
      "torch.Size([512])\n",
      "\n",
      "name: layer2.3.bn3.num_batches_tracked\n",
      "torch.Size([])\n",
      "\n",
      "name: layer3.0.conv1.weight\n",
      "torch.Size([256, 512, 1, 1])\n",
      "\n",
      "name: layer3.0.bn1.weight\n",
      "torch.Size([256])\n",
      "\n",
      "name: layer3.0.bn1.bias\n",
      "torch.Size([256])\n",
      "\n",
      "name: layer3.0.bn1.running_mean\n",
      "torch.Size([256])\n",
      "\n",
      "name: layer3.0.bn1.running_var\n",
      "torch.Size([256])\n",
      "\n",
      "name: layer3.0.bn1.num_batches_tracked\n",
      "torch.Size([])\n",
      "\n",
      "name: layer3.0.conv2.weight\n",
      "torch.Size([256, 256, 3, 3])\n",
      "\n",
      "name: layer3.0.bn2.weight\n",
      "torch.Size([256])\n",
      "\n",
      "name: layer3.0.bn2.bias\n",
      "torch.Size([256])\n",
      "\n",
      "name: layer3.0.bn2.running_mean\n",
      "torch.Size([256])\n",
      "\n",
      "name: layer3.0.bn2.running_var\n",
      "torch.Size([256])\n",
      "\n",
      "name: layer3.0.bn2.num_batches_tracked\n",
      "torch.Size([])\n",
      "\n",
      "name: layer3.0.conv3.weight\n",
      "torch.Size([1024, 256, 1, 1])\n",
      "\n",
      "name: layer3.0.bn3.weight\n",
      "torch.Size([1024])\n",
      "\n",
      "name: layer3.0.bn3.bias\n",
      "torch.Size([1024])\n",
      "\n",
      "name: layer3.0.bn3.running_mean\n",
      "torch.Size([1024])\n",
      "\n",
      "name: layer3.0.bn3.running_var\n",
      "torch.Size([1024])\n",
      "\n",
      "name: layer3.0.bn3.num_batches_tracked\n",
      "torch.Size([])\n",
      "\n",
      "name: layer3.0.shortcut.0.weight\n",
      "torch.Size([1024, 512, 1, 1])\n",
      "\n",
      "name: layer3.0.shortcut.1.weight\n",
      "torch.Size([1024])\n",
      "\n",
      "name: layer3.0.shortcut.1.bias\n",
      "torch.Size([1024])\n",
      "\n",
      "name: layer3.0.shortcut.1.running_mean\n",
      "torch.Size([1024])\n",
      "\n",
      "name: layer3.0.shortcut.1.running_var\n",
      "torch.Size([1024])\n",
      "\n",
      "name: layer3.0.shortcut.1.num_batches_tracked\n",
      "torch.Size([])\n",
      "\n",
      "name: layer3.1.conv1.weight\n",
      "torch.Size([256, 1024, 1, 1])\n",
      "\n",
      "name: layer3.1.bn1.weight\n",
      "torch.Size([256])\n",
      "\n",
      "name: layer3.1.bn1.bias\n",
      "torch.Size([256])\n",
      "\n",
      "name: layer3.1.bn1.running_mean\n",
      "torch.Size([256])\n",
      "\n",
      "name: layer3.1.bn1.running_var\n",
      "torch.Size([256])\n",
      "\n",
      "name: layer3.1.bn1.num_batches_tracked\n",
      "torch.Size([])\n",
      "\n",
      "name: layer3.1.conv2.weight\n",
      "torch.Size([256, 256, 3, 3])\n",
      "\n",
      "name: layer3.1.bn2.weight\n",
      "torch.Size([256])\n",
      "\n",
      "name: layer3.1.bn2.bias\n",
      "torch.Size([256])\n",
      "\n",
      "name: layer3.1.bn2.running_mean\n",
      "torch.Size([256])\n",
      "\n",
      "name: layer3.1.bn2.running_var\n",
      "torch.Size([256])\n",
      "\n",
      "name: layer3.1.bn2.num_batches_tracked\n",
      "torch.Size([])\n",
      "\n",
      "name: layer3.1.conv3.weight\n",
      "torch.Size([1024, 256, 1, 1])\n",
      "\n",
      "name: layer3.1.bn3.weight\n",
      "torch.Size([1024])\n",
      "\n",
      "name: layer3.1.bn3.bias\n",
      "torch.Size([1024])\n",
      "\n",
      "name: layer3.1.bn3.running_mean\n",
      "torch.Size([1024])\n",
      "\n",
      "name: layer3.1.bn3.running_var\n",
      "torch.Size([1024])\n",
      "\n",
      "name: layer3.1.bn3.num_batches_tracked\n",
      "torch.Size([])\n",
      "\n",
      "name: layer3.2.conv1.weight\n",
      "torch.Size([256, 1024, 1, 1])\n",
      "\n",
      "name: layer3.2.bn1.weight\n",
      "torch.Size([256])\n",
      "\n",
      "name: layer3.2.bn1.bias\n",
      "torch.Size([256])\n",
      "\n",
      "name: layer3.2.bn1.running_mean\n",
      "torch.Size([256])\n",
      "\n",
      "name: layer3.2.bn1.running_var\n",
      "torch.Size([256])\n",
      "\n",
      "name: layer3.2.bn1.num_batches_tracked\n",
      "torch.Size([])\n",
      "\n",
      "name: layer3.2.conv2.weight\n",
      "torch.Size([256, 256, 3, 3])\n",
      "\n",
      "name: layer3.2.bn2.weight\n",
      "torch.Size([256])\n",
      "\n",
      "name: layer3.2.bn2.bias\n",
      "torch.Size([256])\n",
      "\n",
      "name: layer3.2.bn2.running_mean\n",
      "torch.Size([256])\n",
      "\n",
      "name: layer3.2.bn2.running_var\n",
      "torch.Size([256])\n",
      "\n",
      "name: layer3.2.bn2.num_batches_tracked\n",
      "torch.Size([])\n",
      "\n",
      "name: layer3.2.conv3.weight\n",
      "torch.Size([1024, 256, 1, 1])\n",
      "\n",
      "name: layer3.2.bn3.weight\n",
      "torch.Size([1024])\n",
      "\n",
      "name: layer3.2.bn3.bias\n",
      "torch.Size([1024])\n",
      "\n",
      "name: layer3.2.bn3.running_mean\n",
      "torch.Size([1024])\n",
      "\n",
      "name: layer3.2.bn3.running_var\n",
      "torch.Size([1024])\n",
      "\n",
      "name: layer3.2.bn3.num_batches_tracked\n",
      "torch.Size([])\n",
      "\n",
      "name: layer3.3.conv1.weight\n",
      "torch.Size([256, 1024, 1, 1])\n",
      "\n",
      "name: layer3.3.bn1.weight\n",
      "torch.Size([256])\n",
      "\n",
      "name: layer3.3.bn1.bias\n",
      "torch.Size([256])\n",
      "\n",
      "name: layer3.3.bn1.running_mean\n",
      "torch.Size([256])\n",
      "\n",
      "name: layer3.3.bn1.running_var\n",
      "torch.Size([256])\n",
      "\n",
      "name: layer3.3.bn1.num_batches_tracked\n",
      "torch.Size([])\n",
      "\n",
      "name: layer3.3.conv2.weight\n",
      "torch.Size([256, 256, 3, 3])\n",
      "\n",
      "name: layer3.3.bn2.weight\n",
      "torch.Size([256])\n",
      "\n",
      "name: layer3.3.bn2.bias\n",
      "torch.Size([256])\n",
      "\n",
      "name: layer3.3.bn2.running_mean\n",
      "torch.Size([256])\n",
      "\n",
      "name: layer3.3.bn2.running_var\n",
      "torch.Size([256])\n",
      "\n",
      "name: layer3.3.bn2.num_batches_tracked\n",
      "torch.Size([])\n",
      "\n",
      "name: layer3.3.conv3.weight\n",
      "torch.Size([1024, 256, 1, 1])\n",
      "\n",
      "name: layer3.3.bn3.weight\n",
      "torch.Size([1024])\n",
      "\n",
      "name: layer3.3.bn3.bias\n",
      "torch.Size([1024])\n",
      "\n",
      "name: layer3.3.bn3.running_mean\n",
      "torch.Size([1024])\n",
      "\n",
      "name: layer3.3.bn3.running_var\n",
      "torch.Size([1024])\n",
      "\n",
      "name: layer3.3.bn3.num_batches_tracked\n",
      "torch.Size([])\n",
      "\n",
      "name: layer3.4.conv1.weight\n",
      "torch.Size([256, 1024, 1, 1])\n",
      "\n",
      "name: layer3.4.bn1.weight\n",
      "torch.Size([256])\n",
      "\n",
      "name: layer3.4.bn1.bias\n",
      "torch.Size([256])\n",
      "\n",
      "name: layer3.4.bn1.running_mean\n",
      "torch.Size([256])\n",
      "\n",
      "name: layer3.4.bn1.running_var\n",
      "torch.Size([256])\n",
      "\n",
      "name: layer3.4.bn1.num_batches_tracked\n",
      "torch.Size([])\n",
      "\n",
      "name: layer3.4.conv2.weight\n",
      "torch.Size([256, 256, 3, 3])\n",
      "\n",
      "name: layer3.4.bn2.weight\n",
      "torch.Size([256])\n",
      "\n",
      "name: layer3.4.bn2.bias\n",
      "torch.Size([256])\n",
      "\n",
      "name: layer3.4.bn2.running_mean\n",
      "torch.Size([256])\n",
      "\n",
      "name: layer3.4.bn2.running_var\n",
      "torch.Size([256])\n",
      "\n",
      "name: layer3.4.bn2.num_batches_tracked\n",
      "torch.Size([])\n",
      "\n",
      "name: layer3.4.conv3.weight\n",
      "torch.Size([1024, 256, 1, 1])\n",
      "\n",
      "name: layer3.4.bn3.weight\n",
      "torch.Size([1024])\n",
      "\n",
      "name: layer3.4.bn3.bias\n",
      "torch.Size([1024])\n",
      "\n",
      "name: layer3.4.bn3.running_mean\n",
      "torch.Size([1024])\n",
      "\n",
      "name: layer3.4.bn3.running_var\n",
      "torch.Size([1024])\n",
      "\n",
      "name: layer3.4.bn3.num_batches_tracked\n",
      "torch.Size([])\n",
      "\n",
      "name: layer3.5.conv1.weight\n",
      "torch.Size([256, 1024, 1, 1])\n",
      "\n",
      "name: layer3.5.bn1.weight\n",
      "torch.Size([256])\n",
      "\n",
      "name: layer3.5.bn1.bias\n",
      "torch.Size([256])\n",
      "\n",
      "name: layer3.5.bn1.running_mean\n",
      "torch.Size([256])\n",
      "\n",
      "name: layer3.5.bn1.running_var\n",
      "torch.Size([256])\n",
      "\n",
      "name: layer3.5.bn1.num_batches_tracked\n",
      "torch.Size([])\n",
      "\n",
      "name: layer3.5.conv2.weight\n",
      "torch.Size([256, 256, 3, 3])\n",
      "\n",
      "name: layer3.5.bn2.weight\n",
      "torch.Size([256])\n",
      "\n",
      "name: layer3.5.bn2.bias\n",
      "torch.Size([256])\n",
      "\n",
      "name: layer3.5.bn2.running_mean\n",
      "torch.Size([256])\n",
      "\n",
      "name: layer3.5.bn2.running_var\n",
      "torch.Size([256])\n",
      "\n",
      "name: layer3.5.bn2.num_batches_tracked\n",
      "torch.Size([])\n",
      "\n",
      "name: layer3.5.conv3.weight\n",
      "torch.Size([1024, 256, 1, 1])\n",
      "\n",
      "name: layer3.5.bn3.weight\n",
      "torch.Size([1024])\n",
      "\n",
      "name: layer3.5.bn3.bias\n",
      "torch.Size([1024])\n",
      "\n",
      "name: layer3.5.bn3.running_mean\n",
      "torch.Size([1024])\n",
      "\n",
      "name: layer3.5.bn3.running_var\n",
      "torch.Size([1024])\n",
      "\n",
      "name: layer3.5.bn3.num_batches_tracked\n",
      "torch.Size([])\n",
      "\n",
      "name: layer4.0.conv1.weight\n",
      "torch.Size([512, 1024, 1, 1])\n",
      "\n",
      "name: layer4.0.bn1.weight\n",
      "torch.Size([512])\n",
      "\n",
      "name: layer4.0.bn1.bias\n",
      "torch.Size([512])\n",
      "\n",
      "name: layer4.0.bn1.running_mean\n",
      "torch.Size([512])\n",
      "\n",
      "name: layer4.0.bn1.running_var\n",
      "torch.Size([512])\n",
      "\n",
      "name: layer4.0.bn1.num_batches_tracked\n",
      "torch.Size([])\n",
      "\n",
      "name: layer4.0.conv2.weight\n",
      "torch.Size([512, 512, 3, 3])\n",
      "\n",
      "name: layer4.0.bn2.weight\n",
      "torch.Size([512])\n",
      "\n",
      "name: layer4.0.bn2.bias\n",
      "torch.Size([512])\n",
      "\n",
      "name: layer4.0.bn2.running_mean\n",
      "torch.Size([512])\n",
      "\n",
      "name: layer4.0.bn2.running_var\n",
      "torch.Size([512])\n",
      "\n",
      "name: layer4.0.bn2.num_batches_tracked\n",
      "torch.Size([])\n",
      "\n",
      "name: layer4.0.conv3.weight\n",
      "torch.Size([2048, 512, 1, 1])\n",
      "\n",
      "name: layer4.0.bn3.weight\n",
      "torch.Size([2048])\n",
      "\n",
      "name: layer4.0.bn3.bias\n",
      "torch.Size([2048])\n",
      "\n",
      "name: layer4.0.bn3.running_mean\n",
      "torch.Size([2048])\n",
      "\n",
      "name: layer4.0.bn3.running_var\n",
      "torch.Size([2048])\n",
      "\n",
      "name: layer4.0.bn3.num_batches_tracked\n",
      "torch.Size([])\n",
      "\n",
      "name: layer4.0.shortcut.0.weight\n",
      "torch.Size([2048, 1024, 1, 1])\n",
      "\n",
      "name: layer4.0.shortcut.1.weight\n",
      "torch.Size([2048])\n",
      "\n",
      "name: layer4.0.shortcut.1.bias\n",
      "torch.Size([2048])\n",
      "\n",
      "name: layer4.0.shortcut.1.running_mean\n",
      "torch.Size([2048])\n",
      "\n",
      "name: layer4.0.shortcut.1.running_var\n",
      "torch.Size([2048])\n",
      "\n",
      "name: layer4.0.shortcut.1.num_batches_tracked\n",
      "torch.Size([])\n",
      "\n",
      "name: layer4.1.conv1.weight\n",
      "torch.Size([512, 2048, 1, 1])\n",
      "\n",
      "name: layer4.1.bn1.weight\n",
      "torch.Size([512])\n",
      "\n",
      "name: layer4.1.bn1.bias\n",
      "torch.Size([512])\n",
      "\n",
      "name: layer4.1.bn1.running_mean\n",
      "torch.Size([512])\n",
      "\n",
      "name: layer4.1.bn1.running_var\n",
      "torch.Size([512])\n",
      "\n",
      "name: layer4.1.bn1.num_batches_tracked\n",
      "torch.Size([])\n",
      "\n",
      "name: layer4.1.conv2.weight\n",
      "torch.Size([512, 512, 3, 3])\n",
      "\n",
      "name: layer4.1.bn2.weight\n",
      "torch.Size([512])\n",
      "\n",
      "name: layer4.1.bn2.bias\n",
      "torch.Size([512])\n",
      "\n",
      "name: layer4.1.bn2.running_mean\n",
      "torch.Size([512])\n",
      "\n",
      "name: layer4.1.bn2.running_var\n",
      "torch.Size([512])\n",
      "\n",
      "name: layer4.1.bn2.num_batches_tracked\n",
      "torch.Size([])\n",
      "\n",
      "name: layer4.1.conv3.weight\n",
      "torch.Size([2048, 512, 1, 1])\n",
      "\n",
      "name: layer4.1.bn3.weight\n",
      "torch.Size([2048])\n",
      "\n",
      "name: layer4.1.bn3.bias\n",
      "torch.Size([2048])\n",
      "\n",
      "name: layer4.1.bn3.running_mean\n",
      "torch.Size([2048])\n",
      "\n",
      "name: layer4.1.bn3.running_var\n",
      "torch.Size([2048])\n",
      "\n",
      "name: layer4.1.bn3.num_batches_tracked\n",
      "torch.Size([])\n",
      "\n",
      "name: layer4.2.conv1.weight\n",
      "torch.Size([512, 2048, 1, 1])\n",
      "\n",
      "name: layer4.2.bn1.weight\n",
      "torch.Size([512])\n",
      "\n",
      "name: layer4.2.bn1.bias\n",
      "torch.Size([512])\n",
      "\n",
      "name: layer4.2.bn1.running_mean\n",
      "torch.Size([512])\n",
      "\n",
      "name: layer4.2.bn1.running_var\n",
      "torch.Size([512])\n",
      "\n",
      "name: layer4.2.bn1.num_batches_tracked\n",
      "torch.Size([])\n",
      "\n",
      "name: layer4.2.conv2.weight\n",
      "torch.Size([512, 512, 3, 3])\n",
      "\n",
      "name: layer4.2.bn2.weight\n",
      "torch.Size([512])\n",
      "\n",
      "name: layer4.2.bn2.bias\n",
      "torch.Size([512])\n",
      "\n",
      "name: layer4.2.bn2.running_mean\n",
      "torch.Size([512])\n",
      "\n",
      "name: layer4.2.bn2.running_var\n",
      "torch.Size([512])\n",
      "\n",
      "name: layer4.2.bn2.num_batches_tracked\n",
      "torch.Size([])\n",
      "\n",
      "name: layer4.2.conv3.weight\n",
      "torch.Size([2048, 512, 1, 1])\n",
      "\n",
      "name: layer4.2.bn3.weight\n",
      "torch.Size([2048])\n",
      "\n",
      "name: layer4.2.bn3.bias\n",
      "torch.Size([2048])\n",
      "\n",
      "name: layer4.2.bn3.running_mean\n",
      "torch.Size([2048])\n",
      "\n",
      "name: layer4.2.bn3.running_var\n",
      "torch.Size([2048])\n",
      "\n",
      "name: layer4.2.bn3.num_batches_tracked\n",
      "torch.Size([])\n"
     ]
    }
   ],
   "source": [
    "for name,weight in model.state_dict().items():\n",
    "    print(\"\\nname:\",name)\n",
    "    print(weight.size())"
   ]
  },
  {
   "cell_type": "code",
   "execution_count": 23,
   "id": "5ebed4e9",
   "metadata": {},
   "outputs": [
    {
     "name": "stdout",
     "output_type": "stream",
     "text": [
      "/workspace/src/CH/SOTA\r\n"
     ]
    }
   ],
   "source": [
    "!pwd"
   ]
  },
  {
   "cell_type": "code",
   "execution_count": 24,
   "id": "1af87da8",
   "metadata": {},
   "outputs": [],
   "source": [
    "experiment_path = \"/workspace/src/CH/SOTA/wo_fixed_log/\""
   ]
  },
  {
   "cell_type": "code",
   "execution_count": 25,
   "id": "5de9bdb7",
   "metadata": {},
   "outputs": [
    {
     "data": {
      "text/plain": [
       "'flowers'"
      ]
     },
     "execution_count": 25,
     "metadata": {},
     "output_type": "execute_result"
    }
   ],
   "source": [
    "data_name"
   ]
  },
  {
   "cell_type": "code",
   "execution_count": 26,
   "id": "22d58b5c",
   "metadata": {
    "scrolled": true
   },
   "outputs": [
    {
     "name": "stdout",
     "output_type": "stream",
     "text": [
      "Data name: flowers\n"
     ]
    },
    {
     "data": {
      "application/json": {
       "ascii": false,
       "bar_format": null,
       "colour": null,
       "elapsed": 0.01011204719543457,
       "initial": 0,
       "n": 0,
       "ncols": null,
       "nrows": 19,
       "postfix": null,
       "prefix": "",
       "rate": null,
       "total": 31,
       "unit": "it",
       "unit_divisor": 1000,
       "unit_scale": false
      },
      "application/vnd.jupyter.widget-view+json": {
       "model_id": "f92c2c55f821474c9e1f499374c676cc",
       "version_major": 2,
       "version_minor": 0
      },
      "text/plain": [
       "  0%|          | 0/31 [00:00<?, ?it/s]"
      ]
     },
     "metadata": {},
     "output_type": "display_data"
    },
    {
     "data": {
      "application/json": {
       "ascii": false,
       "bar_format": null,
       "colour": null,
       "elapsed": 0.015479326248168945,
       "initial": 0,
       "n": 0,
       "ncols": null,
       "nrows": 19,
       "postfix": null,
       "prefix": "training...",
       "rate": null,
       "total": null,
       "unit": "it",
       "unit_divisor": 1000,
       "unit_scale": false
      },
      "application/vnd.jupyter.widget-view+json": {
       "model_id": "0d86dc6d89764c4d9c9d430d9cd7a2d1",
       "version_major": 2,
       "version_minor": 0
      },
      "text/plain": [
       "training...: 0it [00:00, ?it/s]"
      ]
     },
     "metadata": {},
     "output_type": "display_data"
    },
    {
     "name": "stdout",
     "output_type": "stream",
     "text": [
      "epoch: 0 skip validation (train acc: 0.03076171875)\n"
     ]
    },
    {
     "data": {
      "application/json": {
       "ascii": false,
       "bar_format": null,
       "colour": null,
       "elapsed": 0.01397395133972168,
       "initial": 0,
       "n": 0,
       "ncols": null,
       "nrows": 19,
       "postfix": null,
       "prefix": "training...",
       "rate": null,
       "total": null,
       "unit": "it",
       "unit_divisor": 1000,
       "unit_scale": false
      },
      "application/vnd.jupyter.widget-view+json": {
       "model_id": "959a5a0dbeb245279b7aed2e8444a1d2",
       "version_major": 2,
       "version_minor": 0
      },
      "text/plain": [
       "training...: 0it [00:00, ?it/s]"
      ]
     },
     "metadata": {},
     "output_type": "display_data"
    },
    {
     "name": "stdout",
     "output_type": "stream",
     "text": [
      "epoch: 1 skip validation (train acc: 0.3214518232271075)\n"
     ]
    },
    {
     "data": {
      "application/json": {
       "ascii": false,
       "bar_format": null,
       "colour": null,
       "elapsed": 0.011726617813110352,
       "initial": 0,
       "n": 0,
       "ncols": null,
       "nrows": 19,
       "postfix": null,
       "prefix": "training...",
       "rate": null,
       "total": null,
       "unit": "it",
       "unit_divisor": 1000,
       "unit_scale": false
      },
      "application/vnd.jupyter.widget-view+json": {
       "model_id": "fd57cb860a6a48fc869a66c71eca0c22",
       "version_major": 2,
       "version_minor": 0
      },
      "text/plain": [
       "training...: 0it [00:00, ?it/s]"
      ]
     },
     "metadata": {},
     "output_type": "display_data"
    },
    {
     "name": "stdout",
     "output_type": "stream",
     "text": [
      "epoch: 2 skip validation (train acc: 0.5641276044771075)\n"
     ]
    },
    {
     "data": {
      "application/json": {
       "ascii": false,
       "bar_format": null,
       "colour": null,
       "elapsed": 0.01157832145690918,
       "initial": 0,
       "n": 0,
       "ncols": null,
       "nrows": 19,
       "postfix": null,
       "prefix": "training...",
       "rate": null,
       "total": null,
       "unit": "it",
       "unit_divisor": 1000,
       "unit_scale": false
      },
      "application/vnd.jupyter.widget-view+json": {
       "model_id": "b7528c58c2b54d77a38ca603dab531c3",
       "version_major": 2,
       "version_minor": 0
      },
      "text/plain": [
       "training...: 0it [00:00, ?it/s]"
      ]
     },
     "metadata": {},
     "output_type": "display_data"
    },
    {
     "name": "stdout",
     "output_type": "stream",
     "text": [
      "epoch: 3 skip validation (train acc: 0.6627604169771075)\n"
     ]
    },
    {
     "data": {
      "application/json": {
       "ascii": false,
       "bar_format": null,
       "colour": null,
       "elapsed": 0.010393381118774414,
       "initial": 0,
       "n": 0,
       "ncols": null,
       "nrows": 19,
       "postfix": null,
       "prefix": "training...",
       "rate": null,
       "total": null,
       "unit": "it",
       "unit_divisor": 1000,
       "unit_scale": false
      },
      "application/vnd.jupyter.widget-view+json": {
       "model_id": "6050ad075b8044a0a3b02c2429a8081e",
       "version_major": 2,
       "version_minor": 0
      },
      "text/plain": [
       "training...: 0it [00:00, ?it/s]"
      ]
     },
     "metadata": {},
     "output_type": "display_data"
    },
    {
     "name": "stdout",
     "output_type": "stream",
     "text": [
      "epoch: 4 skip validation (train acc: 0.75439453125)\n"
     ]
    },
    {
     "data": {
      "application/json": {
       "ascii": false,
       "bar_format": null,
       "colour": null,
       "elapsed": 0.012878179550170898,
       "initial": 0,
       "n": 0,
       "ncols": null,
       "nrows": 19,
       "postfix": null,
       "prefix": "training...",
       "rate": null,
       "total": null,
       "unit": "it",
       "unit_divisor": 1000,
       "unit_scale": false
      },
      "application/vnd.jupyter.widget-view+json": {
       "model_id": "3bcf8220ac27408c9110b039d17bc57b",
       "version_major": 2,
       "version_minor": 0
      },
      "text/plain": [
       "training...: 0it [00:00, ?it/s]"
      ]
     },
     "metadata": {},
     "output_type": "display_data"
    },
    {
     "name": "stdout",
     "output_type": "stream",
     "text": [
      "epoch: 5 skip validation (train acc: 0.8173828125)\n"
     ]
    },
    {
     "data": {
      "application/json": {
       "ascii": false,
       "bar_format": null,
       "colour": null,
       "elapsed": 0.03787374496459961,
       "initial": 0,
       "n": 0,
       "ncols": null,
       "nrows": 19,
       "postfix": null,
       "prefix": "training...",
       "rate": null,
       "total": null,
       "unit": "it",
       "unit_divisor": 1000,
       "unit_scale": false
      },
      "application/vnd.jupyter.widget-view+json": {
       "model_id": "9ec48fb825644aed84d4a37fb19c7387",
       "version_major": 2,
       "version_minor": 0
      },
      "text/plain": [
       "training...: 0it [00:00, ?it/s]"
      ]
     },
     "metadata": {},
     "output_type": "display_data"
    },
    {
     "name": "stdout",
     "output_type": "stream",
     "text": [
      "epoch: 6 skip validation (train acc: 0.86181640625)\n"
     ]
    },
    {
     "data": {
      "application/json": {
       "ascii": false,
       "bar_format": null,
       "colour": null,
       "elapsed": 0.010794639587402344,
       "initial": 0,
       "n": 0,
       "ncols": null,
       "nrows": 19,
       "postfix": null,
       "prefix": "training...",
       "rate": null,
       "total": null,
       "unit": "it",
       "unit_divisor": 1000,
       "unit_scale": false
      },
      "application/vnd.jupyter.widget-view+json": {
       "model_id": "4e2366c9e3b24202b9e5c200cd64749b",
       "version_major": 2,
       "version_minor": 0
      },
      "text/plain": [
       "training...: 0it [00:00, ?it/s]"
      ]
     },
     "metadata": {},
     "output_type": "display_data"
    },
    {
     "name": "stdout",
     "output_type": "stream",
     "text": [
      "epoch: 7 skip validation (train acc: 0.904622396454215)\n"
     ]
    },
    {
     "data": {
      "application/json": {
       "ascii": false,
       "bar_format": null,
       "colour": null,
       "elapsed": 0.02137279510498047,
       "initial": 0,
       "n": 0,
       "ncols": null,
       "nrows": 19,
       "postfix": null,
       "prefix": "training...",
       "rate": null,
       "total": null,
       "unit": "it",
       "unit_divisor": 1000,
       "unit_scale": false
      },
      "application/vnd.jupyter.widget-view+json": {
       "model_id": "d9de8de71ae24766b7d6aca2c2f8c5b2",
       "version_major": 2,
       "version_minor": 0
      },
      "text/plain": [
       "training...: 0it [00:00, ?it/s]"
      ]
     },
     "metadata": {},
     "output_type": "display_data"
    },
    {
     "name": "stdout",
     "output_type": "stream",
     "text": [
      "epoch: 8 skip validation (train acc: 0.931640625)\n"
     ]
    },
    {
     "data": {
      "application/json": {
       "ascii": false,
       "bar_format": null,
       "colour": null,
       "elapsed": 0.014663219451904297,
       "initial": 0,
       "n": 0,
       "ncols": null,
       "nrows": 19,
       "postfix": null,
       "prefix": "training...",
       "rate": null,
       "total": null,
       "unit": "it",
       "unit_divisor": 1000,
       "unit_scale": false
      },
      "application/vnd.jupyter.widget-view+json": {
       "model_id": "965cb7741b4c47c9b23afe9c2fc26c36",
       "version_major": 2,
       "version_minor": 0
      },
      "text/plain": [
       "training...: 0it [00:00, ?it/s]"
      ]
     },
     "metadata": {},
     "output_type": "display_data"
    },
    {
     "name": "stdout",
     "output_type": "stream",
     "text": [
      "epoch: 9 skip validation (train acc: 0.94287109375)\n"
     ]
    },
    {
     "data": {
      "application/json": {
       "ascii": false,
       "bar_format": null,
       "colour": null,
       "elapsed": 0.010124444961547852,
       "initial": 0,
       "n": 0,
       "ncols": null,
       "nrows": 19,
       "postfix": null,
       "prefix": "training...",
       "rate": null,
       "total": null,
       "unit": "it",
       "unit_divisor": 1000,
       "unit_scale": false
      },
      "application/vnd.jupyter.widget-view+json": {
       "model_id": "f38a58bafe4d4a0592547e6c7bb3c002",
       "version_major": 2,
       "version_minor": 0
      },
      "text/plain": [
       "training...: 0it [00:00, ?it/s]"
      ]
     },
     "metadata": {},
     "output_type": "display_data"
    },
    {
     "name": "stdout",
     "output_type": "stream",
     "text": [
      "epoch: 10 skip validation (train acc: 0.956380208954215)\n"
     ]
    },
    {
     "data": {
      "application/json": {
       "ascii": false,
       "bar_format": null,
       "colour": null,
       "elapsed": 0.02373480796813965,
       "initial": 0,
       "n": 0,
       "ncols": null,
       "nrows": 19,
       "postfix": null,
       "prefix": "training...",
       "rate": null,
       "total": null,
       "unit": "it",
       "unit_divisor": 1000,
       "unit_scale": false
      },
      "application/vnd.jupyter.widget-view+json": {
       "model_id": "65b24370b32547c7a76a6586c6a428ed",
       "version_major": 2,
       "version_minor": 0
      },
      "text/plain": [
       "training...: 0it [00:00, ?it/s]"
      ]
     },
     "metadata": {},
     "output_type": "display_data"
    },
    {
     "name": "stdout",
     "output_type": "stream",
     "text": [
      "epoch: 11 skip validation (train acc: 0.9523111982271075)\n"
     ]
    },
    {
     "data": {
      "application/json": {
       "ascii": false,
       "bar_format": null,
       "colour": null,
       "elapsed": 0.02149653434753418,
       "initial": 0,
       "n": 0,
       "ncols": null,
       "nrows": 19,
       "postfix": null,
       "prefix": "training...",
       "rate": null,
       "total": null,
       "unit": "it",
       "unit_divisor": 1000,
       "unit_scale": false
      },
      "application/vnd.jupyter.widget-view+json": {
       "model_id": "277f1c27ef034181bb67db9794883bab",
       "version_major": 2,
       "version_minor": 0
      },
      "text/plain": [
       "training...: 0it [00:00, ?it/s]"
      ]
     },
     "metadata": {},
     "output_type": "display_data"
    },
    {
     "name": "stdout",
     "output_type": "stream",
     "text": [
      "epoch: 12 skip validation (train acc: 0.9482421875)\n"
     ]
    },
    {
     "data": {
      "application/json": {
       "ascii": false,
       "bar_format": null,
       "colour": null,
       "elapsed": 0.0160369873046875,
       "initial": 0,
       "n": 0,
       "ncols": null,
       "nrows": 19,
       "postfix": null,
       "prefix": "training...",
       "rate": null,
       "total": null,
       "unit": "it",
       "unit_divisor": 1000,
       "unit_scale": false
      },
      "application/vnd.jupyter.widget-view+json": {
       "model_id": "5e519f50ecd04caa8c7cb8bbc7039d1b",
       "version_major": 2,
       "version_minor": 0
      },
      "text/plain": [
       "training...: 0it [00:00, ?it/s]"
      ]
     },
     "metadata": {},
     "output_type": "display_data"
    },
    {
     "name": "stdout",
     "output_type": "stream",
     "text": [
      "epoch: 13 skip validation (train acc: 0.966634115204215)\n"
     ]
    },
    {
     "data": {
      "application/json": {
       "ascii": false,
       "bar_format": null,
       "colour": null,
       "elapsed": 0.01824808120727539,
       "initial": 0,
       "n": 0,
       "ncols": null,
       "nrows": 19,
       "postfix": null,
       "prefix": "training...",
       "rate": null,
       "total": null,
       "unit": "it",
       "unit_divisor": 1000,
       "unit_scale": false
      },
      "application/vnd.jupyter.widget-view+json": {
       "model_id": "0098804030d54baf92879cc51c9b68f0",
       "version_major": 2,
       "version_minor": 0
      },
      "text/plain": [
       "training...: 0it [00:00, ?it/s]"
      ]
     },
     "metadata": {},
     "output_type": "display_data"
    },
    {
     "name": "stdout",
     "output_type": "stream",
     "text": [
      "epoch: 14 skip validation (train acc: 0.966145833954215)\n"
     ]
    },
    {
     "data": {
      "application/json": {
       "ascii": false,
       "bar_format": null,
       "colour": null,
       "elapsed": 0.013015031814575195,
       "initial": 0,
       "n": 0,
       "ncols": null,
       "nrows": 19,
       "postfix": null,
       "prefix": "training...",
       "rate": null,
       "total": null,
       "unit": "it",
       "unit_divisor": 1000,
       "unit_scale": false
      },
      "application/vnd.jupyter.widget-view+json": {
       "model_id": "040de562b3cb49519f5c470da621dfc8",
       "version_major": 2,
       "version_minor": 0
      },
      "text/plain": [
       "training...: 0it [00:00, ?it/s]"
      ]
     },
     "metadata": {},
     "output_type": "display_data"
    },
    {
     "name": "stdout",
     "output_type": "stream",
     "text": [
      "epoch: 15 skip validation (train acc: 0.96240234375)\n"
     ]
    },
    {
     "data": {
      "application/json": {
       "ascii": false,
       "bar_format": null,
       "colour": null,
       "elapsed": 0.011427164077758789,
       "initial": 0,
       "n": 0,
       "ncols": null,
       "nrows": 19,
       "postfix": null,
       "prefix": "training...",
       "rate": null,
       "total": null,
       "unit": "it",
       "unit_divisor": 1000,
       "unit_scale": false
      },
      "application/vnd.jupyter.widget-view+json": {
       "model_id": "ff02c463b34d4260827eac1f13d34881",
       "version_major": 2,
       "version_minor": 0
      },
      "text/plain": [
       "training...: 0it [00:00, ?it/s]"
      ]
     },
     "metadata": {},
     "output_type": "display_data"
    },
    {
     "name": "stdout",
     "output_type": "stream",
     "text": [
      "epoch: 16 skip validation (train acc: 0.9698893232271075)\n"
     ]
    },
    {
     "data": {
      "application/json": {
       "ascii": false,
       "bar_format": null,
       "colour": null,
       "elapsed": 0.02116680145263672,
       "initial": 0,
       "n": 0,
       "ncols": null,
       "nrows": 19,
       "postfix": null,
       "prefix": "training...",
       "rate": null,
       "total": null,
       "unit": "it",
       "unit_divisor": 1000,
       "unit_scale": false
      },
      "application/vnd.jupyter.widget-view+json": {
       "model_id": "d1dc036c5728485d8f90ee3e5218d554",
       "version_major": 2,
       "version_minor": 0
      },
      "text/plain": [
       "training...: 0it [00:00, ?it/s]"
      ]
     },
     "metadata": {},
     "output_type": "display_data"
    },
    {
     "name": "stdout",
     "output_type": "stream",
     "text": [
      "epoch: 17 skip validation (train acc: 0.9677734375)\n"
     ]
    },
    {
     "data": {
      "application/json": {
       "ascii": false,
       "bar_format": null,
       "colour": null,
       "elapsed": 0.011194229125976562,
       "initial": 0,
       "n": 0,
       "ncols": null,
       "nrows": 19,
       "postfix": null,
       "prefix": "training...",
       "rate": null,
       "total": null,
       "unit": "it",
       "unit_divisor": 1000,
       "unit_scale": false
      },
      "application/vnd.jupyter.widget-view+json": {
       "model_id": "e4e080b2c3df4346ad0280bf9a25c0d7",
       "version_major": 2,
       "version_minor": 0
      },
      "text/plain": [
       "training...: 0it [00:00, ?it/s]"
      ]
     },
     "metadata": {},
     "output_type": "display_data"
    },
    {
     "name": "stdout",
     "output_type": "stream",
     "text": [
      "epoch: 18 skip validation (train acc: 0.9677734375)\n"
     ]
    },
    {
     "data": {
      "application/json": {
       "ascii": false,
       "bar_format": null,
       "colour": null,
       "elapsed": 0.018970966339111328,
       "initial": 0,
       "n": 0,
       "ncols": null,
       "nrows": 19,
       "postfix": null,
       "prefix": "training...",
       "rate": null,
       "total": null,
       "unit": "it",
       "unit_divisor": 1000,
       "unit_scale": false
      },
      "application/vnd.jupyter.widget-view+json": {
       "model_id": "10bb36c6a2564fb68a8960bed549798b",
       "version_major": 2,
       "version_minor": 0
      },
      "text/plain": [
       "training...: 0it [00:00, ?it/s]"
      ]
     },
     "metadata": {},
     "output_type": "display_data"
    },
    {
     "name": "stdout",
     "output_type": "stream",
     "text": [
      "epoch: 19 skip validation (train acc: 0.968587240204215)\n"
     ]
    },
    {
     "data": {
      "application/json": {
       "ascii": false,
       "bar_format": null,
       "colour": null,
       "elapsed": 0.010982751846313477,
       "initial": 0,
       "n": 0,
       "ncols": null,
       "nrows": 19,
       "postfix": null,
       "prefix": "training...",
       "rate": null,
       "total": null,
       "unit": "it",
       "unit_divisor": 1000,
       "unit_scale": false
      },
      "application/vnd.jupyter.widget-view+json": {
       "model_id": "a042db19164e433982b44a6f492c6f25",
       "version_major": 2,
       "version_minor": 0
      },
      "text/plain": [
       "training...: 0it [00:00, ?it/s]"
      ]
     },
     "metadata": {},
     "output_type": "display_data"
    },
    {
     "name": "stdout",
     "output_type": "stream",
     "text": [
      "epoch: 20 skip validation (train acc: 0.9677734375)\n"
     ]
    },
    {
     "data": {
      "application/json": {
       "ascii": false,
       "bar_format": null,
       "colour": null,
       "elapsed": 0.015618562698364258,
       "initial": 0,
       "n": 0,
       "ncols": null,
       "nrows": 19,
       "postfix": null,
       "prefix": "training...",
       "rate": null,
       "total": null,
       "unit": "it",
       "unit_divisor": 1000,
       "unit_scale": false
      },
      "application/vnd.jupyter.widget-view+json": {
       "model_id": "867be65a18d143b3a6c07b0f67e6e362",
       "version_major": 2,
       "version_minor": 0
      },
      "text/plain": [
       "training...: 0it [00:00, ?it/s]"
      ]
     },
     "metadata": {},
     "output_type": "display_data"
    },
    {
     "name": "stdout",
     "output_type": "stream",
     "text": [
      "epoch: 21 skip validation (train acc: 0.9765625)\n"
     ]
    },
    {
     "data": {
      "application/json": {
       "ascii": false,
       "bar_format": null,
       "colour": null,
       "elapsed": 0.027147293090820312,
       "initial": 0,
       "n": 0,
       "ncols": null,
       "nrows": 19,
       "postfix": null,
       "prefix": "training...",
       "rate": null,
       "total": null,
       "unit": "it",
       "unit_divisor": 1000,
       "unit_scale": false
      },
      "application/vnd.jupyter.widget-view+json": {
       "model_id": "4731034b564040b9b2b1b7c19a948f86",
       "version_major": 2,
       "version_minor": 0
      },
      "text/plain": [
       "training...: 0it [00:00, ?it/s]"
      ]
     },
     "metadata": {},
     "output_type": "display_data"
    },
    {
     "name": "stdout",
     "output_type": "stream",
     "text": [
      "epoch: 22 skip validation (train acc: 0.970052083954215)\n"
     ]
    },
    {
     "data": {
      "application/json": {
       "ascii": false,
       "bar_format": null,
       "colour": null,
       "elapsed": 0.014566183090209961,
       "initial": 0,
       "n": 0,
       "ncols": null,
       "nrows": 19,
       "postfix": null,
       "prefix": "training...",
       "rate": null,
       "total": null,
       "unit": "it",
       "unit_divisor": 1000,
       "unit_scale": false
      },
      "application/vnd.jupyter.widget-view+json": {
       "model_id": "6fe7fd8abf134eca99d353e582fc563b",
       "version_major": 2,
       "version_minor": 0
      },
      "text/plain": [
       "training...: 0it [00:00, ?it/s]"
      ]
     },
     "metadata": {},
     "output_type": "display_data"
    },
    {
     "name": "stdout",
     "output_type": "stream",
     "text": [
      "epoch: 23 skip validation (train acc: 0.9765625)\n"
     ]
    },
    {
     "data": {
      "application/json": {
       "ascii": false,
       "bar_format": null,
       "colour": null,
       "elapsed": 0.022347211837768555,
       "initial": 0,
       "n": 0,
       "ncols": null,
       "nrows": 19,
       "postfix": null,
       "prefix": "training...",
       "rate": null,
       "total": null,
       "unit": "it",
       "unit_divisor": 1000,
       "unit_scale": false
      },
      "application/vnd.jupyter.widget-view+json": {
       "model_id": "3a1c78eada6e4ae3b4bcaebc8d764b71",
       "version_major": 2,
       "version_minor": 0
      },
      "text/plain": [
       "training...: 0it [00:00, ?it/s]"
      ]
     },
     "metadata": {},
     "output_type": "display_data"
    },
    {
     "name": "stdout",
     "output_type": "stream",
     "text": [
      "epoch: 24 skip validation (train acc: 0.97314453125)\n"
     ]
    },
    {
     "data": {
      "application/json": {
       "ascii": false,
       "bar_format": null,
       "colour": null,
       "elapsed": 0.013365983963012695,
       "initial": 0,
       "n": 0,
       "ncols": null,
       "nrows": 19,
       "postfix": null,
       "prefix": "training...",
       "rate": null,
       "total": null,
       "unit": "it",
       "unit_divisor": 1000,
       "unit_scale": false
      },
      "application/vnd.jupyter.widget-view+json": {
       "model_id": "587e68b753b740feaca222438e770123",
       "version_major": 2,
       "version_minor": 0
      },
      "text/plain": [
       "training...: 0it [00:00, ?it/s]"
      ]
     },
     "metadata": {},
     "output_type": "display_data"
    },
    {
     "name": "stdout",
     "output_type": "stream",
     "text": [
      "epoch: 25 skip validation (train acc: 0.972005208954215)\n"
     ]
    },
    {
     "data": {
      "application/json": {
       "ascii": false,
       "bar_format": null,
       "colour": null,
       "elapsed": 0.013471841812133789,
       "initial": 0,
       "n": 0,
       "ncols": null,
       "nrows": 19,
       "postfix": null,
       "prefix": "training...",
       "rate": null,
       "total": null,
       "unit": "it",
       "unit_divisor": 1000,
       "unit_scale": false
      },
      "application/vnd.jupyter.widget-view+json": {
       "model_id": "27278b4874fa4e36b2f80651ba2d748a",
       "version_major": 2,
       "version_minor": 0
      },
      "text/plain": [
       "training...: 0it [00:00, ?it/s]"
      ]
     },
     "metadata": {},
     "output_type": "display_data"
    },
    {
     "name": "stdout",
     "output_type": "stream",
     "text": [
      "epoch:26 train acc:0.96826171875 val acc:0.9470531088082902\n",
      "train acc: 0.96826171875 val_acc: 0.9470531088082902\n"
     ]
    },
    {
     "data": {
      "application/json": {
       "ascii": false,
       "bar_format": null,
       "colour": null,
       "elapsed": 0.013251781463623047,
       "initial": 0,
       "n": 0,
       "ncols": null,
       "nrows": 19,
       "postfix": null,
       "prefix": "training...",
       "rate": null,
       "total": null,
       "unit": "it",
       "unit_divisor": 1000,
       "unit_scale": false
      },
      "application/vnd.jupyter.widget-view+json": {
       "model_id": "b25ce7ee676d484390b66d81e9e483db",
       "version_major": 2,
       "version_minor": 0
      },
      "text/plain": [
       "training...: 0it [00:00, ?it/s]"
      ]
     },
     "metadata": {},
     "output_type": "display_data"
    },
    {
     "name": "stdout",
     "output_type": "stream",
     "text": [
      "epoch:27 train acc:0.975911458954215 val acc:0.9478626943005182\n",
      "train acc: 0.975911458954215 val_acc: 0.9478626943005182\n"
     ]
    },
    {
     "data": {
      "application/json": {
       "ascii": false,
       "bar_format": null,
       "colour": null,
       "elapsed": 0.029873371124267578,
       "initial": 0,
       "n": 0,
       "ncols": null,
       "nrows": 19,
       "postfix": null,
       "prefix": "training...",
       "rate": null,
       "total": null,
       "unit": "it",
       "unit_divisor": 1000,
       "unit_scale": false
      },
      "application/vnd.jupyter.widget-view+json": {
       "model_id": "1c40ac922a8748a0af36b5771c756f74",
       "version_major": 2,
       "version_minor": 0
      },
      "text/plain": [
       "training...: 0it [00:00, ?it/s]"
      ]
     },
     "metadata": {},
     "output_type": "display_data"
    },
    {
     "name": "stdout",
     "output_type": "stream",
     "text": [
      "epoch:28 train acc:0.977376302704215 val acc:0.9469235752530666\n"
     ]
    },
    {
     "data": {
      "application/json": {
       "ascii": false,
       "bar_format": null,
       "colour": null,
       "elapsed": 0.01336979866027832,
       "initial": 0,
       "n": 0,
       "ncols": null,
       "nrows": 19,
       "postfix": null,
       "prefix": "training...",
       "rate": null,
       "total": null,
       "unit": "it",
       "unit_divisor": 1000,
       "unit_scale": false
      },
      "application/vnd.jupyter.widget-view+json": {
       "model_id": "d23ddb45e2ff480d835566dc366dd0ef",
       "version_major": 2,
       "version_minor": 0
      },
      "text/plain": [
       "training...: 0it [00:00, ?it/s]"
      ]
     },
     "metadata": {},
     "output_type": "display_data"
    },
    {
     "name": "stdout",
     "output_type": "stream",
     "text": [
      "epoch:29 train acc:0.9752604169771075 val acc:0.9481217617197976\n",
      "train acc: 0.9752604169771075 val_acc: 0.9481217617197976\n"
     ]
    },
    {
     "data": {
      "application/json": {
       "ascii": false,
       "bar_format": null,
       "colour": null,
       "elapsed": 0.025215625762939453,
       "initial": 0,
       "n": 0,
       "ncols": null,
       "nrows": 19,
       "postfix": null,
       "prefix": "training...",
       "rate": null,
       "total": null,
       "unit": "it",
       "unit_divisor": 1000,
       "unit_scale": false
      },
      "application/vnd.jupyter.widget-view+json": {
       "model_id": "2f1024e0f6064c70b510fd1a66171395",
       "version_major": 2,
       "version_minor": 0
      },
      "text/plain": [
       "training...: 0it [00:00, ?it/s]"
      ]
     },
     "metadata": {},
     "output_type": "display_data"
    },
    {
     "name": "stdout",
     "output_type": "stream",
     "text": [
      "epoch:30 train acc:0.9747721357271075 val acc:0.9548251295336787\n",
      "train acc: 0.9747721357271075 val_acc: 0.9548251295336787\n"
     ]
    }
   ],
   "source": [
    "import copy\n",
    "model.to(device)\n",
    "best_val_acc = 0.\n",
    "save_train_acc = []\n",
    "save_val_acc = []\n",
    "save_train_loss= []\n",
    "save_val_loss = []\n",
    "print(\"Data name:\",data_name)\n",
    "for epoch in tqdm(range(0, args.EPOCHS + 1)):\n",
    "    train_acc, train_loss = train(train_loader, model, criterion, optimizer, device, epoch,data_name)\n",
    "    if epoch <26:\n",
    "        print(f\"epoch: {epoch} skip validation (train acc: {train_acc})\")\n",
    "        continue\n",
    "    val_acc,val_loss = eval(val_loader, model, criterion, device,data_name)\n",
    "    save_train_acc.append(train_acc)\n",
    "    save_val_acc.append(val_acc)\n",
    "    save_train_loss.append(train_loss)\n",
    "    save_val_loss.append(val_loss)\n",
    "    print(f\"epoch:{epoch} train acc:{train_acc} val acc:{val_acc}\")\n",
    "    state = {\n",
    "    'epoch': epoch,\n",
    "    'state_dict': model.state_dict(),\n",
    "    'optimizer':optimizer.state_dict(),\n",
    "    'train_acc':train_acc,\n",
    "    'val_acc':val_acc,   \n",
    "    }\n",
    "\n",
    "    if val_acc>best_val_acc:\n",
    "        best_val_acc = val_acc\n",
    "        best_model_path = (f'{experiment_path}/init_model_best_epoch{epoch}.pth')\n",
    "        #print(f\"epoch {epoch}: best model updated\")\n",
    "        print(\"train acc:\",train_acc, \"val_acc:\",val_acc)\n",
    "        #torch.save(state, best_model_path)\n",
    "        best_model = copy.deepcopy(model)\n",
    "\n",
    "    opt_state = {\n",
    "        'optimizer': optimizer.state_dict(),\n",
    "    }\n",
    "    scheduler.step()\n",
    "# save_experiment[\"init\"] = {'save_train_acc':save_train_acc,'save_val_acc':save_val_acc,'save_train_loss':save_train_loss,'save_val_loss':save_val_loss}"
   ]
  },
  {
   "cell_type": "code",
   "execution_count": 27,
   "id": "7b519d99",
   "metadata": {},
   "outputs": [
    {
     "data": {
      "image/png": "[encoded data removed]",
      "text/plain": [
       "<Figure size 432x288 with 1 Axes>"
      ]
     },
     "metadata": {
      "needs_background": "light"
     },
     "output_type": "display_data"
    }
   ],
   "source": [
    "plt.plot(save_train_acc)\n",
    "plt.show()"
   ]
  },
  {
   "cell_type": "markdown",
   "id": "416722aa",
   "metadata": {},
   "source": [
    "#### Save flowers data"
   ]
  },
  {
   "cell_type": "code",
   "execution_count": 28,
   "id": "cdf98f02",
   "metadata": {},
   "outputs": [
    {
     "name": "stdout",
     "output_type": "stream",
     "text": [
      "saving dataloaders for dataset: flowers\n"
     ]
    }
   ],
   "source": [
    "import copy\n",
    "data_dict = dict()\n",
    "print(f\"saving dataloaders for dataset: {data_name}\")\n",
    "data_dict[data_name] = {\"train_loader\":copy.deepcopy(train_loader),\"val_loader\":copy.deepcopy(val_loader)}"
   ]
  },
  {
   "cell_type": "markdown",
   "id": "2f7199f9",
   "metadata": {},
   "source": [
    "# Train on WikiArt data"
   ]
  },
  {
   "cell_type": "code",
   "execution_count": 29,
   "id": "c806307d",
   "metadata": {},
   "outputs": [
    {
     "name": "stdout",
     "output_type": "stream",
     "text": [
      "wikiart 195\n",
      "saving dataloaders for dataset: wikiart\n"
     ]
    }
   ],
   "source": [
    "data_name = \"wikiart\"\n",
    "train_path = f\"/workspace/src/CH/SOTA/data/{data_name}/train/\"\n",
    "test_path = f\"/workspace/src/CH/SOTA/data/{data_name}/test/\"\n",
    "\n",
    "normalize = transforms.Normalize(mean=[0.485, 0.456, 0.406],\n",
    "                                     std=[0.229, 0.224, 0.225])\n",
    "\n",
    "train_transform = transforms.Compose([\n",
    "    transforms.RandomResizedCrop(224),\n",
    "    transforms.RandomHorizontalFlip(),\n",
    "    transforms.ToTensor(),\n",
    "    normalize,\n",
    "])\n",
    "\n",
    "test_transform = transforms.Compose([\n",
    "        transforms.Resize(256),\n",
    "        transforms.CenterCrop(224),\n",
    "        transforms.ToTensor(),\n",
    "        normalize,\n",
    "    ])\n",
    "\n",
    "train_dataset = torchvision.datasets.ImageFolder(train_path, transform = train_transform)\n",
    "val_dataset = torchvision.datasets.ImageFolder(test_path, transform = test_transform)\n",
    "num_classes = len(train_dataset.classes)\n",
    "print(data_name,num_classes)\n",
    "train_loader = torch.utils.data.DataLoader(\n",
    "        train_dataset, batch_size=args.BATCHSIZE, shuffle=True,\n",
    "        num_workers=args.WORKERS, pin_memory=True)\n",
    "val_loader = torch.utils.data.DataLoader(\n",
    "    val_dataset, batch_size=args.BATCHSIZE, shuffle=True,\n",
    "    num_workers=args.WORKERS, pin_memory=True)\n",
    "\n",
    "print(f\"saving dataloaders for dataset: {data_name}\")\n",
    "data_dict[data_name] = {\"train_loader\":copy.deepcopy(train_loader),\"val_loader\":copy.deepcopy(val_loader)}"
   ]
  },
  {
   "cell_type": "code",
   "execution_count": 30,
   "id": "ab5c191c",
   "metadata": {
    "scrolled": true
   },
   "outputs": [
    {
     "name": "stdout",
     "output_type": "stream",
     "text": [
      "Data name: wikiart\n"
     ]
    },
    {
     "data": {
      "application/json": {
       "ascii": false,
       "bar_format": null,
       "colour": null,
       "elapsed": 0.007439613342285156,
       "initial": 0,
       "n": 0,
       "ncols": null,
       "nrows": 19,
       "postfix": null,
       "prefix": "",
       "rate": null,
       "total": 31,
       "unit": "it",
       "unit_divisor": 1000,
       "unit_scale": false
      },
      "application/vnd.jupyter.widget-view+json": {
       "model_id": "6752e328d9eb4488bed8b082d77a3fc6",
       "version_major": 2,
       "version_minor": 0
      },
      "text/plain": [
       "  0%|          | 0/31 [00:00<?, ?it/s]"
      ]
     },
     "metadata": {},
     "output_type": "display_data"
    },
    {
     "data": {
      "application/json": {
       "ascii": false,
       "bar_format": null,
       "colour": null,
       "elapsed": 0.0171051025390625,
       "initial": 0,
       "n": 0,
       "ncols": null,
       "nrows": 19,
       "postfix": null,
       "prefix": "training...",
       "rate": null,
       "total": null,
       "unit": "it",
       "unit_divisor": 1000,
       "unit_scale": false
      },
      "application/vnd.jupyter.widget-view+json": {
       "model_id": "72383dd9caa24a48a1690774c9e7f193",
       "version_major": 2,
       "version_minor": 0
      },
      "text/plain": [
       "training...: 0it [00:00, ?it/s]"
      ]
     },
     "metadata": {},
     "output_type": "display_data"
    },
    {
     "name": "stdout",
     "output_type": "stream",
     "text": [
      "epoch: 0 skip validation (train acc: 0.22768435392446743)\n"
     ]
    },
    {
     "data": {
      "application/json": {
       "ascii": false,
       "bar_format": null,
       "colour": null,
       "elapsed": 0.013895750045776367,
       "initial": 0,
       "n": 0,
       "ncols": null,
       "nrows": 19,
       "postfix": null,
       "prefix": "training...",
       "rate": null,
       "total": null,
       "unit": "it",
       "unit_divisor": 1000,
       "unit_scale": false
      },
      "application/vnd.jupyter.widget-view+json": {
       "model_id": "e00f8764e6ff48058d888422bf6eb47a",
       "version_major": 2,
       "version_minor": 0
      },
      "text/plain": [
       "training...: 0it [00:00, ?it/s]"
      ]
     },
     "metadata": {},
     "output_type": "display_data"
    },
    {
     "name": "stdout",
     "output_type": "stream",
     "text": [
      "epoch: 1 skip validation (train acc: 0.37710064094041273)\n"
     ]
    },
    {
     "data": {
      "application/json": {
       "ascii": false,
       "bar_format": null,
       "colour": null,
       "elapsed": 0.013546943664550781,
       "initial": 0,
       "n": 0,
       "ncols": null,
       "nrows": 19,
       "postfix": null,
       "prefix": "training...",
       "rate": null,
       "total": null,
       "unit": "it",
       "unit_divisor": 1000,
       "unit_scale": false
      },
      "application/vnd.jupyter.widget-view+json": {
       "model_id": "a7bffa276e544d3694b501af761179e6",
       "version_major": 2,
       "version_minor": 0
      },
      "text/plain": [
       "training...: 0it [00:00, ?it/s]"
      ]
     },
     "metadata": {},
     "output_type": "display_data"
    },
    {
     "name": "stdout",
     "output_type": "stream",
     "text": [
      "epoch: 2 skip validation (train acc: 0.4455927017745233)\n"
     ]
    },
    {
     "data": {
      "application/json": {
       "ascii": false,
       "bar_format": null,
       "colour": null,
       "elapsed": 0.0120086669921875,
       "initial": 0,
       "n": 0,
       "ncols": null,
       "nrows": 19,
       "postfix": null,
       "prefix": "training...",
       "rate": null,
       "total": null,
       "unit": "it",
       "unit_divisor": 1000,
       "unit_scale": false
      },
      "application/vnd.jupyter.widget-view+json": {
       "model_id": "69d81e1419474644b35e82044c79d454",
       "version_major": 2,
       "version_minor": 0
      },
      "text/plain": [
       "training...: 0it [00:00, ?it/s]"
      ]
     },
     "metadata": {},
     "output_type": "display_data"
    },
    {
     "name": "stdout",
     "output_type": "stream",
     "text": [
      "epoch: 3 skip validation (train acc: 0.4933365715346557)\n"
     ]
    },
    {
     "data": {
      "application/json": {
       "ascii": false,
       "bar_format": null,
       "colour": null,
       "elapsed": 0.01306295394897461,
       "initial": 0,
       "n": 0,
       "ncols": null,
       "nrows": 19,
       "postfix": null,
       "prefix": "training...",
       "rate": null,
       "total": null,
       "unit": "it",
       "unit_divisor": 1000,
       "unit_scale": false
      },
      "application/vnd.jupyter.widget-view+json": {
       "model_id": "d8467449aec94789baa0bad9fceafdb5",
       "version_major": 2,
       "version_minor": 0
      },
      "text/plain": [
       "training...: 0it [00:00, ?it/s]"
      ]
     },
     "metadata": {},
     "output_type": "display_data"
    },
    {
     "name": "stdout",
     "output_type": "stream",
     "text": [
      "epoch: 4 skip validation (train acc: 0.5277131069041421)\n"
     ]
    },
    {
     "data": {
      "application/json": {
       "ascii": false,
       "bar_format": null,
       "colour": null,
       "elapsed": 0.02582716941833496,
       "initial": 0,
       "n": 0,
       "ncols": null,
       "nrows": 19,
       "postfix": null,
       "prefix": "training...",
       "rate": null,
       "total": null,
       "unit": "it",
       "unit_divisor": 1000,
       "unit_scale": false
      },
      "application/vnd.jupyter.widget-view+json": {
       "model_id": "f51722073e474651b1b83ca4c6d8bff9",
       "version_major": 2,
       "version_minor": 0
      },
      "text/plain": [
       "training...: 0it [00:00, ?it/s]"
      ]
     },
     "metadata": {},
     "output_type": "display_data"
    },
    {
     "name": "stdout",
     "output_type": "stream",
     "text": [
      "epoch: 5 skip validation (train acc: 0.5534553798926809)\n"
     ]
    },
    {
     "data": {
      "application/json": {
       "ascii": false,
       "bar_format": null,
       "colour": null,
       "elapsed": 0.01580977439880371,
       "initial": 0,
       "n": 0,
       "ncols": null,
       "nrows": 19,
       "postfix": null,
       "prefix": "training...",
       "rate": null,
       "total": null,
       "unit": "it",
       "unit_divisor": 1000,
       "unit_scale": false
      },
      "application/vnd.jupyter.widget-view+json": {
       "model_id": "76e8b9908cf7498eb70ea3f6db50c6fd",
       "version_major": 2,
       "version_minor": 0
      },
      "text/plain": [
       "training...: 0it [00:00, ?it/s]"
      ]
     },
     "metadata": {},
     "output_type": "display_data"
    },
    {
     "name": "stdout",
     "output_type": "stream",
     "text": [
      "epoch: 6 skip validation (train acc: 0.5792004444333035)\n"
     ]
    },
    {
     "data": {
      "application/json": {
       "ascii": false,
       "bar_format": null,
       "colour": null,
       "elapsed": 0.023591279983520508,
       "initial": 0,
       "n": 0,
       "ncols": null,
       "nrows": 19,
       "postfix": null,
       "prefix": "training...",
       "rate": null,
       "total": null,
       "unit": "it",
       "unit_divisor": 1000,
       "unit_scale": false
      },
      "application/vnd.jupyter.widget-view+json": {
       "model_id": "7bbe0269dc774a3b8b5b6bd3f85391f9",
       "version_major": 2,
       "version_minor": 0
      },
      "text/plain": [
       "training...: 0it [00:00, ?it/s]"
      ]
     },
     "metadata": {},
     "output_type": "display_data"
    },
    {
     "name": "stdout",
     "output_type": "stream",
     "text": [
      "epoch: 7 skip validation (train acc: 0.599277267876048)\n"
     ]
    },
    {
     "data": {
      "application/json": {
       "ascii": false,
       "bar_format": null,
       "colour": null,
       "elapsed": 0.014752626419067383,
       "initial": 0,
       "n": 0,
       "ncols": null,
       "nrows": 19,
       "postfix": null,
       "prefix": "training...",
       "rate": null,
       "total": null,
       "unit": "it",
       "unit_divisor": 1000,
       "unit_scale": false
      },
      "application/vnd.jupyter.widget-view+json": {
       "model_id": "6ba18031f7ea4b10aad1768ed716add3",
       "version_major": 2,
       "version_minor": 0
      },
      "text/plain": [
       "training...: 0it [00:00, ?it/s]"
      ]
     },
     "metadata": {},
     "output_type": "display_data"
    },
    {
     "name": "stdout",
     "output_type": "stream",
     "text": [
      "epoch: 8 skip validation (train acc: 0.6156441221295113)\n"
     ]
    },
    {
     "data": {
      "application/json": {
       "ascii": false,
       "bar_format": null,
       "colour": null,
       "elapsed": 0.014261484146118164,
       "initial": 0,
       "n": 0,
       "ncols": null,
       "nrows": 19,
       "postfix": null,
       "prefix": "training...",
       "rate": null,
       "total": null,
       "unit": "it",
       "unit_divisor": 1000,
       "unit_scale": false
      },
      "application/vnd.jupyter.widget-view+json": {
       "model_id": "fb907b4db5814726a2baa1dce8225d0c",
       "version_major": 2,
       "version_minor": 0
      },
      "text/plain": [
       "training...: 0it [00:00, ?it/s]"
      ]
     },
     "metadata": {},
     "output_type": "display_data"
    },
    {
     "name": "stdout",
     "output_type": "stream",
     "text": [
      "epoch: 9 skip validation (train acc: 0.6309990397256345)\n"
     ]
    },
    {
     "data": {
      "application/json": {
       "ascii": false,
       "bar_format": null,
       "colour": null,
       "elapsed": 0.02707362174987793,
       "initial": 0,
       "n": 0,
       "ncols": null,
       "nrows": 19,
       "postfix": null,
       "prefix": "training...",
       "rate": null,
       "total": null,
       "unit": "it",
       "unit_divisor": 1000,
       "unit_scale": false
      },
      "application/vnd.jupyter.widget-view+json": {
       "model_id": "e4427a2ca6a741a283f0bce608aa9e43",
       "version_major": 2,
       "version_minor": 0
      },
      "text/plain": [
       "training...: 0it [00:00, ?it/s]"
      ]
     },
     "metadata": {},
     "output_type": "display_data"
    },
    {
     "name": "stdout",
     "output_type": "stream",
     "text": [
      "epoch: 10 skip validation (train acc: 0.6456128009450011)\n"
     ]
    },
    {
     "data": {
      "application/json": {
       "ascii": false,
       "bar_format": null,
       "colour": null,
       "elapsed": 0.01512289047241211,
       "initial": 0,
       "n": 0,
       "ncols": null,
       "nrows": 19,
       "postfix": null,
       "prefix": "training...",
       "rate": null,
       "total": null,
       "unit": "it",
       "unit_divisor": 1000,
       "unit_scale": false
      },
      "application/vnd.jupyter.widget-view+json": {
       "model_id": "40ca3b4db2684f77be0ce96794be9ad2",
       "version_major": 2,
       "version_minor": 0
      },
      "text/plain": [
       "training...: 0it [00:00, ?it/s]"
      ]
     },
     "metadata": {},
     "output_type": "display_data"
    },
    {
     "name": "stdout",
     "output_type": "stream",
     "text": [
      "epoch: 11 skip validation (train acc: 0.6651773750555724)\n"
     ]
    },
    {
     "data": {
      "application/json": {
       "ascii": false,
       "bar_format": null,
       "colour": null,
       "elapsed": 0.010738611221313477,
       "initial": 0,
       "n": 0,
       "ncols": null,
       "nrows": 19,
       "postfix": null,
       "prefix": "training...",
       "rate": null,
       "total": null,
       "unit": "it",
       "unit_divisor": 1000,
       "unit_scale": false
      },
      "application/vnd.jupyter.widget-view+json": {
       "model_id": "7b09332e31244dd7bef1092ce766bd22",
       "version_major": 2,
       "version_minor": 0
      },
      "text/plain": [
       "training...: 0it [00:00, ?it/s]"
      ]
     },
     "metadata": {},
     "output_type": "display_data"
    },
    {
     "name": "stdout",
     "output_type": "stream",
     "text": [
      "epoch: 12 skip validation (train acc: 0.6696257090695265)\n"
     ]
    },
    {
     "data": {
      "application/json": {
       "ascii": false,
       "bar_format": null,
       "colour": null,
       "elapsed": 0.0361020565032959,
       "initial": 0,
       "n": 0,
       "ncols": null,
       "nrows": 19,
       "postfix": null,
       "prefix": "training...",
       "rate": null,
       "total": null,
       "unit": "it",
       "unit_divisor": 1000,
       "unit_scale": false
      },
      "application/vnd.jupyter.widget-view+json": {
       "model_id": "1b0b87b80dce409092d92b05e0441f3b",
       "version_major": 2,
       "version_minor": 0
      },
      "text/plain": [
       "training...: 0it [00:00, ?it/s]"
      ]
     },
     "metadata": {},
     "output_type": "display_data"
    },
    {
     "name": "stdout",
     "output_type": "stream",
     "text": [
      "epoch: 13 skip validation (train acc: 0.6836043928008054)\n"
     ]
    },
    {
     "data": {
      "application/json": {
       "ascii": false,
       "bar_format": null,
       "colour": null,
       "elapsed": 0.01353907585144043,
       "initial": 0,
       "n": 0,
       "ncols": null,
       "nrows": 19,
       "postfix": null,
       "prefix": "training...",
       "rate": null,
       "total": null,
       "unit": "it",
       "unit_divisor": 1000,
       "unit_scale": false
      },
      "application/vnd.jupyter.widget-view+json": {
       "model_id": "6b9b71ae92024abf92837a5f259b37e3",
       "version_major": 2,
       "version_minor": 0
      },
      "text/plain": [
       "training...: 0it [00:00, ?it/s]"
      ]
     },
     "metadata": {},
     "output_type": "display_data"
    },
    {
     "name": "stdout",
     "output_type": "stream",
     "text": [
      "epoch: 14 skip validation (train acc: 0.6931487002559205)\n"
     ]
    },
    {
     "data": {
      "application/json": {
       "ascii": false,
       "bar_format": null,
       "colour": null,
       "elapsed": 0.022639036178588867,
       "initial": 0,
       "n": 0,
       "ncols": null,
       "nrows": 19,
       "postfix": null,
       "prefix": "training...",
       "rate": null,
       "total": null,
       "unit": "it",
       "unit_divisor": 1000,
       "unit_scale": false
      },
      "application/vnd.jupyter.widget-view+json": {
       "model_id": "a29b37d990aa43faa7ab1ec2092d1129",
       "version_major": 2,
       "version_minor": 0
      },
      "text/plain": [
       "training...: 0it [00:00, ?it/s]"
      ]
     },
     "metadata": {},
     "output_type": "display_data"
    },
    {
     "name": "stdout",
     "output_type": "stream",
     "text": [
      "epoch: 15 skip validation (train acc: 0.7024836415310384)\n"
     ]
    },
    {
     "data": {
      "application/json": {
       "ascii": false,
       "bar_format": null,
       "colour": null,
       "elapsed": 0.013569355010986328,
       "initial": 0,
       "n": 0,
       "ncols": null,
       "nrows": 19,
       "postfix": null,
       "prefix": "training...",
       "rate": null,
       "total": null,
       "unit": "it",
       "unit_divisor": 1000,
       "unit_scale": false
      },
      "application/vnd.jupyter.widget-view+json": {
       "model_id": "48fec3ced624496290ee5f27d8b2ef3c",
       "version_major": 2,
       "version_minor": 0
      },
      "text/plain": [
       "training...: 0it [00:00, ?it/s]"
      ]
     },
     "metadata": {},
     "output_type": "display_data"
    },
    {
     "name": "stdout",
     "output_type": "stream",
     "text": [
      "epoch: 16 skip validation (train acc: 0.7152256688658903)\n"
     ]
    },
    {
     "data": {
      "application/json": {
       "ascii": false,
       "bar_format": null,
       "colour": null,
       "elapsed": 0.013435125350952148,
       "initial": 0,
       "n": 0,
       "ncols": null,
       "nrows": 19,
       "postfix": null,
       "prefix": "training...",
       "rate": null,
       "total": null,
       "unit": "it",
       "unit_divisor": 1000,
       "unit_scale": false
      },
      "application/vnd.jupyter.widget-view+json": {
       "model_id": "b5992c0214b4428da220818de3285fae",
       "version_major": 2,
       "version_minor": 0
      },
      "text/plain": [
       "training...: 0it [00:00, ?it/s]"
      ]
     },
     "metadata": {},
     "output_type": "display_data"
    },
    {
     "name": "stdout",
     "output_type": "stream",
     "text": [
      "epoch: 17 skip validation (train acc: 0.728934968069999)\n"
     ]
    },
    {
     "data": {
      "application/json": {
       "ascii": false,
       "bar_format": null,
       "colour": null,
       "elapsed": 0.014143705368041992,
       "initial": 0,
       "n": 0,
       "ncols": null,
       "nrows": 19,
       "postfix": null,
       "prefix": "training...",
       "rate": null,
       "total": null,
       "unit": "it",
       "unit_divisor": 1000,
       "unit_scale": false
      },
      "application/vnd.jupyter.widget-view+json": {
       "model_id": "d7293c96514b4161ba6dda3b2c795962",
       "version_major": 2,
       "version_minor": 0
      },
      "text/plain": [
       "training...: 0it [00:00, ?it/s]"
      ]
     },
     "metadata": {},
     "output_type": "display_data"
    },
    {
     "name": "stdout",
     "output_type": "stream",
     "text": [
      "epoch: 18 skip validation (train acc: 0.7334754232122035)\n"
     ]
    },
    {
     "data": {
      "application/json": {
       "ascii": false,
       "bar_format": null,
       "colour": null,
       "elapsed": 0.010545492172241211,
       "initial": 0,
       "n": 0,
       "ncols": null,
       "nrows": 19,
       "postfix": null,
       "prefix": "training...",
       "rate": null,
       "total": null,
       "unit": "it",
       "unit_divisor": 1000,
       "unit_scale": false
      },
      "application/vnd.jupyter.widget-view+json": {
       "model_id": "e4ff181ea6fa4f15a0d1903692a4e9f7",
       "version_major": 2,
       "version_minor": 0
      },
      "text/plain": [
       "training...: 0it [00:00, ?it/s]"
      ]
     },
     "metadata": {},
     "output_type": "display_data"
    },
    {
     "name": "stdout",
     "output_type": "stream",
     "text": [
      "epoch: 19 skip validation (train acc: 0.7410949573610982)\n"
     ]
    },
    {
     "data": {
      "application/json": {
       "ascii": false,
       "bar_format": null,
       "colour": null,
       "elapsed": 0.020798444747924805,
       "initial": 0,
       "n": 0,
       "ncols": null,
       "nrows": 19,
       "postfix": null,
       "prefix": "training...",
       "rate": null,
       "total": null,
       "unit": "it",
       "unit_divisor": 1000,
       "unit_scale": false
      },
      "application/vnd.jupyter.widget-view+json": {
       "model_id": "f2bd82f7081d403681e06fa0fd153ccf",
       "version_major": 2,
       "version_minor": 0
      },
      "text/plain": [
       "training...: 0it [00:00, ?it/s]"
      ]
     },
     "metadata": {},
     "output_type": "display_data"
    },
    {
     "name": "stdout",
     "output_type": "stream",
     "text": [
      "epoch: 20 skip validation (train acc: 0.7478519027307347)\n"
     ]
    },
    {
     "data": {
      "application/json": {
       "ascii": false,
       "bar_format": null,
       "colour": null,
       "elapsed": 0.015657663345336914,
       "initial": 0,
       "n": 0,
       "ncols": null,
       "nrows": 19,
       "postfix": null,
       "prefix": "training...",
       "rate": null,
       "total": null,
       "unit": "it",
       "unit_divisor": 1000,
       "unit_scale": false
      },
      "application/vnd.jupyter.widget-view+json": {
       "model_id": "12762d93cd944c32b85a01f9659648e1",
       "version_major": 2,
       "version_minor": 0
      },
      "text/plain": [
       "training...: 0it [00:00, ?it/s]"
      ]
     },
     "metadata": {},
     "output_type": "display_data"
    },
    {
     "name": "stdout",
     "output_type": "stream",
     "text": [
      "epoch: 21 skip validation (train acc: 0.7601933427262505)\n"
     ]
    },
    {
     "data": {
      "application/json": {
       "ascii": false,
       "bar_format": null,
       "colour": null,
       "elapsed": 0.012753486633300781,
       "initial": 0,
       "n": 0,
       "ncols": null,
       "nrows": 19,
       "postfix": null,
       "prefix": "training...",
       "rate": null,
       "total": null,
       "unit": "it",
       "unit_divisor": 1000,
       "unit_scale": false
      },
      "application/vnd.jupyter.widget-view+json": {
       "model_id": "a74ba1e111ab468d813e88fbc7bf928f",
       "version_major": 2,
       "version_minor": 0
      },
      "text/plain": [
       "training...: 0it [00:00, ?it/s]"
      ]
     },
     "metadata": {},
     "output_type": "display_data"
    },
    {
     "name": "stdout",
     "output_type": "stream",
     "text": [
      "epoch: 22 skip validation (train acc: 0.7617147371636799)\n"
     ]
    },
    {
     "data": {
      "application/json": {
       "ascii": false,
       "bar_format": null,
       "colour": null,
       "elapsed": 0.017412424087524414,
       "initial": 0,
       "n": 0,
       "ncols": null,
       "nrows": 19,
       "postfix": null,
       "prefix": "training...",
       "rate": null,
       "total": null,
       "unit": "it",
       "unit_divisor": 1000,
       "unit_scale": false
      },
      "application/vnd.jupyter.widget-view+json": {
       "model_id": "a42ddc604d1d4dcfb039cfe60fb7fe82",
       "version_major": 2,
       "version_minor": 0
      },
      "text/plain": [
       "training...: 0it [00:00, ?it/s]"
      ]
     },
     "metadata": {},
     "output_type": "display_data"
    },
    {
     "name": "stdout",
     "output_type": "stream",
     "text": [
      "epoch: 23 skip validation (train acc: 0.7730037630192692)\n"
     ]
    },
    {
     "data": {
      "application/json": {
       "ascii": false,
       "bar_format": null,
       "colour": null,
       "elapsed": 0.014041662216186523,
       "initial": 0,
       "n": 0,
       "ncols": null,
       "nrows": 19,
       "postfix": null,
       "prefix": "training...",
       "rate": null,
       "total": null,
       "unit": "it",
       "unit_divisor": 1000,
       "unit_scale": false
      },
      "application/vnd.jupyter.widget-view+json": {
       "model_id": "98c445e785264a52bd324a211ea70f50",
       "version_major": 2,
       "version_minor": 0
      },
      "text/plain": [
       "training...: 0it [00:00, ?it/s]"
      ]
     },
     "metadata": {},
     "output_type": "display_data"
    },
    {
     "name": "stdout",
     "output_type": "stream",
     "text": [
      "epoch: 24 skip validation (train acc: 0.7777577716922253)\n"
     ]
    },
    {
     "data": {
      "application/json": {
       "ascii": false,
       "bar_format": null,
       "colour": null,
       "elapsed": 0.022126197814941406,
       "initial": 0,
       "n": 0,
       "ncols": null,
       "nrows": 19,
       "postfix": null,
       "prefix": "training...",
       "rate": null,
       "total": null,
       "unit": "it",
       "unit_divisor": 1000,
       "unit_scale": false
      },
      "application/vnd.jupyter.widget-view+json": {
       "model_id": "5018d46c0280406d8e10cf27a0f6994e",
       "version_major": 2,
       "version_minor": 0
      },
      "text/plain": [
       "training...: 0it [00:00, ?it/s]"
      ]
     },
     "metadata": {},
     "output_type": "display_data"
    },
    {
     "name": "stdout",
     "output_type": "stream",
     "text": [
      "epoch: 25 skip validation (train acc: 0.7874011791558001)\n"
     ]
    },
    {
     "data": {
      "application/json": {
       "ascii": false,
       "bar_format": null,
       "colour": null,
       "elapsed": 0.02264881134033203,
       "initial": 0,
       "n": 0,
       "ncols": null,
       "nrows": 19,
       "postfix": null,
       "prefix": "training...",
       "rate": null,
       "total": null,
       "unit": "it",
       "unit_divisor": 1000,
       "unit_scale": false
      },
      "application/vnd.jupyter.widget-view+json": {
       "model_id": "9c9e5a67495c42ff8cf78434eb7b50ff",
       "version_major": 2,
       "version_minor": 0
      },
      "text/plain": [
       "training...: 0it [00:00, ?it/s]"
      ]
     },
     "metadata": {},
     "output_type": "display_data"
    },
    {
     "name": "stdout",
     "output_type": "stream",
     "text": [
      "epoch:26 train acc:0.7874807383223021 val acc:0.7210960960960962\n",
      "train acc: 0.7874807383223021 val_acc: 0.7210960960960962\n"
     ]
    },
    {
     "data": {
      "application/json": {
       "ascii": false,
       "bar_format": null,
       "colour": null,
       "elapsed": 0.029729127883911133,
       "initial": 0,
       "n": 0,
       "ncols": null,
       "nrows": 19,
       "postfix": null,
       "prefix": "training...",
       "rate": null,
       "total": null,
       "unit": "it",
       "unit_divisor": 1000,
       "unit_scale": false
      },
      "application/vnd.jupyter.widget-view+json": {
       "model_id": "aac79fb181424689b8e1e161bb04fcd6",
       "version_major": 2,
       "version_minor": 0
      },
      "text/plain": [
       "training...: 0it [00:00, ?it/s]"
      ]
     },
     "metadata": {},
     "output_type": "display_data"
    },
    {
     "name": "stdout",
     "output_type": "stream",
     "text": [
      "epoch:27 train acc:0.7992708473017294 val acc:0.7271959459459459\n",
      "train acc: 0.7992708473017294 val_acc: 0.7271959459459459\n"
     ]
    },
    {
     "data": {
      "application/json": {
       "ascii": false,
       "bar_format": null,
       "colour": null,
       "elapsed": 0.018893957138061523,
       "initial": 0,
       "n": 0,
       "ncols": null,
       "nrows": 19,
       "postfix": null,
       "prefix": "training...",
       "rate": null,
       "total": null,
       "unit": "it",
       "unit_divisor": 1000,
       "unit_scale": false
      },
      "application/vnd.jupyter.widget-view+json": {
       "model_id": "d4ec5811ba074d039d33b6111777a680",
       "version_major": 2,
       "version_minor": 0
      },
      "text/plain": [
       "training...: 0it [00:00, ?it/s]"
      ]
     },
     "metadata": {},
     "output_type": "display_data"
    },
    {
     "name": "stdout",
     "output_type": "stream",
     "text": [
      "epoch:28 train acc:0.8159936241064455 val acc:0.7362987987987988\n",
      "train acc: 0.8159936241064455 val_acc: 0.7362987987987988\n"
     ]
    },
    {
     "data": {
      "application/json": {
       "ascii": false,
       "bar_format": null,
       "colour": null,
       "elapsed": 0.010865211486816406,
       "initial": 0,
       "n": 0,
       "ncols": null,
       "nrows": 19,
       "postfix": null,
       "prefix": "training...",
       "rate": null,
       "total": null,
       "unit": "it",
       "unit_divisor": 1000,
       "unit_scale": false
      },
      "application/vnd.jupyter.widget-view+json": {
       "model_id": "9f76454d435640b5a9ed2209de9a6477",
       "version_major": 2,
       "version_minor": 0
      },
      "text/plain": [
       "training...: 0it [00:00, ?it/s]"
      ]
     },
     "metadata": {},
     "output_type": "display_data"
    },
    {
     "name": "stdout",
     "output_type": "stream",
     "text": [
      "epoch:29 train acc:0.8210449327821522 val acc:0.7326388888888888\n"
     ]
    },
    {
     "data": {
      "application/json": {
       "ascii": false,
       "bar_format": null,
       "colour": null,
       "elapsed": 0.03703713417053223,
       "initial": 0,
       "n": 0,
       "ncols": null,
       "nrows": 19,
       "postfix": null,
       "prefix": "training...",
       "rate": null,
       "total": null,
       "unit": "it",
       "unit_divisor": 1000,
       "unit_scale": false
      },
      "application/vnd.jupyter.widget-view+json": {
       "model_id": "139ec3002c384da5ba461e24b4892e67",
       "version_major": 2,
       "version_minor": 0
      },
      "text/plain": [
       "training...: 0it [00:00, ?it/s]"
      ]
     },
     "metadata": {},
     "output_type": "display_data"
    },
    {
     "name": "stdout",
     "output_type": "stream",
     "text": [
      "epoch:30 train acc:0.8356168207655192 val acc:0.7438063063063063\n",
      "train acc: 0.8356168207655192 val_acc: 0.7438063063063063\n"
     ]
    }
   ],
   "source": [
    "import copy\n",
    "model.to(device)\n",
    "best_val_acc = 0.\n",
    "save_train_acc = []\n",
    "save_val_acc = []\n",
    "save_train_loss= []\n",
    "save_val_loss = []\n",
    "print(\"Data name:\",data_name)\n",
    "for epoch in tqdm(range(0, args.EPOCHS + 1)):\n",
    "    train_acc, train_loss = train(train_loader, model, criterion, optimizer, device, epoch,data_name)\n",
    "    if epoch <26:\n",
    "        print(f\"epoch: {epoch} skip validation (train acc: {train_acc})\")\n",
    "        continue\n",
    "    val_acc,val_loss = eval(val_loader, model, criterion, device,data_name)\n",
    "    save_train_acc.append(train_acc)\n",
    "    save_val_acc.append(val_acc)\n",
    "    save_train_loss.append(train_loss)\n",
    "    save_val_loss.append(val_loss)\n",
    "    print(f\"epoch:{epoch} train acc:{train_acc} val acc:{val_acc}\")\n",
    "    state = {\n",
    "    'epoch': epoch,\n",
    "    'state_dict': model.state_dict(),\n",
    "    'optimizer':optimizer.state_dict(),\n",
    "    'train_acc':train_acc,\n",
    "    'val_acc':val_acc,   \n",
    "    }\n",
    "\n",
    "    if val_acc>best_val_acc:\n",
    "        best_val_acc = val_acc\n",
    "        best_model_path = (f'{experiment_path}/init_model_best_epoch{epoch}.pth')\n",
    "        #print(f\"epoch {epoch}: best model updated\")\n",
    "        print(\"train acc:\",train_acc, \"val_acc:\",val_acc)\n",
    "        #torch.save(state, best_model_path)\n",
    "        best_model = copy.deepcopy(model)\n",
    "\n",
    "    opt_state = {\n",
    "        'optimizer': optimizer.state_dict(),\n",
    "    }\n",
    "    scheduler.step()\n",
    "# save_experiment[\"init\"] = {'save_train_acc':save_train_acc,'save_val_acc':save_val_acc,'save_train_loss':save_train_loss,'save_val_loss':save_val_loss}"
   ]
  },
  {
   "cell_type": "code",
   "execution_count": 31,
   "id": "31788b25",
   "metadata": {},
   "outputs": [
    {
     "data": {
      "image/png": "[encoded data removed]",
      "text/plain": [
       "<Figure size 432x288 with 1 Axes>"
      ]
     },
     "metadata": {
      "needs_background": "light"
     },
     "output_type": "display_data"
    }
   ],
   "source": [
    "plt.plot(save_train_acc)\n",
    "plt.show()"
   ]
  },
  {
   "cell_type": "code",
   "execution_count": 32,
   "id": "124af543",
   "metadata": {},
   "outputs": [
    {
     "data": {
      "text/plain": [
       "0.7438063063063063"
      ]
     },
     "execution_count": 32,
     "metadata": {},
     "output_type": "execute_result"
    }
   ],
   "source": [
    "best_val_acc"
   ]
  },
  {
   "cell_type": "markdown",
   "id": "9c71fde4",
   "metadata": {},
   "source": [
    "# Sketches"
   ]
  },
  {
   "cell_type": "code",
   "execution_count": 33,
   "id": "f08967c2",
   "metadata": {},
   "outputs": [
    {
     "name": "stdout",
     "output_type": "stream",
     "text": [
      "sketches 250\n",
      "saving dataloaders for dataset: sketches\n"
     ]
    }
   ],
   "source": [
    "data_name = \"sketches\"\n",
    "train_path = f\"/workspace/src/CH/SOTA/data/{data_name}/train/\"\n",
    "test_path = f\"/workspace/src/CH/SOTA/data/{data_name}/test/\"\n",
    "\n",
    "normalize = transforms.Normalize(mean=[0.485, 0.456, 0.406],\n",
    "                                     std=[0.229, 0.224, 0.225])\n",
    "\n",
    "train_transform = transforms.Compose([\n",
    "    transforms.RandomResizedCrop(224),\n",
    "    transforms.RandomHorizontalFlip(),\n",
    "    transforms.ToTensor(),\n",
    "    normalize,\n",
    "])\n",
    "\n",
    "test_transform = transforms.Compose([\n",
    "        transforms.Resize(256),\n",
    "        transforms.CenterCrop(224),\n",
    "        transforms.ToTensor(),\n",
    "        normalize,\n",
    "    ])\n",
    "\n",
    "train_dataset = torchvision.datasets.ImageFolder(train_path, transform = train_transform)\n",
    "val_dataset = torchvision.datasets.ImageFolder(test_path, transform = test_transform)\n",
    "num_classes = len(train_dataset.classes)\n",
    "print(data_name,num_classes)\n",
    "train_loader = torch.utils.data.DataLoader(\n",
    "        train_dataset, batch_size=args.BATCHSIZE, shuffle=True,\n",
    "        num_workers=args.WORKERS, pin_memory=True)\n",
    "val_loader = torch.utils.data.DataLoader(\n",
    "    val_dataset, batch_size=args.BATCHSIZE, shuffle=True,\n",
    "    num_workers=args.WORKERS, pin_memory=True)\n",
    "\n",
    "print(f\"saving dataloaders for dataset: {data_name}\")\n",
    "data_dict[data_name] = {\"train_loader\":copy.deepcopy(train_loader),\"val_loader\":copy.deepcopy(val_loader)}"
   ]
  },
  {
   "cell_type": "code",
   "execution_count": 34,
   "id": "7cdae0da",
   "metadata": {
    "scrolled": true
   },
   "outputs": [
    {
     "name": "stdout",
     "output_type": "stream",
     "text": [
      "Data name: sketches\n"
     ]
    },
    {
     "data": {
      "application/json": {
       "ascii": false,
       "bar_format": null,
       "colour": null,
       "elapsed": 0.00810694694519043,
       "initial": 0,
       "n": 0,
       "ncols": null,
       "nrows": 19,
       "postfix": null,
       "prefix": "",
       "rate": null,
       "total": 31,
       "unit": "it",
       "unit_divisor": 1000,
       "unit_scale": false
      },
      "application/vnd.jupyter.widget-view+json": {
       "model_id": "c0156f2f68754743afd4369471b76c64",
       "version_major": 2,
       "version_minor": 0
      },
      "text/plain": [
       "  0%|          | 0/31 [00:00<?, ?it/s]"
      ]
     },
     "metadata": {},
     "output_type": "display_data"
    },
    {
     "data": {
      "application/json": {
       "ascii": false,
       "bar_format": null,
       "colour": null,
       "elapsed": 0.03160381317138672,
       "initial": 0,
       "n": 0,
       "ncols": null,
       "nrows": 19,
       "postfix": null,
       "prefix": "training...",
       "rate": null,
       "total": null,
       "unit": "it",
       "unit_divisor": 1000,
       "unit_scale": false
      },
      "application/vnd.jupyter.widget-view+json": {
       "model_id": "9e203a3986494bfca7cc7a6f6afa1842",
       "version_major": 2,
       "version_minor": 0
      },
      "text/plain": [
       "training...: 0it [00:00, ?it/s]"
      ]
     },
     "metadata": {},
     "output_type": "display_data"
    },
    {
     "name": "stdout",
     "output_type": "stream",
     "text": [
      "epoch: 0 skip validation (train acc: 0.0343125)\n"
     ]
    },
    {
     "data": {
      "application/json": {
       "ascii": false,
       "bar_format": null,
       "colour": null,
       "elapsed": 0.024704933166503906,
       "initial": 0,
       "n": 0,
       "ncols": null,
       "nrows": 19,
       "postfix": null,
       "prefix": "training...",
       "rate": null,
       "total": null,
       "unit": "it",
       "unit_divisor": 1000,
       "unit_scale": false
      },
      "application/vnd.jupyter.widget-view+json": {
       "model_id": "91172703b7e34b81b19a8017e705872f",
       "version_major": 2,
       "version_minor": 0
      },
      "text/plain": [
       "training...: 0it [00:00, ?it/s]"
      ]
     },
     "metadata": {},
     "output_type": "display_data"
    },
    {
     "name": "stdout",
     "output_type": "stream",
     "text": [
      "epoch: 1 skip validation (train acc: 0.178625)\n"
     ]
    },
    {
     "data": {
      "application/json": {
       "ascii": false,
       "bar_format": null,
       "colour": null,
       "elapsed": 0.018293380737304688,
       "initial": 0,
       "n": 0,
       "ncols": null,
       "nrows": 19,
       "postfix": null,
       "prefix": "training...",
       "rate": null,
       "total": null,
       "unit": "it",
       "unit_divisor": 1000,
       "unit_scale": false
      },
      "application/vnd.jupyter.widget-view+json": {
       "model_id": "382c0f990a3141a08154fee2594e89e6",
       "version_major": 2,
       "version_minor": 0
      },
      "text/plain": [
       "training...: 0it [00:00, ?it/s]"
      ]
     },
     "metadata": {},
     "output_type": "display_data"
    },
    {
     "name": "stdout",
     "output_type": "stream",
     "text": [
      "epoch: 2 skip validation (train acc: 0.2815)\n"
     ]
    },
    {
     "data": {
      "application/json": {
       "ascii": false,
       "bar_format": null,
       "colour": null,
       "elapsed": 0.01765918731689453,
       "initial": 0,
       "n": 0,
       "ncols": null,
       "nrows": 19,
       "postfix": null,
       "prefix": "training...",
       "rate": null,
       "total": null,
       "unit": "it",
       "unit_divisor": 1000,
       "unit_scale": false
      },
      "application/vnd.jupyter.widget-view+json": {
       "model_id": "a1a5153b752a4f07b6abd594600ddb00",
       "version_major": 2,
       "version_minor": 0
      },
      "text/plain": [
       "training...: 0it [00:00, ?it/s]"
      ]
     },
     "metadata": {},
     "output_type": "display_data"
    },
    {
     "name": "stdout",
     "output_type": "stream",
     "text": [
      "epoch: 3 skip validation (train acc: 0.3660625)\n"
     ]
    },
    {
     "data": {
      "application/json": {
       "ascii": false,
       "bar_format": null,
       "colour": null,
       "elapsed": 0.010930061340332031,
       "initial": 0,
       "n": 0,
       "ncols": null,
       "nrows": 19,
       "postfix": null,
       "prefix": "training...",
       "rate": null,
       "total": null,
       "unit": "it",
       "unit_divisor": 1000,
       "unit_scale": false
      },
      "application/vnd.jupyter.widget-view+json": {
       "model_id": "2832f3cb36224dbf805a6a1e2b63cc5b",
       "version_major": 2,
       "version_minor": 0
      },
      "text/plain": [
       "training...: 0it [00:00, ?it/s]"
      ]
     },
     "metadata": {},
     "output_type": "display_data"
    },
    {
     "name": "stdout",
     "output_type": "stream",
     "text": [
      "epoch: 4 skip validation (train acc: 0.42625)\n"
     ]
    },
    {
     "data": {
      "application/json": {
       "ascii": false,
       "bar_format": null,
       "colour": null,
       "elapsed": 0.02074146270751953,
       "initial": 0,
       "n": 0,
       "ncols": null,
       "nrows": 19,
       "postfix": null,
       "prefix": "training...",
       "rate": null,
       "total": null,
       "unit": "it",
       "unit_divisor": 1000,
       "unit_scale": false
      },
      "application/vnd.jupyter.widget-view+json": {
       "model_id": "4b62f6f212b3401ea19eef74bf99b3f5",
       "version_major": 2,
       "version_minor": 0
      },
      "text/plain": [
       "training...: 0it [00:00, ?it/s]"
      ]
     },
     "metadata": {},
     "output_type": "display_data"
    },
    {
     "name": "stdout",
     "output_type": "stream",
     "text": [
      "epoch: 5 skip validation (train acc: 0.4763125)\n"
     ]
    },
    {
     "data": {
      "application/json": {
       "ascii": false,
       "bar_format": null,
       "colour": null,
       "elapsed": 0.015469074249267578,
       "initial": 0,
       "n": 0,
       "ncols": null,
       "nrows": 19,
       "postfix": null,
       "prefix": "training...",
       "rate": null,
       "total": null,
       "unit": "it",
       "unit_divisor": 1000,
       "unit_scale": false
      },
      "application/vnd.jupyter.widget-view+json": {
       "model_id": "573bfc24bbe9408e862ba7850a46ba5e",
       "version_major": 2,
       "version_minor": 0
      },
      "text/plain": [
       "training...: 0it [00:00, ?it/s]"
      ]
     },
     "metadata": {},
     "output_type": "display_data"
    },
    {
     "name": "stdout",
     "output_type": "stream",
     "text": [
      "epoch: 6 skip validation (train acc: 0.50675)\n"
     ]
    },
    {
     "data": {
      "application/json": {
       "ascii": false,
       "bar_format": null,
       "colour": null,
       "elapsed": 0.02283477783203125,
       "initial": 0,
       "n": 0,
       "ncols": null,
       "nrows": 19,
       "postfix": null,
       "prefix": "training...",
       "rate": null,
       "total": null,
       "unit": "it",
       "unit_divisor": 1000,
       "unit_scale": false
      },
      "application/vnd.jupyter.widget-view+json": {
       "model_id": "73a72f48467446dab6f09b379262dffb",
       "version_major": 2,
       "version_minor": 0
      },
      "text/plain": [
       "training...: 0it [00:00, ?it/s]"
      ]
     },
     "metadata": {},
     "output_type": "display_data"
    },
    {
     "name": "stdout",
     "output_type": "stream",
     "text": [
      "epoch: 7 skip validation (train acc: 0.5324375)\n"
     ]
    },
    {
     "data": {
      "application/json": {
       "ascii": false,
       "bar_format": null,
       "colour": null,
       "elapsed": 0.0135040283203125,
       "initial": 0,
       "n": 0,
       "ncols": null,
       "nrows": 19,
       "postfix": null,
       "prefix": "training...",
       "rate": null,
       "total": null,
       "unit": "it",
       "unit_divisor": 1000,
       "unit_scale": false
      },
      "application/vnd.jupyter.widget-view+json": {
       "model_id": "4cb3c7827fa54bf9b81bc3f6110335a2",
       "version_major": 2,
       "version_minor": 0
      },
      "text/plain": [
       "training...: 0it [00:00, ?it/s]"
      ]
     },
     "metadata": {},
     "output_type": "display_data"
    },
    {
     "name": "stdout",
     "output_type": "stream",
     "text": [
      "epoch: 8 skip validation (train acc: 0.5535625)\n"
     ]
    },
    {
     "data": {
      "application/json": {
       "ascii": false,
       "bar_format": null,
       "colour": null,
       "elapsed": 0.011411905288696289,
       "initial": 0,
       "n": 0,
       "ncols": null,
       "nrows": 19,
       "postfix": null,
       "prefix": "training...",
       "rate": null,
       "total": null,
       "unit": "it",
       "unit_divisor": 1000,
       "unit_scale": false
      },
      "application/vnd.jupyter.widget-view+json": {
       "model_id": "69ac2ea88f3244c1aed8c0f32ef9f8f6",
       "version_major": 2,
       "version_minor": 0
      },
      "text/plain": [
       "training...: 0it [00:00, ?it/s]"
      ]
     },
     "metadata": {},
     "output_type": "display_data"
    },
    {
     "name": "stdout",
     "output_type": "stream",
     "text": [
      "epoch: 9 skip validation (train acc: 0.580125)\n"
     ]
    },
    {
     "data": {
      "application/json": {
       "ascii": false,
       "bar_format": null,
       "colour": null,
       "elapsed": 0.021170616149902344,
       "initial": 0,
       "n": 0,
       "ncols": null,
       "nrows": 19,
       "postfix": null,
       "prefix": "training...",
       "rate": null,
       "total": null,
       "unit": "it",
       "unit_divisor": 1000,
       "unit_scale": false
      },
      "application/vnd.jupyter.widget-view+json": {
       "model_id": "e7fa93eb26f54e489d4f3425b1356b2a",
       "version_major": 2,
       "version_minor": 0
      },
      "text/plain": [
       "training...: 0it [00:00, ?it/s]"
      ]
     },
     "metadata": {},
     "output_type": "display_data"
    },
    {
     "name": "stdout",
     "output_type": "stream",
     "text": [
      "epoch: 10 skip validation (train acc: 0.594125)\n"
     ]
    },
    {
     "data": {
      "application/json": {
       "ascii": false,
       "bar_format": null,
       "colour": null,
       "elapsed": 0.011730670928955078,
       "initial": 0,
       "n": 0,
       "ncols": null,
       "nrows": 19,
       "postfix": null,
       "prefix": "training...",
       "rate": null,
       "total": null,
       "unit": "it",
       "unit_divisor": 1000,
       "unit_scale": false
      },
      "application/vnd.jupyter.widget-view+json": {
       "model_id": "cb9240c5e8244baab7f3286145077f55",
       "version_major": 2,
       "version_minor": 0
      },
      "text/plain": [
       "training...: 0it [00:00, ?it/s]"
      ]
     },
     "metadata": {},
     "output_type": "display_data"
    },
    {
     "name": "stdout",
     "output_type": "stream",
     "text": [
      "epoch: 11 skip validation (train acc: 0.6074375)\n"
     ]
    },
    {
     "data": {
      "application/json": {
       "ascii": false,
       "bar_format": null,
       "colour": null,
       "elapsed": 0.015182018280029297,
       "initial": 0,
       "n": 0,
       "ncols": null,
       "nrows": 19,
       "postfix": null,
       "prefix": "training...",
       "rate": null,
       "total": null,
       "unit": "it",
       "unit_divisor": 1000,
       "unit_scale": false
      },
      "application/vnd.jupyter.widget-view+json": {
       "model_id": "94f8708494594f33b8148bfe27c8bf16",
       "version_major": 2,
       "version_minor": 0
      },
      "text/plain": [
       "training...: 0it [00:00, ?it/s]"
      ]
     },
     "metadata": {},
     "output_type": "display_data"
    },
    {
     "name": "stdout",
     "output_type": "stream",
     "text": [
      "epoch: 12 skip validation (train acc: 0.6199375)\n"
     ]
    },
    {
     "data": {
      "application/json": {
       "ascii": false,
       "bar_format": null,
       "colour": null,
       "elapsed": 0.014687776565551758,
       "initial": 0,
       "n": 0,
       "ncols": null,
       "nrows": 19,
       "postfix": null,
       "prefix": "training...",
       "rate": null,
       "total": null,
       "unit": "it",
       "unit_divisor": 1000,
       "unit_scale": false
      },
      "application/vnd.jupyter.widget-view+json": {
       "model_id": "06994f9cc2154e10a71c5ed9dc6ad9bd",
       "version_major": 2,
       "version_minor": 0
      },
      "text/plain": [
       "training...: 0it [00:00, ?it/s]"
      ]
     },
     "metadata": {},
     "output_type": "display_data"
    },
    {
     "name": "stdout",
     "output_type": "stream",
     "text": [
      "epoch: 13 skip validation (train acc: 0.629375)\n"
     ]
    },
    {
     "data": {
      "application/json": {
       "ascii": false,
       "bar_format": null,
       "colour": null,
       "elapsed": 0.015162467956542969,
       "initial": 0,
       "n": 0,
       "ncols": null,
       "nrows": 19,
       "postfix": null,
       "prefix": "training...",
       "rate": null,
       "total": null,
       "unit": "it",
       "unit_divisor": 1000,
       "unit_scale": false
      },
      "application/vnd.jupyter.widget-view+json": {
       "model_id": "f3a195095f964b2bb52ab6ad6d22bf11",
       "version_major": 2,
       "version_minor": 0
      },
      "text/plain": [
       "training...: 0it [00:00, ?it/s]"
      ]
     },
     "metadata": {},
     "output_type": "display_data"
    },
    {
     "name": "stdout",
     "output_type": "stream",
     "text": [
      "epoch: 14 skip validation (train acc: 0.64475)\n"
     ]
    },
    {
     "data": {
      "application/json": {
       "ascii": false,
       "bar_format": null,
       "colour": null,
       "elapsed": 0.015247583389282227,
       "initial": 0,
       "n": 0,
       "ncols": null,
       "nrows": 19,
       "postfix": null,
       "prefix": "training...",
       "rate": null,
       "total": null,
       "unit": "it",
       "unit_divisor": 1000,
       "unit_scale": false
      },
      "application/vnd.jupyter.widget-view+json": {
       "model_id": "0dd1be7d2dc240f6bc4141fec3891d37",
       "version_major": 2,
       "version_minor": 0
      },
      "text/plain": [
       "training...: 0it [00:00, ?it/s]"
      ]
     },
     "metadata": {},
     "output_type": "display_data"
    },
    {
     "name": "stdout",
     "output_type": "stream",
     "text": [
      "epoch: 15 skip validation (train acc: 0.6581875)\n"
     ]
    },
    {
     "data": {
      "application/json": {
       "ascii": false,
       "bar_format": null,
       "colour": null,
       "elapsed": 0.015190362930297852,
       "initial": 0,
       "n": 0,
       "ncols": null,
       "nrows": 19,
       "postfix": null,
       "prefix": "training...",
       "rate": null,
       "total": null,
       "unit": "it",
       "unit_divisor": 1000,
       "unit_scale": false
      },
      "application/vnd.jupyter.widget-view+json": {
       "model_id": "d9cd95d9e4ac4232b07e3fd73932eec4",
       "version_major": 2,
       "version_minor": 0
      },
      "text/plain": [
       "training...: 0it [00:00, ?it/s]"
      ]
     },
     "metadata": {},
     "output_type": "display_data"
    },
    {
     "name": "stdout",
     "output_type": "stream",
     "text": [
      "epoch: 16 skip validation (train acc: 0.6731875)\n"
     ]
    },
    {
     "data": {
      "application/json": {
       "ascii": false,
       "bar_format": null,
       "colour": null,
       "elapsed": 0.01191854476928711,
       "initial": 0,
       "n": 0,
       "ncols": null,
       "nrows": 19,
       "postfix": null,
       "prefix": "training...",
       "rate": null,
       "total": null,
       "unit": "it",
       "unit_divisor": 1000,
       "unit_scale": false
      },
      "application/vnd.jupyter.widget-view+json": {
       "model_id": "501283869dc94d5bbc975f1ea54f3a86",
       "version_major": 2,
       "version_minor": 0
      },
      "text/plain": [
       "training...: 0it [00:00, ?it/s]"
      ]
     },
     "metadata": {},
     "output_type": "display_data"
    },
    {
     "name": "stdout",
     "output_type": "stream",
     "text": [
      "epoch: 17 skip validation (train acc: 0.673875)\n"
     ]
    },
    {
     "data": {
      "application/json": {
       "ascii": false,
       "bar_format": null,
       "colour": null,
       "elapsed": 0.013756513595581055,
       "initial": 0,
       "n": 0,
       "ncols": null,
       "nrows": 19,
       "postfix": null,
       "prefix": "training...",
       "rate": null,
       "total": null,
       "unit": "it",
       "unit_divisor": 1000,
       "unit_scale": false
      },
      "application/vnd.jupyter.widget-view+json": {
       "model_id": "1affedda6fe2407587ba0f5e8605f698",
       "version_major": 2,
       "version_minor": 0
      },
      "text/plain": [
       "training...: 0it [00:00, ?it/s]"
      ]
     },
     "metadata": {},
     "output_type": "display_data"
    },
    {
     "name": "stdout",
     "output_type": "stream",
     "text": [
      "epoch: 18 skip validation (train acc: 0.6805625)\n"
     ]
    },
    {
     "data": {
      "application/json": {
       "ascii": false,
       "bar_format": null,
       "colour": null,
       "elapsed": 0.01624917984008789,
       "initial": 0,
       "n": 0,
       "ncols": null,
       "nrows": 19,
       "postfix": null,
       "prefix": "training...",
       "rate": null,
       "total": null,
       "unit": "it",
       "unit_divisor": 1000,
       "unit_scale": false
      },
      "application/vnd.jupyter.widget-view+json": {
       "model_id": "762327bd03e3403080f4a55c68b104fa",
       "version_major": 2,
       "version_minor": 0
      },
      "text/plain": [
       "training...: 0it [00:00, ?it/s]"
      ]
     },
     "metadata": {},
     "output_type": "display_data"
    },
    {
     "name": "stdout",
     "output_type": "stream",
     "text": [
      "epoch: 19 skip validation (train acc: 0.6879375)\n"
     ]
    },
    {
     "data": {
      "application/json": {
       "ascii": false,
       "bar_format": null,
       "colour": null,
       "elapsed": 0.01467442512512207,
       "initial": 0,
       "n": 0,
       "ncols": null,
       "nrows": 19,
       "postfix": null,
       "prefix": "training...",
       "rate": null,
       "total": null,
       "unit": "it",
       "unit_divisor": 1000,
       "unit_scale": false
      },
      "application/vnd.jupyter.widget-view+json": {
       "model_id": "9964611d2eb8427bb2e4af870ed20798",
       "version_major": 2,
       "version_minor": 0
      },
      "text/plain": [
       "training...: 0it [00:00, ?it/s]"
      ]
     },
     "metadata": {},
     "output_type": "display_data"
    },
    {
     "name": "stdout",
     "output_type": "stream",
     "text": [
      "epoch: 20 skip validation (train acc: 0.7041875)\n"
     ]
    },
    {
     "data": {
      "application/json": {
       "ascii": false,
       "bar_format": null,
       "colour": null,
       "elapsed": 0.01430654525756836,
       "initial": 0,
       "n": 0,
       "ncols": null,
       "nrows": 19,
       "postfix": null,
       "prefix": "training...",
       "rate": null,
       "total": null,
       "unit": "it",
       "unit_divisor": 1000,
       "unit_scale": false
      },
      "application/vnd.jupyter.widget-view+json": {
       "model_id": "0c1bf2e96d644fa3af6d7511ad532f57",
       "version_major": 2,
       "version_minor": 0
      },
      "text/plain": [
       "training...: 0it [00:00, ?it/s]"
      ]
     },
     "metadata": {},
     "output_type": "display_data"
    },
    {
     "name": "stdout",
     "output_type": "stream",
     "text": [
      "epoch: 21 skip validation (train acc: 0.70775)\n"
     ]
    },
    {
     "data": {
      "application/json": {
       "ascii": false,
       "bar_format": null,
       "colour": null,
       "elapsed": 0.010695934295654297,
       "initial": 0,
       "n": 0,
       "ncols": null,
       "nrows": 19,
       "postfix": null,
       "prefix": "training...",
       "rate": null,
       "total": null,
       "unit": "it",
       "unit_divisor": 1000,
       "unit_scale": false
      },
      "application/vnd.jupyter.widget-view+json": {
       "model_id": "12f34d09868b4adc9a3dd1d77aa24e0e",
       "version_major": 2,
       "version_minor": 0
      },
      "text/plain": [
       "training...: 0it [00:00, ?it/s]"
      ]
     },
     "metadata": {},
     "output_type": "display_data"
    },
    {
     "name": "stdout",
     "output_type": "stream",
     "text": [
      "epoch: 22 skip validation (train acc: 0.7105)\n"
     ]
    },
    {
     "data": {
      "application/json": {
       "ascii": false,
       "bar_format": null,
       "colour": null,
       "elapsed": 0.00846242904663086,
       "initial": 0,
       "n": 0,
       "ncols": null,
       "nrows": 19,
       "postfix": null,
       "prefix": "training...",
       "rate": null,
       "total": null,
       "unit": "it",
       "unit_divisor": 1000,
       "unit_scale": false
      },
      "application/vnd.jupyter.widget-view+json": {
       "model_id": "1314ad9ee1ae488d9ee96ff56dcba6ab",
       "version_major": 2,
       "version_minor": 0
      },
      "text/plain": [
       "training...: 0it [00:00, ?it/s]"
      ]
     },
     "metadata": {},
     "output_type": "display_data"
    },
    {
     "name": "stdout",
     "output_type": "stream",
     "text": [
      "epoch: 23 skip validation (train acc: 0.715875)\n"
     ]
    },
    {
     "data": {
      "application/json": {
       "ascii": false,
       "bar_format": null,
       "colour": null,
       "elapsed": 0.013180971145629883,
       "initial": 0,
       "n": 0,
       "ncols": null,
       "nrows": 19,
       "postfix": null,
       "prefix": "training...",
       "rate": null,
       "total": null,
       "unit": "it",
       "unit_divisor": 1000,
       "unit_scale": false
      },
      "application/vnd.jupyter.widget-view+json": {
       "model_id": "9942badae4cf4e8681e07747ef8e1838",
       "version_major": 2,
       "version_minor": 0
      },
      "text/plain": [
       "training...: 0it [00:00, ?it/s]"
      ]
     },
     "metadata": {},
     "output_type": "display_data"
    },
    {
     "name": "stdout",
     "output_type": "stream",
     "text": [
      "epoch: 24 skip validation (train acc: 0.7264375)\n"
     ]
    },
    {
     "data": {
      "application/json": {
       "ascii": false,
       "bar_format": null,
       "colour": null,
       "elapsed": 0.009230613708496094,
       "initial": 0,
       "n": 0,
       "ncols": null,
       "nrows": 19,
       "postfix": null,
       "prefix": "training...",
       "rate": null,
       "total": null,
       "unit": "it",
       "unit_divisor": 1000,
       "unit_scale": false
      },
      "application/vnd.jupyter.widget-view+json": {
       "model_id": "2d85b713bfcf43b381ce198cff04acc6",
       "version_major": 2,
       "version_minor": 0
      },
      "text/plain": [
       "training...: 0it [00:00, ?it/s]"
      ]
     },
     "metadata": {},
     "output_type": "display_data"
    },
    {
     "name": "stdout",
     "output_type": "stream",
     "text": [
      "epoch: 25 skip validation (train acc: 0.7295)\n"
     ]
    },
    {
     "data": {
      "application/json": {
       "ascii": false,
       "bar_format": null,
       "colour": null,
       "elapsed": 0.010050058364868164,
       "initial": 0,
       "n": 0,
       "ncols": null,
       "nrows": 19,
       "postfix": null,
       "prefix": "training...",
       "rate": null,
       "total": null,
       "unit": "it",
       "unit_divisor": 1000,
       "unit_scale": false
      },
      "application/vnd.jupyter.widget-view+json": {
       "model_id": "9e5db5b2959c462f88706da92f3e02b1",
       "version_major": 2,
       "version_minor": 0
      },
      "text/plain": [
       "training...: 0it [00:00, ?it/s]"
      ]
     },
     "metadata": {},
     "output_type": "display_data"
    },
    {
     "name": "stdout",
     "output_type": "stream",
     "text": [
      "epoch:26 train acc:0.736375 val acc:0.75725\n",
      "train acc: 0.736375 val_acc: 0.75725\n"
     ]
    },
    {
     "data": {
      "application/json": {
       "ascii": false,
       "bar_format": null,
       "colour": null,
       "elapsed": 0.012212276458740234,
       "initial": 0,
       "n": 0,
       "ncols": null,
       "nrows": 19,
       "postfix": null,
       "prefix": "training...",
       "rate": null,
       "total": null,
       "unit": "it",
       "unit_divisor": 1000,
       "unit_scale": false
      },
      "application/vnd.jupyter.widget-view+json": {
       "model_id": "04e758aa02b74f7a98050eed7ca8fefe",
       "version_major": 2,
       "version_minor": 0
      },
      "text/plain": [
       "training...: 0it [00:00, ?it/s]"
      ]
     },
     "metadata": {},
     "output_type": "display_data"
    },
    {
     "name": "stdout",
     "output_type": "stream",
     "text": [
      "epoch:27 train acc:0.748875 val acc:0.764\n",
      "train acc: 0.748875 val_acc: 0.764\n"
     ]
    },
    {
     "data": {
      "application/json": {
       "ascii": false,
       "bar_format": null,
       "colour": null,
       "elapsed": 0.010479927062988281,
       "initial": 0,
       "n": 0,
       "ncols": null,
       "nrows": 19,
       "postfix": null,
       "prefix": "training...",
       "rate": null,
       "total": null,
       "unit": "it",
       "unit_divisor": 1000,
       "unit_scale": false
      },
      "application/vnd.jupyter.widget-view+json": {
       "model_id": "a591bfaebf1546d2879290648ff47dd4",
       "version_major": 2,
       "version_minor": 0
      },
      "text/plain": [
       "training...: 0it [00:00, ?it/s]"
      ]
     },
     "metadata": {},
     "output_type": "display_data"
    },
    {
     "name": "stdout",
     "output_type": "stream",
     "text": [
      "epoch:28 train acc:0.752375 val acc:0.762\n"
     ]
    },
    {
     "data": {
      "application/json": {
       "ascii": false,
       "bar_format": null,
       "colour": null,
       "elapsed": 0.01202845573425293,
       "initial": 0,
       "n": 0,
       "ncols": null,
       "nrows": 19,
       "postfix": null,
       "prefix": "training...",
       "rate": null,
       "total": null,
       "unit": "it",
       "unit_divisor": 1000,
       "unit_scale": false
      },
      "application/vnd.jupyter.widget-view+json": {
       "model_id": "1157ac805d1b47c098a4447cc6b50223",
       "version_major": 2,
       "version_minor": 0
      },
      "text/plain": [
       "training...: 0it [00:00, ?it/s]"
      ]
     },
     "metadata": {},
     "output_type": "display_data"
    },
    {
     "name": "stdout",
     "output_type": "stream",
     "text": [
      "epoch:29 train acc:0.764125 val acc:0.7715\n",
      "train acc: 0.764125 val_acc: 0.7715\n"
     ]
    },
    {
     "data": {
      "application/json": {
       "ascii": false,
       "bar_format": null,
       "colour": null,
       "elapsed": 0.010497093200683594,
       "initial": 0,
       "n": 0,
       "ncols": null,
       "nrows": 19,
       "postfix": null,
       "prefix": "training...",
       "rate": null,
       "total": null,
       "unit": "it",
       "unit_divisor": 1000,
       "unit_scale": false
      },
      "application/vnd.jupyter.widget-view+json": {
       "model_id": "71e573d0067c4129bedcd147f9c199ef",
       "version_major": 2,
       "version_minor": 0
      },
      "text/plain": [
       "training...: 0it [00:00, ?it/s]"
      ]
     },
     "metadata": {},
     "output_type": "display_data"
    },
    {
     "name": "stdout",
     "output_type": "stream",
     "text": [
      "epoch:30 train acc:0.77225 val acc:0.77075\n"
     ]
    }
   ],
   "source": [
    "import copy\n",
    "model.to(device)\n",
    "best_val_acc = 0.\n",
    "save_train_acc = []\n",
    "save_val_acc = []\n",
    "save_train_loss= []\n",
    "save_val_loss = []\n",
    "print(\"Data name:\",data_name)\n",
    "for epoch in tqdm(range(0, args.EPOCHS + 1)):\n",
    "    train_acc, train_loss = train(train_loader, model, criterion, optimizer, device, epoch,data_name)\n",
    "    if epoch <26:\n",
    "        print(f\"epoch: {epoch} skip validation (train acc: {train_acc})\")\n",
    "        continue\n",
    "    val_acc,val_loss = eval(val_loader, model, criterion, device,data_name)\n",
    "    save_train_acc.append(train_acc)\n",
    "    save_val_acc.append(val_acc)\n",
    "    save_train_loss.append(train_loss)\n",
    "    save_val_loss.append(val_loss)\n",
    "    print(f\"epoch:{epoch} train acc:{train_acc} val acc:{val_acc}\")\n",
    "    state = {\n",
    "    'epoch': epoch,\n",
    "    'state_dict': model.state_dict(),\n",
    "    'optimizer':optimizer.state_dict(),\n",
    "    'train_acc':train_acc,\n",
    "    'val_acc':val_acc,   \n",
    "    }\n",
    "\n",
    "    if val_acc>best_val_acc:\n",
    "        best_val_acc = val_acc\n",
    "        best_model_path = (f'{experiment_path}/init_model_best_epoch{epoch}.pth')\n",
    "        #print(f\"epoch {epoch}: best model updated\")\n",
    "        print(\"train acc:\",train_acc, \"val_acc:\",val_acc)\n",
    "        #torch.save(state, best_model_path)\n",
    "        best_model = copy.deepcopy(model)\n",
    "\n",
    "    opt_state = {\n",
    "        'optimizer': optimizer.state_dict(),\n",
    "    }\n",
    "    scheduler.step()\n",
    "# save_experiment[\"init\"] = {'save_train_acc':save_train_acc,'save_val_acc':save_val_acc,'save_train_loss':save_train_loss,'save_val_loss':save_val_loss}"
   ]
  },
  {
   "cell_type": "code",
   "execution_count": 35,
   "id": "01cfe65e",
   "metadata": {},
   "outputs": [
    {
     "data": {
      "image/png": "[encoded data removed]",
      "text/plain": [
       "<Figure size 432x288 with 1 Axes>"
      ]
     },
     "metadata": {
      "needs_background": "light"
     },
     "output_type": "display_data"
    }
   ],
   "source": [
    "plt.plot(save_train_acc)\n",
    "plt.show()"
   ]
  },
  {
   "cell_type": "code",
   "execution_count": 36,
   "id": "0dfd0968",
   "metadata": {},
   "outputs": [
    {
     "data": {
      "text/plain": [
       "0.7715"
      ]
     },
     "execution_count": 36,
     "metadata": {},
     "output_type": "execute_result"
    }
   ],
   "source": [
    "best_val_acc"
   ]
  },
  {
   "cell_type": "markdown",
   "id": "952c1851",
   "metadata": {},
   "source": [
    "# Cars"
   ]
  },
  {
   "cell_type": "code",
   "execution_count": 37,
   "id": "c7caf458",
   "metadata": {},
   "outputs": [
    {
     "name": "stdout",
     "output_type": "stream",
     "text": [
      "stanford_cars_cropped 196\n",
      "saving dataloaders for dataset: stanford_cars_cropped\n"
     ]
    }
   ],
   "source": [
    "data_name = \"stanford_cars_cropped\"\n",
    "train_path = f\"/workspace/src/CH/SOTA/data/{data_name}/train/\"\n",
    "test_path = f\"/workspace/src/CH/SOTA/data/{data_name}/test/\"\n",
    "\n",
    "normalize = transforms.Normalize(mean=[0.485, 0.456, 0.406],\n",
    "                                     std=[0.229, 0.224, 0.225])\n",
    "\n",
    "train_transform = transforms.Compose([\n",
    "    transforms.RandomResizedCrop(224),\n",
    "    transforms.RandomHorizontalFlip(),\n",
    "    transforms.ToTensor(),\n",
    "    normalize,\n",
    "])\n",
    "\n",
    "test_transform = transforms.Compose([\n",
    "        transforms.Resize(256),\n",
    "        transforms.CenterCrop(224),\n",
    "        transforms.ToTensor(),\n",
    "        normalize,\n",
    "    ])\n",
    "\n",
    "train_dataset = torchvision.datasets.ImageFolder(train_path, transform = train_transform)\n",
    "val_dataset = torchvision.datasets.ImageFolder(test_path, transform = test_transform)\n",
    "num_classes = len(train_dataset.classes)\n",
    "print(data_name,num_classes)\n",
    "train_loader = torch.utils.data.DataLoader(\n",
    "        train_dataset, batch_size=args.BATCHSIZE, shuffle=True,\n",
    "        num_workers=args.WORKERS, pin_memory=True)\n",
    "val_loader = torch.utils.data.DataLoader(\n",
    "    val_dataset, batch_size=args.BATCHSIZE, shuffle=True,\n",
    "    num_workers=args.WORKERS, pin_memory=True)\n",
    "\n",
    "print(f\"saving dataloaders for dataset: {data_name}\")\n",
    "data_dict[data_name] = {\"train_loader\":copy.deepcopy(train_loader),\"val_loader\":copy.deepcopy(val_loader)}"
   ]
  },
  {
   "cell_type": "code",
   "execution_count": 38,
   "id": "b45fbb64",
   "metadata": {
    "scrolled": true
   },
   "outputs": [
    {
     "name": "stdout",
     "output_type": "stream",
     "text": [
      "Data name: stanford_cars_cropped\n"
     ]
    },
    {
     "data": {
      "application/json": {
       "ascii": false,
       "bar_format": null,
       "colour": null,
       "elapsed": 0.008849143981933594,
       "initial": 0,
       "n": 0,
       "ncols": null,
       "nrows": 19,
       "postfix": null,
       "prefix": "",
       "rate": null,
       "total": 31,
       "unit": "it",
       "unit_divisor": 1000,
       "unit_scale": false
      },
      "application/vnd.jupyter.widget-view+json": {
       "model_id": "58632354d1e54d97839660fce559f2a9",
       "version_major": 2,
       "version_minor": 0
      },
      "text/plain": [
       "  0%|          | 0/31 [00:00<?, ?it/s]"
      ]
     },
     "metadata": {},
     "output_type": "display_data"
    },
    {
     "data": {
      "application/json": {
       "ascii": false,
       "bar_format": null,
       "colour": null,
       "elapsed": 0.012104988098144531,
       "initial": 0,
       "n": 0,
       "ncols": null,
       "nrows": 19,
       "postfix": null,
       "prefix": "training...",
       "rate": null,
       "total": null,
       "unit": "it",
       "unit_divisor": 1000,
       "unit_scale": false
      },
      "application/vnd.jupyter.widget-view+json": {
       "model_id": "463c610fec3f47449f49c6833056d402",
       "version_major": 2,
       "version_minor": 0
      },
      "text/plain": [
       "training...: 0it [00:00, ?it/s]"
      ]
     },
     "metadata": {},
     "output_type": "display_data"
    },
    {
     "name": "stdout",
     "output_type": "stream",
     "text": [
      "epoch: 0 skip validation (train acc: 0.006862745098039216)\n"
     ]
    },
    {
     "data": {
      "application/json": {
       "ascii": false,
       "bar_format": null,
       "colour": null,
       "elapsed": 0.008281707763671875,
       "initial": 0,
       "n": 0,
       "ncols": null,
       "nrows": 19,
       "postfix": null,
       "prefix": "training...",
       "rate": null,
       "total": null,
       "unit": "it",
       "unit_divisor": 1000,
       "unit_scale": false
      },
      "application/vnd.jupyter.widget-view+json": {
       "model_id": "fe96e694d2ea4f19ba00944feedc77be",
       "version_major": 2,
       "version_minor": 0
      },
      "text/plain": [
       "training...: 0it [00:00, ?it/s]"
      ]
     },
     "metadata": {},
     "output_type": "display_data"
    },
    {
     "name": "stdout",
     "output_type": "stream",
     "text": [
      "epoch: 1 skip validation (train acc: 0.021813725490196077)\n"
     ]
    },
    {
     "data": {
      "application/json": {
       "ascii": false,
       "bar_format": null,
       "colour": null,
       "elapsed": 0.012258768081665039,
       "initial": 0,
       "n": 0,
       "ncols": null,
       "nrows": 19,
       "postfix": null,
       "prefix": "training...",
       "rate": null,
       "total": null,
       "unit": "it",
       "unit_divisor": 1000,
       "unit_scale": false
      },
      "application/vnd.jupyter.widget-view+json": {
       "model_id": "578e35409c054a76b461060ff03a617e",
       "version_major": 2,
       "version_minor": 0
      },
      "text/plain": [
       "training...: 0it [00:00, ?it/s]"
      ]
     },
     "metadata": {},
     "output_type": "display_data"
    },
    {
     "name": "stdout",
     "output_type": "stream",
     "text": [
      "epoch: 2 skip validation (train acc: 0.06850490196078432)\n"
     ]
    },
    {
     "data": {
      "application/json": {
       "ascii": false,
       "bar_format": null,
       "colour": null,
       "elapsed": 0.01039886474609375,
       "initial": 0,
       "n": 0,
       "ncols": null,
       "nrows": 19,
       "postfix": null,
       "prefix": "training...",
       "rate": null,
       "total": null,
       "unit": "it",
       "unit_divisor": 1000,
       "unit_scale": false
      },
      "application/vnd.jupyter.widget-view+json": {
       "model_id": "4a4305889b84439781d621aaa2d5166e",
       "version_major": 2,
       "version_minor": 0
      },
      "text/plain": [
       "training...: 0it [00:00, ?it/s]"
      ]
     },
     "metadata": {},
     "output_type": "display_data"
    },
    {
     "name": "stdout",
     "output_type": "stream",
     "text": [
      "epoch: 3 skip validation (train acc: 0.11299019607843137)\n"
     ]
    },
    {
     "data": {
      "application/json": {
       "ascii": false,
       "bar_format": null,
       "colour": null,
       "elapsed": 0.013218879699707031,
       "initial": 0,
       "n": 0,
       "ncols": null,
       "nrows": 19,
       "postfix": null,
       "prefix": "training...",
       "rate": null,
       "total": null,
       "unit": "it",
       "unit_divisor": 1000,
       "unit_scale": false
      },
      "application/vnd.jupyter.widget-view+json": {
       "model_id": "1c7acc7f8c34423283341bd3d025404a",
       "version_major": 2,
       "version_minor": 0
      },
      "text/plain": [
       "training...: 0it [00:00, ?it/s]"
      ]
     },
     "metadata": {},
     "output_type": "display_data"
    },
    {
     "name": "stdout",
     "output_type": "stream",
     "text": [
      "epoch: 4 skip validation (train acc: 0.16997549019607844)\n"
     ]
    },
    {
     "data": {
      "application/json": {
       "ascii": false,
       "bar_format": null,
       "colour": null,
       "elapsed": 0.010769844055175781,
       "initial": 0,
       "n": 0,
       "ncols": null,
       "nrows": 19,
       "postfix": null,
       "prefix": "training...",
       "rate": null,
       "total": null,
       "unit": "it",
       "unit_divisor": 1000,
       "unit_scale": false
      },
      "application/vnd.jupyter.widget-view+json": {
       "model_id": "d5d00e370adc435395e671a1bec93962",
       "version_major": 2,
       "version_minor": 0
      },
      "text/plain": [
       "training...: 0it [00:00, ?it/s]"
      ]
     },
     "metadata": {},
     "output_type": "display_data"
    },
    {
     "name": "stdout",
     "output_type": "stream",
     "text": [
      "epoch: 5 skip validation (train acc: 0.21764705882352942)\n"
     ]
    },
    {
     "data": {
      "application/json": {
       "ascii": false,
       "bar_format": null,
       "colour": null,
       "elapsed": 0.009252786636352539,
       "initial": 0,
       "n": 0,
       "ncols": null,
       "nrows": 19,
       "postfix": null,
       "prefix": "training...",
       "rate": null,
       "total": null,
       "unit": "it",
       "unit_divisor": 1000,
       "unit_scale": false
      },
      "application/vnd.jupyter.widget-view+json": {
       "model_id": "4ee29bf208f9417db07e8fd6811128a7",
       "version_major": 2,
       "version_minor": 0
      },
      "text/plain": [
       "training...: 0it [00:00, ?it/s]"
      ]
     },
     "metadata": {},
     "output_type": "display_data"
    },
    {
     "name": "stdout",
     "output_type": "stream",
     "text": [
      "epoch: 6 skip validation (train acc: 0.2667892156862745)\n"
     ]
    },
    {
     "data": {
      "application/json": {
       "ascii": false,
       "bar_format": null,
       "colour": null,
       "elapsed": 0.00929117202758789,
       "initial": 0,
       "n": 0,
       "ncols": null,
       "nrows": 19,
       "postfix": null,
       "prefix": "training...",
       "rate": null,
       "total": null,
       "unit": "it",
       "unit_divisor": 1000,
       "unit_scale": false
      },
      "application/vnd.jupyter.widget-view+json": {
       "model_id": "8706c90b039a44baa520bf465d77c5a4",
       "version_major": 2,
       "version_minor": 0
      },
      "text/plain": [
       "training...: 0it [00:00, ?it/s]"
      ]
     },
     "metadata": {},
     "output_type": "display_data"
    },
    {
     "name": "stdout",
     "output_type": "stream",
     "text": [
      "epoch: 7 skip validation (train acc: 0.31262254901960784)\n"
     ]
    },
    {
     "data": {
      "application/json": {
       "ascii": false,
       "bar_format": null,
       "colour": null,
       "elapsed": 0.013889312744140625,
       "initial": 0,
       "n": 0,
       "ncols": null,
       "nrows": 19,
       "postfix": null,
       "prefix": "training...",
       "rate": null,
       "total": null,
       "unit": "it",
       "unit_divisor": 1000,
       "unit_scale": false
      },
      "application/vnd.jupyter.widget-view+json": {
       "model_id": "fcca3301d7c548429cf336356f1c2617",
       "version_major": 2,
       "version_minor": 0
      },
      "text/plain": [
       "training...: 0it [00:00, ?it/s]"
      ]
     },
     "metadata": {},
     "output_type": "display_data"
    },
    {
     "name": "stdout",
     "output_type": "stream",
     "text": [
      "epoch: 8 skip validation (train acc: 0.35428921568627453)\n"
     ]
    },
    {
     "data": {
      "application/json": {
       "ascii": false,
       "bar_format": null,
       "colour": null,
       "elapsed": 0.010486125946044922,
       "initial": 0,
       "n": 0,
       "ncols": null,
       "nrows": 19,
       "postfix": null,
       "prefix": "training...",
       "rate": null,
       "total": null,
       "unit": "it",
       "unit_divisor": 1000,
       "unit_scale": false
      },
      "application/vnd.jupyter.widget-view+json": {
       "model_id": "678a2a03d4fb4de0b3f2b9c2877d944a",
       "version_major": 2,
       "version_minor": 0
      },
      "text/plain": [
       "training...: 0it [00:00, ?it/s]"
      ]
     },
     "metadata": {},
     "output_type": "display_data"
    },
    {
     "name": "stdout",
     "output_type": "stream",
     "text": [
      "epoch: 9 skip validation (train acc: 0.4082107843137255)\n"
     ]
    },
    {
     "data": {
      "application/json": {
       "ascii": false,
       "bar_format": null,
       "colour": null,
       "elapsed": 0.013936281204223633,
       "initial": 0,
       "n": 0,
       "ncols": null,
       "nrows": 19,
       "postfix": null,
       "prefix": "training...",
       "rate": null,
       "total": null,
       "unit": "it",
       "unit_divisor": 1000,
       "unit_scale": false
      },
      "application/vnd.jupyter.widget-view+json": {
       "model_id": "77b178dd4d7941978b4e657ffca299fe",
       "version_major": 2,
       "version_minor": 0
      },
      "text/plain": [
       "training...: 0it [00:00, ?it/s]"
      ]
     },
     "metadata": {},
     "output_type": "display_data"
    },
    {
     "name": "stdout",
     "output_type": "stream",
     "text": [
      "epoch: 10 skip validation (train acc: 0.4420343137254902)\n"
     ]
    },
    {
     "data": {
      "application/json": {
       "ascii": false,
       "bar_format": null,
       "colour": null,
       "elapsed": 0.011505126953125,
       "initial": 0,
       "n": 0,
       "ncols": null,
       "nrows": 19,
       "postfix": null,
       "prefix": "training...",
       "rate": null,
       "total": null,
       "unit": "it",
       "unit_divisor": 1000,
       "unit_scale": false
      },
      "application/vnd.jupyter.widget-view+json": {
       "model_id": "296e8ec0e6094ec18c5c97f548b18a0d",
       "version_major": 2,
       "version_minor": 0
      },
      "text/plain": [
       "training...: 0it [00:00, ?it/s]"
      ]
     },
     "metadata": {},
     "output_type": "display_data"
    },
    {
     "name": "stdout",
     "output_type": "stream",
     "text": [
      "epoch: 11 skip validation (train acc: 0.47463235294117645)\n"
     ]
    },
    {
     "data": {
      "application/json": {
       "ascii": false,
       "bar_format": null,
       "colour": null,
       "elapsed": 0.0076329708099365234,
       "initial": 0,
       "n": 0,
       "ncols": null,
       "nrows": 19,
       "postfix": null,
       "prefix": "training...",
       "rate": null,
       "total": null,
       "unit": "it",
       "unit_divisor": 1000,
       "unit_scale": false
      },
      "application/vnd.jupyter.widget-view+json": {
       "model_id": "4960b8da67fc4709bd598e1d4edf0f2a",
       "version_major": 2,
       "version_minor": 0
      },
      "text/plain": [
       "training...: 0it [00:00, ?it/s]"
      ]
     },
     "metadata": {},
     "output_type": "display_data"
    },
    {
     "name": "stdout",
     "output_type": "stream",
     "text": [
      "epoch: 12 skip validation (train acc: 0.5084558823529411)\n"
     ]
    },
    {
     "data": {
      "application/json": {
       "ascii": false,
       "bar_format": null,
       "colour": null,
       "elapsed": 0.011353015899658203,
       "initial": 0,
       "n": 0,
       "ncols": null,
       "nrows": 19,
       "postfix": null,
       "prefix": "training...",
       "rate": null,
       "total": null,
       "unit": "it",
       "unit_divisor": 1000,
       "unit_scale": false
      },
      "application/vnd.jupyter.widget-view+json": {
       "model_id": "5718063a49ce4499b4569180b5aa24b4",
       "version_major": 2,
       "version_minor": 0
      },
      "text/plain": [
       "training...: 0it [00:00, ?it/s]"
      ]
     },
     "metadata": {},
     "output_type": "display_data"
    },
    {
     "name": "stdout",
     "output_type": "stream",
     "text": [
      "epoch: 13 skip validation (train acc: 0.527328431372549)\n"
     ]
    },
    {
     "data": {
      "application/json": {
       "ascii": false,
       "bar_format": null,
       "colour": null,
       "elapsed": 0.011161327362060547,
       "initial": 0,
       "n": 0,
       "ncols": null,
       "nrows": 19,
       "postfix": null,
       "prefix": "training...",
       "rate": null,
       "total": null,
       "unit": "it",
       "unit_divisor": 1000,
       "unit_scale": false
      },
      "application/vnd.jupyter.widget-view+json": {
       "model_id": "33367b00c6bc440fa1ad39c935f41bdf",
       "version_major": 2,
       "version_minor": 0
      },
      "text/plain": [
       "training...: 0it [00:00, ?it/s]"
      ]
     },
     "metadata": {},
     "output_type": "display_data"
    },
    {
     "name": "stdout",
     "output_type": "stream",
     "text": [
      "epoch: 14 skip validation (train acc: 0.5572303921568628)\n"
     ]
    },
    {
     "data": {
      "application/json": {
       "ascii": false,
       "bar_format": null,
       "colour": null,
       "elapsed": 0.012485265731811523,
       "initial": 0,
       "n": 0,
       "ncols": null,
       "nrows": 19,
       "postfix": null,
       "prefix": "training...",
       "rate": null,
       "total": null,
       "unit": "it",
       "unit_divisor": 1000,
       "unit_scale": false
      },
      "application/vnd.jupyter.widget-view+json": {
       "model_id": "4b1936e00daf483bb0e96ea496683735",
       "version_major": 2,
       "version_minor": 0
      },
      "text/plain": [
       "training...: 0it [00:00, ?it/s]"
      ]
     },
     "metadata": {},
     "output_type": "display_data"
    },
    {
     "name": "stdout",
     "output_type": "stream",
     "text": [
      "epoch: 15 skip validation (train acc: 0.5887254901960784)\n"
     ]
    },
    {
     "data": {
      "application/json": {
       "ascii": false,
       "bar_format": null,
       "colour": null,
       "elapsed": 0.014147043228149414,
       "initial": 0,
       "n": 0,
       "ncols": null,
       "nrows": 19,
       "postfix": null,
       "prefix": "training...",
       "rate": null,
       "total": null,
       "unit": "it",
       "unit_divisor": 1000,
       "unit_scale": false
      },
      "application/vnd.jupyter.widget-view+json": {
       "model_id": "8003fe3498ed4bf99eff714581f110d5",
       "version_major": 2,
       "version_minor": 0
      },
      "text/plain": [
       "training...: 0it [00:00, ?it/s]"
      ]
     },
     "metadata": {},
     "output_type": "display_data"
    },
    {
     "name": "stdout",
     "output_type": "stream",
     "text": [
      "epoch: 16 skip validation (train acc: 0.6028186274509804)\n"
     ]
    },
    {
     "data": {
      "application/json": {
       "ascii": false,
       "bar_format": null,
       "colour": null,
       "elapsed": 0.010818958282470703,
       "initial": 0,
       "n": 0,
       "ncols": null,
       "nrows": 19,
       "postfix": null,
       "prefix": "training...",
       "rate": null,
       "total": null,
       "unit": "it",
       "unit_divisor": 1000,
       "unit_scale": false
      },
      "application/vnd.jupyter.widget-view+json": {
       "model_id": "0c94f76d44224f9a94371601916e8acf",
       "version_major": 2,
       "version_minor": 0
      },
      "text/plain": [
       "training...: 0it [00:00, ?it/s]"
      ]
     },
     "metadata": {},
     "output_type": "display_data"
    },
    {
     "name": "stdout",
     "output_type": "stream",
     "text": [
      "epoch: 17 skip validation (train acc: 0.6214460784313726)\n"
     ]
    },
    {
     "data": {
      "application/json": {
       "ascii": false,
       "bar_format": null,
       "colour": null,
       "elapsed": 0.011277914047241211,
       "initial": 0,
       "n": 0,
       "ncols": null,
       "nrows": 19,
       "postfix": null,
       "prefix": "training...",
       "rate": null,
       "total": null,
       "unit": "it",
       "unit_divisor": 1000,
       "unit_scale": false
      },
      "application/vnd.jupyter.widget-view+json": {
       "model_id": "6fc58d84d3ec4a59b05a59f8960ebd22",
       "version_major": 2,
       "version_minor": 0
      },
      "text/plain": [
       "training...: 0it [00:00, ?it/s]"
      ]
     },
     "metadata": {},
     "output_type": "display_data"
    },
    {
     "name": "stdout",
     "output_type": "stream",
     "text": [
      "epoch: 18 skip validation (train acc: 0.6368872549019607)\n"
     ]
    },
    {
     "data": {
      "application/json": {
       "ascii": false,
       "bar_format": null,
       "colour": null,
       "elapsed": 0.01199960708618164,
       "initial": 0,
       "n": 0,
       "ncols": null,
       "nrows": 19,
       "postfix": null,
       "prefix": "training...",
       "rate": null,
       "total": null,
       "unit": "it",
       "unit_divisor": 1000,
       "unit_scale": false
      },
      "application/vnd.jupyter.widget-view+json": {
       "model_id": "55aafa99bc6f4e3abb3b3aad382dc955",
       "version_major": 2,
       "version_minor": 0
      },
      "text/plain": [
       "training...: 0it [00:00, ?it/s]"
      ]
     },
     "metadata": {},
     "output_type": "display_data"
    },
    {
     "name": "stdout",
     "output_type": "stream",
     "text": [
      "epoch: 19 skip validation (train acc: 0.6664215686274509)\n"
     ]
    },
    {
     "data": {
      "application/json": {
       "ascii": false,
       "bar_format": null,
       "colour": null,
       "elapsed": 0.011275053024291992,
       "initial": 0,
       "n": 0,
       "ncols": null,
       "nrows": 19,
       "postfix": null,
       "prefix": "training...",
       "rate": null,
       "total": null,
       "unit": "it",
       "unit_divisor": 1000,
       "unit_scale": false
      },
      "application/vnd.jupyter.widget-view+json": {
       "model_id": "d80fd730c071436d985e1fe5da9327c7",
       "version_major": 2,
       "version_minor": 0
      },
      "text/plain": [
       "training...: 0it [00:00, ?it/s]"
      ]
     },
     "metadata": {},
     "output_type": "display_data"
    },
    {
     "name": "stdout",
     "output_type": "stream",
     "text": [
      "epoch: 20 skip validation (train acc: 0.6783088235294118)\n"
     ]
    },
    {
     "data": {
      "application/json": {
       "ascii": false,
       "bar_format": null,
       "colour": null,
       "elapsed": 0.009258747100830078,
       "initial": 0,
       "n": 0,
       "ncols": null,
       "nrows": 19,
       "postfix": null,
       "prefix": "training...",
       "rate": null,
       "total": null,
       "unit": "it",
       "unit_divisor": 1000,
       "unit_scale": false
      },
      "application/vnd.jupyter.widget-view+json": {
       "model_id": "fae814b740124929a56da498b2b8d80f",
       "version_major": 2,
       "version_minor": 0
      },
      "text/plain": [
       "training...: 0it [00:00, ?it/s]"
      ]
     },
     "metadata": {},
     "output_type": "display_data"
    },
    {
     "name": "stdout",
     "output_type": "stream",
     "text": [
      "epoch: 21 skip validation (train acc: 0.6811274509803922)\n"
     ]
    },
    {
     "data": {
      "application/json": {
       "ascii": false,
       "bar_format": null,
       "colour": null,
       "elapsed": 0.01717376708984375,
       "initial": 0,
       "n": 0,
       "ncols": null,
       "nrows": 19,
       "postfix": null,
       "prefix": "training...",
       "rate": null,
       "total": null,
       "unit": "it",
       "unit_divisor": 1000,
       "unit_scale": false
      },
      "application/vnd.jupyter.widget-view+json": {
       "model_id": "06a525c196cc44d9b5ba6cbd352512d5",
       "version_major": 2,
       "version_minor": 0
      },
      "text/plain": [
       "training...: 0it [00:00, ?it/s]"
      ]
     },
     "metadata": {},
     "output_type": "display_data"
    },
    {
     "name": "stdout",
     "output_type": "stream",
     "text": [
      "epoch: 22 skip validation (train acc: 0.6943627450980392)\n"
     ]
    },
    {
     "data": {
      "application/json": {
       "ascii": false,
       "bar_format": null,
       "colour": null,
       "elapsed": 0.01020503044128418,
       "initial": 0,
       "n": 0,
       "ncols": null,
       "nrows": 19,
       "postfix": null,
       "prefix": "training...",
       "rate": null,
       "total": null,
       "unit": "it",
       "unit_divisor": 1000,
       "unit_scale": false
      },
      "application/vnd.jupyter.widget-view+json": {
       "model_id": "e347721ca916462cbdaa2c7ffc1bcf8b",
       "version_major": 2,
       "version_minor": 0
      },
      "text/plain": [
       "training...: 0it [00:00, ?it/s]"
      ]
     },
     "metadata": {},
     "output_type": "display_data"
    },
    {
     "name": "stdout",
     "output_type": "stream",
     "text": [
      "epoch: 23 skip validation (train acc: 0.7091911764705883)\n"
     ]
    },
    {
     "data": {
      "application/json": {
       "ascii": false,
       "bar_format": null,
       "colour": null,
       "elapsed": 0.010778427124023438,
       "initial": 0,
       "n": 0,
       "ncols": null,
       "nrows": 19,
       "postfix": null,
       "prefix": "training...",
       "rate": null,
       "total": null,
       "unit": "it",
       "unit_divisor": 1000,
       "unit_scale": false
      },
      "application/vnd.jupyter.widget-view+json": {
       "model_id": "72bf31a25fe94f5793200ed97031c5c2",
       "version_major": 2,
       "version_minor": 0
      },
      "text/plain": [
       "training...: 0it [00:00, ?it/s]"
      ]
     },
     "metadata": {},
     "output_type": "display_data"
    },
    {
     "name": "stdout",
     "output_type": "stream",
     "text": [
      "epoch: 24 skip validation (train acc: 0.7235294117647059)\n"
     ]
    },
    {
     "data": {
      "application/json": {
       "ascii": false,
       "bar_format": null,
       "colour": null,
       "elapsed": 0.010543346405029297,
       "initial": 0,
       "n": 0,
       "ncols": null,
       "nrows": 19,
       "postfix": null,
       "prefix": "training...",
       "rate": null,
       "total": null,
       "unit": "it",
       "unit_divisor": 1000,
       "unit_scale": false
      },
      "application/vnd.jupyter.widget-view+json": {
       "model_id": "3d5b1ccb69f4437faaa8d7c9a1800943",
       "version_major": 2,
       "version_minor": 0
      },
      "text/plain": [
       "training...: 0it [00:00, ?it/s]"
      ]
     },
     "metadata": {},
     "output_type": "display_data"
    },
    {
     "name": "stdout",
     "output_type": "stream",
     "text": [
      "epoch: 25 skip validation (train acc: 0.7264705882352941)\n"
     ]
    },
    {
     "data": {
      "application/json": {
       "ascii": false,
       "bar_format": null,
       "colour": null,
       "elapsed": 0.013690471649169922,
       "initial": 0,
       "n": 0,
       "ncols": null,
       "nrows": 19,
       "postfix": null,
       "prefix": "training...",
       "rate": null,
       "total": null,
       "unit": "it",
       "unit_divisor": 1000,
       "unit_scale": false
      },
      "application/vnd.jupyter.widget-view+json": {
       "model_id": "941789bb48a343bca048b05e7a59ee37",
       "version_major": 2,
       "version_minor": 0
      },
      "text/plain": [
       "training...: 0it [00:00, ?it/s]"
      ]
     },
     "metadata": {},
     "output_type": "display_data"
    },
    {
     "name": "stdout",
     "output_type": "stream",
     "text": [
      "epoch:26 train acc:0.7446078431372549 val acc:0.7748429233592654\n",
      "train acc: 0.7446078431372549 val_acc: 0.7748429233592654\n"
     ]
    },
    {
     "data": {
      "application/json": {
       "ascii": false,
       "bar_format": null,
       "colour": null,
       "elapsed": 0.01097726821899414,
       "initial": 0,
       "n": 0,
       "ncols": null,
       "nrows": 19,
       "postfix": null,
       "prefix": "training...",
       "rate": null,
       "total": null,
       "unit": "it",
       "unit_divisor": 1000,
       "unit_scale": false
      },
      "application/vnd.jupyter.widget-view+json": {
       "model_id": "a71984dc5259485fbc592f2d296f94e7",
       "version_major": 2,
       "version_minor": 0
      },
      "text/plain": [
       "training...: 0it [00:00, ?it/s]"
      ]
     },
     "metadata": {},
     "output_type": "display_data"
    },
    {
     "name": "stdout",
     "output_type": "stream",
     "text": [
      "epoch:27 train acc:0.7567401960784313 val acc:0.7824900793650794\n",
      "train acc: 0.7567401960784313 val_acc: 0.7824900793650794\n"
     ]
    },
    {
     "data": {
      "application/json": {
       "ascii": false,
       "bar_format": null,
       "colour": null,
       "elapsed": 0.01315927505493164,
       "initial": 0,
       "n": 0,
       "ncols": null,
       "nrows": 19,
       "postfix": null,
       "prefix": "training...",
       "rate": null,
       "total": null,
       "unit": "it",
       "unit_divisor": 1000,
       "unit_scale": false
      },
      "application/vnd.jupyter.widget-view+json": {
       "model_id": "79b28a32ea514aceab5c27d94083b11f",
       "version_major": 2,
       "version_minor": 0
      },
      "text/plain": [
       "training...: 0it [00:00, ?it/s]"
      ]
     },
     "metadata": {},
     "output_type": "display_data"
    },
    {
     "name": "stdout",
     "output_type": "stream",
     "text": [
      "epoch:28 train acc:0.7633578431372549 val acc:0.7845844356786638\n",
      "train acc: 0.7633578431372549 val_acc: 0.7845844356786638\n"
     ]
    },
    {
     "data": {
      "application/json": {
       "ascii": false,
       "bar_format": null,
       "colour": null,
       "elapsed": 0.014521121978759766,
       "initial": 0,
       "n": 0,
       "ncols": null,
       "nrows": 19,
       "postfix": null,
       "prefix": "training...",
       "rate": null,
       "total": null,
       "unit": "it",
       "unit_divisor": 1000,
       "unit_scale": false
      },
      "application/vnd.jupyter.widget-view+json": {
       "model_id": "fafde5896bad4d32a8bc4438665b7e0f",
       "version_major": 2,
       "version_minor": 0
      },
      "text/plain": [
       "training...: 0it [00:00, ?it/s]"
      ]
     },
     "metadata": {},
     "output_type": "display_data"
    },
    {
     "name": "stdout",
     "output_type": "stream",
     "text": [
      "epoch:29 train acc:0.7827205882352941 val acc:0.7933338845059985\n",
      "train acc: 0.7827205882352941 val_acc: 0.7933338845059985\n"
     ]
    },
    {
     "data": {
      "application/json": {
       "ascii": false,
       "bar_format": null,
       "colour": null,
       "elapsed": 0.013250112533569336,
       "initial": 0,
       "n": 0,
       "ncols": null,
       "nrows": 19,
       "postfix": null,
       "prefix": "training...",
       "rate": null,
       "total": null,
       "unit": "it",
       "unit_divisor": 1000,
       "unit_scale": false
      },
      "application/vnd.jupyter.widget-view+json": {
       "model_id": "7a5f989005d94ed798f7da816adda1bc",
       "version_major": 2,
       "version_minor": 0
      },
      "text/plain": [
       "training...: 0it [00:00, ?it/s]"
      ]
     },
     "metadata": {},
     "output_type": "display_data"
    },
    {
     "name": "stdout",
     "output_type": "stream",
     "text": [
      "epoch:30 train acc:0.7938725490196078 val acc:0.8010774912342192\n",
      "train acc: 0.7938725490196078 val_acc: 0.8010774912342192\n"
     ]
    }
   ],
   "source": [
    "import copy\n",
    "model.to(device)\n",
    "best_val_acc = 0.\n",
    "save_train_acc = []\n",
    "save_val_acc = []\n",
    "save_train_loss= []\n",
    "save_val_loss = []\n",
    "print(\"Data name:\",data_name)\n",
    "for epoch in tqdm(range(0, args.EPOCHS + 1)):\n",
    "    train_acc, train_loss = train(train_loader, model, criterion, optimizer, device, epoch,data_name)\n",
    "    if epoch <26:\n",
    "        print(f\"epoch: {epoch} skip validation (train acc: {train_acc})\")\n",
    "        continue\n",
    "    val_acc,val_loss = eval(val_loader, model, criterion, device,data_name)\n",
    "    save_train_acc.append(train_acc)\n",
    "    save_val_acc.append(val_acc)\n",
    "    save_train_loss.append(train_loss)\n",
    "    save_val_loss.append(val_loss)\n",
    "    print(f\"epoch:{epoch} train acc:{train_acc} val acc:{val_acc}\")\n",
    "    state = {\n",
    "    'epoch': epoch,\n",
    "    'state_dict': model.state_dict(),\n",
    "    'optimizer':optimizer.state_dict(),\n",
    "    'train_acc':train_acc,\n",
    "    'val_acc':val_acc,   \n",
    "    }\n",
    "\n",
    "    if val_acc>best_val_acc:\n",
    "        best_val_acc = val_acc\n",
    "        best_model_path = (f'{experiment_path}/init_model_best_epoch{epoch}.pth')\n",
    "        #print(f\"epoch {epoch}: best model updated\")\n",
    "        print(\"train acc:\",train_acc, \"val_acc:\",val_acc)\n",
    "        #torch.save(state, best_model_path)\n",
    "        best_model = copy.deepcopy(model)\n",
    "\n",
    "    opt_state = {\n",
    "        'optimizer': optimizer.state_dict(),\n",
    "    }\n",
    "    scheduler.step()\n",
    "# save_experiment[\"init\"] = {'save_train_acc':save_train_acc,'save_val_acc':save_val_acc,'save_train_loss':save_train_loss,'save_val_loss':save_val_loss}"
   ]
  },
  {
   "cell_type": "code",
   "execution_count": 39,
   "id": "c5c5e165",
   "metadata": {},
   "outputs": [
    {
     "data": {
      "image/png": "[encoded data removed]",
      "text/plain": [
       "<Figure size 432x288 with 1 Axes>"
      ]
     },
     "metadata": {
      "needs_background": "light"
     },
     "output_type": "display_data"
    }
   ],
   "source": [
    "plt.plot(save_train_acc)\n",
    "plt.show()"
   ]
  },
  {
   "cell_type": "code",
   "execution_count": 40,
   "id": "8dddf6de",
   "metadata": {},
   "outputs": [
    {
     "data": {
      "text/plain": [
       "0.8010774912342192"
      ]
     },
     "execution_count": 40,
     "metadata": {},
     "output_type": "execute_result"
    }
   ],
   "source": [
    "best_val_acc"
   ]
  },
  {
   "cell_type": "markdown",
   "id": "a16cd66b",
   "metadata": {},
   "source": [
    "# CUB"
   ]
  },
  {
   "cell_type": "code",
   "execution_count": 41,
   "id": "19da354a",
   "metadata": {},
   "outputs": [
    {
     "name": "stdout",
     "output_type": "stream",
     "text": [
      "cubs_cropped 200\n",
      "saving dataloaders for dataset: cubs_cropped\n"
     ]
    }
   ],
   "source": [
    "\n",
    "data_name = \"cubs_cropped\"#\"stanford_cars_cropped\"\n",
    "train_path = f\"/workspace/src/CH/SOTA/data/{data_name}/train/\"\n",
    "test_path = f\"/workspace/src/CH/SOTA/data/{data_name}/test/\"\n",
    "\n",
    "normalize = transforms.Normalize(mean=[0.485, 0.456, 0.406],\n",
    "                                     std=[0.229, 0.224, 0.225])\n",
    "\n",
    "train_transform = transforms.Compose([\n",
    "    transforms.RandomResizedCrop(224),\n",
    "    transforms.RandomHorizontalFlip(),\n",
    "    transforms.ToTensor(),\n",
    "    normalize,\n",
    "])\n",
    "\n",
    "test_transform = transforms.Compose([\n",
    "        transforms.Resize(256),\n",
    "        transforms.CenterCrop(224),\n",
    "        transforms.ToTensor(),\n",
    "        normalize,\n",
    "    ])\n",
    "\n",
    "train_dataset = torchvision.datasets.ImageFolder(train_path, transform = train_transform)\n",
    "val_dataset = torchvision.datasets.ImageFolder(test_path, transform = test_transform)\n",
    "num_classes = len(train_dataset.classes)\n",
    "print(data_name,num_classes)\n",
    "train_loader = torch.utils.data.DataLoader(\n",
    "        train_dataset, batch_size=args.BATCHSIZE, shuffle=True,\n",
    "        num_workers=args.WORKERS, pin_memory=True)\n",
    "val_loader = torch.utils.data.DataLoader(\n",
    "    val_dataset, batch_size=args.BATCHSIZE, shuffle=True,\n",
    "    num_workers=args.WORKERS, pin_memory=True)\n",
    "\n",
    "print(f\"saving dataloaders for dataset: {data_name}\")\n",
    "data_dict[data_name] = {\"train_loader\":copy.deepcopy(train_loader),\"val_loader\":copy.deepcopy(val_loader)}"
   ]
  },
  {
   "cell_type": "code",
   "execution_count": 42,
   "id": "cedf31c0",
   "metadata": {
    "scrolled": true
   },
   "outputs": [
    {
     "name": "stdout",
     "output_type": "stream",
     "text": [
      "Data name: cubs_cropped\n"
     ]
    },
    {
     "data": {
      "application/json": {
       "ascii": false,
       "bar_format": null,
       "colour": null,
       "elapsed": 0.005228996276855469,
       "initial": 0,
       "n": 0,
       "ncols": null,
       "nrows": 19,
       "postfix": null,
       "prefix": "",
       "rate": null,
       "total": 31,
       "unit": "it",
       "unit_divisor": 1000,
       "unit_scale": false
      },
      "application/vnd.jupyter.widget-view+json": {
       "model_id": "d75395e7dc14469a854339315cca22cb",
       "version_major": 2,
       "version_minor": 0
      },
      "text/plain": [
       "  0%|          | 0/31 [00:00<?, ?it/s]"
      ]
     },
     "metadata": {},
     "output_type": "display_data"
    },
    {
     "data": {
      "application/json": {
       "ascii": false,
       "bar_format": null,
       "colour": null,
       "elapsed": 0.010835647583007812,
       "initial": 0,
       "n": 0,
       "ncols": null,
       "nrows": 19,
       "postfix": null,
       "prefix": "training...",
       "rate": null,
       "total": null,
       "unit": "it",
       "unit_divisor": 1000,
       "unit_scale": false
      },
      "application/vnd.jupyter.widget-view+json": {
       "model_id": "42ba06f978294218a843d6bed34c0cac",
       "version_major": 2,
       "version_minor": 0
      },
      "text/plain": [
       "training...: 0it [00:00, ?it/s]"
      ]
     },
     "metadata": {},
     "output_type": "display_data"
    },
    {
     "name": "stdout",
     "output_type": "stream",
     "text": [
      "epoch: 0 skip validation (train acc: 0.005152925531914893)\n"
     ]
    },
    {
     "data": {
      "application/json": {
       "ascii": false,
       "bar_format": null,
       "colour": null,
       "elapsed": 0.012140989303588867,
       "initial": 0,
       "n": 0,
       "ncols": null,
       "nrows": 19,
       "postfix": null,
       "prefix": "training...",
       "rate": null,
       "total": null,
       "unit": "it",
       "unit_divisor": 1000,
       "unit_scale": false
      },
      "application/vnd.jupyter.widget-view+json": {
       "model_id": "cf76a68926a143c0bec26f7a89adb1df",
       "version_major": 2,
       "version_minor": 0
      },
      "text/plain": [
       "training...: 0it [00:00, ?it/s]"
      ]
     },
     "metadata": {},
     "output_type": "display_data"
    },
    {
     "name": "stdout",
     "output_type": "stream",
     "text": [
      "epoch: 1 skip validation (train acc: 0.010305851063829786)\n"
     ]
    },
    {
     "data": {
      "application/json": {
       "ascii": false,
       "bar_format": null,
       "colour": null,
       "elapsed": 0.01022195816040039,
       "initial": 0,
       "n": 0,
       "ncols": null,
       "nrows": 19,
       "postfix": null,
       "prefix": "training...",
       "rate": null,
       "total": null,
       "unit": "it",
       "unit_divisor": 1000,
       "unit_scale": false
      },
      "application/vnd.jupyter.widget-view+json": {
       "model_id": "892b23dd50834fed96f47d0651d24e0e",
       "version_major": 2,
       "version_minor": 0
      },
      "text/plain": [
       "training...: 0it [00:00, ?it/s]"
      ]
     },
     "metadata": {},
     "output_type": "display_data"
    },
    {
     "name": "stdout",
     "output_type": "stream",
     "text": [
      "epoch: 2 skip validation (train acc: 0.018284574468085107)\n"
     ]
    },
    {
     "data": {
      "application/json": {
       "ascii": false,
       "bar_format": null,
       "colour": null,
       "elapsed": 0.015162467956542969,
       "initial": 0,
       "n": 0,
       "ncols": null,
       "nrows": 19,
       "postfix": null,
       "prefix": "training...",
       "rate": null,
       "total": null,
       "unit": "it",
       "unit_divisor": 1000,
       "unit_scale": false
      },
      "application/vnd.jupyter.widget-view+json": {
       "model_id": "da299f55b6ee4cf4966cd64f276791ba",
       "version_major": 2,
       "version_minor": 0
      },
      "text/plain": [
       "training...: 0it [00:00, ?it/s]"
      ]
     },
     "metadata": {},
     "output_type": "display_data"
    },
    {
     "name": "stdout",
     "output_type": "stream",
     "text": [
      "epoch: 3 skip validation (train acc: 0.025099734042553192)\n"
     ]
    },
    {
     "data": {
      "application/json": {
       "ascii": false,
       "bar_format": null,
       "colour": null,
       "elapsed": 0.011440753936767578,
       "initial": 0,
       "n": 0,
       "ncols": null,
       "nrows": 19,
       "postfix": null,
       "prefix": "training...",
       "rate": null,
       "total": null,
       "unit": "it",
       "unit_divisor": 1000,
       "unit_scale": false
      },
      "application/vnd.jupyter.widget-view+json": {
       "model_id": "f2fa9b1245eb474196cc9fc375a17e97",
       "version_major": 2,
       "version_minor": 0
      },
      "text/plain": [
       "training...: 0it [00:00, ?it/s]"
      ]
     },
     "metadata": {},
     "output_type": "display_data"
    },
    {
     "name": "stdout",
     "output_type": "stream",
     "text": [
      "epoch: 4 skip validation (train acc: 0.03856382978723404)\n"
     ]
    },
    {
     "data": {
      "application/json": {
       "ascii": false,
       "bar_format": null,
       "colour": null,
       "elapsed": 0.011276006698608398,
       "initial": 0,
       "n": 0,
       "ncols": null,
       "nrows": 19,
       "postfix": null,
       "prefix": "training...",
       "rate": null,
       "total": null,
       "unit": "it",
       "unit_divisor": 1000,
       "unit_scale": false
      },
      "application/vnd.jupyter.widget-view+json": {
       "model_id": "d554a7fe02094dc991c00bc439e267b7",
       "version_major": 2,
       "version_minor": 0
      },
      "text/plain": [
       "training...: 0it [00:00, ?it/s]"
      ]
     },
     "metadata": {},
     "output_type": "display_data"
    },
    {
     "name": "stdout",
     "output_type": "stream",
     "text": [
      "epoch: 5 skip validation (train acc: 0.05339095745473466)\n"
     ]
    },
    {
     "data": {
      "application/json": {
       "ascii": false,
       "bar_format": null,
       "colour": null,
       "elapsed": 0.008509635925292969,
       "initial": 0,
       "n": 0,
       "ncols": null,
       "nrows": 19,
       "postfix": null,
       "prefix": "training...",
       "rate": null,
       "total": null,
       "unit": "it",
       "unit_divisor": 1000,
       "unit_scale": false
      },
      "application/vnd.jupyter.widget-view+json": {
       "model_id": "fa593afb9c414a8e879035c0db696806",
       "version_major": 2,
       "version_minor": 0
      },
      "text/plain": [
       "training...: 0it [00:00, ?it/s]"
      ]
     },
     "metadata": {},
     "output_type": "display_data"
    },
    {
     "name": "stdout",
     "output_type": "stream",
     "text": [
      "epoch: 6 skip validation (train acc: 0.0678191489361702)\n"
     ]
    },
    {
     "data": {
      "application/json": {
       "ascii": false,
       "bar_format": null,
       "colour": null,
       "elapsed": 0.014411687850952148,
       "initial": 0,
       "n": 0,
       "ncols": null,
       "nrows": 19,
       "postfix": null,
       "prefix": "training...",
       "rate": null,
       "total": null,
       "unit": "it",
       "unit_divisor": 1000,
       "unit_scale": false
      },
      "application/vnd.jupyter.widget-view+json": {
       "model_id": "4be7d01447fa40b8848fb787d8bb592a",
       "version_major": 2,
       "version_minor": 0
      },
      "text/plain": [
       "training...: 0it [00:00, ?it/s]"
      ]
     },
     "metadata": {},
     "output_type": "display_data"
    },
    {
     "name": "stdout",
     "output_type": "stream",
     "text": [
      "epoch: 7 skip validation (train acc: 0.08713430851856445)\n"
     ]
    },
    {
     "data": {
      "application/json": {
       "ascii": false,
       "bar_format": null,
       "colour": null,
       "elapsed": 0.014503002166748047,
       "initial": 0,
       "n": 0,
       "ncols": null,
       "nrows": 19,
       "postfix": null,
       "prefix": "training...",
       "rate": null,
       "total": null,
       "unit": "it",
       "unit_divisor": 1000,
       "unit_scale": false
      },
      "application/vnd.jupyter.widget-view+json": {
       "model_id": "9b92eb99d3de440a8f5a2c27e568f43a",
       "version_major": 2,
       "version_minor": 0
      },
      "text/plain": [
       "training...: 0it [00:00, ?it/s]"
      ]
     },
     "metadata": {},
     "output_type": "display_data"
    },
    {
     "name": "stdout",
     "output_type": "stream",
     "text": [
      "epoch: 8 skip validation (train acc: 0.10226063830579848)\n"
     ]
    },
    {
     "data": {
      "application/json": {
       "ascii": false,
       "bar_format": null,
       "colour": null,
       "elapsed": 0.010210752487182617,
       "initial": 0,
       "n": 0,
       "ncols": null,
       "nrows": 19,
       "postfix": null,
       "prefix": "training...",
       "rate": null,
       "total": null,
       "unit": "it",
       "unit_divisor": 1000,
       "unit_scale": false
      },
      "application/vnd.jupyter.widget-view+json": {
       "model_id": "0f8a64ce3ff24531bd444818d9a212cb",
       "version_major": 2,
       "version_minor": 0
      },
      "text/plain": [
       "training...: 0it [00:00, ?it/s]"
      ]
     },
     "metadata": {},
     "output_type": "display_data"
    },
    {
     "name": "stdout",
     "output_type": "stream",
     "text": [
      "epoch: 9 skip validation (train acc: 0.12257313831372464)\n"
     ]
    },
    {
     "data": {
      "application/json": {
       "ascii": false,
       "bar_format": null,
       "colour": null,
       "elapsed": 0.011873245239257812,
       "initial": 0,
       "n": 0,
       "ncols": null,
       "nrows": 19,
       "postfix": null,
       "prefix": "training...",
       "rate": null,
       "total": null,
       "unit": "it",
       "unit_divisor": 1000,
       "unit_scale": false
      },
      "application/vnd.jupyter.widget-view+json": {
       "model_id": "06beb84f556441b48394f0d51e572ad4",
       "version_major": 2,
       "version_minor": 0
      },
      "text/plain": [
       "training...: 0it [00:00, ?it/s]"
      ]
     },
     "metadata": {},
     "output_type": "display_data"
    },
    {
     "name": "stdout",
     "output_type": "stream",
     "text": [
      "epoch: 10 skip validation (train acc: 0.13819813831372463)\n"
     ]
    },
    {
     "data": {
      "application/json": {
       "ascii": false,
       "bar_format": null,
       "colour": null,
       "elapsed": 0.009192228317260742,
       "initial": 0,
       "n": 0,
       "ncols": null,
       "nrows": 19,
       "postfix": null,
       "prefix": "training...",
       "rate": null,
       "total": null,
       "unit": "it",
       "unit_divisor": 1000,
       "unit_scale": false
      },
      "application/vnd.jupyter.widget-view+json": {
       "model_id": "ce64ffaadb694d768581f1762676e274",
       "version_major": 2,
       "version_minor": 0
      },
      "text/plain": [
       "training...: 0it [00:00, ?it/s]"
      ]
     },
     "metadata": {},
     "output_type": "display_data"
    },
    {
     "name": "stdout",
     "output_type": "stream",
     "text": [
      "epoch: 11 skip validation (train acc: 0.15744680851856444)\n"
     ]
    },
    {
     "data": {
      "application/json": {
       "ascii": false,
       "bar_format": null,
       "colour": null,
       "elapsed": 0.012723922729492188,
       "initial": 0,
       "n": 0,
       "ncols": null,
       "nrows": 19,
       "postfix": null,
       "prefix": "training...",
       "rate": null,
       "total": null,
       "unit": "it",
       "unit_divisor": 1000,
       "unit_scale": false
      },
      "application/vnd.jupyter.widget-view+json": {
       "model_id": "f8b0ba7435be4b46b6fd603e549a71cd",
       "version_major": 2,
       "version_minor": 0
      },
      "text/plain": [
       "training...: 0it [00:00, ?it/s]"
      ]
     },
     "metadata": {},
     "output_type": "display_data"
    },
    {
     "name": "stdout",
     "output_type": "stream",
     "text": [
      "epoch: 12 skip validation (train acc: 0.16974734043345807)\n"
     ]
    },
    {
     "data": {
      "application/json": {
       "ascii": false,
       "bar_format": null,
       "colour": null,
       "elapsed": 0.010472536087036133,
       "initial": 0,
       "n": 0,
       "ncols": null,
       "nrows": 19,
       "postfix": null,
       "prefix": "training...",
       "rate": null,
       "total": null,
       "unit": "it",
       "unit_divisor": 1000,
       "unit_scale": false
      },
      "application/vnd.jupyter.widget-view+json": {
       "model_id": "e3c947f7e4d24dcda2f29bbbf4d09c17",
       "version_major": 2,
       "version_minor": 0
      },
      "text/plain": [
       "training...: 0it [00:00, ?it/s]"
      ]
     },
     "metadata": {},
     "output_type": "display_data"
    },
    {
     "name": "stdout",
     "output_type": "stream",
     "text": [
      "epoch: 13 skip validation (train acc: 0.18603723405047934)\n"
     ]
    },
    {
     "data": {
      "application/json": {
       "ascii": false,
       "bar_format": null,
       "colour": null,
       "elapsed": 0.01056218147277832,
       "initial": 0,
       "n": 0,
       "ncols": null,
       "nrows": 19,
       "postfix": null,
       "prefix": "training...",
       "rate": null,
       "total": null,
       "unit": "it",
       "unit_divisor": 1000,
       "unit_scale": false
      },
      "application/vnd.jupyter.widget-view+json": {
       "model_id": "4eaf7d07d4234e7dbf76fa3ec700fe38",
       "version_major": 2,
       "version_minor": 0
      },
      "text/plain": [
       "training...: 0it [00:00, ?it/s]"
      ]
     },
     "metadata": {},
     "output_type": "display_data"
    },
    {
     "name": "stdout",
     "output_type": "stream",
     "text": [
      "epoch: 14 skip validation (train acc: 0.20382313830579848)\n"
     ]
    },
    {
     "data": {
      "application/json": {
       "ascii": false,
       "bar_format": null,
       "colour": null,
       "elapsed": 0.00968170166015625,
       "initial": 0,
       "n": 0,
       "ncols": null,
       "nrows": 19,
       "postfix": null,
       "prefix": "training...",
       "rate": null,
       "total": null,
       "unit": "it",
       "unit_divisor": 1000,
       "unit_scale": false
      },
      "application/vnd.jupyter.widget-view+json": {
       "model_id": "29964125d08942d7a51a8928cac73bca",
       "version_major": 2,
       "version_minor": 0
      },
      "text/plain": [
       "training...: 0it [00:00, ?it/s]"
      ]
     },
     "metadata": {},
     "output_type": "display_data"
    },
    {
     "name": "stdout",
     "output_type": "stream",
     "text": [
      "epoch: 15 skip validation (train acc: 0.21396276596537295)\n"
     ]
    },
    {
     "data": {
      "application/json": {
       "ascii": false,
       "bar_format": null,
       "colour": null,
       "elapsed": 0.01190042495727539,
       "initial": 0,
       "n": 0,
       "ncols": null,
       "nrows": 19,
       "postfix": null,
       "prefix": "training...",
       "rate": null,
       "total": null,
       "unit": "it",
       "unit_divisor": 1000,
       "unit_scale": false
      },
      "application/vnd.jupyter.widget-view+json": {
       "model_id": "e474229ee0f0452faad79acde90e335e",
       "version_major": 2,
       "version_minor": 0
      },
      "text/plain": [
       "training...: 0it [00:00, ?it/s]"
      ]
     },
     "metadata": {},
     "output_type": "display_data"
    },
    {
     "name": "stdout",
     "output_type": "stream",
     "text": [
      "epoch: 16 skip validation (train acc: 0.2309175531994155)\n"
     ]
    },
    {
     "data": {
      "application/json": {
       "ascii": false,
       "bar_format": null,
       "colour": null,
       "elapsed": 0.012320280075073242,
       "initial": 0,
       "n": 0,
       "ncols": null,
       "nrows": 19,
       "postfix": null,
       "prefix": "training...",
       "rate": null,
       "total": null,
       "unit": "it",
       "unit_divisor": 1000,
       "unit_scale": false
      },
      "application/vnd.jupyter.widget-view+json": {
       "model_id": "4421a8d0c5014c7e951f75d41d3d19d2",
       "version_major": 2,
       "version_minor": 0
      },
      "text/plain": [
       "training...: 0it [00:00, ?it/s]"
      ]
     },
     "metadata": {},
     "output_type": "display_data"
    },
    {
     "name": "stdout",
     "output_type": "stream",
     "text": [
      "epoch: 17 skip validation (train acc: 0.24744015963787727)\n"
     ]
    },
    {
     "data": {
      "application/json": {
       "ascii": false,
       "bar_format": null,
       "colour": null,
       "elapsed": 0.009799718856811523,
       "initial": 0,
       "n": 0,
       "ncols": null,
       "nrows": 19,
       "postfix": null,
       "prefix": "training...",
       "rate": null,
       "total": null,
       "unit": "it",
       "unit_divisor": 1000,
       "unit_scale": false
      },
      "application/vnd.jupyter.widget-view+json": {
       "model_id": "7a4bbc48ef6a4350b452e1bb1e131955",
       "version_major": 2,
       "version_minor": 0
      },
      "text/plain": [
       "training...: 0it [00:00, ?it/s]"
      ]
     },
     "metadata": {},
     "output_type": "display_data"
    },
    {
     "name": "stdout",
     "output_type": "stream",
     "text": [
      "epoch: 18 skip validation (train acc: 0.2526928191568623)\n"
     ]
    },
    {
     "data": {
      "application/json": {
       "ascii": false,
       "bar_format": null,
       "colour": null,
       "elapsed": 0.010986089706420898,
       "initial": 0,
       "n": 0,
       "ncols": null,
       "nrows": 19,
       "postfix": null,
       "prefix": "training...",
       "rate": null,
       "total": null,
       "unit": "it",
       "unit_divisor": 1000,
       "unit_scale": false
      },
      "application/vnd.jupyter.widget-view+json": {
       "model_id": "d0883cea23914ef2ba9135af0a0ac727",
       "version_major": 2,
       "version_minor": 0
      },
      "text/plain": [
       "training...: 0it [00:00, ?it/s]"
      ]
     },
     "metadata": {},
     "output_type": "display_data"
    },
    {
     "name": "stdout",
     "output_type": "stream",
     "text": [
      "epoch: 19 skip validation (train acc: 0.2710438830421326)\n"
     ]
    },
    {
     "data": {
      "application/json": {
       "ascii": false,
       "bar_format": null,
       "colour": null,
       "elapsed": 0.014360427856445312,
       "initial": 0,
       "n": 0,
       "ncols": null,
       "nrows": 19,
       "postfix": null,
       "prefix": "training...",
       "rate": null,
       "total": null,
       "unit": "it",
       "unit_divisor": 1000,
       "unit_scale": false
      },
      "application/vnd.jupyter.widget-view+json": {
       "model_id": "56ea289efa1e4c43b0e56a2e42056ef5",
       "version_major": 2,
       "version_minor": 0
      },
      "text/plain": [
       "training...: 0it [00:00, ?it/s]"
      ]
     },
     "metadata": {},
     "output_type": "display_data"
    },
    {
     "name": "stdout",
     "output_type": "stream",
     "text": [
      "epoch: 20 skip validation (train acc: 0.2801529255477672)\n"
     ]
    },
    {
     "data": {
      "application/json": {
       "ascii": false,
       "bar_format": null,
       "colour": null,
       "elapsed": 0.00998067855834961,
       "initial": 0,
       "n": 0,
       "ncols": null,
       "nrows": 19,
       "postfix": null,
       "prefix": "training...",
       "rate": null,
       "total": null,
       "unit": "it",
       "unit_divisor": 1000,
       "unit_scale": false
      },
      "application/vnd.jupyter.widget-view+json": {
       "model_id": "a49a112020244d54ab90a22d4faff1d2",
       "version_major": 2,
       "version_minor": 0
      },
      "text/plain": [
       "training...: 0it [00:00, ?it/s]"
      ]
     },
     "metadata": {},
     "output_type": "display_data"
    },
    {
     "name": "stdout",
     "output_type": "stream",
     "text": [
      "epoch: 21 skip validation (train acc: 0.29541223405047934)\n"
     ]
    },
    {
     "data": {
      "application/json": {
       "ascii": false,
       "bar_format": null,
       "colour": null,
       "elapsed": 0.010198831558227539,
       "initial": 0,
       "n": 0,
       "ncols": null,
       "nrows": 19,
       "postfix": null,
       "prefix": "training...",
       "rate": null,
       "total": null,
       "unit": "it",
       "unit_divisor": 1000,
       "unit_scale": false
      },
      "application/vnd.jupyter.widget-view+json": {
       "model_id": "947ed50048304fc5ae4bfc55df1f30ea",
       "version_major": 2,
       "version_minor": 0
      },
      "text/plain": [
       "training...: 0it [00:00, ?it/s]"
      ]
     },
     "metadata": {},
     "output_type": "display_data"
    },
    {
     "name": "stdout",
     "output_type": "stream",
     "text": [
      "epoch: 22 skip validation (train acc: 0.2999667553825581)\n"
     ]
    },
    {
     "data": {
      "application/json": {
       "ascii": false,
       "bar_format": null,
       "colour": null,
       "elapsed": 0.010500907897949219,
       "initial": 0,
       "n": 0,
       "ncols": null,
       "nrows": 19,
       "postfix": null,
       "prefix": "training...",
       "rate": null,
       "total": null,
       "unit": "it",
       "unit_divisor": 1000,
       "unit_scale": false
      },
      "application/vnd.jupyter.widget-view+json": {
       "model_id": "53abc77be9e242f9b0556533f608bb1f",
       "version_major": 2,
       "version_minor": 0
      },
      "text/plain": [
       "training...: 0it [00:00, ?it/s]"
      ]
     },
     "metadata": {},
     "output_type": "display_data"
    },
    {
     "name": "stdout",
     "output_type": "stream",
     "text": [
      "epoch: 23 skip validation (train acc: 0.3280252659732991)\n"
     ]
    },
    {
     "data": {
      "application/json": {
       "ascii": false,
       "bar_format": null,
       "colour": null,
       "elapsed": 0.010446548461914062,
       "initial": 0,
       "n": 0,
       "ncols": null,
       "nrows": 19,
       "postfix": null,
       "prefix": "training...",
       "rate": null,
       "total": null,
       "unit": "it",
       "unit_divisor": 1000,
       "unit_scale": false
      },
      "application/vnd.jupyter.widget-view+json": {
       "model_id": "7bf8a851e41344fe981cc7703140c40b",
       "version_major": 2,
       "version_minor": 0
      },
      "text/plain": [
       "training...: 0it [00:00, ?it/s]"
      ]
     },
     "metadata": {},
     "output_type": "display_data"
    },
    {
     "name": "stdout",
     "output_type": "stream",
     "text": [
      "epoch: 24 skip validation (train acc: 0.3355385638931964)\n"
     ]
    },
    {
     "data": {
      "application/json": {
       "ascii": false,
       "bar_format": null,
       "colour": null,
       "elapsed": 0.016478776931762695,
       "initial": 0,
       "n": 0,
       "ncols": null,
       "nrows": 19,
       "postfix": null,
       "prefix": "training...",
       "rate": null,
       "total": null,
       "unit": "it",
       "unit_divisor": 1000,
       "unit_scale": false
      },
      "application/vnd.jupyter.widget-view+json": {
       "model_id": "370c26a72aa9413da33d0ad2169f0912",
       "version_major": 2,
       "version_minor": 0
      },
      "text/plain": [
       "training...: 0it [00:00, ?it/s]"
      ]
     },
     "metadata": {},
     "output_type": "display_data"
    },
    {
     "name": "stdout",
     "output_type": "stream",
     "text": [
      "epoch: 25 skip validation (train acc: 0.34029255319941554)\n"
     ]
    },
    {
     "data": {
      "application/json": {
       "ascii": false,
       "bar_format": null,
       "colour": null,
       "elapsed": 0.011065006256103516,
       "initial": 0,
       "n": 0,
       "ncols": null,
       "nrows": 19,
       "postfix": null,
       "prefix": "training...",
       "rate": null,
       "total": null,
       "unit": "it",
       "unit_divisor": 1000,
       "unit_scale": false
      },
      "application/vnd.jupyter.widget-view+json": {
       "model_id": "90912612b8194ef993a5bb40c66b376e",
       "version_major": 2,
       "version_minor": 0
      },
      "text/plain": [
       "training...: 0it [00:00, ?it/s]"
      ]
     },
     "metadata": {},
     "output_type": "display_data"
    },
    {
     "name": "stdout",
     "output_type": "stream",
     "text": [
      "epoch:26 train acc:0.35684840428702375 val acc:0.38804945054945056\n",
      "train acc: 0.35684840428702375 val_acc: 0.38804945054945056\n"
     ]
    },
    {
     "data": {
      "application/json": {
       "ascii": false,
       "bar_format": null,
       "colour": null,
       "elapsed": 0.015836715698242188,
       "initial": 0,
       "n": 0,
       "ncols": null,
       "nrows": 19,
       "postfix": null,
       "prefix": "training...",
       "rate": null,
       "total": null,
       "unit": "it",
       "unit_divisor": 1000,
       "unit_scale": false
      },
      "application/vnd.jupyter.widget-view+json": {
       "model_id": "fff778a32d7a484083bb21f6c648c88c",
       "version_major": 2,
       "version_minor": 0
      },
      "text/plain": [
       "training...: 0it [00:00, ?it/s]"
      ]
     },
     "metadata": {},
     "output_type": "display_data"
    },
    {
     "name": "stdout",
     "output_type": "stream",
     "text": [
      "epoch:27 train acc:0.3629986702444706 val acc:0.38804945054945056\n"
     ]
    },
    {
     "data": {
      "application/json": {
       "ascii": false,
       "bar_format": null,
       "colour": null,
       "elapsed": 0.011840105056762695,
       "initial": 0,
       "n": 0,
       "ncols": null,
       "nrows": 19,
       "postfix": null,
       "prefix": "training...",
       "rate": null,
       "total": null,
       "unit": "it",
       "unit_divisor": 1000,
       "unit_scale": false
      },
      "application/vnd.jupyter.widget-view+json": {
       "model_id": "bee26c294659412bbe3bcbb47896efcb",
       "version_major": 2,
       "version_minor": 0
      },
      "text/plain": [
       "training...: 0it [00:00, ?it/s]"
      ]
     },
     "metadata": {},
     "output_type": "display_data"
    },
    {
     "name": "stdout",
     "output_type": "stream",
     "text": [
      "epoch:28 train acc:0.3750332446887772 val acc:0.39354395604395603\n",
      "train acc: 0.3750332446887772 val_acc: 0.39354395604395603\n"
     ]
    },
    {
     "data": {
      "application/json": {
       "ascii": false,
       "bar_format": null,
       "colour": null,
       "elapsed": 0.014632463455200195,
       "initial": 0,
       "n": 0,
       "ncols": null,
       "nrows": 19,
       "postfix": null,
       "prefix": "training...",
       "rate": null,
       "total": null,
       "unit": "it",
       "unit_divisor": 1000,
       "unit_scale": false
      },
      "application/vnd.jupyter.widget-view+json": {
       "model_id": "7490dd10c4c04e94a6fe963d9322a66e",
       "version_major": 2,
       "version_minor": 0
      },
      "text/plain": [
       "training...: 0it [00:00, ?it/s]"
      ]
     },
     "metadata": {},
     "output_type": "display_data"
    },
    {
     "name": "stdout",
     "output_type": "stream",
     "text": [
      "epoch:29 train acc:0.3779255319783028 val acc:0.4028159340659341\n",
      "train acc: 0.3779255319783028 val_acc: 0.4028159340659341\n"
     ]
    },
    {
     "data": {
      "application/json": {
       "ascii": false,
       "bar_format": null,
       "colour": null,
       "elapsed": 0.01063227653503418,
       "initial": 0,
       "n": 0,
       "ncols": null,
       "nrows": 19,
       "postfix": null,
       "prefix": "training...",
       "rate": null,
       "total": null,
       "unit": "it",
       "unit_divisor": 1000,
       "unit_scale": false
      },
      "application/vnd.jupyter.widget-view+json": {
       "model_id": "be4f06c466814d1698c6fc66689f8bf5",
       "version_major": 2,
       "version_minor": 0
      },
      "text/plain": [
       "training...: 0it [00:00, ?it/s]"
      ]
     },
     "metadata": {},
     "output_type": "display_data"
    },
    {
     "name": "stdout",
     "output_type": "stream",
     "text": [
      "epoch:30 train acc:0.3833444149015432 val acc:0.40024038461538464\n"
     ]
    }
   ],
   "source": [
    "import copy\n",
    "model.to(device)\n",
    "best_val_acc = 0.\n",
    "save_train_acc = []\n",
    "save_val_acc = []\n",
    "save_train_loss= []\n",
    "save_val_loss = []\n",
    "print(\"Data name:\",data_name)\n",
    "for epoch in tqdm(range(0, args.EPOCHS + 1)):\n",
    "    train_acc, train_loss = train(train_loader, model, criterion, optimizer, device, epoch,data_name)\n",
    "    if epoch <26:\n",
    "        print(f\"epoch: {epoch} skip validation (train acc: {train_acc})\")\n",
    "        continue\n",
    "    val_acc,val_loss = eval(val_loader, model, criterion, device,data_name)\n",
    "    save_train_acc.append(train_acc)\n",
    "    save_val_acc.append(val_acc)\n",
    "    save_train_loss.append(train_loss)\n",
    "    save_val_loss.append(val_loss)\n",
    "    print(f\"epoch:{epoch} train acc:{train_acc} val acc:{val_acc}\")\n",
    "    state = {\n",
    "    'epoch': epoch,\n",
    "    'state_dict': model.state_dict(),\n",
    "    'optimizer':optimizer.state_dict(),\n",
    "    'train_acc':train_acc,\n",
    "    'val_acc':val_acc,   \n",
    "    }\n",
    "\n",
    "    if val_acc>best_val_acc:\n",
    "        best_val_acc = val_acc\n",
    "        best_model_path = (f'{experiment_path}/init_model_best_epoch{epoch}.pth')\n",
    "        #print(f\"epoch {epoch}: best model updated\")\n",
    "        print(\"train acc:\",train_acc, \"val_acc:\",val_acc)\n",
    "        #torch.save(state, best_model_path)\n",
    "        best_model = copy.deepcopy(model)\n",
    "\n",
    "    opt_state = {\n",
    "        'optimizer': optimizer.state_dict(),\n",
    "    }\n",
    "    scheduler.step()\n",
    "# save_experiment[\"init\"] = {'save_train_acc':save_train_acc,'save_val_acc':save_val_acc,'save_train_loss':save_train_loss,'save_val_loss':save_val_loss}"
   ]
  },
  {
   "cell_type": "code",
   "execution_count": 43,
   "id": "9c70d101",
   "metadata": {},
   "outputs": [
    {
     "data": {
      "image/png": "[encoded data removed]",
      "text/plain": [
       "<Figure size 432x288 with 1 Axes>"
      ]
     },
     "metadata": {
      "needs_background": "light"
     },
     "output_type": "display_data"
    }
   ],
   "source": [
    "plt.plot(save_train_acc)\n",
    "plt.show()"
   ]
  },
  {
   "cell_type": "code",
   "execution_count": 44,
   "id": "e685cc90",
   "metadata": {},
   "outputs": [
    {
     "data": {
      "text/plain": [
       "0.4028159340659341"
      ]
     },
     "execution_count": 44,
     "metadata": {},
     "output_type": "execute_result"
    }
   ],
   "source": [
    "best_val_acc"
   ]
  },
  {
   "cell_type": "markdown",
   "id": "3d41ab87",
   "metadata": {},
   "source": [
    "# [ Evaluate on all data ]"
   ]
  },
  {
   "cell_type": "code",
   "execution_count": 45,
   "id": "36847d48",
   "metadata": {},
   "outputs": [
    {
     "name": "stdout",
     "output_type": "stream",
     "text": [
      "data: flowers val_acc: 0.010265544056892395\n",
      "data: wikiart val_acc: 0.030874624624624626\n",
      "data: sketches val_acc: 0.013\n",
      "data: stanford_cars_cropped val_acc: 0.1236359126984127\n",
      "data: cubs_cropped val_acc: 0.4028159340659341\n"
     ]
    }
   ],
   "source": [
    "for data_name, data_loaders in data_dict.items():\n",
    "#     print(\"data:\",data_name)\n",
    "    val_loader = data_loaders[\"val_loader\"]\n",
    "    val_acc,val_loss = eval(val_loader, model, criterion, device,data_name)\n",
    "    print(\"data:\",data_name,\"val_acc:\",val_acc)"
   ]
  },
  {
   "cell_type": "code",
   "execution_count": null,
   "id": "aa4c20cd",
   "metadata": {},
   "outputs": [],
   "source": []
  }
 ],
 "metadata": {
  "kernelspec": {
   "display_name": "Python 3 (ipykernel)",
   "language": "python",
   "name": "python3"
  },
  "language_info": {
   "codemirror_mode": {
    "name": "ipython",
    "version": 3
   },
   "file_extension": ".py",
   "mimetype": "text/x-python",
   "name": "python",
   "nbconvert_exporter": "python",
   "pygments_lexer": "ipython3",
   "version": "3.7.13"
  }
 },
 "nbformat": 4,
 "nbformat_minor": 5
}
