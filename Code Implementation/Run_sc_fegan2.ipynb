{
  "nbformat": 4,
  "nbformat_minor": 0,
  "metadata": {
    "colab": {
      "name": "Run_sc_fegan2.ipynb",
      "provenance": [],
      "authorship_tag": "ABX9TyNM+go9YfCbf+2Xcl+kJzPL",
      "include_colab_link": true
    },
    "kernelspec": {
      "name": "python3",
      "display_name": "Python 3"
    },
    "language_info": {
      "name": "python"
    },
    "accelerator": "GPU"
  },
  "cells": [
    {
      "cell_type": "markdown",
      "metadata": {
        "id": "view-in-github",
        "colab_type": "text"
      },
      "source": [
        "<a href=\"https://colab.research.google.com/github/superbunny38/2021DeepLearning/blob/main/papers/Run_sc_fegan2.ipynb\" target=\"_parent\"><img src=\"https://colab.research.google.com/assets/colab-badge.svg\" alt=\"Open In Colab\"/></a>"
      ]
    },
    {
      "cell_type": "code",
      "execution_count": 1,
      "metadata": {
        "colab": {
          "base_uri": "https://localhost:8080/"
        },
        "id": "eH7U1obHGBqe",
        "outputId": "95e75b51-9c69-4e42-8be4-fa189cca942f"
      },
      "outputs": [
        {
          "output_type": "stream",
          "name": "stdout",
          "text": [
            "Cloning into 'wd'...\n",
            "remote: Enumerating objects: 208, done.\u001b[K\n",
            "remote: Total 208 (delta 0), reused 0 (delta 0), pack-reused 208\u001b[K\n",
            "Receiving objects: 100% (208/208), 11.58 MiB | 13.13 MiB/s, done.\n",
            "Resolving deltas: 100% (102/102), done.\n"
          ]
        }
      ],
      "source": [
        "!git clone https://github.com/run-youngjoo/SC-FEGAN.git wd"
      ]
    },
    {
      "cell_type": "code",
      "source": [
        "%cd wd"
      ],
      "metadata": {
        "colab": {
          "base_uri": "https://localhost:8080/"
        },
        "id": "Mw75fihoGKWS",
        "outputId": "773123bc-dc55-4700-cf61-b102b1901373"
      },
      "execution_count": 2,
      "outputs": [
        {
          "output_type": "stream",
          "name": "stdout",
          "text": [
            "/content/wd\n"
          ]
        }
      ]
    },
    {
      "cell_type": "code",
      "source": [
        "!pip install -r requirements.txt"
      ],
      "metadata": {
        "colab": {
          "base_uri": "https://localhost:8080/"
        },
        "id": "ZHkzGOt4GR78",
        "outputId": "47c8a58f-285c-4de9-842e-b676210c5c99"
      },
      "execution_count": 5,
      "outputs": [
        {
          "output_type": "stream",
          "name": "stdout",
          "text": [
            "Collecting absl-py==0.7.0\n",
            "  Downloading absl-py-0.7.0.tar.gz (96 kB)\n",
            "\u001b[?25l\r\u001b[K     |███▍                            | 10 kB 9.5 MB/s eta 0:00:01\r\u001b[K     |██████▉                         | 20 kB 7.7 MB/s eta 0:00:01\r\u001b[K     |██████████▎                     | 30 kB 5.9 MB/s eta 0:00:01\r\u001b[K     |█████████████▋                  | 40 kB 3.5 MB/s eta 0:00:01\r\u001b[K     |█████████████████               | 51 kB 4.0 MB/s eta 0:00:01\r\u001b[K     |████████████████████▌           | 61 kB 4.2 MB/s eta 0:00:01\r\u001b[K     |███████████████████████▉        | 71 kB 4.2 MB/s eta 0:00:01\r\u001b[K     |███████████████████████████▎    | 81 kB 4.8 MB/s eta 0:00:01\r\u001b[K     |██████████████████████████████▊ | 92 kB 4.8 MB/s eta 0:00:01\r\u001b[K     |████████████████████████████████| 96 kB 3.1 MB/s \n",
            "\u001b[?25hCollecting astor==0.7.1\n",
            "  Downloading astor-0.7.1-py2.py3-none-any.whl (27 kB)\n",
            "Collecting gast==0.2.2\n",
            "  Downloading gast-0.2.2.tar.gz (10 kB)\n",
            "Collecting grpcio==1.18.0\n",
            "  Downloading grpcio-1.18.0-cp37-cp37m-manylinux1_x86_64.whl (10.6 MB)\n",
            "\u001b[K     |████████████████████████████████| 10.6 MB 26.5 MB/s \n",
            "\u001b[?25hCollecting h5py==2.9.0\n",
            "  Downloading h5py-2.9.0-cp37-cp37m-manylinux1_x86_64.whl (2.8 MB)\n",
            "\u001b[K     |████████████████████████████████| 2.8 MB 49.0 MB/s \n",
            "\u001b[?25hCollecting Keras-Applications==1.0.7\n",
            "  Downloading Keras_Applications-1.0.7-py2.py3-none-any.whl (51 kB)\n",
            "\u001b[K     |████████████████████████████████| 51 kB 711 kB/s \n",
            "\u001b[?25hCollecting Keras-Preprocessing==1.0.9\n",
            "  Downloading Keras_Preprocessing-1.0.9-py2.py3-none-any.whl (59 kB)\n",
            "\u001b[K     |████████████████████████████████| 59 kB 8.6 MB/s \n",
            "\u001b[?25hCollecting Markdown==3.0.1\n",
            "  Downloading Markdown-3.0.1-py2.py3-none-any.whl (89 kB)\n",
            "\u001b[K     |████████████████████████████████| 89 kB 10.3 MB/s \n",
            "\u001b[?25hCollecting mock==2.0.0\n",
            "  Downloading mock-2.0.0-py2.py3-none-any.whl (56 kB)\n",
            "\u001b[K     |████████████████████████████████| 56 kB 6.0 MB/s \n",
            "\u001b[?25hCollecting numpy==1.16.1\n",
            "  Downloading numpy-1.16.1-cp37-cp37m-manylinux1_x86_64.whl (17.3 MB)\n",
            "\u001b[K     |████████████████████████████████| 17.3 MB 662 kB/s \n",
            "\u001b[?25hCollecting opencv-python==4.0.0.21\n",
            "  Downloading opencv_python-4.0.0.21-cp37-cp37m-manylinux1_x86_64.whl (25.4 MB)\n",
            "\u001b[K     |████████████████████████████████| 25.4 MB 1.2 MB/s \n",
            "\u001b[?25hCollecting pbr==5.1.2\n",
            "  Downloading pbr-5.1.2-py2.py3-none-any.whl (107 kB)\n",
            "\u001b[K     |████████████████████████████████| 107 kB 72.8 MB/s \n",
            "\u001b[?25hCollecting protobuf==3.6.1\n",
            "  Downloading protobuf-3.6.1-cp37-cp37m-manylinux1_x86_64.whl (1.1 MB)\n",
            "\u001b[K     |████████████████████████████████| 1.1 MB 61.4 MB/s \n",
            "\u001b[?25hCollecting PyQt5==5.12\n",
            "  Downloading PyQt5-5.12-5.12.1_a-cp35.cp36.cp37.cp38-abi3-manylinux1_x86_64.whl (61.1 MB)\n",
            "\u001b[K     |████████████████████████████████| 61.1 MB 5.7 kB/s \n",
            "\u001b[?25hCollecting PyQt5-sip==4.19.14\n",
            "  Downloading PyQt5_sip-4.19.14-cp37-cp37m-manylinux1_x86_64.whl (67 kB)\n",
            "\u001b[K     |████████████████████████████████| 67 kB 7.1 MB/s \n",
            "\u001b[?25hCollecting pyyaml>=4.2b1\n",
            "  Downloading PyYAML-6.0-cp37-cp37m-manylinux_2_5_x86_64.manylinux1_x86_64.manylinux_2_12_x86_64.manylinux2010_x86_64.whl (596 kB)\n",
            "\u001b[K     |████████████████████████████████| 596 kB 75.7 MB/s \n",
            "\u001b[?25hCollecting six==1.12.0\n",
            "  Downloading six-1.12.0-py2.py3-none-any.whl (10 kB)\n",
            "Collecting tensorboard==1.12.2\n",
            "  Downloading tensorboard-1.12.2-py3-none-any.whl (3.0 MB)\n",
            "\u001b[K     |████████████████████████████████| 3.0 MB 57.7 MB/s \n",
            "\u001b[31mERROR: Could not find a version that satisfies the requirement tensorflow==1.13.0rc2 (from versions: 1.13.1, 1.13.2, 1.14.0, 1.15.0, 1.15.2, 1.15.3, 1.15.4, 1.15.5, 2.0.0, 2.0.1, 2.0.2, 2.0.3, 2.0.4, 2.1.0, 2.1.1, 2.1.2, 2.1.3, 2.1.4, 2.2.0rc0, 2.2.0rc1, 2.2.0rc2, 2.2.0rc3, 2.2.0rc4, 2.2.0, 2.2.1, 2.2.2, 2.2.3, 2.3.0rc0, 2.3.0rc1, 2.3.0rc2, 2.3.0, 2.3.1, 2.3.2, 2.3.3, 2.3.4, 2.4.0rc0, 2.4.0rc1, 2.4.0rc2, 2.4.0rc3, 2.4.0rc4, 2.4.0, 2.4.1, 2.4.2, 2.4.3, 2.4.4, 2.5.0rc0, 2.5.0rc1, 2.5.0rc2, 2.5.0rc3, 2.5.0, 2.5.1, 2.5.2, 2.6.0rc0, 2.6.0rc1, 2.6.0rc2, 2.6.0, 2.6.1, 2.6.2, 2.7.0rc0, 2.7.0rc1, 2.7.0, 2.8.0rc0, 2.8.0rc1)\u001b[0m\n",
            "\u001b[31mERROR: No matching distribution found for tensorflow==1.13.0rc2\u001b[0m\n",
            "\u001b[?25h"
          ]
        }
      ]
    },
    {
      "cell_type": "code",
      "source": [
        "%ls"
      ],
      "metadata": {
        "colab": {
          "base_uri": "https://localhost:8080/"
        },
        "id": "2IByyRSkGTcE",
        "outputId": "fa396450-6962-45af-8b4d-33de96e9050f"
      },
      "execution_count": 4,
      "outputs": [
        {
          "output_type": "stream",
          "name": "stdout",
          "text": [
            "demo.py    \u001b[0m\u001b[01;34mimgs\u001b[0m/    model.py  README.md         \u001b[01;34msamples\u001b[0m/  \u001b[01;34mutils\u001b[0m/\n",
            "demo.yaml  LICENSE  ops.py    requirements.txt  \u001b[01;34mui\u001b[0m/\n"
          ]
        }
      ]
    },
    {
      "cell_type": "code",
      "source": [
        "!apt install tensorflow==1.13.0rc2"
      ],
      "metadata": {
        "colab": {
          "base_uri": "https://localhost:8080/"
        },
        "id": "kFcvnY39GUB-",
        "outputId": "ffd06e75-a6d5-4c3a-a5d9-33c56f1ddf21"
      },
      "execution_count": 6,
      "outputs": [
        {
          "output_type": "stream",
          "name": "stdout",
          "text": [
            "Reading package lists... Done\n",
            "Building dependency tree       \n",
            "Reading state information... Done\n",
            "E: Unable to locate package tensorflow=\n"
          ]
        }
      ]
    },
    {
      "cell_type": "code",
      "source": [
        "!pip install tensorflow==1.13.0rc2"
      ],
      "metadata": {
        "colab": {
          "base_uri": "https://localhost:8080/"
        },
        "id": "ZqNwRq1oGkPv",
        "outputId": "c3e2416d-fd3a-4905-8ed8-4de194781fc3"
      },
      "execution_count": 7,
      "outputs": [
        {
          "output_type": "stream",
          "name": "stdout",
          "text": [
            "\u001b[31mERROR: Could not find a version that satisfies the requirement tensorflow==1.13.0rc2 (from versions: 1.13.1, 1.13.2, 1.14.0, 1.15.0, 1.15.2, 1.15.3, 1.15.4, 1.15.5, 2.0.0, 2.0.1, 2.0.2, 2.0.3, 2.0.4, 2.1.0, 2.1.1, 2.1.2, 2.1.3, 2.1.4, 2.2.0rc0, 2.2.0rc1, 2.2.0rc2, 2.2.0rc3, 2.2.0rc4, 2.2.0, 2.2.1, 2.2.2, 2.2.3, 2.3.0rc0, 2.3.0rc1, 2.3.0rc2, 2.3.0, 2.3.1, 2.3.2, 2.3.3, 2.3.4, 2.4.0rc0, 2.4.0rc1, 2.4.0rc2, 2.4.0rc3, 2.4.0rc4, 2.4.0, 2.4.1, 2.4.2, 2.4.3, 2.4.4, 2.5.0rc0, 2.5.0rc1, 2.5.0rc2, 2.5.0rc3, 2.5.0, 2.5.1, 2.5.2, 2.6.0rc0, 2.6.0rc1, 2.6.0rc2, 2.6.0, 2.6.1, 2.6.2, 2.7.0rc0, 2.7.0rc1, 2.7.0, 2.8.0rc0, 2.8.0rc1)\u001b[0m\n",
            "\u001b[31mERROR: No matching distribution found for tensorflow==1.13.0rc2\u001b[0m\n"
          ]
        }
      ]
    },
    {
      "cell_type": "code",
      "source": [
        "!cat requirements.txt"
      ],
      "metadata": {
        "colab": {
          "base_uri": "https://localhost:8080/"
        },
        "id": "uyNxYIAzGmaY",
        "outputId": "5620767a-4b30-4bf7-a7f0-6e5883606d62"
      },
      "execution_count": 8,
      "outputs": [
        {
          "output_type": "stream",
          "name": "stdout",
          "text": [
            "absl-py==0.7.0\n",
            "astor==0.7.1\n",
            "gast==0.2.2\n",
            "grpcio==1.18.0\n",
            "h5py==2.9.0\n",
            "Keras-Applications==1.0.7\n",
            "Keras-Preprocessing==1.0.9\n",
            "Markdown==3.0.1\n",
            "mock==2.0.0\n",
            "numpy==1.16.1\n",
            "opencv-python==4.0.0.21\n",
            "pbr==5.1.2\n",
            "protobuf==3.6.1\n",
            "PyQt5==5.12\n",
            "PyQt5-sip==4.19.14\n",
            "pyyaml>=4.2b1\n",
            "six==1.12.0\n",
            "tensorboard==1.12.2\n",
            "tensorflow==1.13.0rc2\n"
          ]
        }
      ]
    },
    {
      "cell_type": "code",
      "source": [
        "%%writefile requirements.txt\n",
        "absl-py==0.7.0\n",
        "astor==0.7.1\n",
        "gast==0.2.2\n",
        "grpcio==1.18.0\n",
        "h5py==2.9.0\n",
        "Keras-Applications==1.0.7\n",
        "Keras-Preprocessing==1.0.9\n",
        "Markdown==3.0.1\n",
        "mock==2.0.0\n",
        "numpy==1.16.1\n",
        "opencv-python==4.0.0.21\n",
        "pbr==5.1.2\n",
        "protobuf==3.6.1\n",
        "PyQt5==5.12\n",
        "PyQt5-sip==4.19.14\n",
        "pyyaml>=4.2b1\n",
        "six==1.12.0\n",
        "tensorboard==1.12.2\n",
        "tensorflow==1.13.1"
      ],
      "metadata": {
        "colab": {
          "base_uri": "https://localhost:8080/"
        },
        "id": "e2omu28SGrEq",
        "outputId": "0563a909-6828-4c7c-bf19-13269bfb03d0"
      },
      "execution_count": 10,
      "outputs": [
        {
          "output_type": "stream",
          "name": "stdout",
          "text": [
            "Overwriting requirements.txt\n"
          ]
        }
      ]
    },
    {
      "cell_type": "code",
      "source": [
        "!pip install -r requirements.txt"
      ],
      "metadata": {
        "colab": {
          "base_uri": "https://localhost:8080/"
        },
        "id": "Gz7GKJO0GxvU",
        "outputId": "55e800fd-868e-476f-e25c-a2846341f116"
      },
      "execution_count": 11,
      "outputs": [
        {
          "output_type": "stream",
          "name": "stdout",
          "text": [
            "Collecting absl-py==0.7.0\n",
            "  Using cached absl-py-0.7.0.tar.gz (96 kB)\n",
            "Collecting astor==0.7.1\n",
            "  Using cached astor-0.7.1-py2.py3-none-any.whl (27 kB)\n",
            "Collecting gast==0.2.2\n",
            "  Using cached gast-0.2.2.tar.gz (10 kB)\n",
            "Collecting grpcio==1.18.0\n",
            "  Using cached grpcio-1.18.0-cp37-cp37m-manylinux1_x86_64.whl (10.6 MB)\n",
            "Collecting h5py==2.9.0\n",
            "  Using cached h5py-2.9.0-cp37-cp37m-manylinux1_x86_64.whl (2.8 MB)\n",
            "Collecting Keras-Applications==1.0.7\n",
            "  Using cached Keras_Applications-1.0.7-py2.py3-none-any.whl (51 kB)\n",
            "Collecting Keras-Preprocessing==1.0.9\n",
            "  Using cached Keras_Preprocessing-1.0.9-py2.py3-none-any.whl (59 kB)\n",
            "Collecting Markdown==3.0.1\n",
            "  Using cached Markdown-3.0.1-py2.py3-none-any.whl (89 kB)\n",
            "Collecting mock==2.0.0\n",
            "  Using cached mock-2.0.0-py2.py3-none-any.whl (56 kB)\n",
            "Collecting numpy==1.16.1\n",
            "  Using cached numpy-1.16.1-cp37-cp37m-manylinux1_x86_64.whl (17.3 MB)\n",
            "Collecting opencv-python==4.0.0.21\n",
            "  Using cached opencv_python-4.0.0.21-cp37-cp37m-manylinux1_x86_64.whl (25.4 MB)\n",
            "Collecting pbr==5.1.2\n",
            "  Using cached pbr-5.1.2-py2.py3-none-any.whl (107 kB)\n",
            "Collecting protobuf==3.6.1\n",
            "  Using cached protobuf-3.6.1-cp37-cp37m-manylinux1_x86_64.whl (1.1 MB)\n",
            "Collecting PyQt5==5.12\n",
            "  Using cached PyQt5-5.12-5.12.1_a-cp35.cp36.cp37.cp38-abi3-manylinux1_x86_64.whl (61.1 MB)\n",
            "Collecting PyQt5-sip==4.19.14\n",
            "  Using cached PyQt5_sip-4.19.14-cp37-cp37m-manylinux1_x86_64.whl (67 kB)\n",
            "Collecting pyyaml>=4.2b1\n",
            "  Using cached PyYAML-6.0-cp37-cp37m-manylinux_2_5_x86_64.manylinux1_x86_64.manylinux_2_12_x86_64.manylinux2010_x86_64.whl (596 kB)\n",
            "Collecting six==1.12.0\n",
            "  Using cached six-1.12.0-py2.py3-none-any.whl (10 kB)\n",
            "Collecting tensorboard==1.12.2\n",
            "  Using cached tensorboard-1.12.2-py3-none-any.whl (3.0 MB)\n",
            "Collecting tensorflow==1.13.1\n",
            "  Downloading tensorflow-1.13.1-cp37-cp37m-manylinux1_x86_64.whl (92.6 MB)\n",
            "\u001b[K     |████████████████████████████████| 92.6 MB 98 kB/s \n",
            "\u001b[?25hRequirement already satisfied: setuptools in /usr/local/lib/python3.7/dist-packages (from protobuf==3.6.1->-r requirements.txt (line 13)) (57.4.0)\n",
            "Requirement already satisfied: werkzeug>=0.11.10 in /usr/local/lib/python3.7/dist-packages (from tensorboard==1.12.2->-r requirements.txt (line 18)) (1.0.1)\n",
            "Requirement already satisfied: wheel>=0.26 in /usr/local/lib/python3.7/dist-packages (from tensorboard==1.12.2->-r requirements.txt (line 18)) (0.37.1)\n",
            "Requirement already satisfied: termcolor>=1.1.0 in /usr/local/lib/python3.7/dist-packages (from tensorflow==1.13.1->-r requirements.txt (line 19)) (1.1.0)\n",
            "Collecting tensorflow-estimator<1.14.0rc0,>=1.13.0\n",
            "  Downloading tensorflow_estimator-1.13.0-py2.py3-none-any.whl (367 kB)\n",
            "\u001b[K     |████████████████████████████████| 367 kB 65.0 MB/s \n",
            "\u001b[?25hINFO: pip is looking at multiple versions of tensorboard to determine which version is compatible with other requirements. This could take a while.\n",
            "INFO: pip is looking at multiple versions of six to determine which version is compatible with other requirements. This could take a while.\n",
            "INFO: pip is looking at multiple versions of pyqt5-sip to determine which version is compatible with other requirements. This could take a while.\n",
            "INFO: pip is looking at multiple versions of pyqt5 to determine which version is compatible with other requirements. This could take a while.\n",
            "INFO: pip is looking at multiple versions of protobuf to determine which version is compatible with other requirements. This could take a while.\n",
            "INFO: pip is looking at multiple versions of pbr to determine which version is compatible with other requirements. This could take a while.\n",
            "INFO: pip is looking at multiple versions of opencv-python to determine which version is compatible with other requirements. This could take a while.\n",
            "INFO: pip is looking at multiple versions of numpy to determine which version is compatible with other requirements. This could take a while.\n",
            "INFO: pip is looking at multiple versions of mock to determine which version is compatible with other requirements. This could take a while.\n",
            "INFO: pip is looking at multiple versions of markdown to determine which version is compatible with other requirements. This could take a while.\n",
            "INFO: pip is looking at multiple versions of keras-preprocessing to determine which version is compatible with other requirements. This could take a while.\n",
            "INFO: pip is looking at multiple versions of keras-applications to determine which version is compatible with other requirements. This could take a while.\n",
            "INFO: pip is looking at multiple versions of h5py to determine which version is compatible with other requirements. This could take a while.\n",
            "INFO: pip is looking at multiple versions of grpcio to determine which version is compatible with other requirements. This could take a while.\n",
            "INFO: pip is looking at multiple versions of gast to determine which version is compatible with other requirements. This could take a while.\n",
            "INFO: pip is looking at multiple versions of <Python from Requires-Python> to determine which version is compatible with other requirements. This could take a while.\n",
            "INFO: pip is looking at multiple versions of astor to determine which version is compatible with other requirements. This could take a while.\n",
            "INFO: pip is looking at multiple versions of absl-py to determine which version is compatible with other requirements. This could take a while.\n",
            "\u001b[31mERROR: Cannot install -r requirements.txt (line 19) and tensorboard==1.12.2 because these package versions have conflicting dependencies.\u001b[0m\n",
            "\n",
            "The conflict is caused by:\n",
            "    The user requested tensorboard==1.12.2\n",
            "    tensorflow 1.13.1 depends on tensorboard<1.14.0 and >=1.13.0\n",
            "\n",
            "To fix this you could try to:\n",
            "1. loosen the range of package versions you've specified\n",
            "2. remove package versions to allow pip attempt to solve the dependency conflict\n",
            "\n",
            "\u001b[31mERROR: ResolutionImpossible: for help visit https://pip.pypa.io/en/latest/user_guide/#fixing-conflicting-dependencies\u001b[0m\n"
          ]
        }
      ]
    },
    {
      "cell_type": "code",
      "source": [
        "%%writefile requirements.txt\n",
        "absl-py==0.7.0\n",
        "astor==0.7.1\n",
        "gast==0.2.2\n",
        "grpcio==1.18.0\n",
        "h5py==2.9.0\n",
        "Keras-Applications==1.0.7\n",
        "Keras-Preprocessing==1.0.9\n",
        "Markdown==3.0.1\n",
        "mock==2.0.0\n",
        "numpy==1.16.1\n",
        "opencv-python==4.0.0.21\n",
        "pbr==5.1.2\n",
        "protobuf==3.6.1\n",
        "PyQt5==5.12\n",
        "PyQt5-sip==4.19.14\n",
        "pyyaml>=4.2b1\n",
        "six==1.12.0\n",
        "tensorboard==1.13.0\n",
        "tensorflow==1.13.1"
      ],
      "metadata": {
        "colab": {
          "base_uri": "https://localhost:8080/"
        },
        "id": "DPP27XxoG4QQ",
        "outputId": "ed9f8fac-4610-4130-8826-53f4f3b6b196"
      },
      "execution_count": 12,
      "outputs": [
        {
          "output_type": "stream",
          "name": "stdout",
          "text": [
            "Overwriting requirements.txt\n"
          ]
        }
      ]
    },
    {
      "cell_type": "code",
      "source": [
        "!pip install -r requirements.txt"
      ],
      "metadata": {
        "colab": {
          "base_uri": "https://localhost:8080/",
          "height": 1000
        },
        "id": "hZpkPo24HGlb",
        "outputId": "0820c117-8161-4972-c221-1cbc70b3b676"
      },
      "execution_count": 13,
      "outputs": [
        {
          "output_type": "stream",
          "name": "stdout",
          "text": [
            "Collecting absl-py==0.7.0\n",
            "  Using cached absl-py-0.7.0.tar.gz (96 kB)\n",
            "Collecting astor==0.7.1\n",
            "  Using cached astor-0.7.1-py2.py3-none-any.whl (27 kB)\n",
            "Collecting gast==0.2.2\n",
            "  Using cached gast-0.2.2.tar.gz (10 kB)\n",
            "Collecting grpcio==1.18.0\n",
            "  Using cached grpcio-1.18.0-cp37-cp37m-manylinux1_x86_64.whl (10.6 MB)\n",
            "Collecting h5py==2.9.0\n",
            "  Using cached h5py-2.9.0-cp37-cp37m-manylinux1_x86_64.whl (2.8 MB)\n",
            "Collecting Keras-Applications==1.0.7\n",
            "  Using cached Keras_Applications-1.0.7-py2.py3-none-any.whl (51 kB)\n",
            "Collecting Keras-Preprocessing==1.0.9\n",
            "  Using cached Keras_Preprocessing-1.0.9-py2.py3-none-any.whl (59 kB)\n",
            "Collecting Markdown==3.0.1\n",
            "  Using cached Markdown-3.0.1-py2.py3-none-any.whl (89 kB)\n",
            "Collecting mock==2.0.0\n",
            "  Using cached mock-2.0.0-py2.py3-none-any.whl (56 kB)\n",
            "Collecting numpy==1.16.1\n",
            "  Using cached numpy-1.16.1-cp37-cp37m-manylinux1_x86_64.whl (17.3 MB)\n",
            "Collecting opencv-python==4.0.0.21\n",
            "  Using cached opencv_python-4.0.0.21-cp37-cp37m-manylinux1_x86_64.whl (25.4 MB)\n",
            "Collecting pbr==5.1.2\n",
            "  Using cached pbr-5.1.2-py2.py3-none-any.whl (107 kB)\n",
            "Collecting protobuf==3.6.1\n",
            "  Using cached protobuf-3.6.1-cp37-cp37m-manylinux1_x86_64.whl (1.1 MB)\n",
            "Collecting PyQt5==5.12\n",
            "  Using cached PyQt5-5.12-5.12.1_a-cp35.cp36.cp37.cp38-abi3-manylinux1_x86_64.whl (61.1 MB)\n",
            "Collecting PyQt5-sip==4.19.14\n",
            "  Using cached PyQt5_sip-4.19.14-cp37-cp37m-manylinux1_x86_64.whl (67 kB)\n",
            "Collecting pyyaml>=4.2b1\n",
            "  Using cached PyYAML-6.0-cp37-cp37m-manylinux_2_5_x86_64.manylinux1_x86_64.manylinux_2_12_x86_64.manylinux2010_x86_64.whl (596 kB)\n",
            "Collecting six==1.12.0\n",
            "  Using cached six-1.12.0-py2.py3-none-any.whl (10 kB)\n",
            "Collecting tensorboard==1.13.0\n",
            "  Downloading tensorboard-1.13.0-py3-none-any.whl (3.2 MB)\n",
            "\u001b[K     |████████████████████████████████| 3.2 MB 4.3 MB/s \n",
            "\u001b[?25hCollecting tensorflow==1.13.1\n",
            "  Using cached tensorflow-1.13.1-cp37-cp37m-manylinux1_x86_64.whl (92.6 MB)\n",
            "Requirement already satisfied: setuptools in /usr/local/lib/python3.7/dist-packages (from protobuf==3.6.1->-r requirements.txt (line 13)) (57.4.0)\n",
            "Requirement already satisfied: werkzeug>=0.11.15 in /usr/local/lib/python3.7/dist-packages (from tensorboard==1.13.0->-r requirements.txt (line 18)) (1.0.1)\n",
            "Requirement already satisfied: wheel>=0.26 in /usr/local/lib/python3.7/dist-packages (from tensorboard==1.13.0->-r requirements.txt (line 18)) (0.37.1)\n",
            "Collecting tensorflow-estimator<1.14.0rc0,>=1.13.0\n",
            "  Using cached tensorflow_estimator-1.13.0-py2.py3-none-any.whl (367 kB)\n",
            "Requirement already satisfied: termcolor>=1.1.0 in /usr/local/lib/python3.7/dist-packages (from tensorflow==1.13.1->-r requirements.txt (line 19)) (1.1.0)\n",
            "Building wheels for collected packages: absl-py, gast\n",
            "  Building wheel for absl-py (setup.py) ... \u001b[?25l\u001b[?25hdone\n",
            "  Created wheel for absl-py: filename=absl_py-0.7.0-py3-none-any.whl size=113528 sha256=35b598166b2a5fa883a596e817f07aa6095cf781084b7effeaa887b954021180\n",
            "  Stored in directory: /root/.cache/pip/wheels/7a/3a/ce/7f67462856699d5adaf0bab747964f5db6a138473374d46c4d\n",
            "  Building wheel for gast (setup.py) ... \u001b[?25l\u001b[?25hdone\n",
            "  Created wheel for gast: filename=gast-0.2.2-py3-none-any.whl size=7554 sha256=8e6206d5f509723ac20c8a50cd2ddad9e198e2fa86ab98edc5a10da894ab8c44\n",
            "  Stored in directory: /root/.cache/pip/wheels/21/7f/02/420f32a803f7d0967b48dd823da3f558c5166991bfd204eef3\n",
            "Successfully built absl-py gast\n",
            "Installing collected packages: six, pbr, numpy, protobuf, mock, Markdown, h5py, grpcio, absl-py, tensorflow-estimator, tensorboard, PyQt5-sip, Keras-Preprocessing, Keras-Applications, gast, astor, tensorflow, pyyaml, PyQt5, opencv-python\n",
            "  Attempting uninstall: six\n",
            "    Found existing installation: six 1.15.0\n",
            "    Uninstalling six-1.15.0:\n",
            "      Successfully uninstalled six-1.15.0\n",
            "  Attempting uninstall: numpy\n",
            "    Found existing installation: numpy 1.19.5\n",
            "    Uninstalling numpy-1.19.5:\n",
            "      Successfully uninstalled numpy-1.19.5\n",
            "  Attempting uninstall: protobuf\n",
            "    Found existing installation: protobuf 3.17.3\n",
            "    Uninstalling protobuf-3.17.3:\n",
            "      Successfully uninstalled protobuf-3.17.3\n",
            "  Attempting uninstall: Markdown\n",
            "    Found existing installation: Markdown 3.3.6\n",
            "    Uninstalling Markdown-3.3.6:\n",
            "      Successfully uninstalled Markdown-3.3.6\n",
            "  Attempting uninstall: h5py\n",
            "    Found existing installation: h5py 3.1.0\n",
            "    Uninstalling h5py-3.1.0:\n",
            "      Successfully uninstalled h5py-3.1.0\n",
            "  Attempting uninstall: grpcio\n",
            "    Found existing installation: grpcio 1.43.0\n",
            "    Uninstalling grpcio-1.43.0:\n",
            "      Successfully uninstalled grpcio-1.43.0\n",
            "  Attempting uninstall: absl-py\n",
            "    Found existing installation: absl-py 1.0.0\n",
            "    Uninstalling absl-py-1.0.0:\n",
            "      Successfully uninstalled absl-py-1.0.0\n",
            "  Attempting uninstall: tensorflow-estimator\n",
            "    Found existing installation: tensorflow-estimator 2.7.0\n",
            "    Uninstalling tensorflow-estimator-2.7.0:\n",
            "      Successfully uninstalled tensorflow-estimator-2.7.0\n",
            "  Attempting uninstall: tensorboard\n",
            "    Found existing installation: tensorboard 2.7.0\n",
            "    Uninstalling tensorboard-2.7.0:\n",
            "      Successfully uninstalled tensorboard-2.7.0\n",
            "  Attempting uninstall: Keras-Preprocessing\n",
            "    Found existing installation: Keras-Preprocessing 1.1.2\n",
            "    Uninstalling Keras-Preprocessing-1.1.2:\n",
            "      Successfully uninstalled Keras-Preprocessing-1.1.2\n",
            "  Attempting uninstall: gast\n",
            "    Found existing installation: gast 0.4.0\n",
            "    Uninstalling gast-0.4.0:\n",
            "      Successfully uninstalled gast-0.4.0\n",
            "  Attempting uninstall: astor\n",
            "    Found existing installation: astor 0.8.1\n",
            "    Uninstalling astor-0.8.1:\n",
            "      Successfully uninstalled astor-0.8.1\n",
            "  Attempting uninstall: tensorflow\n",
            "    Found existing installation: tensorflow 2.7.0\n",
            "    Uninstalling tensorflow-2.7.0:\n",
            "      Successfully uninstalled tensorflow-2.7.0\n",
            "  Attempting uninstall: pyyaml\n",
            "    Found existing installation: PyYAML 3.13\n",
            "    Uninstalling PyYAML-3.13:\n",
            "      Successfully uninstalled PyYAML-3.13\n",
            "  Attempting uninstall: opencv-python\n",
            "    Found existing installation: opencv-python 4.1.2.30\n",
            "    Uninstalling opencv-python-4.1.2.30:\n",
            "      Successfully uninstalled opencv-python-4.1.2.30\n",
            "\u001b[31mERROR: pip's dependency resolver does not currently take into account all the packages that are installed. This behaviour is the source of the following dependency conflicts.\n",
            "xarray 0.18.2 requires numpy>=1.17, but you have numpy 1.16.1 which is incompatible.\n",
            "tensorflow-probability 0.15.0 requires gast>=0.3.2, but you have gast 0.2.2 which is incompatible.\n",
            "tensorflow-metadata 1.6.0 requires absl-py<2.0.0,>=0.9, but you have absl-py 0.7.0 which is incompatible.\n",
            "tensorflow-metadata 1.6.0 requires protobuf<4,>=3.13, but you have protobuf 3.6.1 which is incompatible.\n",
            "tensorflow-hub 0.12.0 requires protobuf>=3.8.0, but you have protobuf 3.6.1 which is incompatible.\n",
            "scikit-image 0.18.3 requires numpy>=1.16.5, but you have numpy 1.16.1 which is incompatible.\n",
            "pywavelets 1.2.0 requires numpy>=1.17.3, but you have numpy 1.16.1 which is incompatible.\n",
            "pyerfa 2.0.0.1 requires numpy>=1.17, but you have numpy 1.16.1 which is incompatible.\n",
            "pyarrow 3.0.0 requires numpy>=1.16.6, but you have numpy 1.16.1 which is incompatible.\n",
            "kapre 0.3.7 requires numpy>=1.18.5, but you have numpy 1.16.1 which is incompatible.\n",
            "kapre 0.3.7 requires tensorflow>=2.0.0, but you have tensorflow 1.13.1 which is incompatible.\n",
            "jaxlib 0.1.71+cuda111 requires numpy>=1.18, but you have numpy 1.16.1 which is incompatible.\n",
            "jax 0.2.25 requires numpy>=1.18, but you have numpy 1.16.1 which is incompatible.\n",
            "googleapis-common-protos 1.54.0 requires protobuf>=3.12.0, but you have protobuf 3.6.1 which is incompatible.\n",
            "google-colab 1.0.0 requires astor~=0.8.1, but you have astor 0.7.1 which is incompatible.\n",
            "google-colab 1.0.0 requires six~=1.15.0, but you have six 1.12.0 which is incompatible.\n",
            "google-api-python-client 1.12.10 requires six<2dev,>=1.13.0, but you have six 1.12.0 which is incompatible.\n",
            "google-api-core 1.26.3 requires protobuf>=3.12.0, but you have protobuf 3.6.1 which is incompatible.\n",
            "google-api-core 1.26.3 requires six>=1.13.0, but you have six 1.12.0 which is incompatible.\n",
            "datascience 0.10.6 requires folium==0.2.1, but you have folium 0.8.3 which is incompatible.\n",
            "cupy-cuda111 9.4.0 requires numpy<1.24,>=1.17, but you have numpy 1.16.1 which is incompatible.\n",
            "astropy 4.3.1 requires numpy>=1.17, but you have numpy 1.16.1 which is incompatible.\n",
            "albumentations 0.1.12 requires imgaug<0.2.7,>=0.2.5, but you have imgaug 0.2.9 which is incompatible.\u001b[0m\n",
            "Successfully installed Keras-Applications-1.0.7 Keras-Preprocessing-1.0.9 Markdown-3.0.1 PyQt5-5.12 PyQt5-sip-4.19.14 absl-py-0.7.0 astor-0.7.1 gast-0.2.2 grpcio-1.18.0 h5py-2.9.0 mock-2.0.0 numpy-1.16.1 opencv-python-4.0.0.21 pbr-5.1.2 protobuf-3.6.1 pyyaml-6.0 six-1.12.0 tensorboard-1.13.0 tensorflow-1.13.1 tensorflow-estimator-1.13.0\n"
          ]
        },
        {
          "output_type": "display_data",
          "data": {
            "application/vnd.colab-display-data+json": {
              "pip_warning": {
                "packages": [
                  "astor",
                  "google",
                  "grpc",
                  "numpy",
                  "six"
                ]
              }
            }
          },
          "metadata": {}
        }
      ]
    },
    {
      "cell_type": "code",
      "source": [
        "!python3 demo.py"
      ],
      "metadata": {
        "colab": {
          "base_uri": "https://localhost:8080/"
        },
        "id": "8kqS58zbHJ0b",
        "outputId": "8e6cae94-6a13-4b01-a0eb-2f36e7e48df5"
      },
      "execution_count": 1,
      "outputs": [
        {
          "output_type": "stream",
          "name": "stdout",
          "text": [
            "python3: can't open file 'demo.py': [Errno 2] No such file or directory\n"
          ]
        }
      ]
    },
    {
      "cell_type": "code",
      "source": [
        "!ls"
      ],
      "metadata": {
        "colab": {
          "base_uri": "https://localhost:8080/"
        },
        "id": "Ch44hqH7HpWg",
        "outputId": "cccf8da7-1296-4b24-d65e-08cf6fbedae5"
      },
      "execution_count": 2,
      "outputs": [
        {
          "output_type": "stream",
          "name": "stdout",
          "text": [
            "sample_data  wd\n"
          ]
        }
      ]
    },
    {
      "cell_type": "code",
      "source": [
        "%cd wd"
      ],
      "metadata": {
        "colab": {
          "base_uri": "https://localhost:8080/"
        },
        "id": "oBbvW6raHyDR",
        "outputId": "1cbf7d14-d0da-4c79-dcd2-2575d3722bde"
      },
      "execution_count": 3,
      "outputs": [
        {
          "output_type": "stream",
          "name": "stdout",
          "text": [
            "/content/wd\n"
          ]
        }
      ]
    },
    {
      "cell_type": "code",
      "source": [
        "!python3 demo.py"
      ],
      "metadata": {
        "colab": {
          "base_uri": "https://localhost:8080/"
        },
        "id": "HgQklQXQHy0n",
        "outputId": "7783fd76-17a3-45e8-e381-e06d1fc5f658"
      },
      "execution_count": 4,
      "outputs": [
        {
          "output_type": "stream",
          "name": "stdout",
          "text": [
            "Traceback (most recent call last):\n",
            "  File \"demo.py\", line 229, in <module>\n",
            "    config = Config('demo.yaml')\n",
            "  File \"/content/wd/utils/config.py\", line 13, in __init__\n",
            "    self._cfg_dict = yaml.load(f)\n",
            "TypeError: load() missing 1 required positional argument: 'Loader'\n"
          ]
        }
      ]
    },
    {
      "cell_type": "code",
      "source": [
        "!cat /content/wd/utils/config.py"
      ],
      "metadata": {
        "colab": {
          "base_uri": "https://localhost:8080/"
        },
        "id": "742Uhbl_H0AD",
        "outputId": "8a5008c7-6420-401d-9db8-2514d999882b"
      },
      "execution_count": 5,
      "outputs": [
        {
          "output_type": "stream",
          "name": "stdout",
          "text": [
            "import argparse\n",
            "import yaml\n",
            "import os\n",
            "import logging\n",
            "\n",
            "logger = logging.getLogger()\n",
            "\n",
            "class Config(object):\n",
            "    def __init__(self, filename=None):\n",
            "        assert os.path.exists(filename), \"ERROR: Config File doesn't exist.\"\n",
            "        try:\n",
            "            with open(filename, 'r') as f:\n",
            "                self._cfg_dict = yaml.load(f)\n",
            "        # parent of IOError, OSError *and* WindowsError where available\n",
            "        except EnvironmentError:\n",
            "            logger.error('Please check the file with name of \"%s\"', filename)\n",
            "        logger.info(' APP CONFIG '.center(80, '-'))\n",
            "        logger.info(''.center(80, '-'))\n",
            "\n",
            "    def __getattr__(self, name):\n",
            "        value = self._cfg_dict[name]\n",
            "        if isinstance(value, dict):\n",
            "            value = DictAsMember(value)\n",
            "        return value"
          ]
        }
      ]
    },
    {
      "cell_type": "code",
      "source": [
        "!pip install pyyaml==5.4.1"
      ],
      "metadata": {
        "colab": {
          "base_uri": "https://localhost:8080/"
        },
        "id": "73tci4o5H9el",
        "outputId": "660d81f7-e609-411c-8e58-2dc0ea5b5d73"
      },
      "execution_count": 6,
      "outputs": [
        {
          "output_type": "stream",
          "name": "stdout",
          "text": [
            "Collecting pyyaml==5.4.1\n",
            "  Downloading PyYAML-5.4.1-cp37-cp37m-manylinux1_x86_64.whl (636 kB)\n",
            "\u001b[?25l\r\u001b[K     |▌                               | 10 kB 26.9 MB/s eta 0:00:01\r\u001b[K     |█                               | 20 kB 8.6 MB/s eta 0:00:01\r\u001b[K     |█▌                              | 30 kB 7.6 MB/s eta 0:00:01\r\u001b[K     |██                              | 40 kB 7.1 MB/s eta 0:00:01\r\u001b[K     |██▋                             | 51 kB 4.1 MB/s eta 0:00:01\r\u001b[K     |███                             | 61 kB 4.3 MB/s eta 0:00:01\r\u001b[K     |███▋                            | 71 kB 4.5 MB/s eta 0:00:01\r\u001b[K     |████▏                           | 81 kB 5.0 MB/s eta 0:00:01\r\u001b[K     |████▋                           | 92 kB 5.2 MB/s eta 0:00:01\r\u001b[K     |█████▏                          | 102 kB 4.3 MB/s eta 0:00:01\r\u001b[K     |█████▋                          | 112 kB 4.3 MB/s eta 0:00:01\r\u001b[K     |██████▏                         | 122 kB 4.3 MB/s eta 0:00:01\r\u001b[K     |██████▊                         | 133 kB 4.3 MB/s eta 0:00:01\r\u001b[K     |███████▏                        | 143 kB 4.3 MB/s eta 0:00:01\r\u001b[K     |███████▊                        | 153 kB 4.3 MB/s eta 0:00:01\r\u001b[K     |████████▎                       | 163 kB 4.3 MB/s eta 0:00:01\r\u001b[K     |████████▊                       | 174 kB 4.3 MB/s eta 0:00:01\r\u001b[K     |█████████▎                      | 184 kB 4.3 MB/s eta 0:00:01\r\u001b[K     |█████████▉                      | 194 kB 4.3 MB/s eta 0:00:01\r\u001b[K     |██████████▎                     | 204 kB 4.3 MB/s eta 0:00:01\r\u001b[K     |██████████▉                     | 215 kB 4.3 MB/s eta 0:00:01\r\u001b[K     |███████████▎                    | 225 kB 4.3 MB/s eta 0:00:01\r\u001b[K     |███████████▉                    | 235 kB 4.3 MB/s eta 0:00:01\r\u001b[K     |████████████▍                   | 245 kB 4.3 MB/s eta 0:00:01\r\u001b[K     |████████████▉                   | 256 kB 4.3 MB/s eta 0:00:01\r\u001b[K     |█████████████▍                  | 266 kB 4.3 MB/s eta 0:00:01\r\u001b[K     |██████████████                  | 276 kB 4.3 MB/s eta 0:00:01\r\u001b[K     |██████████████▍                 | 286 kB 4.3 MB/s eta 0:00:01\r\u001b[K     |███████████████                 | 296 kB 4.3 MB/s eta 0:00:01\r\u001b[K     |███████████████▍                | 307 kB 4.3 MB/s eta 0:00:01\r\u001b[K     |████████████████                | 317 kB 4.3 MB/s eta 0:00:01\r\u001b[K     |████████████████▌               | 327 kB 4.3 MB/s eta 0:00:01\r\u001b[K     |█████████████████               | 337 kB 4.3 MB/s eta 0:00:01\r\u001b[K     |█████████████████▌              | 348 kB 4.3 MB/s eta 0:00:01\r\u001b[K     |██████████████████              | 358 kB 4.3 MB/s eta 0:00:01\r\u001b[K     |██████████████████▌             | 368 kB 4.3 MB/s eta 0:00:01\r\u001b[K     |███████████████████             | 378 kB 4.3 MB/s eta 0:00:01\r\u001b[K     |███████████████████▋            | 389 kB 4.3 MB/s eta 0:00:01\r\u001b[K     |████████████████████            | 399 kB 4.3 MB/s eta 0:00:01\r\u001b[K     |████████████████████▋           | 409 kB 4.3 MB/s eta 0:00:01\r\u001b[K     |█████████████████████           | 419 kB 4.3 MB/s eta 0:00:01\r\u001b[K     |█████████████████████▋          | 430 kB 4.3 MB/s eta 0:00:01\r\u001b[K     |██████████████████████▏         | 440 kB 4.3 MB/s eta 0:00:01\r\u001b[K     |██████████████████████▋         | 450 kB 4.3 MB/s eta 0:00:01\r\u001b[K     |███████████████████████▏        | 460 kB 4.3 MB/s eta 0:00:01\r\u001b[K     |███████████████████████▊        | 471 kB 4.3 MB/s eta 0:00:01\r\u001b[K     |████████████████████████▏       | 481 kB 4.3 MB/s eta 0:00:01\r\u001b[K     |████████████████████████▊       | 491 kB 4.3 MB/s eta 0:00:01\r\u001b[K     |█████████████████████████▏      | 501 kB 4.3 MB/s eta 0:00:01\r\u001b[K     |█████████████████████████▊      | 512 kB 4.3 MB/s eta 0:00:01\r\u001b[K     |██████████████████████████▎     | 522 kB 4.3 MB/s eta 0:00:01\r\u001b[K     |██████████████████████████▊     | 532 kB 4.3 MB/s eta 0:00:01\r\u001b[K     |███████████████████████████▎    | 542 kB 4.3 MB/s eta 0:00:01\r\u001b[K     |███████████████████████████▉    | 552 kB 4.3 MB/s eta 0:00:01\r\u001b[K     |████████████████████████████▎   | 563 kB 4.3 MB/s eta 0:00:01\r\u001b[K     |████████████████████████████▉   | 573 kB 4.3 MB/s eta 0:00:01\r\u001b[K     |█████████████████████████████▍  | 583 kB 4.3 MB/s eta 0:00:01\r\u001b[K     |█████████████████████████████▉  | 593 kB 4.3 MB/s eta 0:00:01\r\u001b[K     |██████████████████████████████▍ | 604 kB 4.3 MB/s eta 0:00:01\r\u001b[K     |██████████████████████████████▉ | 614 kB 4.3 MB/s eta 0:00:01\r\u001b[K     |███████████████████████████████▍| 624 kB 4.3 MB/s eta 0:00:01\r\u001b[K     |████████████████████████████████| 634 kB 4.3 MB/s eta 0:00:01\r\u001b[K     |████████████████████████████████| 636 kB 4.3 MB/s \n",
            "\u001b[?25hInstalling collected packages: pyyaml\n",
            "  Attempting uninstall: pyyaml\n",
            "    Found existing installation: PyYAML 6.0\n",
            "    Uninstalling PyYAML-6.0:\n",
            "      Successfully uninstalled PyYAML-6.0\n",
            "Successfully installed pyyaml-5.4.1\n"
          ]
        }
      ]
    },
    {
      "cell_type": "code",
      "source": [
        "!python3 demo.py"
      ],
      "metadata": {
        "colab": {
          "base_uri": "https://localhost:8080/"
        },
        "id": "ppzwK1ZYIS86",
        "outputId": "156a0ebb-3317-49d2-8a3d-267b39ec31f1"
      },
      "execution_count": 8,
      "outputs": [
        {
          "output_type": "stream",
          "name": "stdout",
          "text": [
            "/content/wd/utils/config.py:13: YAMLLoadWarning: calling yaml.load() without Loader=... is deprecated, as the default Loader is unsafe. Please read https://msg.pyyaml.org/load for full details.\n",
            "  self._cfg_dict = yaml.load(f)\n",
            "qt.qpa.xcb: could not connect to display \n",
            "qt.qpa.plugin: Could not load the Qt platform plugin \"xcb\" in \"\" even though it was found.\n",
            "This application failed to start because no Qt platform plugin could be initialized. Reinstalling the application may fix this problem.\n",
            "\n",
            "Available platform plugins are: eglfs, linuxfb, minimal, minimalegl, offscreen, vnc, wayland-egl, wayland, wayland-xcomposite-egl, wayland-xcomposite-glx, webgl, xcb.\n",
            "\n"
          ]
        }
      ]
    },
    {
      "cell_type": "code",
      "source": [
        ""
      ],
      "metadata": {
        "id": "fJBG552XIU0B"
      },
      "execution_count": null,
      "outputs": []
    }
  ]
}