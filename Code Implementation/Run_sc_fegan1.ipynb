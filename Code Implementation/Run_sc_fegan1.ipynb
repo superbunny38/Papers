{
  "nbformat": 4,
  "nbformat_minor": 0,
  "metadata": {
    "colab": {
      "name": "Run_sc_fegan1.ipynb",
      "provenance": [],
      "mount_file_id": "1p48VeDYLeUQZRi_Ah890VYq8zvsAyw1K",
      "authorship_tag": "ABX9TyMJ0j1f/E4EYjSHAXLlZho9",
      "include_colab_link": true
    },
    "kernelspec": {
      "name": "python3",
      "display_name": "Python 3"
    },
    "language_info": {
      "name": "python"
    },
    "accelerator": "GPU"
  },
  "cells": [
    {
      "cell_type": "markdown",
      "metadata": {
        "id": "view-in-github",
        "colab_type": "text"
      },
      "source": [
        "<a href=\"https://colab.research.google.com/github/superbunny38/2021DeepLearning/blob/main/papers/Run_sc_fegan1.ipynb\" target=\"_parent\"><img src=\"https://colab.research.google.com/assets/colab-badge.svg\" alt=\"Open In Colab\"/></a>"
      ]
    },
    {
      "cell_type": "code",
      "execution_count": 1,
      "metadata": {
        "colab": {
          "base_uri": "https://localhost:8080/"
        },
        "id": "ySvIrmktC-uL",
        "outputId": "3dca1653-2699-40bf-ed4f-12af3f73e832"
      },
      "outputs": [
        {
          "output_type": "stream",
          "name": "stdout",
          "text": [
            "Cloning into 'wd'...\n",
            "remote: Enumerating objects: 210, done.\u001b[K\n",
            "remote: Counting objects: 100% (40/40), done.\u001b[K\n",
            "remote: Compressing objects: 100% (11/11), done.\u001b[K\n",
            "remote: Total 210 (delta 35), reused 29 (delta 29), pack-reused 170\u001b[K\n",
            "Receiving objects: 100% (210/210), 11.71 MiB | 35.06 MiB/s, done.\n",
            "Resolving deltas: 100% (100/100), done.\n"
          ]
        }
      ],
      "source": [
        "!git clone https://github.com/GeorgeLekala/ML.git wd"
      ]
    },
    {
      "cell_type": "code",
      "source": [
        "!ls"
      ],
      "metadata": {
        "colab": {
          "base_uri": "https://localhost:8080/"
        },
        "id": "hOXwkQw0DNLQ",
        "outputId": "373b9f1f-13b6-4226-e080-02eb05002968"
      },
      "execution_count": 2,
      "outputs": [
        {
          "output_type": "stream",
          "name": "stdout",
          "text": [
            "sample_data  wd\n"
          ]
        }
      ]
    },
    {
      "cell_type": "code",
      "source": [
        "%cd wd"
      ],
      "metadata": {
        "colab": {
          "base_uri": "https://localhost:8080/"
        },
        "id": "Km5fFC_8DQVT",
        "outputId": "42ceff60-3232-4f1e-8737-5c35f740f87c"
      },
      "execution_count": 3,
      "outputs": [
        {
          "output_type": "stream",
          "name": "stdout",
          "text": [
            "/content/wd\n"
          ]
        }
      ]
    },
    {
      "cell_type": "code",
      "source": [
        "ls"
      ],
      "metadata": {
        "colab": {
          "base_uri": "https://localhost:8080/"
        },
        "id": "BEQeR2S_DRor",
        "outputId": "a752078e-a26c-4342-e004-0c5618bb0730"
      },
      "execution_count": 4,
      "outputs": [
        {
          "output_type": "stream",
          "name": "stdout",
          "text": [
            "\u001b[0m\u001b[01;34mckpt\u001b[0m/    demo.yaml  LICENSE   ops.py     requirements.txt  tmp.jpg  \u001b[01;34mutils\u001b[0m/\n",
            "demo.py  \u001b[01;34mimgs\u001b[0m/      model.py  README.md  \u001b[01;34msamples\u001b[0m/          \u001b[01;34mui\u001b[0m/\n"
          ]
        }
      ]
    },
    {
      "cell_type": "code",
      "source": [
        "!pip install -r requirements.txt"
      ],
      "metadata": {
        "colab": {
          "base_uri": "https://localhost:8080/"
        },
        "id": "tlyQ1EoyDR-y",
        "outputId": "b9296708-b9a4-46fe-fb1e-904b5c939fdf"
      },
      "execution_count": 5,
      "outputs": [
        {
          "output_type": "stream",
          "name": "stdout",
          "text": [
            "Collecting absl-py==0.7.0\n",
            "  Downloading absl-py-0.7.0.tar.gz (96 kB)\n",
            "\u001b[?25l\r\u001b[K     |███▍                            | 10 kB 30.6 MB/s eta 0:00:01\r\u001b[K     |██████▉                         | 20 kB 17.9 MB/s eta 0:00:01\r\u001b[K     |██████████▎                     | 30 kB 9.9 MB/s eta 0:00:01\r\u001b[K     |█████████████▋                  | 40 kB 8.2 MB/s eta 0:00:01\r\u001b[K     |█████████████████               | 51 kB 5.1 MB/s eta 0:00:01\r\u001b[K     |████████████████████▌           | 61 kB 5.3 MB/s eta 0:00:01\r\u001b[K     |███████████████████████▉        | 71 kB 5.3 MB/s eta 0:00:01\r\u001b[K     |███████████████████████████▎    | 81 kB 6.0 MB/s eta 0:00:01\r\u001b[K     |██████████████████████████████▊ | 92 kB 6.0 MB/s eta 0:00:01\r\u001b[K     |████████████████████████████████| 96 kB 1.8 MB/s \n",
            "\u001b[?25hCollecting astor==0.7.1\n",
            "  Downloading astor-0.7.1-py2.py3-none-any.whl (27 kB)\n",
            "Collecting gast==0.2.2\n",
            "  Downloading gast-0.2.2.tar.gz (10 kB)\n",
            "Collecting grpcio==1.18.0\n",
            "  Downloading grpcio-1.18.0-cp37-cp37m-manylinux1_x86_64.whl (10.6 MB)\n",
            "\u001b[K     |████████████████████████████████| 10.6 MB 16.5 MB/s \n",
            "\u001b[?25hCollecting h5py==2.9.0\n",
            "  Downloading h5py-2.9.0-cp37-cp37m-manylinux1_x86_64.whl (2.8 MB)\n",
            "\u001b[K     |████████████████████████████████| 2.8 MB 52.6 MB/s \n",
            "\u001b[?25hCollecting Keras-Applications==1.0.7\n",
            "  Downloading Keras_Applications-1.0.7-py2.py3-none-any.whl (51 kB)\n",
            "\u001b[K     |████████████████████████████████| 51 kB 707 kB/s \n",
            "\u001b[?25hCollecting Keras-Preprocessing==1.0.9\n",
            "  Downloading Keras_Preprocessing-1.0.9-py2.py3-none-any.whl (59 kB)\n",
            "\u001b[K     |████████████████████████████████| 59 kB 8.3 MB/s \n",
            "\u001b[?25hCollecting Markdown==3.0.1\n",
            "  Downloading Markdown-3.0.1-py2.py3-none-any.whl (89 kB)\n",
            "\u001b[K     |████████████████████████████████| 89 kB 10.8 MB/s \n",
            "\u001b[?25hCollecting mock==2.0.0\n",
            "  Downloading mock-2.0.0-py2.py3-none-any.whl (56 kB)\n",
            "\u001b[K     |████████████████████████████████| 56 kB 6.4 MB/s \n",
            "\u001b[?25hCollecting numpy==1.16.1\n",
            "  Downloading numpy-1.16.1-cp37-cp37m-manylinux1_x86_64.whl (17.3 MB)\n",
            "\u001b[K     |████████████████████████████████| 17.3 MB 719 kB/s \n",
            "\u001b[?25hCollecting opencv-python==4.0.0.21\n",
            "  Downloading opencv_python-4.0.0.21-cp37-cp37m-manylinux1_x86_64.whl (25.4 MB)\n",
            "\u001b[K     |████████████████████████████████| 25.4 MB 1.4 MB/s \n",
            "\u001b[?25hCollecting pbr==5.1.2\n",
            "  Downloading pbr-5.1.2-py2.py3-none-any.whl (107 kB)\n",
            "\u001b[K     |████████████████████████████████| 107 kB 74.5 MB/s \n",
            "\u001b[?25hCollecting protobuf==3.6.1\n",
            "  Downloading protobuf-3.6.1-cp37-cp37m-manylinux1_x86_64.whl (1.1 MB)\n",
            "\u001b[K     |████████████████████████████████| 1.1 MB 36.9 MB/s \n",
            "\u001b[?25hCollecting PyQt5==5.12\n",
            "  Downloading PyQt5-5.12-5.12.1_a-cp35.cp36.cp37.cp38-abi3-manylinux1_x86_64.whl (61.1 MB)\n",
            "\u001b[K     |████████████████████████████████| 61.1 MB 1.2 MB/s \n",
            "\u001b[?25hCollecting PyQt5-sip==4.19.14\n",
            "  Downloading PyQt5_sip-4.19.14-cp37-cp37m-manylinux1_x86_64.whl (67 kB)\n",
            "\u001b[K     |████████████████████████████████| 67 kB 6.9 MB/s \n",
            "\u001b[?25hRequirement already satisfied: PyYAML==3.13 in /usr/local/lib/python3.7/dist-packages (from -r requirements.txt (line 16)) (3.13)\n",
            "Collecting six==1.12.0\n",
            "  Downloading six-1.12.0-py2.py3-none-any.whl (10 kB)\n",
            "Collecting tensorboard==1.12.2\n",
            "  Downloading tensorboard-1.12.2-py3-none-any.whl (3.0 MB)\n",
            "\u001b[K     |████████████████████████████████| 3.0 MB 56.0 MB/s \n",
            "\u001b[?25hCollecting tensorflow==1.13.1\n",
            "  Downloading tensorflow-1.13.1-cp37-cp37m-manylinux1_x86_64.whl (92.6 MB)\n",
            "\u001b[K     |████████████████████████████████| 92.6 MB 80 kB/s \n",
            "\u001b[?25hRequirement already satisfied: setuptools in /usr/local/lib/python3.7/dist-packages (from protobuf==3.6.1->-r requirements.txt (line 13)) (57.4.0)\n",
            "Requirement already satisfied: wheel>=0.26 in /usr/local/lib/python3.7/dist-packages (from tensorboard==1.12.2->-r requirements.txt (line 18)) (0.37.1)\n",
            "Requirement already satisfied: werkzeug>=0.11.10 in /usr/local/lib/python3.7/dist-packages (from tensorboard==1.12.2->-r requirements.txt (line 18)) (1.0.1)\n",
            "INFO: pip is looking at multiple versions of tensorboard to determine which version is compatible with other requirements. This could take a while.\n",
            "INFO: pip is looking at multiple versions of six to determine which version is compatible with other requirements. This could take a while.\n",
            "INFO: pip is looking at multiple versions of pyyaml to determine which version is compatible with other requirements. This could take a while.\n",
            "Collecting PyYAML==3.13\n",
            "  Downloading PyYAML-3.13.tar.gz (270 kB)\n",
            "\u001b[K     |████████████████████████████████| 270 kB 71.6 MB/s \n",
            "\u001b[?25hINFO: pip is looking at multiple versions of pyqt5-sip to determine which version is compatible with other requirements. This could take a while.\n",
            "INFO: pip is looking at multiple versions of pyqt5 to determine which version is compatible with other requirements. This could take a while.\n",
            "INFO: pip is looking at multiple versions of protobuf to determine which version is compatible with other requirements. This could take a while.\n",
            "INFO: pip is looking at multiple versions of pbr to determine which version is compatible with other requirements. This could take a while.\n",
            "INFO: pip is looking at multiple versions of opencv-python to determine which version is compatible with other requirements. This could take a while.\n",
            "INFO: pip is looking at multiple versions of numpy to determine which version is compatible with other requirements. This could take a while.\n",
            "INFO: pip is looking at multiple versions of mock to determine which version is compatible with other requirements. This could take a while.\n",
            "INFO: pip is looking at multiple versions of markdown to determine which version is compatible with other requirements. This could take a while.\n",
            "INFO: pip is looking at multiple versions of keras-preprocessing to determine which version is compatible with other requirements. This could take a while.\n",
            "INFO: pip is looking at multiple versions of keras-applications to determine which version is compatible with other requirements. This could take a while.\n",
            "INFO: pip is looking at multiple versions of h5py to determine which version is compatible with other requirements. This could take a while.\n",
            "INFO: pip is looking at multiple versions of grpcio to determine which version is compatible with other requirements. This could take a while.\n",
            "INFO: pip is looking at multiple versions of gast to determine which version is compatible with other requirements. This could take a while.\n",
            "INFO: pip is looking at multiple versions of <Python from Requires-Python> to determine which version is compatible with other requirements. This could take a while.\n",
            "INFO: pip is looking at multiple versions of astor to determine which version is compatible with other requirements. This could take a while.\n",
            "INFO: pip is looking at multiple versions of absl-py to determine which version is compatible with other requirements. This could take a while.\n",
            "\u001b[31mERROR: Cannot install -r requirements.txt (line 19) and tensorboard==1.12.2 because these package versions have conflicting dependencies.\u001b[0m\n",
            "\n",
            "The conflict is caused by:\n",
            "    The user requested tensorboard==1.12.2\n",
            "    tensorflow 1.13.1 depends on tensorboard<1.14.0 and >=1.13.0\n",
            "\n",
            "To fix this you could try to:\n",
            "1. loosen the range of package versions you've specified\n",
            "2. remove package versions to allow pip attempt to solve the dependency conflict\n",
            "\n",
            "\u001b[31mERROR: ResolutionImpossible: for help visit https://pip.pypa.io/en/latest/user_guide/#fixing-conflicting-dependencies\u001b[0m\n"
          ]
        }
      ]
    },
    {
      "cell_type": "code",
      "source": [
        "%cd .."
      ],
      "metadata": {
        "colab": {
          "base_uri": "https://localhost:8080/"
        },
        "id": "lgebQLsoDVJ1",
        "outputId": "e532eaf4-9661-41b9-cab8-772bb1d75875"
      },
      "execution_count": 6,
      "outputs": [
        {
          "output_type": "stream",
          "name": "stdout",
          "text": [
            "/content\n"
          ]
        }
      ]
    },
    {
      "cell_type": "code",
      "source": [
        "!git clone https://github.com/superbunny38/SC-FEGAN.git real"
      ],
      "metadata": {
        "colab": {
          "base_uri": "https://localhost:8080/"
        },
        "id": "DCqtYpIDDyO7",
        "outputId": "e66e2f11-091a-4400-c20a-9dbd900fb048"
      },
      "execution_count": 7,
      "outputs": [
        {
          "output_type": "stream",
          "name": "stdout",
          "text": [
            "Cloning into 'real'...\n",
            "remote: Enumerating objects: 211, done.\u001b[K\n",
            "remote: Counting objects:  33% (1/3)\u001b[K\rremote: Counting objects:  66% (2/3)\u001b[K\rremote: Counting objects: 100% (3/3)\u001b[K\rremote: Counting objects: 100% (3/3), done.\u001b[K\n",
            "remote: Compressing objects: 100% (3/3), done.\u001b[K\n",
            "remote: Total 211 (delta 0), reused 0 (delta 0), pack-reused 208\u001b[K\n",
            "Receiving objects: 100% (211/211), 11.58 MiB | 38.36 MiB/s, done.\n",
            "Resolving deltas: 100% (102/102), done.\n"
          ]
        }
      ]
    },
    {
      "cell_type": "code",
      "source": [
        "!ls"
      ],
      "metadata": {
        "colab": {
          "base_uri": "https://localhost:8080/"
        },
        "id": "LxrSxY8bD2Xd",
        "outputId": "dab026ee-7660-44cf-f406-f50eaa345eb4"
      },
      "execution_count": 8,
      "outputs": [
        {
          "output_type": "stream",
          "name": "stdout",
          "text": [
            "real  sample_data  wd\n"
          ]
        }
      ]
    },
    {
      "cell_type": "code",
      "source": [
        "%cd real"
      ],
      "metadata": {
        "colab": {
          "base_uri": "https://localhost:8080/"
        },
        "id": "-VQ2Mvr6D4Sm",
        "outputId": "49b932c2-45fd-4896-9238-30f250d74a03"
      },
      "execution_count": 9,
      "outputs": [
        {
          "output_type": "stream",
          "name": "stdout",
          "text": [
            "/content/real\n"
          ]
        }
      ]
    },
    {
      "cell_type": "code",
      "source": [
        "ls"
      ],
      "metadata": {
        "colab": {
          "base_uri": "https://localhost:8080/"
        },
        "id": "WUjEyYJ4D5Aj",
        "outputId": "ab8eb797-2119-4df2-bfa7-3590f8fca7f0"
      },
      "execution_count": 10,
      "outputs": [
        {
          "output_type": "stream",
          "name": "stdout",
          "text": [
            "demo.py    \u001b[0m\u001b[01;34mimgs\u001b[0m/    model.py  README.md         \u001b[01;34msamples\u001b[0m/  \u001b[01;34mutils\u001b[0m/\n",
            "demo.yaml  LICENSE  ops.py    requirements.txt  \u001b[01;34mui\u001b[0m/\n"
          ]
        }
      ]
    },
    {
      "cell_type": "code",
      "source": [
        "!pip install -r requirements.txt"
      ],
      "metadata": {
        "colab": {
          "base_uri": "https://localhost:8080/",
          "height": 1000
        },
        "id": "LjBRPRkhD5Ox",
        "outputId": "dc1b2e2b-f85a-4b19-bf71-748e87bd734f"
      },
      "execution_count": 11,
      "outputs": [
        {
          "output_type": "stream",
          "name": "stdout",
          "text": [
            "Collecting absl-py==0.7.0\n",
            "  Using cached absl-py-0.7.0.tar.gz (96 kB)\n",
            "Collecting astor==0.7.1\n",
            "  Using cached astor-0.7.1-py2.py3-none-any.whl (27 kB)\n",
            "Collecting gast==0.2.2\n",
            "  Using cached gast-0.2.2.tar.gz (10 kB)\n",
            "Collecting grpcio==1.18.0\n",
            "  Using cached grpcio-1.18.0-cp37-cp37m-manylinux1_x86_64.whl (10.6 MB)\n",
            "Collecting h5py==2.9.0\n",
            "  Using cached h5py-2.9.0-cp37-cp37m-manylinux1_x86_64.whl (2.8 MB)\n",
            "Collecting Keras-Applications==1.0.7\n",
            "  Using cached Keras_Applications-1.0.7-py2.py3-none-any.whl (51 kB)\n",
            "Collecting Keras-Preprocessing==1.0.9\n",
            "  Using cached Keras_Preprocessing-1.0.9-py2.py3-none-any.whl (59 kB)\n",
            "Collecting Markdown==3.0.1\n",
            "  Using cached Markdown-3.0.1-py2.py3-none-any.whl (89 kB)\n",
            "Collecting mock==2.0.0\n",
            "  Using cached mock-2.0.0-py2.py3-none-any.whl (56 kB)\n",
            "Collecting numpy==1.16.1\n",
            "  Using cached numpy-1.16.1-cp37-cp37m-manylinux1_x86_64.whl (17.3 MB)\n",
            "Collecting opencv-python==4.0.0.21\n",
            "  Using cached opencv_python-4.0.0.21-cp37-cp37m-manylinux1_x86_64.whl (25.4 MB)\n",
            "Collecting pbr==5.1.2\n",
            "  Using cached pbr-5.1.2-py2.py3-none-any.whl (107 kB)\n",
            "Collecting protobuf==3.6.1\n",
            "  Using cached protobuf-3.6.1-cp37-cp37m-manylinux1_x86_64.whl (1.1 MB)\n",
            "Collecting PyQt5==5.12\n",
            "  Using cached PyQt5-5.12-5.12.1_a-cp35.cp36.cp37.cp38-abi3-manylinux1_x86_64.whl (61.1 MB)\n",
            "Collecting PyQt5-sip==4.19.14\n",
            "  Using cached PyQt5_sip-4.19.14-cp37-cp37m-manylinux1_x86_64.whl (67 kB)\n",
            "Requirement already satisfied: PyYAML==3.13 in /usr/local/lib/python3.7/dist-packages (from -r requirements.txt (line 16)) (3.13)\n",
            "Collecting six==1.12.0\n",
            "  Using cached six-1.12.0-py2.py3-none-any.whl (10 kB)\n",
            "Collecting tensorboard==1.13.0\n",
            "  Downloading tensorboard-1.13.0-py3-none-any.whl (3.2 MB)\n",
            "\u001b[K     |████████████████████████████████| 3.2 MB 5.1 MB/s \n",
            "\u001b[?25hCollecting tensorflow==1.13.1\n",
            "  Using cached tensorflow-1.13.1-cp37-cp37m-manylinux1_x86_64.whl (92.6 MB)\n",
            "Requirement already satisfied: setuptools in /usr/local/lib/python3.7/dist-packages (from protobuf==3.6.1->-r requirements.txt (line 13)) (57.4.0)\n",
            "Requirement already satisfied: wheel>=0.26 in /usr/local/lib/python3.7/dist-packages (from tensorboard==1.13.0->-r requirements.txt (line 18)) (0.37.1)\n",
            "Requirement already satisfied: werkzeug>=0.11.15 in /usr/local/lib/python3.7/dist-packages (from tensorboard==1.13.0->-r requirements.txt (line 18)) (1.0.1)\n",
            "Collecting tensorflow-estimator<1.14.0rc0,>=1.13.0\n",
            "  Downloading tensorflow_estimator-1.13.0-py2.py3-none-any.whl (367 kB)\n",
            "\u001b[K     |████████████████████████████████| 367 kB 78.3 MB/s \n",
            "\u001b[?25hRequirement already satisfied: termcolor>=1.1.0 in /usr/local/lib/python3.7/dist-packages (from tensorflow==1.13.1->-r requirements.txt (line 19)) (1.1.0)\n",
            "Building wheels for collected packages: absl-py, gast\n",
            "  Building wheel for absl-py (setup.py) ... \u001b[?25l\u001b[?25hdone\n",
            "  Created wheel for absl-py: filename=absl_py-0.7.0-py3-none-any.whl size=113528 sha256=b5ea5150fc76d300f9b7ed67cccc8f1ca3f62f3dc587bf7602d146120d1f02ea\n",
            "  Stored in directory: /root/.cache/pip/wheels/7a/3a/ce/7f67462856699d5adaf0bab747964f5db6a138473374d46c4d\n",
            "  Building wheel for gast (setup.py) ... \u001b[?25l\u001b[?25hdone\n",
            "  Created wheel for gast: filename=gast-0.2.2-py3-none-any.whl size=7554 sha256=58fb516ed0e0c1b80d9e0b896e560b0525a2aeacf507eb0e1faaf3ebe813505a\n",
            "  Stored in directory: /root/.cache/pip/wheels/21/7f/02/420f32a803f7d0967b48dd823da3f558c5166991bfd204eef3\n",
            "Successfully built absl-py gast\n",
            "Installing collected packages: six, pbr, numpy, protobuf, mock, Markdown, h5py, grpcio, absl-py, tensorflow-estimator, tensorboard, PyQt5-sip, Keras-Preprocessing, Keras-Applications, gast, astor, tensorflow, PyQt5, opencv-python\n",
            "  Attempting uninstall: six\n",
            "    Found existing installation: six 1.15.0\n",
            "    Uninstalling six-1.15.0:\n",
            "      Successfully uninstalled six-1.15.0\n",
            "  Attempting uninstall: numpy\n",
            "    Found existing installation: numpy 1.19.5\n",
            "    Uninstalling numpy-1.19.5:\n",
            "      Successfully uninstalled numpy-1.19.5\n",
            "  Attempting uninstall: protobuf\n",
            "    Found existing installation: protobuf 3.17.3\n",
            "    Uninstalling protobuf-3.17.3:\n",
            "      Successfully uninstalled protobuf-3.17.3\n",
            "  Attempting uninstall: Markdown\n",
            "    Found existing installation: Markdown 3.3.6\n",
            "    Uninstalling Markdown-3.3.6:\n",
            "      Successfully uninstalled Markdown-3.3.6\n",
            "  Attempting uninstall: h5py\n",
            "    Found existing installation: h5py 3.1.0\n",
            "    Uninstalling h5py-3.1.0:\n",
            "      Successfully uninstalled h5py-3.1.0\n",
            "  Attempting uninstall: grpcio\n",
            "    Found existing installation: grpcio 1.43.0\n",
            "    Uninstalling grpcio-1.43.0:\n",
            "      Successfully uninstalled grpcio-1.43.0\n",
            "  Attempting uninstall: absl-py\n",
            "    Found existing installation: absl-py 1.0.0\n",
            "    Uninstalling absl-py-1.0.0:\n",
            "      Successfully uninstalled absl-py-1.0.0\n",
            "  Attempting uninstall: tensorflow-estimator\n",
            "    Found existing installation: tensorflow-estimator 2.7.0\n",
            "    Uninstalling tensorflow-estimator-2.7.0:\n",
            "      Successfully uninstalled tensorflow-estimator-2.7.0\n",
            "  Attempting uninstall: tensorboard\n",
            "    Found existing installation: tensorboard 2.7.0\n",
            "    Uninstalling tensorboard-2.7.0:\n",
            "      Successfully uninstalled tensorboard-2.7.0\n",
            "  Attempting uninstall: Keras-Preprocessing\n",
            "    Found existing installation: Keras-Preprocessing 1.1.2\n",
            "    Uninstalling Keras-Preprocessing-1.1.2:\n",
            "      Successfully uninstalled Keras-Preprocessing-1.1.2\n",
            "  Attempting uninstall: gast\n",
            "    Found existing installation: gast 0.4.0\n",
            "    Uninstalling gast-0.4.0:\n",
            "      Successfully uninstalled gast-0.4.0\n",
            "  Attempting uninstall: astor\n",
            "    Found existing installation: astor 0.8.1\n",
            "    Uninstalling astor-0.8.1:\n",
            "      Successfully uninstalled astor-0.8.1\n",
            "  Attempting uninstall: tensorflow\n",
            "    Found existing installation: tensorflow 2.7.0\n",
            "    Uninstalling tensorflow-2.7.0:\n",
            "      Successfully uninstalled tensorflow-2.7.0\n",
            "  Attempting uninstall: opencv-python\n",
            "    Found existing installation: opencv-python 4.1.2.30\n",
            "    Uninstalling opencv-python-4.1.2.30:\n",
            "      Successfully uninstalled opencv-python-4.1.2.30\n",
            "\u001b[31mERROR: pip's dependency resolver does not currently take into account all the packages that are installed. This behaviour is the source of the following dependency conflicts.\n",
            "xarray 0.18.2 requires numpy>=1.17, but you have numpy 1.16.1 which is incompatible.\n",
            "tensorflow-probability 0.15.0 requires gast>=0.3.2, but you have gast 0.2.2 which is incompatible.\n",
            "tensorflow-metadata 1.6.0 requires absl-py<2.0.0,>=0.9, but you have absl-py 0.7.0 which is incompatible.\n",
            "tensorflow-metadata 1.6.0 requires protobuf<4,>=3.13, but you have protobuf 3.6.1 which is incompatible.\n",
            "tensorflow-hub 0.12.0 requires protobuf>=3.8.0, but you have protobuf 3.6.1 which is incompatible.\n",
            "scikit-image 0.18.3 requires numpy>=1.16.5, but you have numpy 1.16.1 which is incompatible.\n",
            "pywavelets 1.2.0 requires numpy>=1.17.3, but you have numpy 1.16.1 which is incompatible.\n",
            "pyerfa 2.0.0.1 requires numpy>=1.17, but you have numpy 1.16.1 which is incompatible.\n",
            "pyarrow 3.0.0 requires numpy>=1.16.6, but you have numpy 1.16.1 which is incompatible.\n",
            "kapre 0.3.7 requires numpy>=1.18.5, but you have numpy 1.16.1 which is incompatible.\n",
            "kapre 0.3.7 requires tensorflow>=2.0.0, but you have tensorflow 1.13.1 which is incompatible.\n",
            "jaxlib 0.1.71+cuda111 requires numpy>=1.18, but you have numpy 1.16.1 which is incompatible.\n",
            "jax 0.2.25 requires numpy>=1.18, but you have numpy 1.16.1 which is incompatible.\n",
            "googleapis-common-protos 1.54.0 requires protobuf>=3.12.0, but you have protobuf 3.6.1 which is incompatible.\n",
            "google-colab 1.0.0 requires astor~=0.8.1, but you have astor 0.7.1 which is incompatible.\n",
            "google-colab 1.0.0 requires six~=1.15.0, but you have six 1.12.0 which is incompatible.\n",
            "google-api-python-client 1.12.10 requires six<2dev,>=1.13.0, but you have six 1.12.0 which is incompatible.\n",
            "google-api-core 1.26.3 requires protobuf>=3.12.0, but you have protobuf 3.6.1 which is incompatible.\n",
            "google-api-core 1.26.3 requires six>=1.13.0, but you have six 1.12.0 which is incompatible.\n",
            "datascience 0.10.6 requires folium==0.2.1, but you have folium 0.8.3 which is incompatible.\n",
            "cupy-cuda111 9.4.0 requires numpy<1.24,>=1.17, but you have numpy 1.16.1 which is incompatible.\n",
            "astropy 4.3.1 requires numpy>=1.17, but you have numpy 1.16.1 which is incompatible.\n",
            "albumentations 0.1.12 requires imgaug<0.2.7,>=0.2.5, but you have imgaug 0.2.9 which is incompatible.\u001b[0m\n",
            "Successfully installed Keras-Applications-1.0.7 Keras-Preprocessing-1.0.9 Markdown-3.0.1 PyQt5-5.12 PyQt5-sip-4.19.14 absl-py-0.7.0 astor-0.7.1 gast-0.2.2 grpcio-1.18.0 h5py-2.9.0 mock-2.0.0 numpy-1.16.1 opencv-python-4.0.0.21 pbr-5.1.2 protobuf-3.6.1 six-1.12.0 tensorboard-1.13.0 tensorflow-1.13.1 tensorflow-estimator-1.13.0\n"
          ]
        },
        {
          "output_type": "display_data",
          "data": {
            "application/vnd.colab-display-data+json": {
              "pip_warning": {
                "packages": [
                  "astor",
                  "google",
                  "grpc",
                  "numpy",
                  "six"
                ]
              }
            }
          },
          "metadata": {}
        }
      ]
    },
    {
      "cell_type": "code",
      "source": [
        "!mkdir ckpt"
      ],
      "metadata": {
        "id": "xd7L8UlZD76y"
      },
      "execution_count": 12,
      "outputs": []
    },
    {
      "cell_type": "code",
      "source": [
        "!cp -r /content/drive/MyDrive/2022/SC-FEGAN.ckpt.data-00000-of-00001 /content/real/ckpt"
      ],
      "metadata": {
        "id": "cEH1qmPEEHAh"
      },
      "execution_count": 1,
      "outputs": []
    },
    {
      "cell_type": "code",
      "source": [
        "!ls -al /content/real/ckpt"
      ],
      "metadata": {
        "colab": {
          "base_uri": "https://localhost:8080/"
        },
        "id": "LGyBjyClEf-F",
        "outputId": "450623ed-fe41-4959-aa4b-8c7e893fb300"
      },
      "execution_count": 2,
      "outputs": [
        {
          "output_type": "stream",
          "name": "stdout",
          "text": [
            "total 362852\n",
            "drwxr-xr-x 2 root root      4096 Feb  1 11:36 .\n",
            "drwxr-xr-x 8 root root      4096 Feb  1 11:34 ..\n",
            "-r-------- 1 root root 371544400 Feb  1 11:36 SC-FEGAN.ckpt.data-00000-of-00001\n"
          ]
        }
      ]
    },
    {
      "cell_type": "code",
      "source": [
        "!cp -r /content/drive/MyDrive/2022/SC-FEGAN.ckpt.index /content/real/ckpt"
      ],
      "metadata": {
        "id": "l0r2gKeJEijD"
      },
      "execution_count": 3,
      "outputs": []
    },
    {
      "cell_type": "code",
      "source": [
        "!ls -al /content/real/ckpt"
      ],
      "metadata": {
        "colab": {
          "base_uri": "https://localhost:8080/"
        },
        "id": "Jy9v6cyEEpWM",
        "outputId": "dbcf4ac2-8e99-43fd-cf38-afc565dbeb60"
      },
      "execution_count": 4,
      "outputs": [
        {
          "output_type": "stream",
          "name": "stdout",
          "text": [
            "total 362856\n",
            "drwxr-xr-x 2 root root      4096 Feb  1 11:36 .\n",
            "drwxr-xr-x 8 root root      4096 Feb  1 11:34 ..\n",
            "-r-------- 1 root root 371544400 Feb  1 11:36 SC-FEGAN.ckpt.data-00000-of-00001\n",
            "-r-------- 1 root root      3743 Feb  1 11:36 SC-FEGAN.ckpt.index\n"
          ]
        }
      ]
    },
    {
      "cell_type": "code",
      "source": [
        "!python3 demo.py"
      ],
      "metadata": {
        "colab": {
          "base_uri": "https://localhost:8080/"
        },
        "id": "3GRRvWfBErpz",
        "outputId": "b5c02186-26f0-46a7-960c-732433dd5f4a"
      },
      "execution_count": 5,
      "outputs": [
        {
          "output_type": "stream",
          "name": "stdout",
          "text": [
            "python3: can't open file 'demo.py': [Errno 2] No such file or directory\n"
          ]
        }
      ]
    },
    {
      "cell_type": "code",
      "source": [
        "ls"
      ],
      "metadata": {
        "colab": {
          "base_uri": "https://localhost:8080/"
        },
        "id": "PtXv9hj3Et2B",
        "outputId": "56e1c4d0-7a7d-425c-9440-6096bd0813b6"
      },
      "execution_count": 6,
      "outputs": [
        {
          "output_type": "stream",
          "name": "stdout",
          "text": [
            "\u001b[0m\u001b[01;34mdrive\u001b[0m/  \u001b[01;34mreal\u001b[0m/  \u001b[01;34msample_data\u001b[0m/  \u001b[01;34mwd\u001b[0m/\n"
          ]
        }
      ]
    },
    {
      "cell_type": "code",
      "source": [
        "%cd real"
      ],
      "metadata": {
        "colab": {
          "base_uri": "https://localhost:8080/"
        },
        "id": "Zjhx5SPxEvWV",
        "outputId": "3232d9bf-d262-43a0-ec8e-330bed0bf3fa"
      },
      "execution_count": 7,
      "outputs": [
        {
          "output_type": "stream",
          "name": "stdout",
          "text": [
            "/content/real\n"
          ]
        }
      ]
    },
    {
      "cell_type": "code",
      "source": [
        "!python3 demo.py"
      ],
      "metadata": {
        "colab": {
          "base_uri": "https://localhost:8080/"
        },
        "id": "44Fst-oEEwTL",
        "outputId": "7c80563a-00fe-4002-b5d9-cdf540d3d633"
      },
      "execution_count": 8,
      "outputs": [
        {
          "output_type": "stream",
          "name": "stdout",
          "text": [
            "qt.qpa.xcb: could not connect to display \n",
            "qt.qpa.plugin: Could not load the Qt platform plugin \"xcb\" in \"\" even though it was found.\n",
            "This application failed to start because no Qt platform plugin could be initialized. Reinstalling the application may fix this problem.\n",
            "\n",
            "Available platform plugins are: eglfs, linuxfb, minimal, minimalegl, offscreen, vnc, wayland-egl, wayland, wayland-xcomposite-egl, wayland-xcomposite-glx, webgl, xcb.\n",
            "\n"
          ]
        }
      ]
    },
    {
      "cell_type": "code",
      "source": [
        "!apt install linuxfb"
      ],
      "metadata": {
        "colab": {
          "base_uri": "https://localhost:8080/"
        },
        "id": "luFSSnbQEx5n",
        "outputId": "c9593513-b4f2-4479-b8b3-c5a1c670de81"
      },
      "execution_count": 10,
      "outputs": [
        {
          "output_type": "stream",
          "name": "stdout",
          "text": [
            "Reading package lists... Done\n",
            "Building dependency tree       \n",
            "Reading state information... Done\n",
            "E: Unable to locate package linuxfb\n"
          ]
        }
      ]
    },
    {
      "cell_type": "code",
      "source": [
        "!apt install minimal"
      ],
      "metadata": {
        "colab": {
          "base_uri": "https://localhost:8080/"
        },
        "id": "EIi67keGE-HB",
        "outputId": "28efefce-592b-442e-dbf5-a0c9bb472c00"
      },
      "execution_count": 11,
      "outputs": [
        {
          "output_type": "stream",
          "name": "stdout",
          "text": [
            "Reading package lists... Done\n",
            "Building dependency tree       \n",
            "Reading state information... Done\n",
            "E: Unable to locate package minimal\n"
          ]
        }
      ]
    },
    {
      "cell_type": "code",
      "source": [
        "!sudo apt install linuxfb"
      ],
      "metadata": {
        "colab": {
          "base_uri": "https://localhost:8080/"
        },
        "id": "7IlL_Y8dFSQh",
        "outputId": "3bde3f7c-f81a-443e-b71f-bbd889997aab"
      },
      "execution_count": 12,
      "outputs": [
        {
          "output_type": "stream",
          "name": "stdout",
          "text": [
            "Reading package lists... Done\n",
            "Building dependency tree       \n",
            "Reading state information... Done\n",
            "E: Unable to locate package linuxfb\n"
          ]
        }
      ]
    },
    {
      "cell_type": "code",
      "source": [
        ""
      ],
      "metadata": {
        "id": "-imL6i6XFVGs"
      },
      "execution_count": null,
      "outputs": []
    }
  ]
}