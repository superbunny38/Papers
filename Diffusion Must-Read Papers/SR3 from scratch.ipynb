{
 "cells": [
  {
   "cell_type": "markdown",
   "id": "87b9f5ae",
   "metadata": {},
   "source": [
    "# Image Super-Resolution via Iterative Refinement\n",
    "\n",
    "*Code Writer: Chaeeun Ryu*\n",
    "\n",
    "references: \n",
    "- https://nn.labml.ai/diffusion/ddpm/unet.html\n",
    "- https://github.com/KiUngSong/Generative-Models/tree/main"
   ]
  },
  {
   "cell_type": "code",
   "execution_count": 4,
   "id": "8ac41db7",
   "metadata": {},
   "outputs": [],
   "source": [
    "import torch, torchvision\n",
    "from torch import nn\n",
    "from torch.nn import init\n",
    "import torch.nn.functional as F\n",
    "from torch.utils.data import DataLoader\n",
    "import torchvision.transforms as transforms\n",
    "\n",
    "from einops import rearrange, repeat\n",
    "from tqdm.notebook import tqdm\n",
    "from functools import partial\n",
    "from PIL import Image\n",
    "import matplotlib.pyplot as plt\n",
    "import numpy as np\n",
    "import math, os, copy\n",
    "\n",
    "os.environ[\"CUDA_VISIBLE_DEVICES\"] = \"1\""
   ]
  },
  {
   "cell_type": "markdown",
   "id": "1c7d1ba8",
   "metadata": {},
   "source": [
    "# Define U-net Architecture:\n",
    "\n",
    "Approximate reverse diffusion process by using U-net<br>\n",
    "U-net of SR3 : U-net backbone + Positional Encoding of time + Multihead Self-Attention"
   ]
  },
  {
   "cell_type": "code",
   "execution_count": null,
   "id": "8f6417fd",
   "metadata": {},
   "outputs": [],
   "source": []
  }
 ],
 "metadata": {
  "kernelspec": {
   "display_name": "Python 3 (ipykernel)",
   "language": "python",
   "name": "python3"
  },
  "language_info": {
   "codemirror_mode": {
    "name": "ipython",
    "version": 3
   },
   "file_extension": ".py",
   "mimetype": "text/x-python",
   "name": "python",
   "nbconvert_exporter": "python",
   "pygments_lexer": "ipython3",
   "version": "3.10.4"
  }
 },
 "nbformat": 4,
 "nbformat_minor": 5
}
