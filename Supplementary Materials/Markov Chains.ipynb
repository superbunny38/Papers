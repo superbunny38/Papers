{
 "cells": [
  {
   "cell_type": "markdown",
   "id": "d442cfd3",
   "metadata": {},
   "source": [
    "# Markov Chains"
   ]
  },
  {
   "cell_type": "markdown",
   "id": "732e2c39",
   "metadata": {},
   "source": [
    "*Code Writer: Chaeeun Ryu*"
   ]
  },
  {
   "cell_type": "markdown",
   "id": "07c7be66",
   "metadata": {},
   "source": [
    "$Q$: Fixed transition probability\n",
    "\n",
    "$S_i$: States at time step $i$\n",
    "\n",
    "*Stationary distribution*: $sQ=s$"
   ]
  },
  {
   "cell_type": "code",
   "execution_count": 5,
   "id": "390c3551",
   "metadata": {},
   "outputs": [
    {
     "name": "stdout",
     "output_type": "stream",
     "text": [
      "converged at iteration: 22 with difference from the prev state: 5.774142862585527e-09\n"
     ]
    }
   ],
   "source": [
    "import numpy as np\n",
    "Q = np.array([[0,1,0],[0,0.1,0.9],[0.2,0.2,0.6]])\n",
    "S_i = np.array([[0.3,0.2,0.5]])\n",
    "\n",
    "n_trans = 0\n",
    "while True:\n",
    "    S_next = np.dot(S_i,Q)\n",
    "    diff = np.sqrt(np.sum((S_next-S_i)**2))\n",
    "    S_i = S_next\n",
    "    n_trans +=1\n",
    "    if diff < 1e-8:\n",
    "        break\n",
    "print(f\"converged at iteration: {n_trans} with difference from the prev state: {diff}\")"
   ]
  }
 ],
 "metadata": {
  "kernelspec": {
   "display_name": "Python 3 (ipykernel)",
   "language": "python",
   "name": "python3"
  },
  "language_info": {
   "codemirror_mode": {
    "name": "ipython",
    "version": 3
   },
   "file_extension": ".py",
   "mimetype": "text/x-python",
   "name": "python",
   "nbconvert_exporter": "python",
   "pygments_lexer": "ipython3",
   "version": "3.9.7"
  }
 },
 "nbformat": 4,
 "nbformat_minor": 5
}
